{
 "cells": [
  {
   "cell_type": "code",
   "execution_count": 39,
   "metadata": {},
   "outputs": [],
   "source": [
    "library(cowplot)\n",
    "library(datateachr)\n",
    "library(digest)\n",
    "library(infer)\n",
    "library(repr)\n",
    "library(taxyvr)\n",
    "library(tidyverse)\n",
    "library(broom)\n",
    "library(digest)"
   ]
  },
  {
   "cell_type": "code",
   "execution_count": 40,
   "metadata": {},
   "outputs": [
    {
     "name": "stderr",
     "output_type": "stream",
     "text": [
      "Updating HTML index of packages in '.Library'\n",
      "\n",
      "Making 'packages.html' ...\n",
      " done\n",
      "\n"
     ]
    }
   ],
   "source": [
    "install.packages(\"janitor\")"
   ]
  },
  {
   "cell_type": "code",
   "execution_count": 41,
   "metadata": {},
   "outputs": [],
   "source": [
    "library(janitor)"
   ]
  },
  {
   "cell_type": "code",
   "execution_count": 42,
   "metadata": {},
   "outputs": [
    {
     "name": "stderr",
     "output_type": "stream",
     "text": [
      "Parsed with column specification:\n",
      "cols(\n",
      "  TYPE = \u001b[31mcol_character()\u001b[39m,\n",
      "  YEAR = \u001b[32mcol_double()\u001b[39m,\n",
      "  MONTH = \u001b[32mcol_double()\u001b[39m,\n",
      "  DAY = \u001b[32mcol_double()\u001b[39m,\n",
      "  HOUR = \u001b[32mcol_double()\u001b[39m,\n",
      "  MINUTE = \u001b[32mcol_double()\u001b[39m,\n",
      "  HUNDRED_BLOCK = \u001b[31mcol_character()\u001b[39m,\n",
      "  NEIGHBOURHOOD = \u001b[31mcol_character()\u001b[39m,\n",
      "  X = \u001b[32mcol_double()\u001b[39m,\n",
      "  Y = \u001b[32mcol_double()\u001b[39m\n",
      ")\n",
      "\n"
     ]
    },
    {
     "data": {
      "text/html": [
       "<table>\n",
       "<caption>A tibble: 6 × 10</caption>\n",
       "<thead>\n",
       "\t<tr><th scope=col>TYPE</th><th scope=col>YEAR</th><th scope=col>MONTH</th><th scope=col>DAY</th><th scope=col>HOUR</th><th scope=col>MINUTE</th><th scope=col>HUNDRED_BLOCK</th><th scope=col>NEIGHBOURHOOD</th><th scope=col>X</th><th scope=col>Y</th></tr>\n",
       "\t<tr><th scope=col>&lt;chr&gt;</th><th scope=col>&lt;dbl&gt;</th><th scope=col>&lt;dbl&gt;</th><th scope=col>&lt;dbl&gt;</th><th scope=col>&lt;dbl&gt;</th><th scope=col>&lt;dbl&gt;</th><th scope=col>&lt;chr&gt;</th><th scope=col>&lt;chr&gt;</th><th scope=col>&lt;dbl&gt;</th><th scope=col>&lt;dbl&gt;</th></tr>\n",
       "</thead>\n",
       "<tbody>\n",
       "\t<tr><td>Break and Enter Commercial</td><td>2012</td><td>12</td><td>14</td><td> 8</td><td>52</td><td>NA             </td><td>Oakridge</td><td>491285.0</td><td>5453433</td></tr>\n",
       "\t<tr><td>Break and Enter Commercial</td><td>2019</td><td> 3</td><td> 7</td><td> 2</td><td> 6</td><td>10XX SITKA SQ  </td><td>Fairview</td><td>490613.0</td><td>5457110</td></tr>\n",
       "\t<tr><td>Break and Enter Commercial</td><td>2019</td><td> 8</td><td>27</td><td> 4</td><td>12</td><td>10XX ALBERNI ST</td><td>West End</td><td>491007.8</td><td>5459174</td></tr>\n",
       "\t<tr><td>Break and Enter Commercial</td><td>2014</td><td> 8</td><td> 8</td><td> 5</td><td>13</td><td>10XX ALBERNI ST</td><td>West End</td><td>491015.9</td><td>5459166</td></tr>\n",
       "\t<tr><td>Break and Enter Commercial</td><td>2020</td><td> 7</td><td>28</td><td>19</td><td>12</td><td>10XX ALBERNI ST</td><td>West End</td><td>491015.9</td><td>5459166</td></tr>\n",
       "\t<tr><td>Break and Enter Commercial</td><td>2005</td><td>11</td><td>14</td><td> 3</td><td> 9</td><td>10XX ALBERNI ST</td><td>West End</td><td>491021.4</td><td>5459161</td></tr>\n",
       "</tbody>\n",
       "</table>\n"
      ],
      "text/latex": [
       "A tibble: 6 × 10\n",
       "\\begin{tabular}{llllllllll}\n",
       " TYPE & YEAR & MONTH & DAY & HOUR & MINUTE & HUNDRED\\_BLOCK & NEIGHBOURHOOD & X & Y\\\\\n",
       " <chr> & <dbl> & <dbl> & <dbl> & <dbl> & <dbl> & <chr> & <chr> & <dbl> & <dbl>\\\\\n",
       "\\hline\n",
       "\t Break and Enter Commercial & 2012 & 12 & 14 &  8 & 52 & NA              & Oakridge & 491285.0 & 5453433\\\\\n",
       "\t Break and Enter Commercial & 2019 &  3 &  7 &  2 &  6 & 10XX SITKA SQ   & Fairview & 490613.0 & 5457110\\\\\n",
       "\t Break and Enter Commercial & 2019 &  8 & 27 &  4 & 12 & 10XX ALBERNI ST & West End & 491007.8 & 5459174\\\\\n",
       "\t Break and Enter Commercial & 2014 &  8 &  8 &  5 & 13 & 10XX ALBERNI ST & West End & 491015.9 & 5459166\\\\\n",
       "\t Break and Enter Commercial & 2020 &  7 & 28 & 19 & 12 & 10XX ALBERNI ST & West End & 491015.9 & 5459166\\\\\n",
       "\t Break and Enter Commercial & 2005 & 11 & 14 &  3 &  9 & 10XX ALBERNI ST & West End & 491021.4 & 5459161\\\\\n",
       "\\end{tabular}\n"
      ],
      "text/markdown": [
       "\n",
       "A tibble: 6 × 10\n",
       "\n",
       "| TYPE &lt;chr&gt; | YEAR &lt;dbl&gt; | MONTH &lt;dbl&gt; | DAY &lt;dbl&gt; | HOUR &lt;dbl&gt; | MINUTE &lt;dbl&gt; | HUNDRED_BLOCK &lt;chr&gt; | NEIGHBOURHOOD &lt;chr&gt; | X &lt;dbl&gt; | Y &lt;dbl&gt; |\n",
       "|---|---|---|---|---|---|---|---|---|---|\n",
       "| Break and Enter Commercial | 2012 | 12 | 14 |  8 | 52 | NA              | Oakridge | 491285.0 | 5453433 |\n",
       "| Break and Enter Commercial | 2019 |  3 |  7 |  2 |  6 | 10XX SITKA SQ   | Fairview | 490613.0 | 5457110 |\n",
       "| Break and Enter Commercial | 2019 |  8 | 27 |  4 | 12 | 10XX ALBERNI ST | West End | 491007.8 | 5459174 |\n",
       "| Break and Enter Commercial | 2014 |  8 |  8 |  5 | 13 | 10XX ALBERNI ST | West End | 491015.9 | 5459166 |\n",
       "| Break and Enter Commercial | 2020 |  7 | 28 | 19 | 12 | 10XX ALBERNI ST | West End | 491015.9 | 5459166 |\n",
       "| Break and Enter Commercial | 2005 | 11 | 14 |  3 |  9 | 10XX ALBERNI ST | West End | 491021.4 | 5459161 |\n",
       "\n"
      ],
      "text/plain": [
       "  TYPE                       YEAR MONTH DAY HOUR MINUTE HUNDRED_BLOCK  \n",
       "1 Break and Enter Commercial 2012 12    14   8   52     NA             \n",
       "2 Break and Enter Commercial 2019  3     7   2    6     10XX SITKA SQ  \n",
       "3 Break and Enter Commercial 2019  8    27   4   12     10XX ALBERNI ST\n",
       "4 Break and Enter Commercial 2014  8     8   5   13     10XX ALBERNI ST\n",
       "5 Break and Enter Commercial 2020  7    28  19   12     10XX ALBERNI ST\n",
       "6 Break and Enter Commercial 2005 11    14   3    9     10XX ALBERNI ST\n",
       "  NEIGHBOURHOOD X        Y      \n",
       "1 Oakridge      491285.0 5453433\n",
       "2 Fairview      490613.0 5457110\n",
       "3 West End      491007.8 5459174\n",
       "4 West End      491015.9 5459166\n",
       "5 West End      491015.9 5459166\n",
       "6 West End      491021.4 5459161"
      ]
     },
     "metadata": {},
     "output_type": "display_data"
    }
   ],
   "source": [
    "url <- \"https://geodash.vpd.ca/opendata/crimedata_download/crimedata_csv_all_years.zip\"\n",
    "filename <- \"crime_data.zip\"\n",
    "download.file(url, destfile = filename)\n",
    "\n",
    "# Data comes in as a zip, so we'll need to extract it\n",
    "unzip(\"crime_data.zip\")\n",
    "\n",
    "# Read in the desired file\n",
    "crime_data <- read_csv(\"crimedata_csv_all_years.csv\")\n",
    "head(crime_data)\n",
    "\n",
    "theft_crimes <- c(\"Other Theft\", \"Theft from Vehicle\", \n",
    "                  \"Theft of Bicycle\", \"Theft of Vehicle\")"
   ]
  },
  {
   "cell_type": "code",
   "execution_count": 43,
   "metadata": {},
   "outputs": [
    {
     "data": {
      "text/html": [
       "<table>\n",
       "<caption>A tibble: 6 × 10</caption>\n",
       "<thead>\n",
       "\t<tr><th scope=col>type</th><th scope=col>year</th><th scope=col>month</th><th scope=col>day</th><th scope=col>hour</th><th scope=col>minute</th><th scope=col>hundred_block</th><th scope=col>neighbourhood</th><th scope=col>x</th><th scope=col>y</th></tr>\n",
       "\t<tr><th scope=col>&lt;chr&gt;</th><th scope=col>&lt;dbl&gt;</th><th scope=col>&lt;dbl&gt;</th><th scope=col>&lt;dbl&gt;</th><th scope=col>&lt;dbl&gt;</th><th scope=col>&lt;dbl&gt;</th><th scope=col>&lt;chr&gt;</th><th scope=col>&lt;chr&gt;</th><th scope=col>&lt;dbl&gt;</th><th scope=col>&lt;dbl&gt;</th></tr>\n",
       "</thead>\n",
       "<tbody>\n",
       "\t<tr><td>Break and Enter Commercial</td><td>2012</td><td>12</td><td>14</td><td> 8</td><td>52</td><td>NA             </td><td>Oakridge</td><td>491285.0</td><td>5453433</td></tr>\n",
       "\t<tr><td>Break and Enter Commercial</td><td>2019</td><td> 3</td><td> 7</td><td> 2</td><td> 6</td><td>10XX SITKA SQ  </td><td>Fairview</td><td>490613.0</td><td>5457110</td></tr>\n",
       "\t<tr><td>Break and Enter Commercial</td><td>2019</td><td> 8</td><td>27</td><td> 4</td><td>12</td><td>10XX ALBERNI ST</td><td>West End</td><td>491007.8</td><td>5459174</td></tr>\n",
       "\t<tr><td>Break and Enter Commercial</td><td>2014</td><td> 8</td><td> 8</td><td> 5</td><td>13</td><td>10XX ALBERNI ST</td><td>West End</td><td>491015.9</td><td>5459166</td></tr>\n",
       "\t<tr><td>Break and Enter Commercial</td><td>2020</td><td> 7</td><td>28</td><td>19</td><td>12</td><td>10XX ALBERNI ST</td><td>West End</td><td>491015.9</td><td>5459166</td></tr>\n",
       "\t<tr><td>Break and Enter Commercial</td><td>2005</td><td>11</td><td>14</td><td> 3</td><td> 9</td><td>10XX ALBERNI ST</td><td>West End</td><td>491021.4</td><td>5459161</td></tr>\n",
       "</tbody>\n",
       "</table>\n"
      ],
      "text/latex": [
       "A tibble: 6 × 10\n",
       "\\begin{tabular}{llllllllll}\n",
       " type & year & month & day & hour & minute & hundred\\_block & neighbourhood & x & y\\\\\n",
       " <chr> & <dbl> & <dbl> & <dbl> & <dbl> & <dbl> & <chr> & <chr> & <dbl> & <dbl>\\\\\n",
       "\\hline\n",
       "\t Break and Enter Commercial & 2012 & 12 & 14 &  8 & 52 & NA              & Oakridge & 491285.0 & 5453433\\\\\n",
       "\t Break and Enter Commercial & 2019 &  3 &  7 &  2 &  6 & 10XX SITKA SQ   & Fairview & 490613.0 & 5457110\\\\\n",
       "\t Break and Enter Commercial & 2019 &  8 & 27 &  4 & 12 & 10XX ALBERNI ST & West End & 491007.8 & 5459174\\\\\n",
       "\t Break and Enter Commercial & 2014 &  8 &  8 &  5 & 13 & 10XX ALBERNI ST & West End & 491015.9 & 5459166\\\\\n",
       "\t Break and Enter Commercial & 2020 &  7 & 28 & 19 & 12 & 10XX ALBERNI ST & West End & 491015.9 & 5459166\\\\\n",
       "\t Break and Enter Commercial & 2005 & 11 & 14 &  3 &  9 & 10XX ALBERNI ST & West End & 491021.4 & 5459161\\\\\n",
       "\\end{tabular}\n"
      ],
      "text/markdown": [
       "\n",
       "A tibble: 6 × 10\n",
       "\n",
       "| type &lt;chr&gt; | year &lt;dbl&gt; | month &lt;dbl&gt; | day &lt;dbl&gt; | hour &lt;dbl&gt; | minute &lt;dbl&gt; | hundred_block &lt;chr&gt; | neighbourhood &lt;chr&gt; | x &lt;dbl&gt; | y &lt;dbl&gt; |\n",
       "|---|---|---|---|---|---|---|---|---|---|\n",
       "| Break and Enter Commercial | 2012 | 12 | 14 |  8 | 52 | NA              | Oakridge | 491285.0 | 5453433 |\n",
       "| Break and Enter Commercial | 2019 |  3 |  7 |  2 |  6 | 10XX SITKA SQ   | Fairview | 490613.0 | 5457110 |\n",
       "| Break and Enter Commercial | 2019 |  8 | 27 |  4 | 12 | 10XX ALBERNI ST | West End | 491007.8 | 5459174 |\n",
       "| Break and Enter Commercial | 2014 |  8 |  8 |  5 | 13 | 10XX ALBERNI ST | West End | 491015.9 | 5459166 |\n",
       "| Break and Enter Commercial | 2020 |  7 | 28 | 19 | 12 | 10XX ALBERNI ST | West End | 491015.9 | 5459166 |\n",
       "| Break and Enter Commercial | 2005 | 11 | 14 |  3 |  9 | 10XX ALBERNI ST | West End | 491021.4 | 5459161 |\n",
       "\n"
      ],
      "text/plain": [
       "  type                       year month day hour minute hundred_block  \n",
       "1 Break and Enter Commercial 2012 12    14   8   52     NA             \n",
       "2 Break and Enter Commercial 2019  3     7   2    6     10XX SITKA SQ  \n",
       "3 Break and Enter Commercial 2019  8    27   4   12     10XX ALBERNI ST\n",
       "4 Break and Enter Commercial 2014  8     8   5   13     10XX ALBERNI ST\n",
       "5 Break and Enter Commercial 2020  7    28  19   12     10XX ALBERNI ST\n",
       "6 Break and Enter Commercial 2005 11    14   3    9     10XX ALBERNI ST\n",
       "  neighbourhood x        y      \n",
       "1 Oakridge      491285.0 5453433\n",
       "2 Fairview      490613.0 5457110\n",
       "3 West End      491007.8 5459174\n",
       "4 West End      491015.9 5459166\n",
       "5 West End      491015.9 5459166\n",
       "6 West End      491021.4 5459161"
      ]
     },
     "metadata": {},
     "output_type": "display_data"
    }
   ],
   "source": [
    "crime_data <- crime_data %>% clean_names()\n",
    "head(crime_data)"
   ]
  },
  {
   "cell_type": "code",
   "execution_count": 44,
   "metadata": {},
   "outputs": [
    {
     "name": "stdout",
     "output_type": "stream",
     "text": [
      "[1] \"There are 668167 rows in the data frame\"\n",
      "[1] \"Originally, there were 70135 NA values in the neighbourhood column\"\n",
      "[1] \"Now, there are 0 NA values in the neighbourhood column\"\n"
     ]
    }
   ],
   "source": [
    "total_rows <- crime_data %>% nrow()\n",
    "print(sprintf(\"There are %d rows in the data frame\", total_rows))\n",
    "\n",
    "na_neighbourhoods <- sum(is.na(crime_data$neighbourhood))\n",
    "print(sprintf(\"Originally, there were %d NA values in the neighbourhood column\", na_neighbourhoods))\n",
    "\n",
    "crime_data <- na.omit(crime_data)\n",
    "\n",
    "na_neighbourhoods <- sum(is.na(crime_data$neighbourhood))\n",
    "print(sprintf(\"Now, there are %d NA values in the neighbourhood column\", na_neighbourhoods))"
   ]
  },
  {
   "cell_type": "code",
   "execution_count": 45,
   "metadata": {},
   "outputs": [
    {
     "data": {
      "text/html": [
       "<table>\n",
       "<caption>A tibble: 6 × 3</caption>\n",
       "<thead>\n",
       "\t<tr><th scope=col>type</th><th scope=col>year</th><th scope=col>neighbourhood</th></tr>\n",
       "\t<tr><th scope=col>&lt;chr&gt;</th><th scope=col>&lt;dbl&gt;</th><th scope=col>&lt;chr&gt;</th></tr>\n",
       "</thead>\n",
       "<tbody>\n",
       "\t<tr><td>Break and Enter Commercial</td><td>2019</td><td>Fairview</td></tr>\n",
       "\t<tr><td>Break and Enter Commercial</td><td>2019</td><td>West End</td></tr>\n",
       "\t<tr><td>Break and Enter Commercial</td><td>2020</td><td>West End</td></tr>\n",
       "\t<tr><td>Break and Enter Commercial</td><td>2017</td><td>West End</td></tr>\n",
       "\t<tr><td>Break and Enter Commercial</td><td>2018</td><td>West End</td></tr>\n",
       "\t<tr><td>Break and Enter Commercial</td><td>2020</td><td>West End</td></tr>\n",
       "</tbody>\n",
       "</table>\n"
      ],
      "text/latex": [
       "A tibble: 6 × 3\n",
       "\\begin{tabular}{lll}\n",
       " type & year & neighbourhood\\\\\n",
       " <chr> & <dbl> & <chr>\\\\\n",
       "\\hline\n",
       "\t Break and Enter Commercial & 2019 & Fairview\\\\\n",
       "\t Break and Enter Commercial & 2019 & West End\\\\\n",
       "\t Break and Enter Commercial & 2020 & West End\\\\\n",
       "\t Break and Enter Commercial & 2017 & West End\\\\\n",
       "\t Break and Enter Commercial & 2018 & West End\\\\\n",
       "\t Break and Enter Commercial & 2020 & West End\\\\\n",
       "\\end{tabular}\n"
      ],
      "text/markdown": [
       "\n",
       "A tibble: 6 × 3\n",
       "\n",
       "| type &lt;chr&gt; | year &lt;dbl&gt; | neighbourhood &lt;chr&gt; |\n",
       "|---|---|---|\n",
       "| Break and Enter Commercial | 2019 | Fairview |\n",
       "| Break and Enter Commercial | 2019 | West End |\n",
       "| Break and Enter Commercial | 2020 | West End |\n",
       "| Break and Enter Commercial | 2017 | West End |\n",
       "| Break and Enter Commercial | 2018 | West End |\n",
       "| Break and Enter Commercial | 2020 | West End |\n",
       "\n"
      ],
      "text/plain": [
       "  type                       year neighbourhood\n",
       "1 Break and Enter Commercial 2019 Fairview     \n",
       "2 Break and Enter Commercial 2019 West End     \n",
       "3 Break and Enter Commercial 2020 West End     \n",
       "4 Break and Enter Commercial 2017 West End     \n",
       "5 Break and Enter Commercial 2018 West End     \n",
       "6 Break and Enter Commercial 2020 West End     "
      ]
     },
     "metadata": {},
     "output_type": "display_data"
    }
   ],
   "source": [
    "crime_data <- crime_data %>% \n",
    "    select(type, year, neighbourhood) %>%\n",
    "    filter(2017 <= year & year <= 2020)\n",
    "head(crime_data)"
   ]
  },
  {
   "cell_type": "code",
   "execution_count": 46,
   "metadata": {},
   "outputs": [
    {
     "data": {
      "text/html": [
       "<table>\n",
       "<caption>A tibble: 6 × 3</caption>\n",
       "<thead>\n",
       "\t<tr><th scope=col>type</th><th scope=col>year</th><th scope=col>neighbourhood</th></tr>\n",
       "\t<tr><th scope=col>&lt;fct&gt;</th><th scope=col>&lt;dbl&gt;</th><th scope=col>&lt;fct&gt;</th></tr>\n",
       "</thead>\n",
       "<tbody>\n",
       "\t<tr><td>Break and Enter Commercial</td><td>2019</td><td>Fairview</td></tr>\n",
       "\t<tr><td>Break and Enter Commercial</td><td>2019</td><td>West End</td></tr>\n",
       "\t<tr><td>Break and Enter Commercial</td><td>2020</td><td>West End</td></tr>\n",
       "\t<tr><td>Break and Enter Commercial</td><td>2017</td><td>West End</td></tr>\n",
       "\t<tr><td>Break and Enter Commercial</td><td>2018</td><td>West End</td></tr>\n",
       "\t<tr><td>Break and Enter Commercial</td><td>2020</td><td>West End</td></tr>\n",
       "</tbody>\n",
       "</table>\n"
      ],
      "text/latex": [
       "A tibble: 6 × 3\n",
       "\\begin{tabular}{lll}\n",
       " type & year & neighbourhood\\\\\n",
       " <fct> & <dbl> & <fct>\\\\\n",
       "\\hline\n",
       "\t Break and Enter Commercial & 2019 & Fairview\\\\\n",
       "\t Break and Enter Commercial & 2019 & West End\\\\\n",
       "\t Break and Enter Commercial & 2020 & West End\\\\\n",
       "\t Break and Enter Commercial & 2017 & West End\\\\\n",
       "\t Break and Enter Commercial & 2018 & West End\\\\\n",
       "\t Break and Enter Commercial & 2020 & West End\\\\\n",
       "\\end{tabular}\n"
      ],
      "text/markdown": [
       "\n",
       "A tibble: 6 × 3\n",
       "\n",
       "| type &lt;fct&gt; | year &lt;dbl&gt; | neighbourhood &lt;fct&gt; |\n",
       "|---|---|---|\n",
       "| Break and Enter Commercial | 2019 | Fairview |\n",
       "| Break and Enter Commercial | 2019 | West End |\n",
       "| Break and Enter Commercial | 2020 | West End |\n",
       "| Break and Enter Commercial | 2017 | West End |\n",
       "| Break and Enter Commercial | 2018 | West End |\n",
       "| Break and Enter Commercial | 2020 | West End |\n",
       "\n"
      ],
      "text/plain": [
       "  type                       year neighbourhood\n",
       "1 Break and Enter Commercial 2019 Fairview     \n",
       "2 Break and Enter Commercial 2019 West End     \n",
       "3 Break and Enter Commercial 2020 West End     \n",
       "4 Break and Enter Commercial 2017 West End     \n",
       "5 Break and Enter Commercial 2018 West End     \n",
       "6 Break and Enter Commercial 2020 West End     "
      ]
     },
     "metadata": {},
     "output_type": "display_data"
    }
   ],
   "source": [
    "crime_data <- crime_data %>%\n",
    "    mutate(type = as_factor(type)) %>%\n",
    "    mutate(neighbourhood = as_factor(neighbourhood))\n",
    "head(crime_data)"
   ]
  },
  {
   "cell_type": "markdown",
   "metadata": {},
   "source": [
    "So far, all codes are from the project proposal."
   ]
  },
  {
   "cell_type": "markdown",
   "metadata": {},
   "source": [
    "A proportion is the average of a random variable that can only assume either 0 or 1. Therefore, by calculating proportions, we are summing up random terms. Also, the sample size is large, n*p≥10 and n*(1-p)≥10. In order to make sure the independence, sample size should be less than 10% of the population size.\n",
    "\n",
    "Then, we can apply the CLT."
   ]
  },
  {
   "cell_type": "markdown",
   "metadata": {},
   "source": [
    "Let's compute the confidence interval based on Central Limit Theorem."
   ]
  },
  {
   "cell_type": "code",
   "execution_count": 47,
   "metadata": {},
   "outputs": [
    {
     "data": {
      "text/html": [
       "<table>\n",
       "<caption>A tibble: 6 × 3</caption>\n",
       "<thead>\n",
       "\t<tr><th scope=col>type</th><th scope=col>year</th><th scope=col>neighbourhood</th></tr>\n",
       "\t<tr><th scope=col>&lt;fct&gt;</th><th scope=col>&lt;dbl&gt;</th><th scope=col>&lt;fct&gt;</th></tr>\n",
       "</thead>\n",
       "<tbody>\n",
       "\t<tr><td>Break and Enter Commercial</td><td>2019</td><td>Fairview</td></tr>\n",
       "\t<tr><td>Break and Enter Commercial</td><td>2019</td><td>West End</td></tr>\n",
       "\t<tr><td>Break and Enter Commercial</td><td>2017</td><td>West End</td></tr>\n",
       "\t<tr><td>Break and Enter Commercial</td><td>2018</td><td>West End</td></tr>\n",
       "\t<tr><td>Break and Enter Commercial</td><td>2018</td><td>West End</td></tr>\n",
       "\t<tr><td>Break and Enter Commercial</td><td>2017</td><td>West End</td></tr>\n",
       "</tbody>\n",
       "</table>\n"
      ],
      "text/latex": [
       "A tibble: 6 × 3\n",
       "\\begin{tabular}{lll}\n",
       " type & year & neighbourhood\\\\\n",
       " <fct> & <dbl> & <fct>\\\\\n",
       "\\hline\n",
       "\t Break and Enter Commercial & 2019 & Fairview\\\\\n",
       "\t Break and Enter Commercial & 2019 & West End\\\\\n",
       "\t Break and Enter Commercial & 2017 & West End\\\\\n",
       "\t Break and Enter Commercial & 2018 & West End\\\\\n",
       "\t Break and Enter Commercial & 2018 & West End\\\\\n",
       "\t Break and Enter Commercial & 2017 & West End\\\\\n",
       "\\end{tabular}\n"
      ],
      "text/markdown": [
       "\n",
       "A tibble: 6 × 3\n",
       "\n",
       "| type &lt;fct&gt; | year &lt;dbl&gt; | neighbourhood &lt;fct&gt; |\n",
       "|---|---|---|\n",
       "| Break and Enter Commercial | 2019 | Fairview |\n",
       "| Break and Enter Commercial | 2019 | West End |\n",
       "| Break and Enter Commercial | 2017 | West End |\n",
       "| Break and Enter Commercial | 2018 | West End |\n",
       "| Break and Enter Commercial | 2018 | West End |\n",
       "| Break and Enter Commercial | 2017 | West End |\n",
       "\n"
      ],
      "text/plain": [
       "  type                       year neighbourhood\n",
       "1 Break and Enter Commercial 2019 Fairview     \n",
       "2 Break and Enter Commercial 2019 West End     \n",
       "3 Break and Enter Commercial 2017 West End     \n",
       "4 Break and Enter Commercial 2018 West End     \n",
       "5 Break and Enter Commercial 2018 West End     \n",
       "6 Break and Enter Commercial 2017 West End     "
      ]
     },
     "metadata": {},
     "output_type": "display_data"
    }
   ],
   "source": [
    "crime_data_past <- crime_data %>%\n",
    "        filter(year %in% c(2017, 2018, 2019))\n",
    "head(crime_data_past)"
   ]
  },
  {
   "cell_type": "code",
   "execution_count": 48,
   "metadata": {},
   "outputs": [
    {
     "name": "stderr",
     "output_type": "stream",
     "text": [
      "`summarise()` ungrouping output (override with `.groups` argument)\n",
      "\n"
     ]
    },
    {
     "data": {
      "text/html": [
       "<table>\n",
       "<caption>A tibble: 6 × 4</caption>\n",
       "<thead>\n",
       "\t<tr><th scope=col>neighbourhood</th><th scope=col>prop_p</th><th scope=col>count_p</th><th scope=col>n_past</th></tr>\n",
       "\t<tr><th scope=col>&lt;fct&gt;</th><th scope=col>&lt;dbl&gt;</th><th scope=col>&lt;int&gt;</th><th scope=col>&lt;int&gt;</th></tr>\n",
       "</thead>\n",
       "<tbody>\n",
       "\t<tr><td>Fairview                 </td><td>0.6891537</td><td> 3933</td><td> 5707</td></tr>\n",
       "\t<tr><td>West End                 </td><td>0.7351588</td><td> 6712</td><td> 9130</td></tr>\n",
       "\t<tr><td>Central Business District</td><td>0.7533982</td><td>24997</td><td>33179</td></tr>\n",
       "\t<tr><td>Hastings-Sunrise         </td><td>0.6451613</td><td> 2500</td><td> 3875</td></tr>\n",
       "\t<tr><td>Strathcona               </td><td>0.5577118</td><td> 3305</td><td> 5926</td></tr>\n",
       "\t<tr><td>Grandview-Woodland       </td><td>0.6237392</td><td> 3463</td><td> 5552</td></tr>\n",
       "</tbody>\n",
       "</table>\n"
      ],
      "text/latex": [
       "A tibble: 6 × 4\n",
       "\\begin{tabular}{llll}\n",
       " neighbourhood & prop\\_p & count\\_p & n\\_past\\\\\n",
       " <fct> & <dbl> & <int> & <int>\\\\\n",
       "\\hline\n",
       "\t Fairview                  & 0.6891537 &  3933 &  5707\\\\\n",
       "\t West End                  & 0.7351588 &  6712 &  9130\\\\\n",
       "\t Central Business District & 0.7533982 & 24997 & 33179\\\\\n",
       "\t Hastings-Sunrise          & 0.6451613 &  2500 &  3875\\\\\n",
       "\t Strathcona                & 0.5577118 &  3305 &  5926\\\\\n",
       "\t Grandview-Woodland        & 0.6237392 &  3463 &  5552\\\\\n",
       "\\end{tabular}\n"
      ],
      "text/markdown": [
       "\n",
       "A tibble: 6 × 4\n",
       "\n",
       "| neighbourhood &lt;fct&gt; | prop_p &lt;dbl&gt; | count_p &lt;int&gt; | n_past &lt;int&gt; |\n",
       "|---|---|---|---|\n",
       "| Fairview                  | 0.6891537 |  3933 |  5707 |\n",
       "| West End                  | 0.7351588 |  6712 |  9130 |\n",
       "| Central Business District | 0.7533982 | 24997 | 33179 |\n",
       "| Hastings-Sunrise          | 0.6451613 |  2500 |  3875 |\n",
       "| Strathcona                | 0.5577118 |  3305 |  5926 |\n",
       "| Grandview-Woodland        | 0.6237392 |  3463 |  5552 |\n",
       "\n"
      ],
      "text/plain": [
       "  neighbourhood             prop_p    count_p n_past\n",
       "1 Fairview                  0.6891537  3933    5707 \n",
       "2 West End                  0.7351588  6712    9130 \n",
       "3 Central Business District 0.7533982 24997   33179 \n",
       "4 Hastings-Sunrise          0.6451613  2500    3875 \n",
       "5 Strathcona                0.5577118  3305    5926 \n",
       "6 Grandview-Woodland        0.6237392  3463    5552 "
      ]
     },
     "metadata": {},
     "output_type": "display_data"
    }
   ],
   "source": [
    "prop_past <- crime_data_past %>%\n",
    "    group_by(neighbourhood) %>%\n",
    "    summarize(prop_p = mean(type %in% theft_crimes),\n",
    "              count_p = sum(type %in% theft_crimes),\n",
    "              n_past = n()) \n",
    "\n",
    "head(prop_past)"
   ]
  },
  {
   "cell_type": "code",
   "execution_count": 49,
   "metadata": {},
   "outputs": [
    {
     "data": {
      "text/html": [
       "<table>\n",
       "<caption>A tibble: 6 × 3</caption>\n",
       "<thead>\n",
       "\t<tr><th scope=col>type</th><th scope=col>year</th><th scope=col>neighbourhood</th></tr>\n",
       "\t<tr><th scope=col>&lt;fct&gt;</th><th scope=col>&lt;dbl&gt;</th><th scope=col>&lt;fct&gt;</th></tr>\n",
       "</thead>\n",
       "<tbody>\n",
       "\t<tr><td>Break and Enter Commercial</td><td>2020</td><td>West End</td></tr>\n",
       "\t<tr><td>Break and Enter Commercial</td><td>2020</td><td>West End</td></tr>\n",
       "\t<tr><td>Break and Enter Commercial</td><td>2020</td><td>West End</td></tr>\n",
       "\t<tr><td>Break and Enter Commercial</td><td>2020</td><td>West End</td></tr>\n",
       "\t<tr><td>Break and Enter Commercial</td><td>2020</td><td>West End</td></tr>\n",
       "\t<tr><td>Break and Enter Commercial</td><td>2020</td><td>West End</td></tr>\n",
       "</tbody>\n",
       "</table>\n"
      ],
      "text/latex": [
       "A tibble: 6 × 3\n",
       "\\begin{tabular}{lll}\n",
       " type & year & neighbourhood\\\\\n",
       " <fct> & <dbl> & <fct>\\\\\n",
       "\\hline\n",
       "\t Break and Enter Commercial & 2020 & West End\\\\\n",
       "\t Break and Enter Commercial & 2020 & West End\\\\\n",
       "\t Break and Enter Commercial & 2020 & West End\\\\\n",
       "\t Break and Enter Commercial & 2020 & West End\\\\\n",
       "\t Break and Enter Commercial & 2020 & West End\\\\\n",
       "\t Break and Enter Commercial & 2020 & West End\\\\\n",
       "\\end{tabular}\n"
      ],
      "text/markdown": [
       "\n",
       "A tibble: 6 × 3\n",
       "\n",
       "| type &lt;fct&gt; | year &lt;dbl&gt; | neighbourhood &lt;fct&gt; |\n",
       "|---|---|---|\n",
       "| Break and Enter Commercial | 2020 | West End |\n",
       "| Break and Enter Commercial | 2020 | West End |\n",
       "| Break and Enter Commercial | 2020 | West End |\n",
       "| Break and Enter Commercial | 2020 | West End |\n",
       "| Break and Enter Commercial | 2020 | West End |\n",
       "| Break and Enter Commercial | 2020 | West End |\n",
       "\n"
      ],
      "text/plain": [
       "  type                       year neighbourhood\n",
       "1 Break and Enter Commercial 2020 West End     \n",
       "2 Break and Enter Commercial 2020 West End     \n",
       "3 Break and Enter Commercial 2020 West End     \n",
       "4 Break and Enter Commercial 2020 West End     \n",
       "5 Break and Enter Commercial 2020 West End     \n",
       "6 Break and Enter Commercial 2020 West End     "
      ]
     },
     "metadata": {},
     "output_type": "display_data"
    }
   ],
   "source": [
    "crime_data_2020 <- crime_data %>%\n",
    "        filter(year==2020)\n",
    "head(crime_data_2020)"
   ]
  },
  {
   "cell_type": "code",
   "execution_count": 50,
   "metadata": {},
   "outputs": [
    {
     "name": "stderr",
     "output_type": "stream",
     "text": [
      "`summarise()` ungrouping output (override with `.groups` argument)\n",
      "\n"
     ]
    },
    {
     "data": {
      "text/html": [
       "<table>\n",
       "<caption>A tibble: 6 × 4</caption>\n",
       "<thead>\n",
       "\t<tr><th scope=col>neighbourhood</th><th scope=col>prop_20</th><th scope=col>count_20</th><th scope=col>n_20</th></tr>\n",
       "\t<tr><th scope=col>&lt;fct&gt;</th><th scope=col>&lt;dbl&gt;</th><th scope=col>&lt;int&gt;</th><th scope=col>&lt;int&gt;</th></tr>\n",
       "</thead>\n",
       "<tbody>\n",
       "\t<tr><td>Fairview                 </td><td>0.6194740</td><td>1107</td><td>1787</td></tr>\n",
       "\t<tr><td>West End                 </td><td>0.6331310</td><td>1460</td><td>2306</td></tr>\n",
       "\t<tr><td>Central Business District</td><td>0.6046934</td><td>4664</td><td>7713</td></tr>\n",
       "\t<tr><td>Hastings-Sunrise         </td><td>0.5693642</td><td> 591</td><td>1038</td></tr>\n",
       "\t<tr><td>Strathcona               </td><td>0.4385246</td><td> 749</td><td>1708</td></tr>\n",
       "\t<tr><td>Grandview-Woodland       </td><td>0.5506849</td><td> 804</td><td>1460</td></tr>\n",
       "</tbody>\n",
       "</table>\n"
      ],
      "text/latex": [
       "A tibble: 6 × 4\n",
       "\\begin{tabular}{llll}\n",
       " neighbourhood & prop\\_20 & count\\_20 & n\\_20\\\\\n",
       " <fct> & <dbl> & <int> & <int>\\\\\n",
       "\\hline\n",
       "\t Fairview                  & 0.6194740 & 1107 & 1787\\\\\n",
       "\t West End                  & 0.6331310 & 1460 & 2306\\\\\n",
       "\t Central Business District & 0.6046934 & 4664 & 7713\\\\\n",
       "\t Hastings-Sunrise          & 0.5693642 &  591 & 1038\\\\\n",
       "\t Strathcona                & 0.4385246 &  749 & 1708\\\\\n",
       "\t Grandview-Woodland        & 0.5506849 &  804 & 1460\\\\\n",
       "\\end{tabular}\n"
      ],
      "text/markdown": [
       "\n",
       "A tibble: 6 × 4\n",
       "\n",
       "| neighbourhood &lt;fct&gt; | prop_20 &lt;dbl&gt; | count_20 &lt;int&gt; | n_20 &lt;int&gt; |\n",
       "|---|---|---|---|\n",
       "| Fairview                  | 0.6194740 | 1107 | 1787 |\n",
       "| West End                  | 0.6331310 | 1460 | 2306 |\n",
       "| Central Business District | 0.6046934 | 4664 | 7713 |\n",
       "| Hastings-Sunrise          | 0.5693642 |  591 | 1038 |\n",
       "| Strathcona                | 0.4385246 |  749 | 1708 |\n",
       "| Grandview-Woodland        | 0.5506849 |  804 | 1460 |\n",
       "\n"
      ],
      "text/plain": [
       "  neighbourhood             prop_20   count_20 n_20\n",
       "1 Fairview                  0.6194740 1107     1787\n",
       "2 West End                  0.6331310 1460     2306\n",
       "3 Central Business District 0.6046934 4664     7713\n",
       "4 Hastings-Sunrise          0.5693642  591     1038\n",
       "5 Strathcona                0.4385246  749     1708\n",
       "6 Grandview-Woodland        0.5506849  804     1460"
      ]
     },
     "metadata": {},
     "output_type": "display_data"
    }
   ],
   "source": [
    "prop_2020 <- crime_data_2020 %>%\n",
    "    group_by(neighbourhood) %>%\n",
    "    summarize(prop_20 = mean(type %in% theft_crimes),\n",
    "              count_20 = sum(type %in% theft_crimes),\n",
    "              n_20 = n())\n",
    "\n",
    "\n",
    "head(prop_2020)"
   ]
  },
  {
   "cell_type": "code",
   "execution_count": 51,
   "metadata": {},
   "outputs": [
    {
     "data": {
      "text/html": [
       "<table>\n",
       "<caption>A tibble: 6 × 7</caption>\n",
       "<thead>\n",
       "\t<tr><th scope=col>neighbourhood</th><th scope=col>prop_p</th><th scope=col>count_p</th><th scope=col>n_past</th><th scope=col>prop_20</th><th scope=col>count_20</th><th scope=col>n_20</th></tr>\n",
       "\t<tr><th scope=col>&lt;fct&gt;</th><th scope=col>&lt;dbl&gt;</th><th scope=col>&lt;int&gt;</th><th scope=col>&lt;int&gt;</th><th scope=col>&lt;dbl&gt;</th><th scope=col>&lt;int&gt;</th><th scope=col>&lt;int&gt;</th></tr>\n",
       "</thead>\n",
       "<tbody>\n",
       "\t<tr><td>Fairview                 </td><td>0.6891537</td><td> 3933</td><td> 5707</td><td>0.6194740</td><td>1107</td><td>1787</td></tr>\n",
       "\t<tr><td>West End                 </td><td>0.7351588</td><td> 6712</td><td> 9130</td><td>0.6331310</td><td>1460</td><td>2306</td></tr>\n",
       "\t<tr><td>Central Business District</td><td>0.7533982</td><td>24997</td><td>33179</td><td>0.6046934</td><td>4664</td><td>7713</td></tr>\n",
       "\t<tr><td>Hastings-Sunrise         </td><td>0.6451613</td><td> 2500</td><td> 3875</td><td>0.5693642</td><td> 591</td><td>1038</td></tr>\n",
       "\t<tr><td>Strathcona               </td><td>0.5577118</td><td> 3305</td><td> 5926</td><td>0.4385246</td><td> 749</td><td>1708</td></tr>\n",
       "\t<tr><td>Grandview-Woodland       </td><td>0.6237392</td><td> 3463</td><td> 5552</td><td>0.5506849</td><td> 804</td><td>1460</td></tr>\n",
       "</tbody>\n",
       "</table>\n"
      ],
      "text/latex": [
       "A tibble: 6 × 7\n",
       "\\begin{tabular}{lllllll}\n",
       " neighbourhood & prop\\_p & count\\_p & n\\_past & prop\\_20 & count\\_20 & n\\_20\\\\\n",
       " <fct> & <dbl> & <int> & <int> & <dbl> & <int> & <int>\\\\\n",
       "\\hline\n",
       "\t Fairview                  & 0.6891537 &  3933 &  5707 & 0.6194740 & 1107 & 1787\\\\\n",
       "\t West End                  & 0.7351588 &  6712 &  9130 & 0.6331310 & 1460 & 2306\\\\\n",
       "\t Central Business District & 0.7533982 & 24997 & 33179 & 0.6046934 & 4664 & 7713\\\\\n",
       "\t Hastings-Sunrise          & 0.6451613 &  2500 &  3875 & 0.5693642 &  591 & 1038\\\\\n",
       "\t Strathcona                & 0.5577118 &  3305 &  5926 & 0.4385246 &  749 & 1708\\\\\n",
       "\t Grandview-Woodland        & 0.6237392 &  3463 &  5552 & 0.5506849 &  804 & 1460\\\\\n",
       "\\end{tabular}\n"
      ],
      "text/markdown": [
       "\n",
       "A tibble: 6 × 7\n",
       "\n",
       "| neighbourhood &lt;fct&gt; | prop_p &lt;dbl&gt; | count_p &lt;int&gt; | n_past &lt;int&gt; | prop_20 &lt;dbl&gt; | count_20 &lt;int&gt; | n_20 &lt;int&gt; |\n",
       "|---|---|---|---|---|---|---|\n",
       "| Fairview                  | 0.6891537 |  3933 |  5707 | 0.6194740 | 1107 | 1787 |\n",
       "| West End                  | 0.7351588 |  6712 |  9130 | 0.6331310 | 1460 | 2306 |\n",
       "| Central Business District | 0.7533982 | 24997 | 33179 | 0.6046934 | 4664 | 7713 |\n",
       "| Hastings-Sunrise          | 0.6451613 |  2500 |  3875 | 0.5693642 |  591 | 1038 |\n",
       "| Strathcona                | 0.5577118 |  3305 |  5926 | 0.4385246 |  749 | 1708 |\n",
       "| Grandview-Woodland        | 0.6237392 |  3463 |  5552 | 0.5506849 |  804 | 1460 |\n",
       "\n"
      ],
      "text/plain": [
       "  neighbourhood             prop_p    count_p n_past prop_20   count_20 n_20\n",
       "1 Fairview                  0.6891537  3933    5707  0.6194740 1107     1787\n",
       "2 West End                  0.7351588  6712    9130  0.6331310 1460     2306\n",
       "3 Central Business District 0.7533982 24997   33179  0.6046934 4664     7713\n",
       "4 Hastings-Sunrise          0.6451613  2500    3875  0.5693642  591     1038\n",
       "5 Strathcona                0.5577118  3305    5926  0.4385246  749     1708\n",
       "6 Grandview-Woodland        0.6237392  3463    5552  0.5506849  804     1460"
      ]
     },
     "metadata": {},
     "output_type": "display_data"
    }
   ],
   "source": [
    "# merge two tables\n",
    "merge_past_2020 <- left_join(prop_past, prop_2020, by = \"neighbourhood\")\n",
    "head(merge_past_2020)"
   ]
  },
  {
   "cell_type": "code",
   "execution_count": 52,
   "metadata": {},
   "outputs": [
    {
     "data": {
      "text/html": [
       "<table>\n",
       "<caption>A tibble: 6 × 8</caption>\n",
       "<thead>\n",
       "\t<tr><th scope=col>neighbourhood</th><th scope=col>prop_p</th><th scope=col>count_p</th><th scope=col>n_past</th><th scope=col>prop_20</th><th scope=col>count_20</th><th scope=col>n_20</th><th scope=col>prop_diff</th></tr>\n",
       "\t<tr><th scope=col>&lt;fct&gt;</th><th scope=col>&lt;dbl&gt;</th><th scope=col>&lt;int&gt;</th><th scope=col>&lt;int&gt;</th><th scope=col>&lt;dbl&gt;</th><th scope=col>&lt;int&gt;</th><th scope=col>&lt;int&gt;</th><th scope=col>&lt;dbl&gt;</th></tr>\n",
       "</thead>\n",
       "<tbody>\n",
       "\t<tr><td>Fairview                 </td><td>0.6891537</td><td> 3933</td><td> 5707</td><td>0.6194740</td><td>1107</td><td>1787</td><td>-0.06967969</td></tr>\n",
       "\t<tr><td>West End                 </td><td>0.7351588</td><td> 6712</td><td> 9130</td><td>0.6331310</td><td>1460</td><td>2306</td><td>-0.10202785</td></tr>\n",
       "\t<tr><td>Central Business District</td><td>0.7533982</td><td>24997</td><td>33179</td><td>0.6046934</td><td>4664</td><td>7713</td><td>-0.14870486</td></tr>\n",
       "\t<tr><td>Hastings-Sunrise         </td><td>0.6451613</td><td> 2500</td><td> 3875</td><td>0.5693642</td><td> 591</td><td>1038</td><td>-0.07579713</td></tr>\n",
       "\t<tr><td>Strathcona               </td><td>0.5577118</td><td> 3305</td><td> 5926</td><td>0.4385246</td><td> 749</td><td>1708</td><td>-0.11918719</td></tr>\n",
       "\t<tr><td>Grandview-Woodland       </td><td>0.6237392</td><td> 3463</td><td> 5552</td><td>0.5506849</td><td> 804</td><td>1460</td><td>-0.07305426</td></tr>\n",
       "</tbody>\n",
       "</table>\n"
      ],
      "text/latex": [
       "A tibble: 6 × 8\n",
       "\\begin{tabular}{llllllll}\n",
       " neighbourhood & prop\\_p & count\\_p & n\\_past & prop\\_20 & count\\_20 & n\\_20 & prop\\_diff\\\\\n",
       " <fct> & <dbl> & <int> & <int> & <dbl> & <int> & <int> & <dbl>\\\\\n",
       "\\hline\n",
       "\t Fairview                  & 0.6891537 &  3933 &  5707 & 0.6194740 & 1107 & 1787 & -0.06967969\\\\\n",
       "\t West End                  & 0.7351588 &  6712 &  9130 & 0.6331310 & 1460 & 2306 & -0.10202785\\\\\n",
       "\t Central Business District & 0.7533982 & 24997 & 33179 & 0.6046934 & 4664 & 7713 & -0.14870486\\\\\n",
       "\t Hastings-Sunrise          & 0.6451613 &  2500 &  3875 & 0.5693642 &  591 & 1038 & -0.07579713\\\\\n",
       "\t Strathcona                & 0.5577118 &  3305 &  5926 & 0.4385246 &  749 & 1708 & -0.11918719\\\\\n",
       "\t Grandview-Woodland        & 0.6237392 &  3463 &  5552 & 0.5506849 &  804 & 1460 & -0.07305426\\\\\n",
       "\\end{tabular}\n"
      ],
      "text/markdown": [
       "\n",
       "A tibble: 6 × 8\n",
       "\n",
       "| neighbourhood &lt;fct&gt; | prop_p &lt;dbl&gt; | count_p &lt;int&gt; | n_past &lt;int&gt; | prop_20 &lt;dbl&gt; | count_20 &lt;int&gt; | n_20 &lt;int&gt; | prop_diff &lt;dbl&gt; |\n",
       "|---|---|---|---|---|---|---|---|\n",
       "| Fairview                  | 0.6891537 |  3933 |  5707 | 0.6194740 | 1107 | 1787 | -0.06967969 |\n",
       "| West End                  | 0.7351588 |  6712 |  9130 | 0.6331310 | 1460 | 2306 | -0.10202785 |\n",
       "| Central Business District | 0.7533982 | 24997 | 33179 | 0.6046934 | 4664 | 7713 | -0.14870486 |\n",
       "| Hastings-Sunrise          | 0.6451613 |  2500 |  3875 | 0.5693642 |  591 | 1038 | -0.07579713 |\n",
       "| Strathcona                | 0.5577118 |  3305 |  5926 | 0.4385246 |  749 | 1708 | -0.11918719 |\n",
       "| Grandview-Woodland        | 0.6237392 |  3463 |  5552 | 0.5506849 |  804 | 1460 | -0.07305426 |\n",
       "\n"
      ],
      "text/plain": [
       "  neighbourhood             prop_p    count_p n_past prop_20   count_20 n_20\n",
       "1 Fairview                  0.6891537  3933    5707  0.6194740 1107     1787\n",
       "2 West End                  0.7351588  6712    9130  0.6331310 1460     2306\n",
       "3 Central Business District 0.7533982 24997   33179  0.6046934 4664     7713\n",
       "4 Hastings-Sunrise          0.6451613  2500    3875  0.5693642  591     1038\n",
       "5 Strathcona                0.5577118  3305    5926  0.4385246  749     1708\n",
       "6 Grandview-Woodland        0.6237392  3463    5552  0.5506849  804     1460\n",
       "  prop_diff  \n",
       "1 -0.06967969\n",
       "2 -0.10202785\n",
       "3 -0.14870486\n",
       "4 -0.07579713\n",
       "5 -0.11918719\n",
       "6 -0.07305426"
      ]
     },
     "metadata": {},
     "output_type": "display_data"
    }
   ],
   "source": [
    "merge_past_2020 <- merge_past_2020 %>% \n",
    "    mutate(prop_diff = prop_20 - prop_p)\n",
    "\n",
    "head(merge_past_2020)\n"
   ]
  },
  {
   "cell_type": "code",
   "execution_count": 53,
   "metadata": {},
   "outputs": [
    {
     "data": {
      "text/html": [
       "<table>\n",
       "<caption>A tibble: 6 × 9</caption>\n",
       "<thead>\n",
       "\t<tr><th scope=col>neighbourhood</th><th scope=col>prop_p</th><th scope=col>count_p</th><th scope=col>n_past</th><th scope=col>prop_20</th><th scope=col>count_20</th><th scope=col>n_20</th><th scope=col>prop_diff</th><th scope=col>prop_sd</th></tr>\n",
       "\t<tr><th scope=col>&lt;fct&gt;</th><th scope=col>&lt;dbl&gt;</th><th scope=col>&lt;int&gt;</th><th scope=col>&lt;int&gt;</th><th scope=col>&lt;dbl&gt;</th><th scope=col>&lt;int&gt;</th><th scope=col>&lt;int&gt;</th><th scope=col>&lt;dbl&gt;</th><th scope=col>&lt;dbl&gt;</th></tr>\n",
       "</thead>\n",
       "<tbody>\n",
       "\t<tr><td>Fairview                 </td><td>0.6891537</td><td> 3933</td><td> 5707</td><td>0.6194740</td><td>1107</td><td>1787</td><td>-0.06967969</td><td>0.013017222</td></tr>\n",
       "\t<tr><td>West End                 </td><td>0.7351588</td><td> 6712</td><td> 9130</td><td>0.6331310</td><td>1460</td><td>2306</td><td>-0.10202785</td><td>0.011047724</td></tr>\n",
       "\t<tr><td>Central Business District</td><td>0.7533982</td><td>24997</td><td>33179</td><td>0.6046934</td><td>4664</td><td>7713</td><td>-0.14870486</td><td>0.006049078</td></tr>\n",
       "\t<tr><td>Hastings-Sunrise         </td><td>0.6451613</td><td> 2500</td><td> 3875</td><td>0.5693642</td><td> 591</td><td>1038</td><td>-0.07579713</td><td>0.017184027</td></tr>\n",
       "\t<tr><td>Strathcona               </td><td>0.5577118</td><td> 3305</td><td> 5926</td><td>0.4385246</td><td> 749</td><td>1708</td><td>-0.11918719</td><td>0.013630198</td></tr>\n",
       "\t<tr><td>Grandview-Woodland       </td><td>0.6237392</td><td> 3463</td><td> 5552</td><td>0.5506849</td><td> 804</td><td>1460</td><td>-0.07305426</td><td>0.014551437</td></tr>\n",
       "</tbody>\n",
       "</table>\n"
      ],
      "text/latex": [
       "A tibble: 6 × 9\n",
       "\\begin{tabular}{lllllllll}\n",
       " neighbourhood & prop\\_p & count\\_p & n\\_past & prop\\_20 & count\\_20 & n\\_20 & prop\\_diff & prop\\_sd\\\\\n",
       " <fct> & <dbl> & <int> & <int> & <dbl> & <int> & <int> & <dbl> & <dbl>\\\\\n",
       "\\hline\n",
       "\t Fairview                  & 0.6891537 &  3933 &  5707 & 0.6194740 & 1107 & 1787 & -0.06967969 & 0.013017222\\\\\n",
       "\t West End                  & 0.7351588 &  6712 &  9130 & 0.6331310 & 1460 & 2306 & -0.10202785 & 0.011047724\\\\\n",
       "\t Central Business District & 0.7533982 & 24997 & 33179 & 0.6046934 & 4664 & 7713 & -0.14870486 & 0.006049078\\\\\n",
       "\t Hastings-Sunrise          & 0.6451613 &  2500 &  3875 & 0.5693642 &  591 & 1038 & -0.07579713 & 0.017184027\\\\\n",
       "\t Strathcona                & 0.5577118 &  3305 &  5926 & 0.4385246 &  749 & 1708 & -0.11918719 & 0.013630198\\\\\n",
       "\t Grandview-Woodland        & 0.6237392 &  3463 &  5552 & 0.5506849 &  804 & 1460 & -0.07305426 & 0.014551437\\\\\n",
       "\\end{tabular}\n"
      ],
      "text/markdown": [
       "\n",
       "A tibble: 6 × 9\n",
       "\n",
       "| neighbourhood &lt;fct&gt; | prop_p &lt;dbl&gt; | count_p &lt;int&gt; | n_past &lt;int&gt; | prop_20 &lt;dbl&gt; | count_20 &lt;int&gt; | n_20 &lt;int&gt; | prop_diff &lt;dbl&gt; | prop_sd &lt;dbl&gt; |\n",
       "|---|---|---|---|---|---|---|---|---|\n",
       "| Fairview                  | 0.6891537 |  3933 |  5707 | 0.6194740 | 1107 | 1787 | -0.06967969 | 0.013017222 |\n",
       "| West End                  | 0.7351588 |  6712 |  9130 | 0.6331310 | 1460 | 2306 | -0.10202785 | 0.011047724 |\n",
       "| Central Business District | 0.7533982 | 24997 | 33179 | 0.6046934 | 4664 | 7713 | -0.14870486 | 0.006049078 |\n",
       "| Hastings-Sunrise          | 0.6451613 |  2500 |  3875 | 0.5693642 |  591 | 1038 | -0.07579713 | 0.017184027 |\n",
       "| Strathcona                | 0.5577118 |  3305 |  5926 | 0.4385246 |  749 | 1708 | -0.11918719 | 0.013630198 |\n",
       "| Grandview-Woodland        | 0.6237392 |  3463 |  5552 | 0.5506849 |  804 | 1460 | -0.07305426 | 0.014551437 |\n",
       "\n"
      ],
      "text/plain": [
       "  neighbourhood             prop_p    count_p n_past prop_20   count_20 n_20\n",
       "1 Fairview                  0.6891537  3933    5707  0.6194740 1107     1787\n",
       "2 West End                  0.7351588  6712    9130  0.6331310 1460     2306\n",
       "3 Central Business District 0.7533982 24997   33179  0.6046934 4664     7713\n",
       "4 Hastings-Sunrise          0.6451613  2500    3875  0.5693642  591     1038\n",
       "5 Strathcona                0.5577118  3305    5926  0.4385246  749     1708\n",
       "6 Grandview-Woodland        0.6237392  3463    5552  0.5506849  804     1460\n",
       "  prop_diff   prop_sd    \n",
       "1 -0.06967969 0.013017222\n",
       "2 -0.10202785 0.011047724\n",
       "3 -0.14870486 0.006049078\n",
       "4 -0.07579713 0.017184027\n",
       "5 -0.11918719 0.013630198\n",
       "6 -0.07305426 0.014551437"
      ]
     },
     "metadata": {},
     "output_type": "display_data"
    }
   ],
   "source": [
    "merge_past_2020 <- merge_past_2020 %>%\n",
    "    mutate(prop_sd = sqrt(prop_p*(1-prop_p)/n_past + \n",
    "                prop_20*(1-prop_20)/n_20))\n",
    "\n",
    "head(merge_past_2020)"
   ]
  },
  {
   "cell_type": "code",
   "execution_count": 58,
   "metadata": {},
   "outputs": [
    {
     "data": {
      "text/html": [
       "<table>\n",
       "<caption>A tibble: 6 × 3</caption>\n",
       "<thead>\n",
       "\t<tr><th scope=col>neighbourhood</th><th scope=col>lower_ci</th><th scope=col>upper_ci</th></tr>\n",
       "\t<tr><th scope=col>&lt;fct&gt;</th><th scope=col>&lt;dbl&gt;</th><th scope=col>&lt;dbl&gt;</th></tr>\n",
       "</thead>\n",
       "<tbody>\n",
       "\t<tr><td>Fairview                 </td><td>-0.09519298</td><td>-0.04416640</td></tr>\n",
       "\t<tr><td>West End                 </td><td>-0.12368100</td><td>-0.08037471</td></tr>\n",
       "\t<tr><td>Central Business District</td><td>-0.16056083</td><td>-0.13684888</td></tr>\n",
       "\t<tr><td>Hastings-Sunrise         </td><td>-0.10947720</td><td>-0.04211705</td></tr>\n",
       "\t<tr><td>Strathcona               </td><td>-0.14590189</td><td>-0.09247249</td></tr>\n",
       "\t<tr><td>Grandview-Woodland       </td><td>-0.10157455</td><td>-0.04453397</td></tr>\n",
       "</tbody>\n",
       "</table>\n"
      ],
      "text/latex": [
       "A tibble: 6 × 3\n",
       "\\begin{tabular}{lll}\n",
       " neighbourhood & lower\\_ci & upper\\_ci\\\\\n",
       " <fct> & <dbl> & <dbl>\\\\\n",
       "\\hline\n",
       "\t Fairview                  & -0.09519298 & -0.04416640\\\\\n",
       "\t West End                  & -0.12368100 & -0.08037471\\\\\n",
       "\t Central Business District & -0.16056083 & -0.13684888\\\\\n",
       "\t Hastings-Sunrise          & -0.10947720 & -0.04211705\\\\\n",
       "\t Strathcona                & -0.14590189 & -0.09247249\\\\\n",
       "\t Grandview-Woodland        & -0.10157455 & -0.04453397\\\\\n",
       "\\end{tabular}\n"
      ],
      "text/markdown": [
       "\n",
       "A tibble: 6 × 3\n",
       "\n",
       "| neighbourhood &lt;fct&gt; | lower_ci &lt;dbl&gt; | upper_ci &lt;dbl&gt; |\n",
       "|---|---|---|\n",
       "| Fairview                  | -0.09519298 | -0.04416640 |\n",
       "| West End                  | -0.12368100 | -0.08037471 |\n",
       "| Central Business District | -0.16056083 | -0.13684888 |\n",
       "| Hastings-Sunrise          | -0.10947720 | -0.04211705 |\n",
       "| Strathcona                | -0.14590189 | -0.09247249 |\n",
       "| Grandview-Woodland        | -0.10157455 | -0.04453397 |\n",
       "\n"
      ],
      "text/plain": [
       "  neighbourhood             lower_ci    upper_ci   \n",
       "1 Fairview                  -0.09519298 -0.04416640\n",
       "2 West End                  -0.12368100 -0.08037471\n",
       "3 Central Business District -0.16056083 -0.13684888\n",
       "4 Hastings-Sunrise          -0.10947720 -0.04211705\n",
       "5 Strathcona                -0.14590189 -0.09247249\n",
       "6 Grandview-Woodland        -0.10157455 -0.04453397"
      ]
     },
     "metadata": {},
     "output_type": "display_data"
    }
   ],
   "source": [
    "# Based on 90% confidence interval\n",
    "theft_crime_prop_diff_ci_90 <- merge_past_2020 %>%\n",
    "    mutate(\n",
    "        lower_ci = merge_past_2020$prop_diff - qnorm(0.95) *\n",
    "        merge_past_2020$prop_sd,\n",
    "        upper_ci = merge_past_2020$prop_diff + qnorm(0.95) *\n",
    "        merge_past_2020$prop_sd) %>%\n",
    "    select(neighbourhood, lower_ci, upper_ci)\n",
    "\n",
    "head(theft_crime_prop_diff_ci)"
   ]
  },
  {
   "cell_type": "code",
   "execution_count": 59,
   "metadata": {
    "scrolled": true
   },
   "outputs": [
    {
     "data": {
      "text/html": [
       "<table>\n",
       "<caption>A tibble: 6 × 3</caption>\n",
       "<thead>\n",
       "\t<tr><th scope=col>neighbourhood</th><th scope=col>lower_ci</th><th scope=col>upper_ci</th></tr>\n",
       "\t<tr><th scope=col>&lt;fct&gt;</th><th scope=col>&lt;dbl&gt;</th><th scope=col>&lt;dbl&gt;</th></tr>\n",
       "</thead>\n",
       "<tbody>\n",
       "\t<tr><td>Fairview                 </td><td>-0.09519298</td><td>-0.04416640</td></tr>\n",
       "\t<tr><td>West End                 </td><td>-0.12368100</td><td>-0.08037471</td></tr>\n",
       "\t<tr><td>Central Business District</td><td>-0.16056083</td><td>-0.13684888</td></tr>\n",
       "\t<tr><td>Hastings-Sunrise         </td><td>-0.10947720</td><td>-0.04211705</td></tr>\n",
       "\t<tr><td>Strathcona               </td><td>-0.14590189</td><td>-0.09247249</td></tr>\n",
       "\t<tr><td>Grandview-Woodland       </td><td>-0.10157455</td><td>-0.04453397</td></tr>\n",
       "</tbody>\n",
       "</table>\n"
      ],
      "text/latex": [
       "A tibble: 6 × 3\n",
       "\\begin{tabular}{lll}\n",
       " neighbourhood & lower\\_ci & upper\\_ci\\\\\n",
       " <fct> & <dbl> & <dbl>\\\\\n",
       "\\hline\n",
       "\t Fairview                  & -0.09519298 & -0.04416640\\\\\n",
       "\t West End                  & -0.12368100 & -0.08037471\\\\\n",
       "\t Central Business District & -0.16056083 & -0.13684888\\\\\n",
       "\t Hastings-Sunrise          & -0.10947720 & -0.04211705\\\\\n",
       "\t Strathcona                & -0.14590189 & -0.09247249\\\\\n",
       "\t Grandview-Woodland        & -0.10157455 & -0.04453397\\\\\n",
       "\\end{tabular}\n"
      ],
      "text/markdown": [
       "\n",
       "A tibble: 6 × 3\n",
       "\n",
       "| neighbourhood &lt;fct&gt; | lower_ci &lt;dbl&gt; | upper_ci &lt;dbl&gt; |\n",
       "|---|---|---|\n",
       "| Fairview                  | -0.09519298 | -0.04416640 |\n",
       "| West End                  | -0.12368100 | -0.08037471 |\n",
       "| Central Business District | -0.16056083 | -0.13684888 |\n",
       "| Hastings-Sunrise          | -0.10947720 | -0.04211705 |\n",
       "| Strathcona                | -0.14590189 | -0.09247249 |\n",
       "| Grandview-Woodland        | -0.10157455 | -0.04453397 |\n",
       "\n"
      ],
      "text/plain": [
       "  neighbourhood             lower_ci    upper_ci   \n",
       "1 Fairview                  -0.09519298 -0.04416640\n",
       "2 West End                  -0.12368100 -0.08037471\n",
       "3 Central Business District -0.16056083 -0.13684888\n",
       "4 Hastings-Sunrise          -0.10947720 -0.04211705\n",
       "5 Strathcona                -0.14590189 -0.09247249\n",
       "6 Grandview-Woodland        -0.10157455 -0.04453397"
      ]
     },
     "metadata": {},
     "output_type": "display_data"
    }
   ],
   "source": [
    "# Based on 95% confidence interval\n",
    "theft_crime_prop_diff_ci_95 <- merge_past_2020 %>%\n",
    "    mutate(\n",
    "        lower_ci = merge_past_2020$prop_diff - qnorm(0.975) *\n",
    "        merge_past_2020$prop_sd,\n",
    "        upper_ci = merge_past_2020$prop_diff + qnorm(0.975) *\n",
    "        merge_past_2020$prop_sd) %>%\n",
    "    select(neighbourhood, lower_ci, upper_ci)\n",
    "\n",
    "head(theft_crime_prop_diff_ci)"
   ]
  },
  {
   "cell_type": "code",
   "execution_count": 61,
   "metadata": {},
   "outputs": [],
   "source": [
    "#check if the intervals capture 0 based on 90% confidence interval\n",
    "intervals_captured_90 <- theft_crime_prop_diff_ci_90 %>% \n",
    "    mutate(captured = (lower_ci <= 0 & 0 <= upper_ci))"
   ]
  },
  {
   "cell_type": "code",
   "execution_count": 67,
   "metadata": {},
   "outputs": [
    {
     "data": {
      "image/png": "[encoded data removed]",
      "text/plain": [
       "plot without title"
      ]
     },
     "metadata": {
      "image/png": {
       "height": 360,
       "width": 300
      }
     },
     "output_type": "display_data"
    }
   ],
   "source": [
    "#Draw CI plot\n",
    "options(repr.plot.width = 5, repr.plot.height = 6)\n",
    "\n",
    "\n",
    "many_ci_plot_90 <- intervals_captured_90 %>%\n",
    "    ggplot() +\n",
    "    scale_colour_manual(breaks = c(\"TRUE\", \"FALSE\"), # Change colour scale for better visibility.\n",
    "                        values = c(\"grey\", \"black\")) +\n",
    "    geom_segment(aes(x = lower_ci,\n",
    "                     xend = upper_ci,\n",
    "                     y = neighbourhood,\n",
    "                     yend = neighbourhood,\n",
    "                     colour = captured)) +\n",
    "    geom_vline(xintercept = 0, colour = \"red\", size = 1) +\n",
    "    labs(title = \"90% Confidence Intervals\",\n",
    "         y = \"Neighbourhood\",\n",
    "         colour = \"Captured?\") +\n",
    "    theme_bw() \n",
    "many_ci_plot_90"
   ]
  },
  {
   "cell_type": "code",
   "execution_count": 63,
   "metadata": {},
   "outputs": [],
   "source": [
    "intervals_captured_95 <- theft_crime_prop_diff_ci_95 %>% \n",
    "    mutate(captured = (lower_ci <= 0 & 0 <= upper_ci))"
   ]
  },
  {
   "cell_type": "code",
   "execution_count": 68,
   "metadata": {},
   "outputs": [
    {
     "data": {
      "image/png": "[encoded data removed]",
      "text/plain": [
       "plot without title"
      ]
     },
     "metadata": {
      "image/png": {
       "height": 360,
       "width": 300
      }
     },
     "output_type": "display_data"
    }
   ],
   "source": [
    "options(repr.plot.width = 5, repr.plot.height = 6)\n",
    "\n",
    "\n",
    "many_ci_plot_95 <- intervals_captured_95 %>%\n",
    "    ggplot() +\n",
    "    scale_colour_manual(breaks = c(\"TRUE\", \"FALSE\"), # Change colour scale for better visibility.\n",
    "                        values = c(\"grey\", \"black\")) +\n",
    "    geom_segment(aes(x = lower_ci,\n",
    "                     xend = upper_ci,\n",
    "                     y = neighbourhood,\n",
    "                     yend = neighbourhood,\n",
    "                     colour = captured)) +\n",
    "    geom_vline(xintercept = 0, colour = \"red\", size = 1) +\n",
    "    labs(title = \"95% Confidence Intervals\",\n",
    "         y = \"Neighbourhood\",\n",
    "         colour = \"Captured?\") +\n",
    "    theme_bw() \n",
    "many_ci_plot_95"
   ]
  },
  {
   "cell_type": "markdown",
   "metadata": {},
   "source": [
    "Based on ci plot, if the confidence interval captures 0, it means there's no significant difference between crime rates of 2020 and before 2020. If the confidence interval doesn't capture 0, it means there's significant difference between crime rates of 2020 and before 2020. We can find that out of 24 neighbourhoods, there are 12 neighbourhoods captures 0, it means the crime rates of majority of the neighbourhoods have no significant changes."
   ]
  },
  {
   "cell_type": "code",
   "execution_count": null,
   "metadata": {},
   "outputs": [],
   "source": []
  }
 ],
 "metadata": {
  "kernelspec": {
   "display_name": "R",
   "language": "R",
   "name": "ir"
  }
 },
 "nbformat": 4,
 "nbformat_minor": 4
}
