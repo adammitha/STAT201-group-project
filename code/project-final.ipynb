{
 "cells": [
  {
   "cell_type": "code",
   "execution_count": 1,
   "metadata": {
    "scrolled": true
   },
   "outputs": [],
   "source": [
    "# # Install required packages (NB: they may already be installed on your machine)\n",
    "# install.packages(\"tidyverse\")\n",
    "# install.packages(\"infer\")\n",
    "# install.packages(\"janitor\")\n",
    "# install.packages(\"repr\")\n",
    "# install.packages(\"stringr\")\n",
    "# install.packages(\"waffle\", repos = \"https://cinc.rud.is\")\n",
    "# install.packages(\"plyr\")\n",
    "# install.packages(\"ggthemes\")\n",
    "\n",
    "# # Waffle is sometimes finicky, so you might also need this to run this notebook locally\n",
    "# remotes::install_github(\"hrbrmstr/waffle\")"
   ]
  },
  {
   "cell_type": "code",
   "execution_count": 2,
   "metadata": {},
   "outputs": [
    {
     "name": "stderr",
     "output_type": "stream",
     "text": [
      "-- \u001b[1mAttaching packages\u001b[22m ------------------------------------------------------------------------------------- tidyverse 1.3.0 --\n",
      "\n",
      "\u001b[32mv\u001b[39m \u001b[34mggplot2\u001b[39m 3.3.3     \u001b[32mv\u001b[39m \u001b[34mpurrr  \u001b[39m 0.3.4\n",
      "\u001b[32mv\u001b[39m \u001b[34mtibble \u001b[39m 3.1.0     \u001b[32mv\u001b[39m \u001b[34mdplyr  \u001b[39m 1.0.4\n",
      "\u001b[32mv\u001b[39m \u001b[34mtidyr  \u001b[39m 1.1.2     \u001b[32mv\u001b[39m \u001b[34mstringr\u001b[39m 1.4.0\n",
      "\u001b[32mv\u001b[39m \u001b[34mreadr  \u001b[39m 1.4.0     \u001b[32mv\u001b[39m \u001b[34mforcats\u001b[39m 0.5.1\n",
      "\n",
      "-- \u001b[1mConflicts\u001b[22m ---------------------------------------------------------------------------------------- tidyverse_conflicts() --\n",
      "\u001b[31mx\u001b[39m \u001b[34mdplyr\u001b[39m::\u001b[32marrange()\u001b[39m   masks \u001b[34mplyr\u001b[39m::arrange()\n",
      "\u001b[31mx\u001b[39m \u001b[34mpurrr\u001b[39m::\u001b[32mcompact()\u001b[39m   masks \u001b[34mplyr\u001b[39m::compact()\n",
      "\u001b[31mx\u001b[39m \u001b[34mdplyr\u001b[39m::\u001b[32mcount()\u001b[39m     masks \u001b[34mplyr\u001b[39m::count()\n",
      "\u001b[31mx\u001b[39m \u001b[34mdplyr\u001b[39m::\u001b[32mfailwith()\u001b[39m  masks \u001b[34mplyr\u001b[39m::failwith()\n",
      "\u001b[31mx\u001b[39m \u001b[34mdplyr\u001b[39m::\u001b[32mfilter()\u001b[39m    masks \u001b[34mstats\u001b[39m::filter()\n",
      "\u001b[31mx\u001b[39m \u001b[34mdplyr\u001b[39m::\u001b[32mid()\u001b[39m        masks \u001b[34mplyr\u001b[39m::id()\n",
      "\u001b[31mx\u001b[39m \u001b[34mdplyr\u001b[39m::\u001b[32mlag()\u001b[39m       masks \u001b[34mstats\u001b[39m::lag()\n",
      "\u001b[31mx\u001b[39m \u001b[34mdplyr\u001b[39m::\u001b[32mmutate()\u001b[39m    masks \u001b[34mplyr\u001b[39m::mutate()\n",
      "\u001b[31mx\u001b[39m \u001b[34mdplyr\u001b[39m::\u001b[32mrename()\u001b[39m    masks \u001b[34mplyr\u001b[39m::rename()\n",
      "\u001b[31mx\u001b[39m \u001b[34mdplyr\u001b[39m::\u001b[32msummarise()\u001b[39m masks \u001b[34mplyr\u001b[39m::summarise()\n",
      "\u001b[31mx\u001b[39m \u001b[34mdplyr\u001b[39m::\u001b[32msummarize()\u001b[39m masks \u001b[34mplyr\u001b[39m::summarize()\n",
      "\n",
      "\n",
      "Attaching package: 'janitor'\n",
      "\n",
      "\n",
      "The following objects are masked from 'package:stats':\n",
      "\n",
      "    chisq.test, fisher.test\n",
      "\n",
      "\n"
     ]
    }
   ],
   "source": [
    "# Load required packages\n",
    "library(plyr)\n",
    "library(tidyverse)\n",
    "library(infer)\n",
    "library(janitor)\n",
    "library(repr)\n",
    "library(stringr)\n",
    "library(waffle)\n",
    "library(ggthemes)"
   ]
  },
  {
   "cell_type": "code",
   "execution_count": 3,
   "metadata": {},
   "outputs": [],
   "source": [
    "# Custom ggplot theme for use throughout the analysis\n",
    "# Idea from [Joey Stanley](https://joeystanley.com/blog/custom-themes-in-ggplot2)\n",
    "theme_stat201 <- function (width = 12, height = 5) { \n",
    "    options(repr.plot.width = width, repr.plot.height = height)\n",
    "    theme_bw(base_size = 14) %+replace% \n",
    "        theme(\n",
    "            plot.title = element_text(hjust = 0.5) \n",
    "        )\n",
    "}"
   ]
  },
  {
   "cell_type": "code",
   "execution_count": 4,
   "metadata": {},
   "outputs": [
    {
     "name": "stdout",
     "output_type": "stream",
     "text": [
      "[1] \"Figure #0: Hello, world!\"\n"
     ]
    }
   ],
   "source": [
    "# A helper function to generate figure numbers\n",
    "# TODO: figure out how to make figure_number increment correctly\n",
    "create_caption <- function (figure_number, title) {\n",
    "    print(paste(sprintf(\"Figure #%d:\", figure_number), title))\n",
    "}\n",
    "create_caption(0, \"Hello, world!\")"
   ]
  },
  {
   "cell_type": "code",
   "execution_count": 5,
   "metadata": {},
   "outputs": [],
   "source": [
    "# The seed used for the entirety of our analysis\n",
    "SEED <- 12345"
   ]
  },
  {
   "cell_type": "markdown",
   "metadata": {},
   "source": [
    "# Examining the Impact of COVID-19 on the Proportion of Theft-Related Crimes in Vancouver\n",
    "\n",
    "**Authors** Group 4, Project Proposal (Acky Xu, Adam Mitha, Icy Xu, Michael DeMarco)\n",
    "\n",
    "**Abstract** This project looks at the impact of the COVID-19 pandemic on theft-related crime in select Vancouver neighborhoods. Inferential techniques are applied to estimate the difference in the proportion of theft crime relative to all crime between 2020 and the mean proportion of the three previous years (2017 to 2019); we test to see if there has been a statistically significant change in the proportion of theft related crime on the whole across Vancouver. Our findings are still to be determined, and will be included in the final report. We anticipated we would find a significant in theft related crime overall due to, presumably, the economic hardship induced by the COVID-19 pandemic in 2020; in the end, we instead found that only roughly half of all examined neighborhoods saw no significant change in theft related crime.\n",
    "\n",
    "<p style=\"display: block; text-align: center;\">\n",
    "    <img style=\"display: block; margin: 0 auto;\" src=\"./vpd.jpg\" alt=\"A VPD car\" width=\"50%\" />\n",
    "</p>\n",
    "\n",
    "<p style=\"text-align: center;\"><i>A Vancouver Police Department (VPD) car.</i></p>"
   ]
  },
  {
   "cell_type": "markdown",
   "metadata": {},
   "source": [
    "## Introduction\n",
    "\n",
    "### Background \n",
    "\n",
    "Since the beginning of the COVID-19 pandemic in March of 2020, many have discussed the issue of alleged increasing crime rates both globally and within Metro Vancouver. Indeed, an unprecedented economic contraction [[Statistics Canada, 1]](https://www150.statcan.gc.ca/n1/pub/11-631-x/2020004/conclusions-eng.htm) coupled with fewer resources, such as shelters or food banks, has driven an increase in many types of crime, including in fraud and counterfeiting crime [[Interpol, 2]](https://www.interpol.int/en/News-and-Events/News/2019/Operation-Pangea-shining-a-light-on-pharmaceutical-crime), hate crimes [[ABC News, 3]](https://abcnews.go.com/US/fbi-warns-potential-surge-hate-crimes-asian-americans/story?id=69831920)—with those of East Asian descent being impacted most significantly—and domestic violence [[UN News, 4]](https://news.un.org/en/story/2020/04/1061052).\n",
    "\n",
    "These spikes have led to tension between municipal governments and police departments with respect to budgeting in the wake of the economic depravity of the COVID-19 era. The City of Vancouver, specifically, enacted a freeze on the police budget in 2021 [[CBC, 5]](https://www.cbc.ca/news/canada/british-columbia/city-of-vancouver-freezes-police-department-funding-as-part-of-2021-budget-1.5833731). However, there is little publicly available Vancouver-focused analysis on theft-related crime specifically, and trends in crime generally, in the years leading up to that decision.\n",
    "\n",
    "Existing literature relating to crime and the COVID-19 pandemic has primarily focused on many types of \"global\" crime (e.g., organized crime, terrorist attacks), and has largely concluded that on the whole, these types of crimes are increasing through the pandemic year; in our analysis, we'll look closely at \"petty\" crimes, specifically theft, and see how, if at all, the rate of theft crime has changed amidst the pandemic. We choose three neighborhoods—Strathcona, Marpole, and Shaughnessy—for our analysis. Per the City of Vancouver's 2016 local area profiles, these are the \"average total incomes among residents\"  in those three neighborhoods [[City of Vancouver, 9]](https://opendata.vancouver.ca/explore/dataset/census-local-area-profiles-2016/information/):\n",
    "\n",
    "- [ ] Fix neighborhoods\n",
    "\n",
    "* Shaughnessy, \\$118,668\n",
    "* Marpole, \\$39,020\n",
    "* Strathcona, \\$31,534\n",
    "\n",
    "(While the VPD has no direct data for neighborhood wealth, we can use the City of Vancouver's local profiles as they match the VPD's neighborhood classifications. Other studies of mean incomes among residents in Vancouver neighborhoods aren't guaranteed to share the same neighborhood boundaries as the City of Vancouver and VPD data sets.) Thus, we have the \"upper class,\" \"middle class,\" and \"lower class\" represented by each neighborhood respectively.\n",
    "\n",
    "### Question\n",
    "\n",
    "We are interested in exploring how much, if at all, the proportion of petty crime rates have changed in Metro Vancouver over the last year. We will compare crime rates from 2017 to 2020 in neighborhoods characteristic of the full economic spectrum. Our analysis is narrowed to focusing on specifically theft, so we can best understand the intertwined relationships between the economic hardships brought forward over this last year, and trends in crime that would seemingly be induced by someone incurring job loss, for example.\n",
    "\n",
    "- [ ] Fix neighborhoods\n",
    "\n",
    "Therefore, our research question is as follows: _\"How has the proportion of theft-related crime changed, if at all, in Vancouver during 2020, the year of the COVID-19 pandemic, when compared to the average of the previous three years (2017 to 2019) across the various strata of Vancouver's economic spectrum, studied via three neighborhoods: Strathcona, Marpole, and Shaughnessy?\"_\n",
    "\n",
    "### Data set\n",
    "\n",
    "We're considering our sample to be what is available in the Vancouver Police Department's database. Within the data set description, the VPD mention \"[t]he information provided [...] does not reflect the total number of calls or complaints made to the VPD\" and \"the crime classification [...] may change at any time based on the dynamic nature of police investigations.\" Additionally, we have to consider that many crimes go unreported for various reasons, such as for a fear of not being believed, insecurity, and a fear of getting into trouble; therefore, we cannot presume it is completely representative of both all crimes and all thefts within Vancouver. There is no specific study for unreported crimes statistics in Vancouver, but Statistic's Canada's \"Police-reported crime statistics in Canada, 2019\" survey indicated that just \"one-third (31\\%) of crimes are reported to police.\" [[link](https://www150.statcan.gc.ca/n1/pub/85-002-x/2020001/article/00010-eng.htm)]\n",
    " \n",
    "Our population is _all_ actual crime that occurred in Vancouver, not just reported crime. Of course it is impossible to know how much crime actually occurred, but through our data set sample we'll be able to produce an estimate. Unfortunately, as we are working with the proportion of theft-related crime to _overall_ crime, attitudes towards policing over time becomes a rather significant confounding variable, as that could dramatically impact an individual's willingness to report a crime. There is significant cause to consider this confounding as well, as 2020 saw both the killing of George Floyd by a Minneapolis police officer and a little action done for the missing and murdered Indigenous women (MMIW) crisis here in Canada; this among other limitations will be discussed further in our analysis section. \n",
    "\n",
    "We will be using the Vancouver Police Department's Open Crime Data [[VPD, 6]](https://geodash.vpd.ca/opendata/) to answer our research question. In particular, we'll need three columns from the data set:\n",
    "\n",
    "| Column | Description | Notes |\n",
    "|-|-|-|\n",
    "| Year | \"A four-digit field that indicates the year when the reported crime activity\" | We'll use data, specifically, from January 1st, 2017 to December 31st, 2020. |\n",
    "| Type | \"The type of crime activities\" | We're considering theft crime to be all crime types with \"theft\" explicitly in the name. |\n",
    "| Neighborhood | \"Neighborhoods within the City of Vancouver are based on the census tract (CT) concept within census metropolitan area (CMA).\" | We'll take three neighborhoods, representing the full economic spectrum. |\n",
    "\n",
    "Our random variable of interest is the difference in the proportion of theft-related crime with respect to all crime between the mean of 2017 to 2019 and 2020 (i.e., before and during the COVID-19 pandemic). Given our population is all Vancouver crime, our parameter of interest is the difference in the proportion of theft related crime from the last three years 2017 to 2019 to 2020.\n",
    "\n",
    "- [ ] Fix neighborhoods \n",
    "\n",
    "We will be estimating trends in all, \"realized\" crime in Vancouver by making estimates with our data set of reported crime across three different Vancouver neighborhoods, each characteristic of a different level of wealth. Thus, our location parameter is a proportion with an error reported by its standard error, which can be computed via bootstrapping, asymptotics, or mathematically, with the formula:\n",
    "\n",
    "$$ {SE}_{\\hat{p}_1 - \\hat{p}_2} = \\sqrt(\\frac{\\hat{p}_1\\hat{q}_1}{n_1} + \\frac{\\hat{p}_2\\hat{q}_2}{n_2}) $$\n",
    "\n",
    "where\n",
    "\n",
    "$$ p_i = 1 - q_i $$\n",
    "\n",
    "- [ ] define variables \n",
    "\n",
    "We will also look at creating a confidence interval for the standard deviation of our proportion estimate as well, but this won't be the focus of our analysis [[Piazza, 7]](https://piazza.com/class/kjqe81ynudx2rm?cid=169). \n",
    "\n",
    "- [ ] todo: get rid of this"
   ]
  },
  {
   "cell_type": "markdown",
   "metadata": {},
   "source": [
    "## Preliminary Results"
   ]
  },
  {
   "cell_type": "markdown",
   "metadata": {},
   "source": [
    "We'll start by importing the dataset from it's original source [[VPD, 6]](https://geodash.vpd.ca/opendata), loading it into a dataframe and inspecting the results."
   ]
  },
  {
   "cell_type": "code",
   "execution_count": 6,
   "metadata": {},
   "outputs": [
    {
     "name": "stderr",
     "output_type": "stream",
     "text": [
      "\n",
      "\u001b[36m--\u001b[39m \u001b[1m\u001b[1mColumn specification\u001b[1m\u001b[22m \u001b[36m------------------------------------------------------------------------------------------------------\u001b[39m\n",
      "cols(\n",
      "  TYPE = \u001b[31mcol_character()\u001b[39m,\n",
      "  YEAR = \u001b[32mcol_double()\u001b[39m,\n",
      "  MONTH = \u001b[32mcol_double()\u001b[39m,\n",
      "  DAY = \u001b[32mcol_double()\u001b[39m,\n",
      "  HOUR = \u001b[32mcol_double()\u001b[39m,\n",
      "  MINUTE = \u001b[32mcol_double()\u001b[39m,\n",
      "  HUNDRED_BLOCK = \u001b[31mcol_character()\u001b[39m,\n",
      "  NEIGHBOURHOOD = \u001b[31mcol_character()\u001b[39m,\n",
      "  X = \u001b[32mcol_double()\u001b[39m,\n",
      "  Y = \u001b[32mcol_double()\u001b[39m\n",
      ")\n",
      "\n",
      "\n"
     ]
    }
   ],
   "source": [
    "# Download the file to wherever your Jupyter notebook is located\n",
    "url <- \"https://geodash.vpd.ca/opendata/crimedata_download/crimedata_csv_all_years.zip\"\n",
    "filename <- \"crime_data.zip\"\n",
    "download.file(url, destfile = filename)\n",
    "\n",
    "# Data comes in as a zip, so we'll need to extract it\n",
    "unzip(\"crime_data.zip\")\n",
    "\n",
    "# Read in the desired file\n",
    "crime_data <- read_csv(\"crimedata_csv_all_years.csv\")"
   ]
  },
  {
   "cell_type": "code",
   "execution_count": 7,
   "metadata": {},
   "outputs": [
    {
     "data": {
      "text/html": [
       "<table class=\"dataframe\">\n",
       "<caption>A tibble: 3 × 10</caption>\n",
       "<thead>\n",
       "\t<tr><th scope=col>TYPE</th><th scope=col>YEAR</th><th scope=col>MONTH</th><th scope=col>DAY</th><th scope=col>HOUR</th><th scope=col>MINUTE</th><th scope=col>HUNDRED_BLOCK</th><th scope=col>NEIGHBOURHOOD</th><th scope=col>X</th><th scope=col>Y</th></tr>\n",
       "\t<tr><th scope=col>&lt;chr&gt;</th><th scope=col>&lt;dbl&gt;</th><th scope=col>&lt;dbl&gt;</th><th scope=col>&lt;dbl&gt;</th><th scope=col>&lt;dbl&gt;</th><th scope=col>&lt;dbl&gt;</th><th scope=col>&lt;chr&gt;</th><th scope=col>&lt;chr&gt;</th><th scope=col>&lt;dbl&gt;</th><th scope=col>&lt;dbl&gt;</th></tr>\n",
       "</thead>\n",
       "<tbody>\n",
       "\t<tr><td>Break and Enter Commercial</td><td>2012</td><td>12</td><td>14</td><td>8</td><td>52</td><td>NA             </td><td>Oakridge</td><td>491285.0</td><td>5453433</td></tr>\n",
       "\t<tr><td>Break and Enter Commercial</td><td>2019</td><td> 3</td><td> 7</td><td>2</td><td> 6</td><td>10XX SITKA SQ  </td><td>Fairview</td><td>490613.0</td><td>5457110</td></tr>\n",
       "\t<tr><td>Break and Enter Commercial</td><td>2019</td><td> 8</td><td>27</td><td>4</td><td>12</td><td>10XX ALBERNI ST</td><td>West End</td><td>491007.8</td><td>5459174</td></tr>\n",
       "</tbody>\n",
       "</table>\n"
      ],
      "text/latex": [
       "A tibble: 3 × 10\n",
       "\\begin{tabular}{llllllllll}\n",
       " TYPE & YEAR & MONTH & DAY & HOUR & MINUTE & HUNDRED\\_BLOCK & NEIGHBOURHOOD & X & Y\\\\\n",
       " <chr> & <dbl> & <dbl> & <dbl> & <dbl> & <dbl> & <chr> & <chr> & <dbl> & <dbl>\\\\\n",
       "\\hline\n",
       "\t Break and Enter Commercial & 2012 & 12 & 14 & 8 & 52 & NA              & Oakridge & 491285.0 & 5453433\\\\\n",
       "\t Break and Enter Commercial & 2019 &  3 &  7 & 2 &  6 & 10XX SITKA SQ   & Fairview & 490613.0 & 5457110\\\\\n",
       "\t Break and Enter Commercial & 2019 &  8 & 27 & 4 & 12 & 10XX ALBERNI ST & West End & 491007.8 & 5459174\\\\\n",
       "\\end{tabular}\n"
      ],
      "text/markdown": [
       "\n",
       "A tibble: 3 × 10\n",
       "\n",
       "| TYPE &lt;chr&gt; | YEAR &lt;dbl&gt; | MONTH &lt;dbl&gt; | DAY &lt;dbl&gt; | HOUR &lt;dbl&gt; | MINUTE &lt;dbl&gt; | HUNDRED_BLOCK &lt;chr&gt; | NEIGHBOURHOOD &lt;chr&gt; | X &lt;dbl&gt; | Y &lt;dbl&gt; |\n",
       "|---|---|---|---|---|---|---|---|---|---|\n",
       "| Break and Enter Commercial | 2012 | 12 | 14 | 8 | 52 | NA              | Oakridge | 491285.0 | 5453433 |\n",
       "| Break and Enter Commercial | 2019 |  3 |  7 | 2 |  6 | 10XX SITKA SQ   | Fairview | 490613.0 | 5457110 |\n",
       "| Break and Enter Commercial | 2019 |  8 | 27 | 4 | 12 | 10XX ALBERNI ST | West End | 491007.8 | 5459174 |\n",
       "\n"
      ],
      "text/plain": [
       "  TYPE                       YEAR MONTH DAY HOUR MINUTE HUNDRED_BLOCK  \n",
       "1 Break and Enter Commercial 2012 12    14  8    52     NA             \n",
       "2 Break and Enter Commercial 2019  3     7  2     6     10XX SITKA SQ  \n",
       "3 Break and Enter Commercial 2019  8    27  4    12     10XX ALBERNI ST\n",
       "  NEIGHBOURHOOD X        Y      \n",
       "1 Oakridge      491285.0 5453433\n",
       "2 Fairview      490613.0 5457110\n",
       "3 West End      491007.8 5459174"
      ]
     },
     "metadata": {},
     "output_type": "display_data"
    },
    {
     "data": {
      "text/html": [
       "<table class=\"dataframe\">\n",
       "<caption>A tibble: 3 × 10</caption>\n",
       "<thead>\n",
       "\t<tr><th scope=col>TYPE</th><th scope=col>YEAR</th><th scope=col>MONTH</th><th scope=col>DAY</th><th scope=col>HOUR</th><th scope=col>MINUTE</th><th scope=col>HUNDRED_BLOCK</th><th scope=col>NEIGHBOURHOOD</th><th scope=col>X</th><th scope=col>Y</th></tr>\n",
       "\t<tr><th scope=col>&lt;chr&gt;</th><th scope=col>&lt;dbl&gt;</th><th scope=col>&lt;dbl&gt;</th><th scope=col>&lt;dbl&gt;</th><th scope=col>&lt;dbl&gt;</th><th scope=col>&lt;dbl&gt;</th><th scope=col>&lt;chr&gt;</th><th scope=col>&lt;chr&gt;</th><th scope=col>&lt;dbl&gt;</th><th scope=col>&lt;dbl&gt;</th></tr>\n",
       "</thead>\n",
       "<tbody>\n",
       "\t<tr><td>Vehicle Collision or Pedestrian Struck (with Injury)</td><td>2016</td><td> 6</td><td>20</td><td>18</td><td>11</td><td>YUKON ST / W KING EDWARD AVE</td><td>Riley Park</td><td>491786</td><td>5455143</td></tr>\n",
       "\t<tr><td>Vehicle Collision or Pedestrian Struck (with Injury)</td><td>2013</td><td>12</td><td> 3</td><td> 9</td><td>49</td><td>YUKON ST / W KING EDWARD AVE</td><td>Riley Park</td><td>491835</td><td>5455126</td></tr>\n",
       "\t<tr><td>Vehicle Collision or Pedestrian Struck (with Injury)</td><td>2013</td><td>12</td><td>27</td><td>14</td><td>40</td><td>YUKON ST / W KING EDWARD AVE</td><td>Riley Park</td><td>491835</td><td>5455126</td></tr>\n",
       "</tbody>\n",
       "</table>\n"
      ],
      "text/latex": [
       "A tibble: 3 × 10\n",
       "\\begin{tabular}{llllllllll}\n",
       " TYPE & YEAR & MONTH & DAY & HOUR & MINUTE & HUNDRED\\_BLOCK & NEIGHBOURHOOD & X & Y\\\\\n",
       " <chr> & <dbl> & <dbl> & <dbl> & <dbl> & <dbl> & <chr> & <chr> & <dbl> & <dbl>\\\\\n",
       "\\hline\n",
       "\t Vehicle Collision or Pedestrian Struck (with Injury) & 2016 &  6 & 20 & 18 & 11 & YUKON ST / W KING EDWARD AVE & Riley Park & 491786 & 5455143\\\\\n",
       "\t Vehicle Collision or Pedestrian Struck (with Injury) & 2013 & 12 &  3 &  9 & 49 & YUKON ST / W KING EDWARD AVE & Riley Park & 491835 & 5455126\\\\\n",
       "\t Vehicle Collision or Pedestrian Struck (with Injury) & 2013 & 12 & 27 & 14 & 40 & YUKON ST / W KING EDWARD AVE & Riley Park & 491835 & 5455126\\\\\n",
       "\\end{tabular}\n"
      ],
      "text/markdown": [
       "\n",
       "A tibble: 3 × 10\n",
       "\n",
       "| TYPE &lt;chr&gt; | YEAR &lt;dbl&gt; | MONTH &lt;dbl&gt; | DAY &lt;dbl&gt; | HOUR &lt;dbl&gt; | MINUTE &lt;dbl&gt; | HUNDRED_BLOCK &lt;chr&gt; | NEIGHBOURHOOD &lt;chr&gt; | X &lt;dbl&gt; | Y &lt;dbl&gt; |\n",
       "|---|---|---|---|---|---|---|---|---|---|\n",
       "| Vehicle Collision or Pedestrian Struck (with Injury) | 2016 |  6 | 20 | 18 | 11 | YUKON ST / W KING EDWARD AVE | Riley Park | 491786 | 5455143 |\n",
       "| Vehicle Collision or Pedestrian Struck (with Injury) | 2013 | 12 |  3 |  9 | 49 | YUKON ST / W KING EDWARD AVE | Riley Park | 491835 | 5455126 |\n",
       "| Vehicle Collision or Pedestrian Struck (with Injury) | 2013 | 12 | 27 | 14 | 40 | YUKON ST / W KING EDWARD AVE | Riley Park | 491835 | 5455126 |\n",
       "\n"
      ],
      "text/plain": [
       "  TYPE                                                 YEAR MONTH DAY HOUR\n",
       "1 Vehicle Collision or Pedestrian Struck (with Injury) 2016  6    20  18  \n",
       "2 Vehicle Collision or Pedestrian Struck (with Injury) 2013 12     3   9  \n",
       "3 Vehicle Collision or Pedestrian Struck (with Injury) 2013 12    27  14  \n",
       "  MINUTE HUNDRED_BLOCK                NEIGHBOURHOOD X      Y      \n",
       "1 11     YUKON ST / W KING EDWARD AVE Riley Park    491786 5455143\n",
       "2 49     YUKON ST / W KING EDWARD AVE Riley Park    491835 5455126\n",
       "3 40     YUKON ST / W KING EDWARD AVE Riley Park    491835 5455126"
      ]
     },
     "metadata": {},
     "output_type": "display_data"
    }
   ],
   "source": [
    "# Inspect the first and last three rows of the data frame\n",
    "head(crime_data, n = 3)\n",
    "tail(crime_data, n = 3)"
   ]
  },
  {
   "cell_type": "markdown",
   "metadata": {},
   "source": [
    "Our data largely comes in a \"tidy\" format already. By tidy, we're verifying (from the DSCI 100 course textbook [[Data Science: A First Introduction, 12]](https://ubc-dsci.github.io/introduction-to-datascience/), verbatim, which in turn is from Wickham and others [[R for Data Science, 11]](https://r4ds.had.co.nz/)): \n",
    "> * each row is a single observation,\n",
    "> * each column is a single variable, and\n",
    "> * each value is a single cell\n",
    "\n",
    "However, there are four steps we could take to improve the data set for our use: \n",
    "1. clean up the column names,\n",
    "2. remove N/As,\n",
    "3. select only data relevant to our analysis, and\n",
    "4. convert crime types and neighborhoods to a factor, since we're working with proportions (i.e., categorical data).\n",
    "\n",
    "We're primarily interested in the year, type and neighborhood of crimes, so we'll extract those columns and discard the rest. In addition, we would like to focus on the years 2017 to 2020."
   ]
  },
  {
   "cell_type": "code",
   "execution_count": 8,
   "metadata": {},
   "outputs": [
    {
     "name": "stderr",
     "output_type": "stream",
     "text": [
      "Warning message in FUN(X[[i]], ...):\n",
      "\"unable to translate '<U+00C4>' to native encoding\"\n",
      "Warning message in FUN(X[[i]], ...):\n",
      "\"unable to translate '<U+00D6>' to native encoding\"\n",
      "Warning message in FUN(X[[i]], ...):\n",
      "\"unable to translate '<U+00DC>' to native encoding\"\n",
      "Warning message in FUN(X[[i]], ...):\n",
      "\"unable to translate '<U+00E4>' to native encoding\"\n",
      "Warning message in FUN(X[[i]], ...):\n",
      "\"unable to translate '<U+00F6>' to native encoding\"\n",
      "Warning message in FUN(X[[i]], ...):\n",
      "\"unable to translate '<U+00FC>' to native encoding\"\n",
      "Warning message in FUN(X[[i]], ...):\n",
      "\"unable to translate '<U+00DF>' to native encoding\"\n",
      "Warning message in FUN(X[[i]], ...):\n",
      "\"unable to translate '<U+00C6>' to native encoding\"\n",
      "Warning message in FUN(X[[i]], ...):\n",
      "\"unable to translate '<U+00E6>' to native encoding\"\n",
      "Warning message in FUN(X[[i]], ...):\n",
      "\"unable to translate '<U+00D8>' to native encoding\"\n",
      "Warning message in FUN(X[[i]], ...):\n",
      "\"unable to translate '<U+00F8>' to native encoding\"\n",
      "Warning message in FUN(X[[i]], ...):\n",
      "\"unable to translate '<U+00C5>' to native encoding\"\n",
      "Warning message in FUN(X[[i]], ...):\n",
      "\"unable to translate '<U+00E5>' to native encoding\"\n"
     ]
    },
    {
     "data": {
      "text/html": [
       "<table class=\"dataframe\">\n",
       "<caption>A tibble: 6 × 10</caption>\n",
       "<thead>\n",
       "\t<tr><th scope=col>type</th><th scope=col>year</th><th scope=col>month</th><th scope=col>day</th><th scope=col>hour</th><th scope=col>minute</th><th scope=col>hundred_block</th><th scope=col>neighbourhood</th><th scope=col>x</th><th scope=col>y</th></tr>\n",
       "\t<tr><th scope=col>&lt;chr&gt;</th><th scope=col>&lt;dbl&gt;</th><th scope=col>&lt;dbl&gt;</th><th scope=col>&lt;dbl&gt;</th><th scope=col>&lt;dbl&gt;</th><th scope=col>&lt;dbl&gt;</th><th scope=col>&lt;chr&gt;</th><th scope=col>&lt;chr&gt;</th><th scope=col>&lt;dbl&gt;</th><th scope=col>&lt;dbl&gt;</th></tr>\n",
       "</thead>\n",
       "<tbody>\n",
       "\t<tr><td>Break and Enter Commercial</td><td>2012</td><td>12</td><td>14</td><td> 8</td><td>52</td><td>NA             </td><td>Oakridge</td><td>491285.0</td><td>5453433</td></tr>\n",
       "\t<tr><td>Break and Enter Commercial</td><td>2019</td><td> 3</td><td> 7</td><td> 2</td><td> 6</td><td>10XX SITKA SQ  </td><td>Fairview</td><td>490613.0</td><td>5457110</td></tr>\n",
       "\t<tr><td>Break and Enter Commercial</td><td>2019</td><td> 8</td><td>27</td><td> 4</td><td>12</td><td>10XX ALBERNI ST</td><td>West End</td><td>491007.8</td><td>5459174</td></tr>\n",
       "\t<tr><td>Break and Enter Commercial</td><td>2014</td><td> 8</td><td> 8</td><td> 5</td><td>13</td><td>10XX ALBERNI ST</td><td>West End</td><td>491015.9</td><td>5459166</td></tr>\n",
       "\t<tr><td>Break and Enter Commercial</td><td>2020</td><td> 7</td><td>28</td><td>19</td><td>12</td><td>10XX ALBERNI ST</td><td>West End</td><td>491015.9</td><td>5459166</td></tr>\n",
       "\t<tr><td>Break and Enter Commercial</td><td>2005</td><td>11</td><td>14</td><td> 3</td><td> 9</td><td>10XX ALBERNI ST</td><td>West End</td><td>491021.4</td><td>5459161</td></tr>\n",
       "</tbody>\n",
       "</table>\n"
      ],
      "text/latex": [
       "A tibble: 6 × 10\n",
       "\\begin{tabular}{llllllllll}\n",
       " type & year & month & day & hour & minute & hundred\\_block & neighbourhood & x & y\\\\\n",
       " <chr> & <dbl> & <dbl> & <dbl> & <dbl> & <dbl> & <chr> & <chr> & <dbl> & <dbl>\\\\\n",
       "\\hline\n",
       "\t Break and Enter Commercial & 2012 & 12 & 14 &  8 & 52 & NA              & Oakridge & 491285.0 & 5453433\\\\\n",
       "\t Break and Enter Commercial & 2019 &  3 &  7 &  2 &  6 & 10XX SITKA SQ   & Fairview & 490613.0 & 5457110\\\\\n",
       "\t Break and Enter Commercial & 2019 &  8 & 27 &  4 & 12 & 10XX ALBERNI ST & West End & 491007.8 & 5459174\\\\\n",
       "\t Break and Enter Commercial & 2014 &  8 &  8 &  5 & 13 & 10XX ALBERNI ST & West End & 491015.9 & 5459166\\\\\n",
       "\t Break and Enter Commercial & 2020 &  7 & 28 & 19 & 12 & 10XX ALBERNI ST & West End & 491015.9 & 5459166\\\\\n",
       "\t Break and Enter Commercial & 2005 & 11 & 14 &  3 &  9 & 10XX ALBERNI ST & West End & 491021.4 & 5459161\\\\\n",
       "\\end{tabular}\n"
      ],
      "text/markdown": [
       "\n",
       "A tibble: 6 × 10\n",
       "\n",
       "| type &lt;chr&gt; | year &lt;dbl&gt; | month &lt;dbl&gt; | day &lt;dbl&gt; | hour &lt;dbl&gt; | minute &lt;dbl&gt; | hundred_block &lt;chr&gt; | neighbourhood &lt;chr&gt; | x &lt;dbl&gt; | y &lt;dbl&gt; |\n",
       "|---|---|---|---|---|---|---|---|---|---|\n",
       "| Break and Enter Commercial | 2012 | 12 | 14 |  8 | 52 | NA              | Oakridge | 491285.0 | 5453433 |\n",
       "| Break and Enter Commercial | 2019 |  3 |  7 |  2 |  6 | 10XX SITKA SQ   | Fairview | 490613.0 | 5457110 |\n",
       "| Break and Enter Commercial | 2019 |  8 | 27 |  4 | 12 | 10XX ALBERNI ST | West End | 491007.8 | 5459174 |\n",
       "| Break and Enter Commercial | 2014 |  8 |  8 |  5 | 13 | 10XX ALBERNI ST | West End | 491015.9 | 5459166 |\n",
       "| Break and Enter Commercial | 2020 |  7 | 28 | 19 | 12 | 10XX ALBERNI ST | West End | 491015.9 | 5459166 |\n",
       "| Break and Enter Commercial | 2005 | 11 | 14 |  3 |  9 | 10XX ALBERNI ST | West End | 491021.4 | 5459161 |\n",
       "\n"
      ],
      "text/plain": [
       "  type                       year month day hour minute hundred_block  \n",
       "1 Break and Enter Commercial 2012 12    14   8   52     NA             \n",
       "2 Break and Enter Commercial 2019  3     7   2    6     10XX SITKA SQ  \n",
       "3 Break and Enter Commercial 2019  8    27   4   12     10XX ALBERNI ST\n",
       "4 Break and Enter Commercial 2014  8     8   5   13     10XX ALBERNI ST\n",
       "5 Break and Enter Commercial 2020  7    28  19   12     10XX ALBERNI ST\n",
       "6 Break and Enter Commercial 2005 11    14   3    9     10XX ALBERNI ST\n",
       "  neighbourhood x        y      \n",
       "1 Oakridge      491285.0 5453433\n",
       "2 Fairview      490613.0 5457110\n",
       "3 West End      491007.8 5459174\n",
       "4 West End      491015.9 5459166\n",
       "5 West End      491015.9 5459166\n",
       "6 West End      491021.4 5459161"
      ]
     },
     "metadata": {},
     "output_type": "display_data"
    }
   ],
   "source": [
    "# 1. Generally, in R, you don't see ALL CAPS column names,\n",
    "# so we can modify the column names manually (with the help)\n",
    "# of the janitor library\n",
    "crime_data <- crime_data %>% clean_names()\n",
    "head(crime_data)"
   ]
  },
  {
   "cell_type": "code",
   "execution_count": 9,
   "metadata": {},
   "outputs": [
    {
     "name": "stdout",
     "output_type": "stream",
     "text": [
      "[1] \"There are 668167 rows in the data frame\"\n",
      "[1] \"Originally, there were 70135 NA values in the neighbourhood column\"\n",
      "[1] \"Now, there are 0 NA values in the neighbourhood column\"\n"
     ]
    }
   ],
   "source": [
    "# 2. Remove all NAs (Note: na.omit(...) applies to the entire data frame, \n",
    "# but neighbourhood is used as an example)\n",
    "\n",
    "total_rows <- crime_data %>% nrow()\n",
    "print(sprintf(\"There are %d rows in the data frame\", total_rows))\n",
    "\n",
    "na_neighbourhoods <- sum(is.na(crime_data$neighbourhood))\n",
    "print(sprintf(\"Originally, there were %d NA values in the neighbourhood column\", na_neighbourhoods))\n",
    "\n",
    "crime_data <- na.omit(crime_data)\n",
    "\n",
    "na_neighbourhoods <- sum(is.na(crime_data$neighbourhood))\n",
    "print(sprintf(\"Now, there are %d NA values in the neighbourhood column\", na_neighbourhoods))"
   ]
  },
  {
   "cell_type": "code",
   "execution_count": 10,
   "metadata": {},
   "outputs": [
    {
     "data": {
      "text/html": [
       "<table class=\"dataframe\">\n",
       "<caption>A tibble: 6 × 3</caption>\n",
       "<thead>\n",
       "\t<tr><th scope=col>type</th><th scope=col>year</th><th scope=col>neighbourhood</th></tr>\n",
       "\t<tr><th scope=col>&lt;chr&gt;</th><th scope=col>&lt;dbl&gt;</th><th scope=col>&lt;chr&gt;</th></tr>\n",
       "</thead>\n",
       "<tbody>\n",
       "\t<tr><td>Break and Enter Commercial</td><td>2019</td><td>Fairview</td></tr>\n",
       "\t<tr><td>Break and Enter Commercial</td><td>2019</td><td>West End</td></tr>\n",
       "\t<tr><td>Break and Enter Commercial</td><td>2020</td><td>West End</td></tr>\n",
       "\t<tr><td>Break and Enter Commercial</td><td>2017</td><td>West End</td></tr>\n",
       "\t<tr><td>Break and Enter Commercial</td><td>2018</td><td>West End</td></tr>\n",
       "\t<tr><td>Break and Enter Commercial</td><td>2020</td><td>West End</td></tr>\n",
       "</tbody>\n",
       "</table>\n"
      ],
      "text/latex": [
       "A tibble: 6 × 3\n",
       "\\begin{tabular}{lll}\n",
       " type & year & neighbourhood\\\\\n",
       " <chr> & <dbl> & <chr>\\\\\n",
       "\\hline\n",
       "\t Break and Enter Commercial & 2019 & Fairview\\\\\n",
       "\t Break and Enter Commercial & 2019 & West End\\\\\n",
       "\t Break and Enter Commercial & 2020 & West End\\\\\n",
       "\t Break and Enter Commercial & 2017 & West End\\\\\n",
       "\t Break and Enter Commercial & 2018 & West End\\\\\n",
       "\t Break and Enter Commercial & 2020 & West End\\\\\n",
       "\\end{tabular}\n"
      ],
      "text/markdown": [
       "\n",
       "A tibble: 6 × 3\n",
       "\n",
       "| type &lt;chr&gt; | year &lt;dbl&gt; | neighbourhood &lt;chr&gt; |\n",
       "|---|---|---|\n",
       "| Break and Enter Commercial | 2019 | Fairview |\n",
       "| Break and Enter Commercial | 2019 | West End |\n",
       "| Break and Enter Commercial | 2020 | West End |\n",
       "| Break and Enter Commercial | 2017 | West End |\n",
       "| Break and Enter Commercial | 2018 | West End |\n",
       "| Break and Enter Commercial | 2020 | West End |\n",
       "\n"
      ],
      "text/plain": [
       "  type                       year neighbourhood\n",
       "1 Break and Enter Commercial 2019 Fairview     \n",
       "2 Break and Enter Commercial 2019 West End     \n",
       "3 Break and Enter Commercial 2020 West End     \n",
       "4 Break and Enter Commercial 2017 West End     \n",
       "5 Break and Enter Commercial 2018 West End     \n",
       "6 Break and Enter Commercial 2020 West End     "
      ]
     },
     "metadata": {},
     "output_type": "display_data"
    }
   ],
   "source": [
    "# 3. Select only type, year, neighbourhood\n",
    "# Filter to the date range of 2017-2020\n",
    "crime_data <- crime_data %>% \n",
    "    select(type, year, neighbourhood) %>%\n",
    "    filter(2017 <= year & year <= 2020)\n",
    "head(crime_data)"
   ]
  },
  {
   "cell_type": "code",
   "execution_count": 11,
   "metadata": {},
   "outputs": [
    {
     "data": {
      "text/html": [
       "<table class=\"dataframe\">\n",
       "<caption>A tibble: 6 × 3</caption>\n",
       "<thead>\n",
       "\t<tr><th scope=col>type</th><th scope=col>year</th><th scope=col>neighbourhood</th></tr>\n",
       "\t<tr><th scope=col>&lt;fct&gt;</th><th scope=col>&lt;dbl&gt;</th><th scope=col>&lt;fct&gt;</th></tr>\n",
       "</thead>\n",
       "<tbody>\n",
       "\t<tr><td>Break and Enter Commercial</td><td>2019</td><td>Fairview</td></tr>\n",
       "\t<tr><td>Break and Enter Commercial</td><td>2019</td><td>West End</td></tr>\n",
       "\t<tr><td>Break and Enter Commercial</td><td>2020</td><td>West End</td></tr>\n",
       "\t<tr><td>Break and Enter Commercial</td><td>2017</td><td>West End</td></tr>\n",
       "\t<tr><td>Break and Enter Commercial</td><td>2018</td><td>West End</td></tr>\n",
       "\t<tr><td>Break and Enter Commercial</td><td>2020</td><td>West End</td></tr>\n",
       "</tbody>\n",
       "</table>\n"
      ],
      "text/latex": [
       "A tibble: 6 × 3\n",
       "\\begin{tabular}{lll}\n",
       " type & year & neighbourhood\\\\\n",
       " <fct> & <dbl> & <fct>\\\\\n",
       "\\hline\n",
       "\t Break and Enter Commercial & 2019 & Fairview\\\\\n",
       "\t Break and Enter Commercial & 2019 & West End\\\\\n",
       "\t Break and Enter Commercial & 2020 & West End\\\\\n",
       "\t Break and Enter Commercial & 2017 & West End\\\\\n",
       "\t Break and Enter Commercial & 2018 & West End\\\\\n",
       "\t Break and Enter Commercial & 2020 & West End\\\\\n",
       "\\end{tabular}\n"
      ],
      "text/markdown": [
       "\n",
       "A tibble: 6 × 3\n",
       "\n",
       "| type &lt;fct&gt; | year &lt;dbl&gt; | neighbourhood &lt;fct&gt; |\n",
       "|---|---|---|\n",
       "| Break and Enter Commercial | 2019 | Fairview |\n",
       "| Break and Enter Commercial | 2019 | West End |\n",
       "| Break and Enter Commercial | 2020 | West End |\n",
       "| Break and Enter Commercial | 2017 | West End |\n",
       "| Break and Enter Commercial | 2018 | West End |\n",
       "| Break and Enter Commercial | 2020 | West End |\n",
       "\n"
      ],
      "text/plain": [
       "  type                       year neighbourhood\n",
       "1 Break and Enter Commercial 2019 Fairview     \n",
       "2 Break and Enter Commercial 2019 West End     \n",
       "3 Break and Enter Commercial 2020 West End     \n",
       "4 Break and Enter Commercial 2017 West End     \n",
       "5 Break and Enter Commercial 2018 West End     \n",
       "6 Break and Enter Commercial 2020 West End     "
      ]
     },
     "metadata": {},
     "output_type": "display_data"
    }
   ],
   "source": [
    "# 4. Now, we'll convert `neighbourhood` and `type` to a factor, \n",
    "# since we're considering it categorical data\n",
    "crime_data <- crime_data %>%\n",
    "    mutate(type = as_factor(type)) %>%\n",
    "    mutate(neighbourhood = as_factor(neighbourhood))\n",
    "head(crime_data)"
   ]
  },
  {
   "cell_type": "markdown",
   "metadata": {},
   "source": [
    "Next, let's see how many different types of crimes there are present in our data set."
   ]
  },
  {
   "cell_type": "code",
   "execution_count": 12,
   "metadata": {},
   "outputs": [
    {
     "name": "stdout",
     "output_type": "stream",
     "text": [
      "[1] Break and Enter Commercial                            \n",
      "[2] Break and Enter Residential/Other                     \n",
      "[3] Mischief                                              \n",
      "[4] Other Theft                                           \n",
      "[5] Theft from Vehicle                                    \n",
      "[6] Theft of Bicycle                                      \n",
      "[7] Theft of Vehicle                                      \n",
      "[8] Vehicle Collision or Pedestrian Struck (with Fatality)\n",
      "[9] Vehicle Collision or Pedestrian Struck (with Injury)  \n",
      "9 Levels: Break and Enter Commercial ... Vehicle Collision or Pedestrian Struck (with Injury)\n"
     ]
    }
   ],
   "source": [
    "# Grab all unique crime types, and print them in a pretty way\n",
    "crime_types <- unique(crime_data$type)\n",
    "print(crime_types)"
   ]
  },
  {
   "cell_type": "markdown",
   "metadata": {},
   "source": [
    "As was mentioned in the introduction, we're interested in theft related crime. Let's create a list of all theft related crime we see in this data set."
   ]
  },
  {
   "cell_type": "code",
   "execution_count": 13,
   "metadata": {},
   "outputs": [],
   "source": [
    "theft_crimes <- c(\"Other Theft\", \"Theft from Vehicle\", \n",
    "                  \"Theft of Bicycle\", \"Theft of Vehicle\")"
   ]
  },
  {
   "cell_type": "markdown",
   "metadata": {},
   "source": [
    "We can also check the neighborhoods present in this data set.\n",
    "\n",
    "- [ ] TODO: fix neighborhoods"
   ]
  },
  {
   "cell_type": "code",
   "execution_count": 14,
   "metadata": {},
   "outputs": [
    {
     "name": "stdout",
     "output_type": "stream",
     "text": [
      " [1] Fairview                  West End                 \n",
      " [3] Central Business District Hastings-Sunrise         \n",
      " [5] Strathcona                Grandview-Woodland       \n",
      " [7] Mount Pleasant            Sunset                   \n",
      " [9] Kensington-Cedar Cottage  Stanley Park             \n",
      "[11] Shaughnessy               Marpole                  \n",
      "[13] Oakridge                  Kitsilano                \n",
      "[15] Victoria-Fraserview       Kerrisdale               \n",
      "[17] West Point Grey           Riley Park               \n",
      "[19] Arbutus Ridge             Renfrew-Collingwood      \n",
      "[21] Killarney                 South Cambie             \n",
      "[23] Dunbar-Southlands         Musqueam                 \n",
      "24 Levels: Fairview West End Central Business District ... Musqueam\n"
     ]
    }
   ],
   "source": [
    "# Grab all unique crime types, and print them in a pretty way\n",
    "neighbourhoods <- unique(crime_data$neighbourhood)\n",
    "print(neighbourhoods)"
   ]
  },
  {
   "cell_type": "markdown",
   "metadata": {},
   "source": [
    "We chose three neighborhoods that we believe are representative of different economic classes present in Vancouver, in terms of mean wealth: Shaughnessy, Strathcona, and Marpole. Let's save those as well."
   ]
  },
  {
   "cell_type": "code",
   "execution_count": 15,
   "metadata": {},
   "outputs": [],
   "source": [
    "chosen_neighbourhoods <- c(\"Shaughnessy\", \"Strathcona\", \"Marpole\")"
   ]
  },
  {
   "cell_type": "markdown",
   "metadata": {},
   "source": [
    "We're hoping to compare crime rates across years in neighborhoods that represent a reasonable distribution of incomes. For our proposal, we're going to be using the Shaughnessy, Strathcona, and Marpole neighborhoods. More on why these neighborhoods were chosen in particular is discussed in the \"Methods\" section."
   ]
  },
  {
   "cell_type": "code",
   "execution_count": 16,
   "metadata": {},
   "outputs": [
    {
     "data": {
      "text/html": [
       "<table class=\"dataframe\">\n",
       "<caption>A tibble: 3 × 3</caption>\n",
       "<thead>\n",
       "\t<tr><th scope=col>type</th><th scope=col>year</th><th scope=col>neighbourhood</th></tr>\n",
       "\t<tr><th scope=col>&lt;fct&gt;</th><th scope=col>&lt;dbl&gt;</th><th scope=col>&lt;fct&gt;</th></tr>\n",
       "</thead>\n",
       "<tbody>\n",
       "\t<tr><td>Break and Enter Commercial</td><td>2017</td><td>Strathcona</td></tr>\n",
       "\t<tr><td>Break and Enter Commercial</td><td>2020</td><td>Strathcona</td></tr>\n",
       "\t<tr><td>Break and Enter Commercial</td><td>2020</td><td>Strathcona</td></tr>\n",
       "</tbody>\n",
       "</table>\n"
      ],
      "text/latex": [
       "A tibble: 3 × 3\n",
       "\\begin{tabular}{lll}\n",
       " type & year & neighbourhood\\\\\n",
       " <fct> & <dbl> & <fct>\\\\\n",
       "\\hline\n",
       "\t Break and Enter Commercial & 2017 & Strathcona\\\\\n",
       "\t Break and Enter Commercial & 2020 & Strathcona\\\\\n",
       "\t Break and Enter Commercial & 2020 & Strathcona\\\\\n",
       "\\end{tabular}\n"
      ],
      "text/markdown": [
       "\n",
       "A tibble: 3 × 3\n",
       "\n",
       "| type &lt;fct&gt; | year &lt;dbl&gt; | neighbourhood &lt;fct&gt; |\n",
       "|---|---|---|\n",
       "| Break and Enter Commercial | 2017 | Strathcona |\n",
       "| Break and Enter Commercial | 2020 | Strathcona |\n",
       "| Break and Enter Commercial | 2020 | Strathcona |\n",
       "\n"
      ],
      "text/plain": [
       "  type                       year neighbourhood\n",
       "1 Break and Enter Commercial 2017 Strathcona   \n",
       "2 Break and Enter Commercial 2020 Strathcona   \n",
       "3 Break and Enter Commercial 2020 Strathcona   "
      ]
     },
     "metadata": {},
     "output_type": "display_data"
    },
    {
     "data": {
      "text/html": [
       "<table class=\"dataframe\">\n",
       "<caption>A tibble: 3 × 3</caption>\n",
       "<thead>\n",
       "\t<tr><th scope=col>type</th><th scope=col>year</th><th scope=col>neighbourhood</th></tr>\n",
       "\t<tr><th scope=col>&lt;fct&gt;</th><th scope=col>&lt;dbl&gt;</th><th scope=col>&lt;fct&gt;</th></tr>\n",
       "</thead>\n",
       "<tbody>\n",
       "\t<tr><td>Vehicle Collision or Pedestrian Struck (with Injury)</td><td>2018</td><td>Strathcona</td></tr>\n",
       "\t<tr><td>Vehicle Collision or Pedestrian Struck (with Injury)</td><td>2018</td><td>Marpole   </td></tr>\n",
       "\t<tr><td>Vehicle Collision or Pedestrian Struck (with Injury)</td><td>2018</td><td>Marpole   </td></tr>\n",
       "</tbody>\n",
       "</table>\n"
      ],
      "text/latex": [
       "A tibble: 3 × 3\n",
       "\\begin{tabular}{lll}\n",
       " type & year & neighbourhood\\\\\n",
       " <fct> & <dbl> & <fct>\\\\\n",
       "\\hline\n",
       "\t Vehicle Collision or Pedestrian Struck (with Injury) & 2018 & Strathcona\\\\\n",
       "\t Vehicle Collision or Pedestrian Struck (with Injury) & 2018 & Marpole   \\\\\n",
       "\t Vehicle Collision or Pedestrian Struck (with Injury) & 2018 & Marpole   \\\\\n",
       "\\end{tabular}\n"
      ],
      "text/markdown": [
       "\n",
       "A tibble: 3 × 3\n",
       "\n",
       "| type &lt;fct&gt; | year &lt;dbl&gt; | neighbourhood &lt;fct&gt; |\n",
       "|---|---|---|\n",
       "| Vehicle Collision or Pedestrian Struck (with Injury) | 2018 | Strathcona |\n",
       "| Vehicle Collision or Pedestrian Struck (with Injury) | 2018 | Marpole    |\n",
       "| Vehicle Collision or Pedestrian Struck (with Injury) | 2018 | Marpole    |\n",
       "\n"
      ],
      "text/plain": [
       "  type                                                 year neighbourhood\n",
       "1 Vehicle Collision or Pedestrian Struck (with Injury) 2018 Strathcona   \n",
       "2 Vehicle Collision or Pedestrian Struck (with Injury) 2018 Marpole      \n",
       "3 Vehicle Collision or Pedestrian Struck (with Injury) 2018 Marpole      "
      ]
     },
     "metadata": {},
     "output_type": "display_data"
    }
   ],
   "source": [
    "# Filter down by the 3 neighbourhoods above\n",
    "crime_data <- crime_data %>%\n",
    "    filter(neighbourhood %in% chosen_neighbourhoods)\n",
    "\n",
    "head(crime_data, n = 3)\n",
    "tail(crime_data, n = 3)"
   ]
  },
  {
   "cell_type": "markdown",
   "metadata": {},
   "source": [
    "Now, to get a better sense of our data set, we'll produce three plots to explore, at a high level, what crime looks like in Vancouver both over time and by neighborhood. Our three plots will be:\n",
    "\n",
    "1. A line plot of total police-reported crime over time, grouped by neighborhood; this will demonstrate the change in total crime over time\n",
    "2. A stacked bar chart showing a breakdown of crime type, grouped by neighborhood; this will demonstrate the relative frequencies of each crime type, by neighborhood\n",
    "3. A waffle plot to show to crime types proportions, grouped by year; this will demonstrate the relative frequencies of each crime type, by year\n",
    "\n",
    "Let's begin with the line plot."
   ]
  },
  {
   "cell_type": "code",
   "execution_count": 17,
   "metadata": {},
   "outputs": [
    {
     "name": "stderr",
     "output_type": "stream",
     "text": [
      "`summarise()` has grouped output by 'neighbourhood'. You can override using the `.groups` argument.\n",
      "\n"
     ]
    },
    {
     "data": {
      "text/html": [
       "<table class=\"dataframe\">\n",
       "<caption>A grouped_df: 6 × 3</caption>\n",
       "<thead>\n",
       "\t<tr><th scope=col>neighbourhood</th><th scope=col>year</th><th scope=col>n</th></tr>\n",
       "\t<tr><th scope=col>&lt;fct&gt;</th><th scope=col>&lt;dbl&gt;</th><th scope=col>&lt;int&gt;</th></tr>\n",
       "</thead>\n",
       "<tbody>\n",
       "\t<tr><td>Strathcona </td><td>2017</td><td>1772</td></tr>\n",
       "\t<tr><td>Strathcona </td><td>2018</td><td>1986</td></tr>\n",
       "\t<tr><td>Strathcona </td><td>2019</td><td>2168</td></tr>\n",
       "\t<tr><td>Strathcona </td><td>2020</td><td>1708</td></tr>\n",
       "\t<tr><td>Shaughnessy</td><td>2017</td><td> 444</td></tr>\n",
       "\t<tr><td>Shaughnessy</td><td>2018</td><td> 414</td></tr>\n",
       "</tbody>\n",
       "</table>\n"
      ],
      "text/latex": [
       "A grouped\\_df: 6 × 3\n",
       "\\begin{tabular}{lll}\n",
       " neighbourhood & year & n\\\\\n",
       " <fct> & <dbl> & <int>\\\\\n",
       "\\hline\n",
       "\t Strathcona  & 2017 & 1772\\\\\n",
       "\t Strathcona  & 2018 & 1986\\\\\n",
       "\t Strathcona  & 2019 & 2168\\\\\n",
       "\t Strathcona  & 2020 & 1708\\\\\n",
       "\t Shaughnessy & 2017 &  444\\\\\n",
       "\t Shaughnessy & 2018 &  414\\\\\n",
       "\\end{tabular}\n"
      ],
      "text/markdown": [
       "\n",
       "A grouped_df: 6 × 3\n",
       "\n",
       "| neighbourhood &lt;fct&gt; | year &lt;dbl&gt; | n &lt;int&gt; |\n",
       "|---|---|---|\n",
       "| Strathcona  | 2017 | 1772 |\n",
       "| Strathcona  | 2018 | 1986 |\n",
       "| Strathcona  | 2019 | 2168 |\n",
       "| Strathcona  | 2020 | 1708 |\n",
       "| Shaughnessy | 2017 |  444 |\n",
       "| Shaughnessy | 2018 |  414 |\n",
       "\n"
      ],
      "text/plain": [
       "  neighbourhood year n   \n",
       "1 Strathcona    2017 1772\n",
       "2 Strathcona    2018 1986\n",
       "3 Strathcona    2019 2168\n",
       "4 Strathcona    2020 1708\n",
       "5 Shaughnessy   2017  444\n",
       "6 Shaughnessy   2018  414"
      ]
     },
     "metadata": {},
     "output_type": "display_data"
    }
   ],
   "source": [
    "# To produce our line plot, first, we'll need to compute the total amount of crime\n",
    "# by neighborhood and year\n",
    "neighbourhood_year_counts <- crime_data %>%\n",
    "    group_by(neighbourhood, year) %>% \n",
    "    summarise(n = n())\n",
    "head(neighbourhood_year_counts)"
   ]
  },
  {
   "cell_type": "code",
   "execution_count": 18,
   "metadata": {},
   "outputs": [
    {
     "name": "stdout",
     "output_type": "stream",
     "text": [
      "[1] \"Figure #1: A line plot depicting the number of total police-reported crimes over time by neighbourhood.\"\n"
     ]
    },
    {
     "data": {
      "image/png": "[encoded data removed]",
      "text/plain": [
       "plot without title"
      ]
     },
     "metadata": {
      "image/png": {
       "height": 300,
       "width": 480
      }
     },
     "output_type": "display_data"
    }
   ],
   "source": [
    "# 1. Finally, let's plot our data\n",
    "crime_data_plot <- neighbourhood_year_counts %>%\n",
    "    ggplot() +\n",
    "    geom_line(aes(x = year, y = n, color = neighbourhood)) +\n",
    "    scale_x_continuous(limits = c(2017, 2020)) +\n",
    "    labs(x = \"Year\", y = \"Number of Reported Crimes\", color = \"Neighbourhood\") +\n",
    "    ggtitle(\"Number of Reported Crimes Per Year in Selected Vancouver Neighbourhoods\\n\") +\n",
    "    theme_stat201(8, 5)\n",
    "crime_data_plot\n",
    "create_caption(1, \"A line plot depicting the number of total police-reported crimes over time by neighbourhood.\")"
   ]
  },
  {
   "cell_type": "markdown",
   "metadata": {},
   "source": [
    "It's clear that the crime is highest in Strathcona, followed by Marpole, and then Shaughnessy. Crime has also generally decreased in 2020, especially in Strathcona. \n",
    "\n",
    "Alongside checking the number of crimes total in each neighborhood, it's also worth looking at how much of each type of crime is represented in our data set. Let's now look at the stacked bar chart."
   ]
  },
  {
   "cell_type": "code",
   "execution_count": 19,
   "metadata": {},
   "outputs": [
    {
     "name": "stdout",
     "output_type": "stream",
     "text": [
      "[1] \"Figure #2: A stacked bar chart depicting the total number of crimes by type and neighbourhood.\"\n"
     ]
    },
    {
     "data": {
      "image/png": "[encoded data removed]",
      "text/plain": [
       "plot without title"
      ]
     },
     "metadata": {
      "image/png": {
       "height": 300,
       "width": 720
      }
     },
     "output_type": "display_data"
    }
   ],
   "source": [
    "# 2. Note that the stringr::str_wrap call wraps the long label names for crime types, and\n",
    "# reorder places the largest crime count on the bottom\n",
    "crime_type_bar_plot <- crime_data %>%\n",
    "    ggplot(aes(x = reorder(str_wrap(type, 30), type, function(x) - length(x)), fill = neighbourhood)) +\n",
    "    geom_bar(position = \"stack\") +\n",
    "    labs(x = \"Crime Type\", y = \"Total Number of Crimes Committed of Type\", fill = \"Neighbourhood\") +\n",
    "    ggtitle(\"Total Number of Crimes Committed in Select Vancouver\\nNeighbourhoods by Type (2017 to 2020)\\n\") +\n",
    "    coord_flip() +\n",
    "    theme_stat201()\n",
    "\n",
    "# Vehicle collisions that result in fatality are (thankfully) very low,\n",
    "# and almost distinguishable on the plot below                           \n",
    "crime_type_bar_plot\n",
    "create_caption(2, \"A stacked bar chart depicting the total number of crimes by type and neighbourhood.\")"
   ]
  },
  {
   "cell_type": "markdown",
   "metadata": {},
   "source": [
    "This plot shows that theft from vehicle, in the Strathcona region, makes up a large proportion of all crimes committed. We can also see, thankfully, that vehicle collisions resulting in fatality make up such a small fraction of our data they're hard to distinguish.\n",
    "\n",
    "Finally, we can look at a visualization of the relative frequencies of crime over the years through a waffle chart. N.B: Each individual square represents 30 police-reported crimes."
   ]
  },
  {
   "cell_type": "code",
   "execution_count": 20,
   "metadata": {},
   "outputs": [
    {
     "data": {
      "text/html": [
       "<table class=\"dataframe\">\n",
       "<caption>A tibble: 6 × 3</caption>\n",
       "<thead>\n",
       "\t<tr><th scope=col>year</th><th scope=col>type</th><th scope=col>n</th></tr>\n",
       "\t<tr><th scope=col>&lt;dbl&gt;</th><th scope=col>&lt;fct&gt;</th><th scope=col>&lt;dbl&gt;</th></tr>\n",
       "</thead>\n",
       "<tbody>\n",
       "\t<tr><td>2017</td><td>Break and Enter Commercial       </td><td> 7.233333</td></tr>\n",
       "\t<tr><td>2017</td><td>Break and Enter Residential/Other</td><td>11.500000</td></tr>\n",
       "\t<tr><td>2017</td><td>Mischief                         </td><td>21.500000</td></tr>\n",
       "\t<tr><td>2017</td><td>Other Theft                      </td><td> 7.433333</td></tr>\n",
       "\t<tr><td>2017</td><td>Theft from Vehicle               </td><td>37.700000</td></tr>\n",
       "\t<tr><td>2017</td><td>Theft of Bicycle                 </td><td> 4.466667</td></tr>\n",
       "</tbody>\n",
       "</table>\n"
      ],
      "text/latex": [
       "A tibble: 6 × 3\n",
       "\\begin{tabular}{lll}\n",
       " year & type & n\\\\\n",
       " <dbl> & <fct> & <dbl>\\\\\n",
       "\\hline\n",
       "\t 2017 & Break and Enter Commercial        &  7.233333\\\\\n",
       "\t 2017 & Break and Enter Residential/Other & 11.500000\\\\\n",
       "\t 2017 & Mischief                          & 21.500000\\\\\n",
       "\t 2017 & Other Theft                       &  7.433333\\\\\n",
       "\t 2017 & Theft from Vehicle                & 37.700000\\\\\n",
       "\t 2017 & Theft of Bicycle                  &  4.466667\\\\\n",
       "\\end{tabular}\n"
      ],
      "text/markdown": [
       "\n",
       "A tibble: 6 × 3\n",
       "\n",
       "| year &lt;dbl&gt; | type &lt;fct&gt; | n &lt;dbl&gt; |\n",
       "|---|---|---|\n",
       "| 2017 | Break and Enter Commercial        |  7.233333 |\n",
       "| 2017 | Break and Enter Residential/Other | 11.500000 |\n",
       "| 2017 | Mischief                          | 21.500000 |\n",
       "| 2017 | Other Theft                       |  7.433333 |\n",
       "| 2017 | Theft from Vehicle                | 37.700000 |\n",
       "| 2017 | Theft of Bicycle                  |  4.466667 |\n",
       "\n"
      ],
      "text/plain": [
       "  year type                              n        \n",
       "1 2017 Break and Enter Commercial         7.233333\n",
       "2 2017 Break and Enter Residential/Other 11.500000\n",
       "3 2017 Mischief                          21.500000\n",
       "4 2017 Other Theft                        7.433333\n",
       "5 2017 Theft from Vehicle                37.700000\n",
       "6 2017 Theft of Bicycle                   4.466667"
      ]
     },
     "metadata": {},
     "output_type": "display_data"
    }
   ],
   "source": [
    "# Let's produce a count of the crime by year and type\n",
    "crime_waffle <- crime_data %>%\n",
    "    count(year, type) %>%\n",
    "    mutate(n = n / 30)\n",
    "head(crime_waffle)\n",
    "# The geom_waffle() function will do some magic for us in terms of rounding"
   ]
  },
  {
   "cell_type": "code",
   "execution_count": 21,
   "metadata": {},
   "outputs": [
    {
     "name": "stdout",
     "output_type": "stream",
     "text": [
      "[1] \"Figure #3: A waffle plot depicting the proportion of each crime time by year.\"\n"
     ]
    },
    {
     "data": {
      "image/png": "[encoded data removed]",
      "text/plain": [
       "plot without title"
      ]
     },
     "metadata": {
      "image/png": {
       "height": 360,
       "width": 720
      }
     },
     "output_type": "display_data"
    }
   ],
   "source": [
    "# 3. Let's look at the proportion of each crime committed over the years\n",
    "waffle_plot <- crime_waffle %>%\n",
    "    ggplot(aes(values = n, fill = type)) +\n",
    "    geom_waffle(n_rows = 10, flip = TRUE, color = \"white\", size = 0.25) +\n",
    "    facet_wrap(~year, nrow = 2, strip.position = \"bottom\") +\n",
    "    scale_x_discrete() + \n",
    "    scale_y_continuous(labels = function(x) x * 10, # make this multiplier the same as n_rows\n",
    "                       expand = c(0,0)) +\n",
    "    labs(\n",
    "        title = \"Waffle Bar Chart for Crime\\nType Data From 2017-2020\\n\",\n",
    "        # subtitle = \"A single square represents 30 crimes\",\n",
    "        x = \"Year\",\n",
    "        y = \"Count\",\n",
    "        fill = \"Crime Type\"\n",
    "    ) +\n",
    "    coord_equal() +\n",
    "    theme_enhance_waffle() +\n",
    "    theme(legend.position = \"bottom\") +\n",
    "    theme_stat201(12, 6)\n",
    "waffle_plot\n",
    "create_caption(3, \"A waffle plot depicting the proportion of each crime time by year.\")"
   ]
  },
  {
   "cell_type": "markdown",
   "metadata": {},
   "source": [
    "No trends are particularly obvious from the waffle plot, though we can see a clear reduction in crime overall in 2020, and it seems as though it is in large part due to a steep decline in \"theft from vehicle\" crimes.\n",
    "\n",
    "Now, we can compute estimates of our parameter of interest across each of our different groups. In our case, this means computing the difference between the mean of the proportion of theft crimes committed across 2017 to 2019 and the proportion of theft crimes committed in 2020. Note the proportions are computed as the the total number of theft related crimes within a given neighborhood relative to the total of crimes that occurred within that neighborhood; hence the `group_by(...)` ahead of the computation of the proportion in the following code cell."
   ]
  },
  {
   "cell_type": "code",
   "execution_count": 22,
   "metadata": {},
   "outputs": [
    {
     "name": "stderr",
     "output_type": "stream",
     "text": [
      "`summarise()` has grouped output by 'neighbourhood'. You can override using the `.groups` argument.\n",
      "\n"
     ]
    },
    {
     "data": {
      "text/html": [
       "<table class=\"dataframe\">\n",
       "<caption>A tibble: 3 × 3</caption>\n",
       "<thead>\n",
       "\t<tr><th scope=col>neighbourhood</th><th scope=col>prop_theft</th><th scope=col>time</th></tr>\n",
       "\t<tr><th scope=col>&lt;fct&gt;</th><th scope=col>&lt;dbl&gt;</th><th scope=col>&lt;fct&gt;</th></tr>\n",
       "</thead>\n",
       "<tbody>\n",
       "\t<tr><td>Strathcona </td><td>0.5578307</td><td>Before pandemic</td></tr>\n",
       "\t<tr><td>Shaughnessy</td><td>0.4624363</td><td>Before pandemic</td></tr>\n",
       "\t<tr><td>Marpole    </td><td>0.5675852</td><td>Before pandemic</td></tr>\n",
       "</tbody>\n",
       "</table>\n"
      ],
      "text/latex": [
       "A tibble: 3 × 3\n",
       "\\begin{tabular}{lll}\n",
       " neighbourhood & prop\\_theft & time\\\\\n",
       " <fct> & <dbl> & <fct>\\\\\n",
       "\\hline\n",
       "\t Strathcona  & 0.5578307 & Before pandemic\\\\\n",
       "\t Shaughnessy & 0.4624363 & Before pandemic\\\\\n",
       "\t Marpole     & 0.5675852 & Before pandemic\\\\\n",
       "\\end{tabular}\n"
      ],
      "text/markdown": [
       "\n",
       "A tibble: 3 × 3\n",
       "\n",
       "| neighbourhood &lt;fct&gt; | prop_theft &lt;dbl&gt; | time &lt;fct&gt; |\n",
       "|---|---|---|\n",
       "| Strathcona  | 0.5578307 | Before pandemic |\n",
       "| Shaughnessy | 0.4624363 | Before pandemic |\n",
       "| Marpole     | 0.5675852 | Before pandemic |\n",
       "\n"
      ],
      "text/plain": [
       "  neighbourhood prop_theft time           \n",
       "1 Strathcona    0.5578307  Before pandemic\n",
       "2 Shaughnessy   0.4624363  Before pandemic\n",
       "3 Marpole       0.5675852  Before pandemic"
      ]
     },
     "metadata": {},
     "output_type": "display_data"
    }
   ],
   "source": [
    "# Let's first compute the pre-COVID mean in each neighbourhood (merging 2017 to 2019)\n",
    "before_pandemic_df_by_year <- crime_data %>%\n",
    "    mutate(is_theft = as.numeric(type %in% theft_crimes)) %>%\n",
    "    filter(year >= 2017 & year <= 2019) %>%\n",
    "    group_by(neighbourhood, year) %>% # group by neighbourhood and year first!\n",
    "    summarize(prop_theft = sum(is_theft) / n()) # compute theft crimes in neighbourhood / crimes in neighborhood\n",
    "# View prop_theft by year (2017, 2018, 2019) and neighbourhood\n",
    "# head(p_hat_pre_covid_by_year)\n",
    "\n",
    "before_pandemic_df <- before_pandemic_df_by_year %>%\n",
    "    group_by(neighbourhood) %>%\n",
    "    summarize(prop_theft = mean(prop_theft)) %>%\n",
    "    mutate(time = \"Before pandemic\") %>%\n",
    "    mutate(time = as_factor(time))\n",
    "head(before_pandemic_df)"
   ]
  },
  {
   "cell_type": "code",
   "execution_count": 23,
   "metadata": {},
   "outputs": [
    {
     "data": {
      "text/html": [
       "<table class=\"dataframe\">\n",
       "<caption>A tibble: 3 × 3</caption>\n",
       "<thead>\n",
       "\t<tr><th scope=col>neighbourhood</th><th scope=col>prop_theft</th><th scope=col>time</th></tr>\n",
       "\t<tr><th scope=col>&lt;fct&gt;</th><th scope=col>&lt;dbl&gt;</th><th scope=col>&lt;fct&gt;</th></tr>\n",
       "</thead>\n",
       "<tbody>\n",
       "\t<tr><td>Strathcona </td><td>0.4385246</td><td>During pandemic</td></tr>\n",
       "\t<tr><td>Shaughnessy</td><td>0.4364641</td><td>During pandemic</td></tr>\n",
       "\t<tr><td>Marpole    </td><td>0.5661664</td><td>During pandemic</td></tr>\n",
       "</tbody>\n",
       "</table>\n"
      ],
      "text/latex": [
       "A tibble: 3 × 3\n",
       "\\begin{tabular}{lll}\n",
       " neighbourhood & prop\\_theft & time\\\\\n",
       " <fct> & <dbl> & <fct>\\\\\n",
       "\\hline\n",
       "\t Strathcona  & 0.4385246 & During pandemic\\\\\n",
       "\t Shaughnessy & 0.4364641 & During pandemic\\\\\n",
       "\t Marpole     & 0.5661664 & During pandemic\\\\\n",
       "\\end{tabular}\n"
      ],
      "text/markdown": [
       "\n",
       "A tibble: 3 × 3\n",
       "\n",
       "| neighbourhood &lt;fct&gt; | prop_theft &lt;dbl&gt; | time &lt;fct&gt; |\n",
       "|---|---|---|\n",
       "| Strathcona  | 0.4385246 | During pandemic |\n",
       "| Shaughnessy | 0.4364641 | During pandemic |\n",
       "| Marpole     | 0.5661664 | During pandemic |\n",
       "\n"
      ],
      "text/plain": [
       "  neighbourhood prop_theft time           \n",
       "1 Strathcona    0.4385246  During pandemic\n",
       "2 Shaughnessy   0.4364641  During pandemic\n",
       "3 Marpole       0.5661664  During pandemic"
      ]
     },
     "metadata": {},
     "output_type": "display_data"
    }
   ],
   "source": [
    "# Now let's get an estimate for the COVID mean by neighbourhood\n",
    "during_pandemic_df <- crime_data %>%\n",
    "    mutate(is_theft = as.numeric(type %in% theft_crimes)) %>%\n",
    "    filter(year == 2020) %>%\n",
    "    group_by(neighbourhood) %>%\n",
    "    summarize(prop_theft = sum(is_theft) / n()) %>%\n",
    "    mutate(time = \"During pandemic\") %>%\n",
    "    mutate(time = as_factor(time))\n",
    "head(during_pandemic_df)"
   ]
  },
  {
   "cell_type": "code",
   "execution_count": 24,
   "metadata": {},
   "outputs": [
    {
     "data": {
      "text/html": [
       "<table class=\"dataframe\">\n",
       "<caption>A data.frame: 3 × 2</caption>\n",
       "<thead>\n",
       "\t<tr><th></th><th scope=col>neighbourhood</th><th scope=col>prop_diff</th></tr>\n",
       "\t<tr><th></th><th scope=col>&lt;fct&gt;</th><th scope=col>&lt;dbl&gt;</th></tr>\n",
       "</thead>\n",
       "<tbody>\n",
       "\t<tr><th scope=row>1</th><td>Strathcona </td><td>-0.11930610</td></tr>\n",
       "\t<tr><th scope=row>2</th><td>Shaughnessy</td><td>-0.02597225</td></tr>\n",
       "\t<tr><th scope=row>3</th><td>Marpole    </td><td>-0.00141876</td></tr>\n",
       "</tbody>\n",
       "</table>\n"
      ],
      "text/latex": [
       "A data.frame: 3 × 2\n",
       "\\begin{tabular}{r|ll}\n",
       "  & neighbourhood & prop\\_diff\\\\\n",
       "  & <fct> & <dbl>\\\\\n",
       "\\hline\n",
       "\t1 & Strathcona  & -0.11930610\\\\\n",
       "\t2 & Shaughnessy & -0.02597225\\\\\n",
       "\t3 & Marpole     & -0.00141876\\\\\n",
       "\\end{tabular}\n"
      ],
      "text/markdown": [
       "\n",
       "A data.frame: 3 × 2\n",
       "\n",
       "| <!--/--> | neighbourhood &lt;fct&gt; | prop_diff &lt;dbl&gt; |\n",
       "|---|---|---|\n",
       "| 1 | Strathcona  | -0.11930610 |\n",
       "| 2 | Shaughnessy | -0.02597225 |\n",
       "| 3 | Marpole     | -0.00141876 |\n",
       "\n"
      ],
      "text/plain": [
       "  neighbourhood prop_diff  \n",
       "1 Strathcona    -0.11930610\n",
       "2 Shaughnessy   -0.02597225\n",
       "3 Marpole       -0.00141876"
      ]
     },
     "metadata": {},
     "output_type": "display_data"
    }
   ],
   "source": [
    "# Summarize in table\n",
    "prof_diff_df <- during_pandemic_df %>%\n",
    "    rename(during_prop_theft = prop_theft) %>%\n",
    "    select(during_prop_theft) %>%\n",
    "    cbind(before_pandemic_df) %>%\n",
    "    mutate(prop_diff = during_prop_theft - prop_theft) %>%\n",
    "    select(neighbourhood, prop_diff)\n",
    "head(prof_diff_df)"
   ]
  },
  {
   "cell_type": "markdown",
   "metadata": {},
   "source": [
    "Note that a negative value indicates a _decrease_ in crime during 2020. Our initial data suggests that the proportion of theft-related crime has actually _decreased_ since the pandemic began. While this is a good estimate for us to begin our analysis with, it's by no means sufficient to conclude upon; more as to why that is the case is discussed below."
   ]
  },
  {
   "cell_type": "markdown",
   "metadata": {},
   "source": [
    "## Methods\n",
    "\n",
    "### Strengths\n",
    "\n",
    "Our report uses data from the Vancouver Police Department to study trends in crime across select Vancouver neighborhoods. It is \"trustworthy\" in the sense that we will look to be careful at providing _ranges_ of our final answer, rather than solely point estimates. However, that alone isn't enough to guarantee an effective analysis. \n",
    "\n",
    "We're also using kind-of blocking in our analysis. Crime has been linked to wealth (and more specifically, socioeconomic status, or SES) [[World Bank, 8]](https://onlinelibrary.wiley.com/doi/abs/10.1111/j.1745-9125.1999.tb00483.x), so we'll treat it as a blocking variable, and group our data by three neighborhoods that represent different levels of wealth; however, we do not ever randomly sample within those groups, as we're considering our data to already be a sample, so it's not exactly what \"blocking\" truly is. Regardless, this \"grouping\" step will help us draw meaningful conclusions within our analysis. \n",
    "\n",
    "Finally, we're being careful to not simply compare the trend of crime between 2019 and 2020. Since our focus is COVID-19, we're not especially interested in the 1-year trend, but rather, how 2020 has deviated from the \"norm.\" It is plausible that 2019 was an outlier, so \"merging\" the 3-year span of 2017 to 2019 should provide us a better sense of the general, recent crime levels in Vancouver.\n",
    "\n",
    "### Limitations\n",
    "\n",
    "Some could argue that many of the \"petty\" crimes we're interested in, like theft, largely go unreported. And while our analysis does indeed aim to provide an estimate from this sample of strictly reported crimes, arguing what makes a \"fair\" range is a hard question to answer. Countless factors affect whether or not a crime gets reported, and trust in police generally was found to be at a \"record low\" in August of 2020 [[New York Times, 10]](https://www.nytimes.com/2020/08/12/us/gallup-poll-police.html). Accounting for this variability, statistically, is arduous.\n",
    "\n",
    "Furthermore, while our neighborhood selections do represent a fair amount of spread in the wealth of various Vancouver neighborhoods, they're by no means perfectly representative. Shaughnessy, for one, being at a rather high-end extreme of wealth, might be less useful in our analysis, as it doesn't really generalize to any kind of useful population outside of that specific neighborhood.\n",
    "\n",
    "### Analysis\n",
    "\n",
    "Of course, the plots and estimates provided above are _not_ sufficient for any stakeholder, such as the municipal government or the VPD themselves. Since we're working with a sample, we must report a range of plausible values, rather than a single point estimate. Thankfully, there are a few steps we can take to do this in different ways:\n",
    "\n",
    "Firstly, we can produce a hypothesis test, where our null is that theft-related crime rates have _not_ changed:\n",
    "\n",
    "$$H_0: \\Delta{p} = 0$$\n",
    "\n",
    "and our alternative hypothesis is that there has been some sort of change.\n",
    "\n",
    "$$H_A: \\Delta{p} \\ne 0$$\n",
    "\n",
    "We'll have to do a two-tailed test and check if our sample difference in proportions falls within our significance level. As for what value of $\\alpha$ to use, it's hard to say. We'll likely go with something like 10%, since we're working with a social science topic, and thus more variability is generally considered acceptable.\n",
    "\n",
    "Secondly, we can produce a confidence interval to report a range of plausible values alongside our difference in proportions statistic. We'll use two techniques, both bootstrapping (i.e., generating a bootstrapped sampling distribution) and asymptotics, to yield a range of values at a confidence level (\"CL\") of 90%, though that value could change as we deem appropriate. \n",
    "\n",
    "(Note that two-tailed hypothesis tests and confidence intervals are practically equivalent at ${CL} = 1 - \\alpha$, but doing both approaches is good for rigor and completeness, and allows us to use both bootstrapping and asymptotics.)\n",
    "\n",
    "Along the way, we will be sure to visualize and interpret our results within the context of our problem. These techniques will also allow us to report something actually sufficient for a stakeholder: both a statistic and a range. This is at the core of inferential statistics."
   ]
  },
  {
   "cell_type": "markdown",
   "metadata": {},
   "source": [
    "# Results\n",
    "\n",
    "Some discussion of our results, and our plan."
   ]
  },
  {
   "cell_type": "markdown",
   "metadata": {},
   "source": [
    "## Bootstrapping\n",
    "\n",
    "Description of bootstrapping."
   ]
  },
  {
   "cell_type": "code",
   "execution_count": 25,
   "metadata": {},
   "outputs": [
    {
     "data": {
      "text/html": [
       "<table class=\"dataframe\">\n",
       "<caption>A tibble: 6 × 3</caption>\n",
       "<thead>\n",
       "\t<tr><th scope=col>type</th><th scope=col>year</th><th scope=col>neighbourhood</th></tr>\n",
       "\t<tr><th scope=col>&lt;fct&gt;</th><th scope=col>&lt;dbl&gt;</th><th scope=col>&lt;fct&gt;</th></tr>\n",
       "</thead>\n",
       "<tbody>\n",
       "\t<tr><td>Break and Enter Commercial</td><td>2017</td><td>Strathcona</td></tr>\n",
       "\t<tr><td>Break and Enter Commercial</td><td>2020</td><td>Strathcona</td></tr>\n",
       "\t<tr><td>Break and Enter Commercial</td><td>2020</td><td>Strathcona</td></tr>\n",
       "\t<tr><td>Break and Enter Commercial</td><td>2017</td><td>Strathcona</td></tr>\n",
       "\t<tr><td>Break and Enter Commercial</td><td>2018</td><td>Strathcona</td></tr>\n",
       "\t<tr><td>Break and Enter Commercial</td><td>2019</td><td>Strathcona</td></tr>\n",
       "</tbody>\n",
       "</table>\n"
      ],
      "text/latex": [
       "A tibble: 6 × 3\n",
       "\\begin{tabular}{lll}\n",
       " type & year & neighbourhood\\\\\n",
       " <fct> & <dbl> & <fct>\\\\\n",
       "\\hline\n",
       "\t Break and Enter Commercial & 2017 & Strathcona\\\\\n",
       "\t Break and Enter Commercial & 2020 & Strathcona\\\\\n",
       "\t Break and Enter Commercial & 2020 & Strathcona\\\\\n",
       "\t Break and Enter Commercial & 2017 & Strathcona\\\\\n",
       "\t Break and Enter Commercial & 2018 & Strathcona\\\\\n",
       "\t Break and Enter Commercial & 2019 & Strathcona\\\\\n",
       "\\end{tabular}\n"
      ],
      "text/markdown": [
       "\n",
       "A tibble: 6 × 3\n",
       "\n",
       "| type &lt;fct&gt; | year &lt;dbl&gt; | neighbourhood &lt;fct&gt; |\n",
       "|---|---|---|\n",
       "| Break and Enter Commercial | 2017 | Strathcona |\n",
       "| Break and Enter Commercial | 2020 | Strathcona |\n",
       "| Break and Enter Commercial | 2020 | Strathcona |\n",
       "| Break and Enter Commercial | 2017 | Strathcona |\n",
       "| Break and Enter Commercial | 2018 | Strathcona |\n",
       "| Break and Enter Commercial | 2019 | Strathcona |\n",
       "\n"
      ],
      "text/plain": [
       "  type                       year neighbourhood\n",
       "1 Break and Enter Commercial 2017 Strathcona   \n",
       "2 Break and Enter Commercial 2020 Strathcona   \n",
       "3 Break and Enter Commercial 2020 Strathcona   \n",
       "4 Break and Enter Commercial 2017 Strathcona   \n",
       "5 Break and Enter Commercial 2018 Strathcona   \n",
       "6 Break and Enter Commercial 2019 Strathcona   "
      ]
     },
     "metadata": {},
     "output_type": "display_data"
    }
   ],
   "source": [
    "head(crime_data)"
   ]
  },
  {
   "cell_type": "code",
   "execution_count": 26,
   "metadata": {},
   "outputs": [
    {
     "data": {
      "text/html": [
       "<table class=\"dataframe\">\n",
       "<caption>A tibble: 6 × 4</caption>\n",
       "<thead>\n",
       "\t<tr><th scope=col>neighbourhood</th><th scope=col>year</th><th scope=col>is_theft</th><th scope=col>period</th></tr>\n",
       "\t<tr><th scope=col>&lt;fct&gt;</th><th scope=col>&lt;dbl&gt;</th><th scope=col>&lt;lgl&gt;</th><th scope=col>&lt;fct&gt;</th></tr>\n",
       "</thead>\n",
       "<tbody>\n",
       "\t<tr><td>Strathcona</td><td>2017</td><td>FALSE</td><td>pre_covid</td></tr>\n",
       "\t<tr><td>Strathcona</td><td>2020</td><td>FALSE</td><td>covid    </td></tr>\n",
       "\t<tr><td>Strathcona</td><td>2020</td><td>FALSE</td><td>covid    </td></tr>\n",
       "\t<tr><td>Strathcona</td><td>2017</td><td>FALSE</td><td>pre_covid</td></tr>\n",
       "\t<tr><td>Strathcona</td><td>2018</td><td>FALSE</td><td>pre_covid</td></tr>\n",
       "\t<tr><td>Strathcona</td><td>2019</td><td>FALSE</td><td>pre_covid</td></tr>\n",
       "</tbody>\n",
       "</table>\n"
      ],
      "text/latex": [
       "A tibble: 6 × 4\n",
       "\\begin{tabular}{llll}\n",
       " neighbourhood & year & is\\_theft & period\\\\\n",
       " <fct> & <dbl> & <lgl> & <fct>\\\\\n",
       "\\hline\n",
       "\t Strathcona & 2017 & FALSE & pre\\_covid\\\\\n",
       "\t Strathcona & 2020 & FALSE & covid    \\\\\n",
       "\t Strathcona & 2020 & FALSE & covid    \\\\\n",
       "\t Strathcona & 2017 & FALSE & pre\\_covid\\\\\n",
       "\t Strathcona & 2018 & FALSE & pre\\_covid\\\\\n",
       "\t Strathcona & 2019 & FALSE & pre\\_covid\\\\\n",
       "\\end{tabular}\n"
      ],
      "text/markdown": [
       "\n",
       "A tibble: 6 × 4\n",
       "\n",
       "| neighbourhood &lt;fct&gt; | year &lt;dbl&gt; | is_theft &lt;lgl&gt; | period &lt;fct&gt; |\n",
       "|---|---|---|---|\n",
       "| Strathcona | 2017 | FALSE | pre_covid |\n",
       "| Strathcona | 2020 | FALSE | covid     |\n",
       "| Strathcona | 2020 | FALSE | covid     |\n",
       "| Strathcona | 2017 | FALSE | pre_covid |\n",
       "| Strathcona | 2018 | FALSE | pre_covid |\n",
       "| Strathcona | 2019 | FALSE | pre_covid |\n",
       "\n"
      ],
      "text/plain": [
       "  neighbourhood year is_theft period   \n",
       "1 Strathcona    2017 FALSE    pre_covid\n",
       "2 Strathcona    2020 FALSE    covid    \n",
       "3 Strathcona    2020 FALSE    covid    \n",
       "4 Strathcona    2017 FALSE    pre_covid\n",
       "5 Strathcona    2018 FALSE    pre_covid\n",
       "6 Strathcona    2019 FALSE    pre_covid"
      ]
     },
     "metadata": {},
     "output_type": "display_data"
    }
   ],
   "source": [
    "pre_years <- c(2017, 2018, 2019)\n",
    "crime_data_processed <- crime_data %>%\n",
    "    mutate(is_theft = type%in% theft_crimes) %>%\n",
    "    select(neighbourhood, year, is_theft) %>%\n",
    "    filter(year >= 2017 & year < 2021) %>%\n",
    "    mutate(period=ifelse(year %in% pre_years, 'pre_covid', 'covid')) %>%\n",
    "    mutate(period=as.factor(period)) %>%\n",
    "    mutate(neighbourhood=neighbourhood)\n",
    "head(crime_data_processed)\n",
    "\n",
    "neighbourhoods <- unique(crime_data$neighbourhood)\n",
    "neighbourhoods <- tibble(neighbourhood=as.character(neighbourhoods[!is.na(neighbourhoods)]))\n"
   ]
  },
  {
   "cell_type": "code",
   "execution_count": 27,
   "metadata": {},
   "outputs": [
    {
     "name": "stderr",
     "output_type": "stream",
     "text": [
      "Warning message:\n",
      "\"Please be cautious in reporting a p-value of 0. This result is an approximation based on the number of `reps` chosen in the `generate()` step. See `?get_p_value()` for more information.\"\n"
     ]
    }
   ],
   "source": [
    "set.seed(12345)\n",
    "\n",
    "columns <- c(\"neighbourhood\", \"past_prop\", \"current_prop\", \"diff_in_props\", \"p_value\")\n",
    "results <- data.frame(matrix(ncol=length(columns), nrow=0))\n",
    "names(results) <- columns\n",
    "\n",
    "for (i in 1:nrow(neighbourhoods)) {\n",
    "    n <- neighbourhoods$neighbourhood[i]\n",
    "    neighbourhood_data <- crime_data_processed %>% filter(neighbourhood==n)\n",
    "    \n",
    "    pre_covid <- neighbourhood_data %>%\n",
    "        filter(period==\"pre_covid\")\n",
    "    pre_covid_prop <- mean(as.numeric(pre_covid$is_theft))\n",
    "    \n",
    "    covid <- neighbourhood_data %>%\n",
    "        filter(period==\"covid\")\n",
    "    covid_prop <- mean(as.numeric(covid$is_theft))\n",
    "    \n",
    "    obs_diff_in_props <- covid_prop - pre_covid_prop\n",
    "    \n",
    "    neighbourhood_infer <- neighbourhood_data %>%\n",
    "        specify(is_theft ~ period, success=\"TRUE\") %>%\n",
    "        hypothesise(null=\"independence\") %>%\n",
    "        generate(reps=10000, type=\"permute\") %>%\n",
    "        calculate(stat=\"diff in props\", order=c(\"covid\", \"pre_covid\"))\n",
    "    \n",
    "    p_value <- neighbourhood_infer %>% get_p_value(obs_diff_in_props, direction=\"two_sided\") %>% pull()\n",
    "    \n",
    "    new_obs <- data.frame(n, pre_covid_prop, covid_prop, obs_diff_in_props, p_value)\n",
    "    names(new_obs) <- columns\n",
    "    results <- rbind(results, new_obs)\n",
    "}"
   ]
  },
  {
   "cell_type": "code",
   "execution_count": 28,
   "metadata": {},
   "outputs": [
    {
     "data": {
      "text/html": [
       "<table class=\"dataframe\">\n",
       "<caption>A data.frame: 3 × 7</caption>\n",
       "<thead>\n",
       "\t<tr><th scope=col>neighbourhood</th><th scope=col>past_prop</th><th scope=col>current_prop</th><th scope=col>diff_in_props</th><th scope=col>p_value</th><th scope=col>reject5</th><th scope=col>reject10</th></tr>\n",
       "\t<tr><th scope=col>&lt;chr&gt;</th><th scope=col>&lt;dbl&gt;</th><th scope=col>&lt;dbl&gt;</th><th scope=col>&lt;dbl&gt;</th><th scope=col>&lt;dbl&gt;</th><th scope=col>&lt;lgl&gt;</th><th scope=col>&lt;lgl&gt;</th></tr>\n",
       "</thead>\n",
       "<tbody>\n",
       "\t<tr><td>Strathcona </td><td>0.5577118</td><td>0.4385246</td><td>-0.119187188</td><td>0.0000</td><td> TRUE</td><td> TRUE</td></tr>\n",
       "\t<tr><td>Shaughnessy</td><td>0.4612766</td><td>0.4364641</td><td>-0.024812507</td><td>0.4398</td><td>FALSE</td><td>FALSE</td></tr>\n",
       "\t<tr><td>Marpole    </td><td>0.5688531</td><td>0.5661664</td><td>-0.002686649</td><td>0.9166</td><td>FALSE</td><td>FALSE</td></tr>\n",
       "</tbody>\n",
       "</table>\n"
      ],
      "text/latex": [
       "A data.frame: 3 × 7\n",
       "\\begin{tabular}{lllllll}\n",
       " neighbourhood & past\\_prop & current\\_prop & diff\\_in\\_props & p\\_value & reject5 & reject10\\\\\n",
       " <chr> & <dbl> & <dbl> & <dbl> & <dbl> & <lgl> & <lgl>\\\\\n",
       "\\hline\n",
       "\t Strathcona  & 0.5577118 & 0.4385246 & -0.119187188 & 0.0000 &  TRUE &  TRUE\\\\\n",
       "\t Shaughnessy & 0.4612766 & 0.4364641 & -0.024812507 & 0.4398 & FALSE & FALSE\\\\\n",
       "\t Marpole     & 0.5688531 & 0.5661664 & -0.002686649 & 0.9166 & FALSE & FALSE\\\\\n",
       "\\end{tabular}\n"
      ],
      "text/markdown": [
       "\n",
       "A data.frame: 3 × 7\n",
       "\n",
       "| neighbourhood &lt;chr&gt; | past_prop &lt;dbl&gt; | current_prop &lt;dbl&gt; | diff_in_props &lt;dbl&gt; | p_value &lt;dbl&gt; | reject5 &lt;lgl&gt; | reject10 &lt;lgl&gt; |\n",
       "|---|---|---|---|---|---|---|\n",
       "| Strathcona  | 0.5577118 | 0.4385246 | -0.119187188 | 0.0000 |  TRUE |  TRUE |\n",
       "| Shaughnessy | 0.4612766 | 0.4364641 | -0.024812507 | 0.4398 | FALSE | FALSE |\n",
       "| Marpole     | 0.5688531 | 0.5661664 | -0.002686649 | 0.9166 | FALSE | FALSE |\n",
       "\n"
      ],
      "text/plain": [
       "  neighbourhood past_prop current_prop diff_in_props p_value reject5 reject10\n",
       "1 Strathcona    0.5577118 0.4385246    -0.119187188  0.0000   TRUE    TRUE   \n",
       "2 Shaughnessy   0.4612766 0.4364641    -0.024812507  0.4398  FALSE   FALSE   \n",
       "3 Marpole       0.5688531 0.5661664    -0.002686649  0.9166  FALSE   FALSE   "
      ]
     },
     "metadata": {},
     "output_type": "display_data"
    }
   ],
   "source": [
    "results <- results %>%\n",
    "    mutate(reject5=p_value < 0.05, reject10=p_value < 0.10)\n",
    "results"
   ]
  },
  {
   "cell_type": "markdown",
   "metadata": {},
   "source": [
    "## Asymptotics\n",
    "\n",
    "Description of asymptotics."
   ]
  },
  {
   "cell_type": "code",
   "execution_count": 29,
   "metadata": {},
   "outputs": [],
   "source": [
    "neighbourhoods <- \n",
    "    crime_data %>%\n",
    "    mutate(neighbourhood = as.character(neighbourhood))%>%\n",
    "    pull(unique(neighbourhood))\n",
    "    \n",
    "neighbourhoods_list<-unique(neighbourhoods)\n",
    "\n",
    "\n",
    "    "
   ]
  },
  {
   "cell_type": "markdown",
   "metadata": {},
   "source": [
    "## Past Data and Calculating our P0\n",
    "\n",
    "First, like look at what the crime rates are in the past three years (2017, 2018, 2019).  Since our hypothesis states that there is not changes in crime rates in the past year compared to the Covid year in 2020, we are going to use the proportion of Thefts in the past years as our null-hypothesis.\n",
    "\n",
    "We will be generating the proportion of reported thefts in each neighbourhood below by:\n",
    "- First creating a fuction that filters out and calculates our parameters for the past years (2017, 2018, 2019)\n",
    "- Then we will pass all the neighourhood into the fucntion\n",
    "- With the results of each neighbourhood, we would then consolidate the infomation via a tibble with the following headers:\n",
    "    - neighbourhood, prop, count, total"
   ]
  },
  {
   "cell_type": "code",
   "execution_count": 30,
   "metadata": {},
   "outputs": [
    {
     "data": {
      "text/html": [
       "<table class=\"dataframe\">\n",
       "<caption>A tibble: 3 × 4</caption>\n",
       "<thead>\n",
       "\t<tr><th scope=col>neighbourhood</th><th scope=col>prop</th><th scope=col>count</th><th scope=col>total</th></tr>\n",
       "\t<tr><th scope=col>&lt;chr&gt;</th><th scope=col>&lt;dbl&gt;</th><th scope=col>&lt;dbl&gt;</th><th scope=col>&lt;dbl&gt;</th></tr>\n",
       "</thead>\n",
       "<tbody>\n",
       "\t<tr><td>Strathcona </td><td>0.5577118</td><td>3305</td><td>5926</td></tr>\n",
       "\t<tr><td>Shaughnessy</td><td>0.4612766</td><td> 542</td><td>1175</td></tr>\n",
       "\t<tr><td>Marpole    </td><td>0.5688531</td><td>1483</td><td>2607</td></tr>\n",
       "</tbody>\n",
       "</table>\n"
      ],
      "text/latex": [
       "A tibble: 3 × 4\n",
       "\\begin{tabular}{llll}\n",
       " neighbourhood & prop & count & total\\\\\n",
       " <chr> & <dbl> & <dbl> & <dbl>\\\\\n",
       "\\hline\n",
       "\t Strathcona  & 0.5577118 & 3305 & 5926\\\\\n",
       "\t Shaughnessy & 0.4612766 &  542 & 1175\\\\\n",
       "\t Marpole     & 0.5688531 & 1483 & 2607\\\\\n",
       "\\end{tabular}\n"
      ],
      "text/markdown": [
       "\n",
       "A tibble: 3 × 4\n",
       "\n",
       "| neighbourhood &lt;chr&gt; | prop &lt;dbl&gt; | count &lt;dbl&gt; | total &lt;dbl&gt; |\n",
       "|---|---|---|---|\n",
       "| Strathcona  | 0.5577118 | 3305 | 5926 |\n",
       "| Shaughnessy | 0.4612766 |  542 | 1175 |\n",
       "| Marpole     | 0.5688531 | 1483 | 2607 |\n",
       "\n"
      ],
      "text/plain": [
       "  neighbourhood prop      count total\n",
       "1 Strathcona    0.5577118 3305  5926 \n",
       "2 Shaughnessy   0.4612766  542  1175 \n",
       "3 Marpole       0.5688531 1483  2607 "
      ]
     },
     "metadata": {},
     "output_type": "display_data"
    }
   ],
   "source": [
    "#Script to generate the Past Proportion for Theft in Vancouver (2017,2018,2019)\n",
    "\n",
    "set.seed(12345)\n",
    "\n",
    "past_prop<-function(neigh) {\n",
    "    crime_data_past <- \n",
    "        crime_data %>%\n",
    "        filter(neighbourhood == neigh)%>%\n",
    "        filter(year %in% c(2017, 2018, 2019))\n",
    "\n",
    "    theft_past_prop <-\n",
    "        crime_data_past%>%\n",
    "        summarize(stat = mean(type %in% theft_crimes),\n",
    "                 count = sum(type %in% theft_crimes)) %>%\n",
    "        mutate(total = nrow(crime_data_past))\n",
    "\n",
    "    return (theft_past_prop)\n",
    "}\n",
    "\n",
    "neighbourhoods <- \n",
    "    crime_data %>%\n",
    "    mutate(neighbourhood = as.character(neighbourhood))%>%\n",
    "    pull(unique(neighbourhood))\n",
    "    \n",
    "neighbourhoods_list<-unique(neighbourhoods)\n",
    "\n",
    "\n",
    "\n",
    "past_prop_neigh <-tibble(neighbourhood = \"\", prop = 0, count = 0, total = 0)\n",
    "\n",
    "\n",
    "\n",
    "for (neigh in neighbourhoods_list) {\n",
    "    \n",
    "    stats <- past_prop(neigh)\n",
    "    prop <- pull(stats[1])\n",
    "    count <-  pull(stats[2])\n",
    "    total <- pull(stats[3])\n",
    "    \n",
    "   past_prop_neigh<-add_row(past_prop_neigh,neighbourhood = neigh, prop = prop, count = count, total = total)\n",
    "    \n",
    "}\n",
    "\n",
    "past_prop_neigh<-past_prop_neigh[-1,]\n",
    "\n",
    "past_prop_neigh\n",
    "\n"
   ]
  },
  {
   "cell_type": "markdown",
   "metadata": {},
   "source": [
    "## Current (2020) Data and Calculating our P_hat\n",
    "\n",
    "Next, we will look at what the crime rates are in the Covid Year (2020). We will generate our sample proportion using the reported thefts in 2020.\n",
    "\n",
    "The following function is similar to the one for Past Data, but modified to produce the proportion of crimes related to thefts for 2020.\n",
    "\n",
    "We will be generating the proportion of reported thefts in each neighbourhood below by:\n",
    "- First creating a fuction that filters out and calculates our parameters for the Covid Year (2020)\n",
    "- Then we will pass all the neighourhood into the fucntion\n",
    "- With the results of each neighbourhood, we would then consolidate the infomation via a tibble with the following headers:\n",
    "    - neighbourhood, prop, count, total"
   ]
  },
  {
   "cell_type": "code",
   "execution_count": 31,
   "metadata": {},
   "outputs": [
    {
     "data": {
      "text/html": [
       "<table class=\"dataframe\">\n",
       "<caption>A tibble: 3 × 4</caption>\n",
       "<thead>\n",
       "\t<tr><th scope=col>neighbourhood</th><th scope=col>prop</th><th scope=col>count</th><th scope=col>total</th></tr>\n",
       "\t<tr><th scope=col>&lt;chr&gt;</th><th scope=col>&lt;dbl&gt;</th><th scope=col>&lt;dbl&gt;</th><th scope=col>&lt;dbl&gt;</th></tr>\n",
       "</thead>\n",
       "<tbody>\n",
       "\t<tr><td>Strathcona </td><td>0.4385246</td><td>749</td><td>1708</td></tr>\n",
       "\t<tr><td>Shaughnessy</td><td>0.4364641</td><td>158</td><td> 362</td></tr>\n",
       "\t<tr><td>Marpole    </td><td>0.5661664</td><td>415</td><td> 733</td></tr>\n",
       "</tbody>\n",
       "</table>\n"
      ],
      "text/latex": [
       "A tibble: 3 × 4\n",
       "\\begin{tabular}{llll}\n",
       " neighbourhood & prop & count & total\\\\\n",
       " <chr> & <dbl> & <dbl> & <dbl>\\\\\n",
       "\\hline\n",
       "\t Strathcona  & 0.4385246 & 749 & 1708\\\\\n",
       "\t Shaughnessy & 0.4364641 & 158 &  362\\\\\n",
       "\t Marpole     & 0.5661664 & 415 &  733\\\\\n",
       "\\end{tabular}\n"
      ],
      "text/markdown": [
       "\n",
       "A tibble: 3 × 4\n",
       "\n",
       "| neighbourhood &lt;chr&gt; | prop &lt;dbl&gt; | count &lt;dbl&gt; | total &lt;dbl&gt; |\n",
       "|---|---|---|---|\n",
       "| Strathcona  | 0.4385246 | 749 | 1708 |\n",
       "| Shaughnessy | 0.4364641 | 158 |  362 |\n",
       "| Marpole     | 0.5661664 | 415 |  733 |\n",
       "\n"
      ],
      "text/plain": [
       "  neighbourhood prop      count total\n",
       "1 Strathcona    0.4385246 749   1708 \n",
       "2 Shaughnessy   0.4364641 158    362 \n",
       "3 Marpole       0.5661664 415    733 "
      ]
     },
     "metadata": {},
     "output_type": "display_data"
    }
   ],
   "source": [
    "#Script to generate the Current Proportion for Theft in Vancouver (2020)\n",
    "\n",
    "set.seed(12345)\n",
    "curr_prop<-function(neigh) {\n",
    "    crime_data_past <- \n",
    "        crime_data %>%\n",
    "        filter(neighbourhood == neigh)%>%\n",
    "        filter(year == 2020)\n",
    "\n",
    "    theft_past_prop <-\n",
    "        crime_data_past%>%\n",
    "        summarize(stat = mean(type %in% theft_crimes),\n",
    "                 count = sum(type %in% theft_crimes)) %>%\n",
    "        mutate(total = nrow(crime_data_past))\n",
    "\n",
    "    return (theft_past_prop)\n",
    "}\n",
    "\n",
    "curr_prop_neigh <-tibble(neighbourhood = \"\", prop = 0, count = 0, total = 0)\n",
    "\n",
    "for (neigh in neighbourhoods_list) {\n",
    "    \n",
    "    stats <- curr_prop(neigh)\n",
    "    prop <- pull(stats[1])\n",
    "    count <-  pull(stats[2])\n",
    "    total <- pull(stats[3])\n",
    "    \n",
    "   curr_prop_neigh<-add_row(curr_prop_neigh,neighbourhood = neigh, prop = prop, count = count, total = total)\n",
    "    \n",
    "}\n",
    "\n",
    "curr_prop_neigh<-curr_prop_neigh[-1,]\n",
    "curr_prop_neigh"
   ]
  },
  {
   "cell_type": "markdown",
   "metadata": {},
   "source": [
    "From a quick glance at the data, there seems to be a difference with the proportion of thefts between 2020 and the past years.  Infact, quite a few seem to have a decrease in crime rate!\n",
    "\n",
    "However, we should not make any asumption that there are significant changes to the crime rate with first running a significance test using Z-test and p-values."
   ]
  },
  {
   "cell_type": "markdown",
   "metadata": {},
   "source": [
    "## Z-Test of Significance between the past years and Covid Year of proportion of Thefts\n",
    "\n",
    "Lets have a look at the significance with the changes in proportion of thefts between the past years and the Covid year.\n",
    "\n",
    "The script below combines and selects the neighbourhood, past proportion value, current proportion value, and the sample size with the above tibbles for the Past and Current Proportion in each neighbourhood.\n",
    "\n",
    "We then calculate the Test Statistic (1 sample Z-Score) and used pnorm to caluclate the p-value for the difference in proportion between the reported thefts in the past year and 2020.  \n",
    "\n",
    "Next, we will test the significance of the difference difference via 5% and 10%, as discussed in our methodology.  "
   ]
  },
  {
   "cell_type": "code",
   "execution_count": 32,
   "metadata": {},
   "outputs": [
    {
     "data": {
      "text/html": [
       "<table class=\"dataframe\">\n",
       "<caption>A tibble: 3 × 8</caption>\n",
       "<thead>\n",
       "\t<tr><th scope=col>neighbourhood</th><th scope=col>past_prop</th><th scope=col>curr_prop</th><th scope=col>curr_count_total</th><th scope=col>stat</th><th scope=col>p_value</th><th scope=col>reject5</th><th scope=col>reject10</th></tr>\n",
       "\t<tr><th scope=col>&lt;chr&gt;</th><th scope=col>&lt;dbl&gt;</th><th scope=col>&lt;dbl&gt;</th><th scope=col>&lt;dbl&gt;</th><th scope=col>&lt;dbl&gt;</th><th scope=col>&lt;dbl&gt;</th><th scope=col>&lt;lgl&gt;</th><th scope=col>&lt;lgl&gt;</th></tr>\n",
       "</thead>\n",
       "<tbody>\n",
       "\t<tr><td>Strathcona </td><td>0.5577118</td><td>0.4385246</td><td>1708</td><td>-9.9178129</td><td>3.483043e-23</td><td> TRUE</td><td> TRUE</td></tr>\n",
       "\t<tr><td>Shaughnessy</td><td>0.4612766</td><td>0.4364641</td><td> 362</td><td>-0.9470247</td><td>3.436262e-01</td><td>FALSE</td><td>FALSE</td></tr>\n",
       "\t<tr><td>Marpole    </td><td>0.5688531</td><td>0.5661664</td><td> 733</td><td>-0.1468758</td><td>8.832301e-01</td><td>FALSE</td><td>FALSE</td></tr>\n",
       "</tbody>\n",
       "</table>\n"
      ],
      "text/latex": [
       "A tibble: 3 × 8\n",
       "\\begin{tabular}{llllllll}\n",
       " neighbourhood & past\\_prop & curr\\_prop & curr\\_count\\_total & stat & p\\_value & reject5 & reject10\\\\\n",
       " <chr> & <dbl> & <dbl> & <dbl> & <dbl> & <dbl> & <lgl> & <lgl>\\\\\n",
       "\\hline\n",
       "\t Strathcona  & 0.5577118 & 0.4385246 & 1708 & -9.9178129 & 3.483043e-23 &  TRUE &  TRUE\\\\\n",
       "\t Shaughnessy & 0.4612766 & 0.4364641 &  362 & -0.9470247 & 3.436262e-01 & FALSE & FALSE\\\\\n",
       "\t Marpole     & 0.5688531 & 0.5661664 &  733 & -0.1468758 & 8.832301e-01 & FALSE & FALSE\\\\\n",
       "\\end{tabular}\n"
      ],
      "text/markdown": [
       "\n",
       "A tibble: 3 × 8\n",
       "\n",
       "| neighbourhood &lt;chr&gt; | past_prop &lt;dbl&gt; | curr_prop &lt;dbl&gt; | curr_count_total &lt;dbl&gt; | stat &lt;dbl&gt; | p_value &lt;dbl&gt; | reject5 &lt;lgl&gt; | reject10 &lt;lgl&gt; |\n",
       "|---|---|---|---|---|---|---|---|\n",
       "| Strathcona  | 0.5577118 | 0.4385246 | 1708 | -9.9178129 | 3.483043e-23 |  TRUE |  TRUE |\n",
       "| Shaughnessy | 0.4612766 | 0.4364641 |  362 | -0.9470247 | 3.436262e-01 | FALSE | FALSE |\n",
       "| Marpole     | 0.5688531 | 0.5661664 |  733 | -0.1468758 | 8.832301e-01 | FALSE | FALSE |\n",
       "\n"
      ],
      "text/plain": [
       "  neighbourhood past_prop curr_prop curr_count_total stat       p_value     \n",
       "1 Strathcona    0.5577118 0.4385246 1708             -9.9178129 3.483043e-23\n",
       "2 Shaughnessy   0.4612766 0.4364641  362             -0.9470247 3.436262e-01\n",
       "3 Marpole       0.5688531 0.5661664  733             -0.1468758 8.832301e-01\n",
       "  reject5 reject10\n",
       "1  TRUE    TRUE   \n",
       "2 FALSE   FALSE   \n",
       "3 FALSE   FALSE   "
      ]
     },
     "metadata": {},
     "output_type": "display_data"
    }
   ],
   "source": [
    "#Combines the Current and Past and produce the Test Statistics and P Value, along with Rejection value\n",
    "\n",
    "combine_past_curr_p_stat <- past_prop_neigh %>% \n",
    "    rename(past_prop = prop) %>%\n",
    "    select(neighbourhood, past_prop) %>%\n",
    "    mutate(curr_prop = curr_prop_neigh$prop,\n",
    "          curr_count_total = curr_prop_neigh$total,\n",
    "          stat = (curr_prop-past_prop)/sqrt(past_prop*(1-past_prop)/curr_count_total),\n",
    "          p_value = ifelse(stat > 0, 2*pnorm(stat, lower.tail=FALSE),2*pnorm(stat, lower.tail=TRUE)),\n",
    "          reject5 = p_value < 0.05,\n",
    "          reject10 = p_value < 0.10)\n",
    "\n",
    "combine_past_curr_p_stat"
   ]
  },
  {
   "cell_type": "markdown",
   "metadata": {},
   "source": [
    "There are quite a few neighbourhoods that we reject our null-hypothesis that there are not changes with the proportion of reported thefts at both 10% and 5% significance level.  \n",
    "\n",
    "Lets have a closer look at the neighbourhood that we fail to reject the null-hypothesis at either 10% or 5% significance level, or both:"
   ]
  },
  {
   "cell_type": "code",
   "execution_count": 33,
   "metadata": {},
   "outputs": [
    {
     "data": {
      "text/html": [
       "<table class=\"dataframe\">\n",
       "<caption>A tibble: 2 × 8</caption>\n",
       "<thead>\n",
       "\t<tr><th scope=col>neighbourhood</th><th scope=col>past_prop</th><th scope=col>curr_prop</th><th scope=col>curr_count_total</th><th scope=col>stat</th><th scope=col>p_value</th><th scope=col>reject5</th><th scope=col>reject10</th></tr>\n",
       "\t<tr><th scope=col>&lt;chr&gt;</th><th scope=col>&lt;dbl&gt;</th><th scope=col>&lt;dbl&gt;</th><th scope=col>&lt;dbl&gt;</th><th scope=col>&lt;dbl&gt;</th><th scope=col>&lt;dbl&gt;</th><th scope=col>&lt;lgl&gt;</th><th scope=col>&lt;lgl&gt;</th></tr>\n",
       "</thead>\n",
       "<tbody>\n",
       "\t<tr><td>Shaughnessy</td><td>0.4612766</td><td>0.4364641</td><td>362</td><td>-0.9470247</td><td>0.3436262</td><td>FALSE</td><td>FALSE</td></tr>\n",
       "\t<tr><td>Marpole    </td><td>0.5688531</td><td>0.5661664</td><td>733</td><td>-0.1468758</td><td>0.8832301</td><td>FALSE</td><td>FALSE</td></tr>\n",
       "</tbody>\n",
       "</table>\n"
      ],
      "text/latex": [
       "A tibble: 2 × 8\n",
       "\\begin{tabular}{llllllll}\n",
       " neighbourhood & past\\_prop & curr\\_prop & curr\\_count\\_total & stat & p\\_value & reject5 & reject10\\\\\n",
       " <chr> & <dbl> & <dbl> & <dbl> & <dbl> & <dbl> & <lgl> & <lgl>\\\\\n",
       "\\hline\n",
       "\t Shaughnessy & 0.4612766 & 0.4364641 & 362 & -0.9470247 & 0.3436262 & FALSE & FALSE\\\\\n",
       "\t Marpole     & 0.5688531 & 0.5661664 & 733 & -0.1468758 & 0.8832301 & FALSE & FALSE\\\\\n",
       "\\end{tabular}\n"
      ],
      "text/markdown": [
       "\n",
       "A tibble: 2 × 8\n",
       "\n",
       "| neighbourhood &lt;chr&gt; | past_prop &lt;dbl&gt; | curr_prop &lt;dbl&gt; | curr_count_total &lt;dbl&gt; | stat &lt;dbl&gt; | p_value &lt;dbl&gt; | reject5 &lt;lgl&gt; | reject10 &lt;lgl&gt; |\n",
       "|---|---|---|---|---|---|---|---|\n",
       "| Shaughnessy | 0.4612766 | 0.4364641 | 362 | -0.9470247 | 0.3436262 | FALSE | FALSE |\n",
       "| Marpole     | 0.5688531 | 0.5661664 | 733 | -0.1468758 | 0.8832301 | FALSE | FALSE |\n",
       "\n"
      ],
      "text/plain": [
       "  neighbourhood past_prop curr_prop curr_count_total stat       p_value  \n",
       "1 Shaughnessy   0.4612766 0.4364641 362              -0.9470247 0.3436262\n",
       "2 Marpole       0.5688531 0.5661664 733              -0.1468758 0.8832301\n",
       "  reject5 reject10\n",
       "1 FALSE   FALSE   \n",
       "2 FALSE   FALSE   "
      ]
     },
     "metadata": {},
     "output_type": "display_data"
    },
    {
     "name": "stdout",
     "output_type": "stream",
     "text": [
      "[1] \"Count of Neighbourhood that failed to reject the null with decrease in theft crime rate:\"\n"
     ]
    },
    {
     "data": {
      "text/html": [
       "2"
      ],
      "text/latex": [
       "2"
      ],
      "text/markdown": [
       "2"
      ],
      "text/plain": [
       "[1] 2"
      ]
     },
     "metadata": {},
     "output_type": "display_data"
    },
    {
     "name": "stdout",
     "output_type": "stream",
     "text": [
      "[1] \"Proportion of Neighbourhood that failed to reject the null with decrease in theft crime rate:\"\n"
     ]
    },
    {
     "data": {
      "text/html": [
       "1"
      ],
      "text/latex": [
       "1"
      ],
      "text/markdown": [
       "1"
      ],
      "text/plain": [
       "[1] 1"
      ]
     },
     "metadata": {},
     "output_type": "display_data"
    }
   ],
   "source": [
    "rejected_neighbourhoods <- combine_past_curr_p_stat %>%\n",
    "    filter(reject5 == FALSE | reject10 == FALSE)\n",
    "\n",
    "rejected_neighbourhoods\n",
    "\n",
    "print(\"Count of Neighbourhood that failed to reject the null with decrease in theft crime rate:\") \n",
    "nrow(rejected_neighbourhoods)\n",
    "\n",
    "print(\"Proportion of Neighbourhood that failed to reject the null with decrease in theft crime rate:\") \n",
    "mean(rejected_neighbourhoods$stat < 0)"
   ]
  },
  {
   "cell_type": "markdown",
   "metadata": {},
   "source": [
    "Out of 24 neighbourhoods, there are 11 that we either fail to reject the null-hypothesis at either 10% or 5% significance level, or both.\n",
    "\n",
    "One thing to note is that with those neighbourhoods, ~72% have decrease in reported thefts.  Lets have a look if that is also true with all of the neighbourhoods."
   ]
  },
  {
   "cell_type": "code",
   "execution_count": 34,
   "metadata": {},
   "outputs": [
    {
     "name": "stdout",
     "output_type": "stream",
     "text": [
      "[1] \"Proportion of Neighbourhood  with decrease in theft crime rate:\"\n"
     ]
    },
    {
     "data": {
      "text/html": [
       "1"
      ],
      "text/latex": [
       "1"
      ],
      "text/markdown": [
       "1"
      ],
      "text/plain": [
       "[1] 1"
      ]
     },
     "metadata": {},
     "output_type": "display_data"
    },
    {
     "name": "stdout",
     "output_type": "stream",
     "text": [
      "[1] \"Proportion of Neighbourhood  with that rejected the Null-Hypothesis:\"\n"
     ]
    },
    {
     "data": {
      "text/html": [
       "0.541666666666667"
      ],
      "text/latex": [
       "0.541666666666667"
      ],
      "text/markdown": [
       "0.541666666666667"
      ],
      "text/plain": [
       "[1] 0.5416667"
      ]
     },
     "metadata": {},
     "output_type": "display_data"
    }
   ],
   "source": [
    "print(\"Proportion of Neighbourhood  with decrease in theft crime rate:\") \n",
    "mean(combine_past_curr_p_stat$stat < 0)\n",
    "\n",
    "print(\"Proportion of Neighbourhood  with that rejected the Null-Hypothesis:\") \n",
    "(24-11)/24"
   ]
  },
  {
   "cell_type": "markdown",
   "metadata": {},
   "source": [
    "### Conculsion of using Z-Test to test the significance with the change in reported thefts in Vancouver\n",
    "\n",
    "Looking at the data, we can see that a majority of neighbourhood rejected the Null-Hypothesis of that there are no changes in reported thefts between the three years before Covid (2017, 2018, 2019) and the Covid year (2020).  \n",
    "\n",
    "One thing to note is that a large majority of the neighbourhoods, either with the Null-Hypothesis rejected or not, seems to have a decrease of reported thefts in 2020 compared to the past year.  \n",
    "\n",
    "One question we can further explore is relationship between Covid and decrease in theft rate.  While it is not a large majority of neighbourhood that had significant amount of changes with reported theft rates, we can further explore why a large majority of the neighbourhood actually saw decrease in reported crime rate in 2020."
   ]
  },
  {
   "cell_type": "markdown",
   "metadata": {},
   "source": [
    "## Confidence Intervals\n",
    "\n",
    "CI write-up."
   ]
  },
  {
   "cell_type": "markdown",
   "metadata": {},
   "source": [
    "A proportion is the average of a random variable that can only assume either 0 or 1. Therefore, by calculating proportions, we are summing up random terms. Also, the sample size is large, n*p≥10 and n*(1-p)≥10. In order to make sure the independence, sample size should be less than 10% of the population size.\n",
    "\n",
    "Then, we can apply the CLT.\n",
    "\n",
    "Let's compute the confidence interval based on Central Limit Theorem."
   ]
  },
  {
   "cell_type": "code",
   "execution_count": 35,
   "metadata": {},
   "outputs": [
    {
     "data": {
      "text/html": [
       "<table class=\"dataframe\">\n",
       "<caption>A tibble: 6 × 3</caption>\n",
       "<thead>\n",
       "\t<tr><th scope=col>type</th><th scope=col>year</th><th scope=col>neighbourhood</th></tr>\n",
       "\t<tr><th scope=col>&lt;fct&gt;</th><th scope=col>&lt;dbl&gt;</th><th scope=col>&lt;fct&gt;</th></tr>\n",
       "</thead>\n",
       "<tbody>\n",
       "\t<tr><td>Break and Enter Commercial</td><td>2017</td><td>Strathcona</td></tr>\n",
       "\t<tr><td>Break and Enter Commercial</td><td>2017</td><td>Strathcona</td></tr>\n",
       "\t<tr><td>Break and Enter Commercial</td><td>2018</td><td>Strathcona</td></tr>\n",
       "\t<tr><td>Break and Enter Commercial</td><td>2019</td><td>Strathcona</td></tr>\n",
       "\t<tr><td>Break and Enter Commercial</td><td>2017</td><td>Strathcona</td></tr>\n",
       "\t<tr><td>Break and Enter Commercial</td><td>2017</td><td>Strathcona</td></tr>\n",
       "</tbody>\n",
       "</table>\n"
      ],
      "text/latex": [
       "A tibble: 6 × 3\n",
       "\\begin{tabular}{lll}\n",
       " type & year & neighbourhood\\\\\n",
       " <fct> & <dbl> & <fct>\\\\\n",
       "\\hline\n",
       "\t Break and Enter Commercial & 2017 & Strathcona\\\\\n",
       "\t Break and Enter Commercial & 2017 & Strathcona\\\\\n",
       "\t Break and Enter Commercial & 2018 & Strathcona\\\\\n",
       "\t Break and Enter Commercial & 2019 & Strathcona\\\\\n",
       "\t Break and Enter Commercial & 2017 & Strathcona\\\\\n",
       "\t Break and Enter Commercial & 2017 & Strathcona\\\\\n",
       "\\end{tabular}\n"
      ],
      "text/markdown": [
       "\n",
       "A tibble: 6 × 3\n",
       "\n",
       "| type &lt;fct&gt; | year &lt;dbl&gt; | neighbourhood &lt;fct&gt; |\n",
       "|---|---|---|\n",
       "| Break and Enter Commercial | 2017 | Strathcona |\n",
       "| Break and Enter Commercial | 2017 | Strathcona |\n",
       "| Break and Enter Commercial | 2018 | Strathcona |\n",
       "| Break and Enter Commercial | 2019 | Strathcona |\n",
       "| Break and Enter Commercial | 2017 | Strathcona |\n",
       "| Break and Enter Commercial | 2017 | Strathcona |\n",
       "\n"
      ],
      "text/plain": [
       "  type                       year neighbourhood\n",
       "1 Break and Enter Commercial 2017 Strathcona   \n",
       "2 Break and Enter Commercial 2017 Strathcona   \n",
       "3 Break and Enter Commercial 2018 Strathcona   \n",
       "4 Break and Enter Commercial 2019 Strathcona   \n",
       "5 Break and Enter Commercial 2017 Strathcona   \n",
       "6 Break and Enter Commercial 2017 Strathcona   "
      ]
     },
     "metadata": {},
     "output_type": "display_data"
    }
   ],
   "source": [
    "crime_data_past <- crime_data %>%\n",
    "        filter(year %in% c(2017, 2018, 2019))\n",
    "head(crime_data_past)"
   ]
  },
  {
   "cell_type": "code",
   "execution_count": 36,
   "metadata": {},
   "outputs": [
    {
     "data": {
      "text/html": [
       "<table class=\"dataframe\">\n",
       "<caption>A tibble: 3 × 4</caption>\n",
       "<thead>\n",
       "\t<tr><th scope=col>neighbourhood</th><th scope=col>prop_p</th><th scope=col>count_p</th><th scope=col>n_past</th></tr>\n",
       "\t<tr><th scope=col>&lt;fct&gt;</th><th scope=col>&lt;dbl&gt;</th><th scope=col>&lt;int&gt;</th><th scope=col>&lt;int&gt;</th></tr>\n",
       "</thead>\n",
       "<tbody>\n",
       "\t<tr><td>Strathcona </td><td>0.5577118</td><td>3305</td><td>5926</td></tr>\n",
       "\t<tr><td>Shaughnessy</td><td>0.4612766</td><td> 542</td><td>1175</td></tr>\n",
       "\t<tr><td>Marpole    </td><td>0.5688531</td><td>1483</td><td>2607</td></tr>\n",
       "</tbody>\n",
       "</table>\n"
      ],
      "text/latex": [
       "A tibble: 3 × 4\n",
       "\\begin{tabular}{llll}\n",
       " neighbourhood & prop\\_p & count\\_p & n\\_past\\\\\n",
       " <fct> & <dbl> & <int> & <int>\\\\\n",
       "\\hline\n",
       "\t Strathcona  & 0.5577118 & 3305 & 5926\\\\\n",
       "\t Shaughnessy & 0.4612766 &  542 & 1175\\\\\n",
       "\t Marpole     & 0.5688531 & 1483 & 2607\\\\\n",
       "\\end{tabular}\n"
      ],
      "text/markdown": [
       "\n",
       "A tibble: 3 × 4\n",
       "\n",
       "| neighbourhood &lt;fct&gt; | prop_p &lt;dbl&gt; | count_p &lt;int&gt; | n_past &lt;int&gt; |\n",
       "|---|---|---|---|\n",
       "| Strathcona  | 0.5577118 | 3305 | 5926 |\n",
       "| Shaughnessy | 0.4612766 |  542 | 1175 |\n",
       "| Marpole     | 0.5688531 | 1483 | 2607 |\n",
       "\n"
      ],
      "text/plain": [
       "  neighbourhood prop_p    count_p n_past\n",
       "1 Strathcona    0.5577118 3305    5926  \n",
       "2 Shaughnessy   0.4612766  542    1175  \n",
       "3 Marpole       0.5688531 1483    2607  "
      ]
     },
     "metadata": {},
     "output_type": "display_data"
    }
   ],
   "source": [
    "prop_past <- crime_data_past %>%\n",
    "    group_by(neighbourhood) %>%\n",
    "    summarize(prop_p = mean(type %in% theft_crimes),\n",
    "              count_p = sum(type %in% theft_crimes),\n",
    "              n_past = n()) \n",
    "\n",
    "head(prop_past)"
   ]
  },
  {
   "cell_type": "code",
   "execution_count": 37,
   "metadata": {},
   "outputs": [
    {
     "data": {
      "text/html": [
       "<table class=\"dataframe\">\n",
       "<caption>A tibble: 6 × 3</caption>\n",
       "<thead>\n",
       "\t<tr><th scope=col>type</th><th scope=col>year</th><th scope=col>neighbourhood</th></tr>\n",
       "\t<tr><th scope=col>&lt;fct&gt;</th><th scope=col>&lt;dbl&gt;</th><th scope=col>&lt;fct&gt;</th></tr>\n",
       "</thead>\n",
       "<tbody>\n",
       "\t<tr><td>Break and Enter Commercial</td><td>2020</td><td>Strathcona</td></tr>\n",
       "\t<tr><td>Break and Enter Commercial</td><td>2020</td><td>Strathcona</td></tr>\n",
       "\t<tr><td>Break and Enter Commercial</td><td>2020</td><td>Strathcona</td></tr>\n",
       "\t<tr><td>Break and Enter Commercial</td><td>2020</td><td>Strathcona</td></tr>\n",
       "\t<tr><td>Break and Enter Commercial</td><td>2020</td><td>Marpole   </td></tr>\n",
       "\t<tr><td>Break and Enter Commercial</td><td>2020</td><td>Marpole   </td></tr>\n",
       "</tbody>\n",
       "</table>\n"
      ],
      "text/latex": [
       "A tibble: 6 × 3\n",
       "\\begin{tabular}{lll}\n",
       " type & year & neighbourhood\\\\\n",
       " <fct> & <dbl> & <fct>\\\\\n",
       "\\hline\n",
       "\t Break and Enter Commercial & 2020 & Strathcona\\\\\n",
       "\t Break and Enter Commercial & 2020 & Strathcona\\\\\n",
       "\t Break and Enter Commercial & 2020 & Strathcona\\\\\n",
       "\t Break and Enter Commercial & 2020 & Strathcona\\\\\n",
       "\t Break and Enter Commercial & 2020 & Marpole   \\\\\n",
       "\t Break and Enter Commercial & 2020 & Marpole   \\\\\n",
       "\\end{tabular}\n"
      ],
      "text/markdown": [
       "\n",
       "A tibble: 6 × 3\n",
       "\n",
       "| type &lt;fct&gt; | year &lt;dbl&gt; | neighbourhood &lt;fct&gt; |\n",
       "|---|---|---|\n",
       "| Break and Enter Commercial | 2020 | Strathcona |\n",
       "| Break and Enter Commercial | 2020 | Strathcona |\n",
       "| Break and Enter Commercial | 2020 | Strathcona |\n",
       "| Break and Enter Commercial | 2020 | Strathcona |\n",
       "| Break and Enter Commercial | 2020 | Marpole    |\n",
       "| Break and Enter Commercial | 2020 | Marpole    |\n",
       "\n"
      ],
      "text/plain": [
       "  type                       year neighbourhood\n",
       "1 Break and Enter Commercial 2020 Strathcona   \n",
       "2 Break and Enter Commercial 2020 Strathcona   \n",
       "3 Break and Enter Commercial 2020 Strathcona   \n",
       "4 Break and Enter Commercial 2020 Strathcona   \n",
       "5 Break and Enter Commercial 2020 Marpole      \n",
       "6 Break and Enter Commercial 2020 Marpole      "
      ]
     },
     "metadata": {},
     "output_type": "display_data"
    }
   ],
   "source": [
    "crime_data_2020 <- crime_data %>%\n",
    "        filter(year==2020)\n",
    "head(crime_data_2020)"
   ]
  },
  {
   "cell_type": "code",
   "execution_count": 38,
   "metadata": {},
   "outputs": [
    {
     "data": {
      "text/html": [
       "<table class=\"dataframe\">\n",
       "<caption>A tibble: 3 × 4</caption>\n",
       "<thead>\n",
       "\t<tr><th scope=col>neighbourhood</th><th scope=col>prop_20</th><th scope=col>count_20</th><th scope=col>n_20</th></tr>\n",
       "\t<tr><th scope=col>&lt;fct&gt;</th><th scope=col>&lt;dbl&gt;</th><th scope=col>&lt;int&gt;</th><th scope=col>&lt;int&gt;</th></tr>\n",
       "</thead>\n",
       "<tbody>\n",
       "\t<tr><td>Strathcona </td><td>0.4385246</td><td>749</td><td>1708</td></tr>\n",
       "\t<tr><td>Shaughnessy</td><td>0.4364641</td><td>158</td><td> 362</td></tr>\n",
       "\t<tr><td>Marpole    </td><td>0.5661664</td><td>415</td><td> 733</td></tr>\n",
       "</tbody>\n",
       "</table>\n"
      ],
      "text/latex": [
       "A tibble: 3 × 4\n",
       "\\begin{tabular}{llll}\n",
       " neighbourhood & prop\\_20 & count\\_20 & n\\_20\\\\\n",
       " <fct> & <dbl> & <int> & <int>\\\\\n",
       "\\hline\n",
       "\t Strathcona  & 0.4385246 & 749 & 1708\\\\\n",
       "\t Shaughnessy & 0.4364641 & 158 &  362\\\\\n",
       "\t Marpole     & 0.5661664 & 415 &  733\\\\\n",
       "\\end{tabular}\n"
      ],
      "text/markdown": [
       "\n",
       "A tibble: 3 × 4\n",
       "\n",
       "| neighbourhood &lt;fct&gt; | prop_20 &lt;dbl&gt; | count_20 &lt;int&gt; | n_20 &lt;int&gt; |\n",
       "|---|---|---|---|\n",
       "| Strathcona  | 0.4385246 | 749 | 1708 |\n",
       "| Shaughnessy | 0.4364641 | 158 |  362 |\n",
       "| Marpole     | 0.5661664 | 415 |  733 |\n",
       "\n"
      ],
      "text/plain": [
       "  neighbourhood prop_20   count_20 n_20\n",
       "1 Strathcona    0.4385246 749      1708\n",
       "2 Shaughnessy   0.4364641 158       362\n",
       "3 Marpole       0.5661664 415       733"
      ]
     },
     "metadata": {},
     "output_type": "display_data"
    }
   ],
   "source": [
    "prop_2020 <- crime_data_2020 %>%\n",
    "    group_by(neighbourhood) %>%\n",
    "    summarize(prop_20 = mean(type %in% theft_crimes),\n",
    "              count_20 = sum(type %in% theft_crimes),\n",
    "              n_20 = n())\n",
    "\n",
    "\n",
    "head(prop_2020)"
   ]
  },
  {
   "cell_type": "code",
   "execution_count": 39,
   "metadata": {},
   "outputs": [
    {
     "data": {
      "text/html": [
       "<table class=\"dataframe\">\n",
       "<caption>A tibble: 3 × 7</caption>\n",
       "<thead>\n",
       "\t<tr><th scope=col>neighbourhood</th><th scope=col>prop_p</th><th scope=col>count_p</th><th scope=col>n_past</th><th scope=col>prop_20</th><th scope=col>count_20</th><th scope=col>n_20</th></tr>\n",
       "\t<tr><th scope=col>&lt;fct&gt;</th><th scope=col>&lt;dbl&gt;</th><th scope=col>&lt;int&gt;</th><th scope=col>&lt;int&gt;</th><th scope=col>&lt;dbl&gt;</th><th scope=col>&lt;int&gt;</th><th scope=col>&lt;int&gt;</th></tr>\n",
       "</thead>\n",
       "<tbody>\n",
       "\t<tr><td>Strathcona </td><td>0.5577118</td><td>3305</td><td>5926</td><td>0.4385246</td><td>749</td><td>1708</td></tr>\n",
       "\t<tr><td>Shaughnessy</td><td>0.4612766</td><td> 542</td><td>1175</td><td>0.4364641</td><td>158</td><td> 362</td></tr>\n",
       "\t<tr><td>Marpole    </td><td>0.5688531</td><td>1483</td><td>2607</td><td>0.5661664</td><td>415</td><td> 733</td></tr>\n",
       "</tbody>\n",
       "</table>\n"
      ],
      "text/latex": [
       "A tibble: 3 × 7\n",
       "\\begin{tabular}{lllllll}\n",
       " neighbourhood & prop\\_p & count\\_p & n\\_past & prop\\_20 & count\\_20 & n\\_20\\\\\n",
       " <fct> & <dbl> & <int> & <int> & <dbl> & <int> & <int>\\\\\n",
       "\\hline\n",
       "\t Strathcona  & 0.5577118 & 3305 & 5926 & 0.4385246 & 749 & 1708\\\\\n",
       "\t Shaughnessy & 0.4612766 &  542 & 1175 & 0.4364641 & 158 &  362\\\\\n",
       "\t Marpole     & 0.5688531 & 1483 & 2607 & 0.5661664 & 415 &  733\\\\\n",
       "\\end{tabular}\n"
      ],
      "text/markdown": [
       "\n",
       "A tibble: 3 × 7\n",
       "\n",
       "| neighbourhood &lt;fct&gt; | prop_p &lt;dbl&gt; | count_p &lt;int&gt; | n_past &lt;int&gt; | prop_20 &lt;dbl&gt; | count_20 &lt;int&gt; | n_20 &lt;int&gt; |\n",
       "|---|---|---|---|---|---|---|\n",
       "| Strathcona  | 0.5577118 | 3305 | 5926 | 0.4385246 | 749 | 1708 |\n",
       "| Shaughnessy | 0.4612766 |  542 | 1175 | 0.4364641 | 158 |  362 |\n",
       "| Marpole     | 0.5688531 | 1483 | 2607 | 0.5661664 | 415 |  733 |\n",
       "\n"
      ],
      "text/plain": [
       "  neighbourhood prop_p    count_p n_past prop_20   count_20 n_20\n",
       "1 Strathcona    0.5577118 3305    5926   0.4385246 749      1708\n",
       "2 Shaughnessy   0.4612766  542    1175   0.4364641 158       362\n",
       "3 Marpole       0.5688531 1483    2607   0.5661664 415       733"
      ]
     },
     "metadata": {},
     "output_type": "display_data"
    }
   ],
   "source": [
    "# merge two tables\n",
    "merge_past_2020 <- left_join(prop_past, prop_2020, by = \"neighbourhood\")\n",
    "head(merge_past_2020)"
   ]
  },
  {
   "cell_type": "code",
   "execution_count": 40,
   "metadata": {},
   "outputs": [
    {
     "data": {
      "text/html": [
       "<table class=\"dataframe\">\n",
       "<caption>A tibble: 3 × 8</caption>\n",
       "<thead>\n",
       "\t<tr><th scope=col>neighbourhood</th><th scope=col>prop_p</th><th scope=col>count_p</th><th scope=col>n_past</th><th scope=col>prop_20</th><th scope=col>count_20</th><th scope=col>n_20</th><th scope=col>prop_diff</th></tr>\n",
       "\t<tr><th scope=col>&lt;fct&gt;</th><th scope=col>&lt;dbl&gt;</th><th scope=col>&lt;int&gt;</th><th scope=col>&lt;int&gt;</th><th scope=col>&lt;dbl&gt;</th><th scope=col>&lt;int&gt;</th><th scope=col>&lt;int&gt;</th><th scope=col>&lt;dbl&gt;</th></tr>\n",
       "</thead>\n",
       "<tbody>\n",
       "\t<tr><td>Strathcona </td><td>0.5577118</td><td>3305</td><td>5926</td><td>0.4385246</td><td>749</td><td>1708</td><td>-0.119187188</td></tr>\n",
       "\t<tr><td>Shaughnessy</td><td>0.4612766</td><td> 542</td><td>1175</td><td>0.4364641</td><td>158</td><td> 362</td><td>-0.024812507</td></tr>\n",
       "\t<tr><td>Marpole    </td><td>0.5688531</td><td>1483</td><td>2607</td><td>0.5661664</td><td>415</td><td> 733</td><td>-0.002686649</td></tr>\n",
       "</tbody>\n",
       "</table>\n"
      ],
      "text/latex": [
       "A tibble: 3 × 8\n",
       "\\begin{tabular}{llllllll}\n",
       " neighbourhood & prop\\_p & count\\_p & n\\_past & prop\\_20 & count\\_20 & n\\_20 & prop\\_diff\\\\\n",
       " <fct> & <dbl> & <int> & <int> & <dbl> & <int> & <int> & <dbl>\\\\\n",
       "\\hline\n",
       "\t Strathcona  & 0.5577118 & 3305 & 5926 & 0.4385246 & 749 & 1708 & -0.119187188\\\\\n",
       "\t Shaughnessy & 0.4612766 &  542 & 1175 & 0.4364641 & 158 &  362 & -0.024812507\\\\\n",
       "\t Marpole     & 0.5688531 & 1483 & 2607 & 0.5661664 & 415 &  733 & -0.002686649\\\\\n",
       "\\end{tabular}\n"
      ],
      "text/markdown": [
       "\n",
       "A tibble: 3 × 8\n",
       "\n",
       "| neighbourhood &lt;fct&gt; | prop_p &lt;dbl&gt; | count_p &lt;int&gt; | n_past &lt;int&gt; | prop_20 &lt;dbl&gt; | count_20 &lt;int&gt; | n_20 &lt;int&gt; | prop_diff &lt;dbl&gt; |\n",
       "|---|---|---|---|---|---|---|---|\n",
       "| Strathcona  | 0.5577118 | 3305 | 5926 | 0.4385246 | 749 | 1708 | -0.119187188 |\n",
       "| Shaughnessy | 0.4612766 |  542 | 1175 | 0.4364641 | 158 |  362 | -0.024812507 |\n",
       "| Marpole     | 0.5688531 | 1483 | 2607 | 0.5661664 | 415 |  733 | -0.002686649 |\n",
       "\n"
      ],
      "text/plain": [
       "  neighbourhood prop_p    count_p n_past prop_20   count_20 n_20 prop_diff   \n",
       "1 Strathcona    0.5577118 3305    5926   0.4385246 749      1708 -0.119187188\n",
       "2 Shaughnessy   0.4612766  542    1175   0.4364641 158       362 -0.024812507\n",
       "3 Marpole       0.5688531 1483    2607   0.5661664 415       733 -0.002686649"
      ]
     },
     "metadata": {},
     "output_type": "display_data"
    }
   ],
   "source": [
    "merge_past_2020 <- merge_past_2020 %>% \n",
    "    mutate(prop_diff = prop_20 - prop_p)\n",
    "\n",
    "head(merge_past_2020)\n"
   ]
  },
  {
   "cell_type": "code",
   "execution_count": 41,
   "metadata": {},
   "outputs": [
    {
     "data": {
      "text/html": [
       "<table class=\"dataframe\">\n",
       "<caption>A tibble: 3 × 9</caption>\n",
       "<thead>\n",
       "\t<tr><th scope=col>neighbourhood</th><th scope=col>prop_p</th><th scope=col>count_p</th><th scope=col>n_past</th><th scope=col>prop_20</th><th scope=col>count_20</th><th scope=col>n_20</th><th scope=col>prop_diff</th><th scope=col>prop_sd</th></tr>\n",
       "\t<tr><th scope=col>&lt;fct&gt;</th><th scope=col>&lt;dbl&gt;</th><th scope=col>&lt;int&gt;</th><th scope=col>&lt;int&gt;</th><th scope=col>&lt;dbl&gt;</th><th scope=col>&lt;int&gt;</th><th scope=col>&lt;int&gt;</th><th scope=col>&lt;dbl&gt;</th><th scope=col>&lt;dbl&gt;</th></tr>\n",
       "</thead>\n",
       "<tbody>\n",
       "\t<tr><td>Strathcona </td><td>0.5577118</td><td>3305</td><td>5926</td><td>0.4385246</td><td>749</td><td>1708</td><td>-0.119187188</td><td>0.01363020</td></tr>\n",
       "\t<tr><td>Shaughnessy</td><td>0.4612766</td><td> 542</td><td>1175</td><td>0.4364641</td><td>158</td><td> 362</td><td>-0.024812507</td><td>0.02984872</td></tr>\n",
       "\t<tr><td>Marpole    </td><td>0.5688531</td><td>1483</td><td>2607</td><td>0.5661664</td><td>415</td><td> 733</td><td>-0.002686649</td><td>0.02071638</td></tr>\n",
       "</tbody>\n",
       "</table>\n"
      ],
      "text/latex": [
       "A tibble: 3 × 9\n",
       "\\begin{tabular}{lllllllll}\n",
       " neighbourhood & prop\\_p & count\\_p & n\\_past & prop\\_20 & count\\_20 & n\\_20 & prop\\_diff & prop\\_sd\\\\\n",
       " <fct> & <dbl> & <int> & <int> & <dbl> & <int> & <int> & <dbl> & <dbl>\\\\\n",
       "\\hline\n",
       "\t Strathcona  & 0.5577118 & 3305 & 5926 & 0.4385246 & 749 & 1708 & -0.119187188 & 0.01363020\\\\\n",
       "\t Shaughnessy & 0.4612766 &  542 & 1175 & 0.4364641 & 158 &  362 & -0.024812507 & 0.02984872\\\\\n",
       "\t Marpole     & 0.5688531 & 1483 & 2607 & 0.5661664 & 415 &  733 & -0.002686649 & 0.02071638\\\\\n",
       "\\end{tabular}\n"
      ],
      "text/markdown": [
       "\n",
       "A tibble: 3 × 9\n",
       "\n",
       "| neighbourhood &lt;fct&gt; | prop_p &lt;dbl&gt; | count_p &lt;int&gt; | n_past &lt;int&gt; | prop_20 &lt;dbl&gt; | count_20 &lt;int&gt; | n_20 &lt;int&gt; | prop_diff &lt;dbl&gt; | prop_sd &lt;dbl&gt; |\n",
       "|---|---|---|---|---|---|---|---|---|\n",
       "| Strathcona  | 0.5577118 | 3305 | 5926 | 0.4385246 | 749 | 1708 | -0.119187188 | 0.01363020 |\n",
       "| Shaughnessy | 0.4612766 |  542 | 1175 | 0.4364641 | 158 |  362 | -0.024812507 | 0.02984872 |\n",
       "| Marpole     | 0.5688531 | 1483 | 2607 | 0.5661664 | 415 |  733 | -0.002686649 | 0.02071638 |\n",
       "\n"
      ],
      "text/plain": [
       "  neighbourhood prop_p    count_p n_past prop_20   count_20 n_20 prop_diff   \n",
       "1 Strathcona    0.5577118 3305    5926   0.4385246 749      1708 -0.119187188\n",
       "2 Shaughnessy   0.4612766  542    1175   0.4364641 158       362 -0.024812507\n",
       "3 Marpole       0.5688531 1483    2607   0.5661664 415       733 -0.002686649\n",
       "  prop_sd   \n",
       "1 0.01363020\n",
       "2 0.02984872\n",
       "3 0.02071638"
      ]
     },
     "metadata": {},
     "output_type": "display_data"
    }
   ],
   "source": [
    "merge_past_2020 <- merge_past_2020 %>%\n",
    "    mutate(prop_sd = sqrt(prop_p*(1-prop_p)/n_past + \n",
    "                prop_20*(1-prop_20)/n_20))\n",
    "\n",
    "head(merge_past_2020)"
   ]
  },
  {
   "cell_type": "code",
   "execution_count": 42,
   "metadata": {},
   "outputs": [
    {
     "ename": "ERROR",
     "evalue": "Error in head(theft_crime_prop_diff_ci): object 'theft_crime_prop_diff_ci' not found\n",
     "output_type": "error",
     "traceback": [
      "Error in head(theft_crime_prop_diff_ci): object 'theft_crime_prop_diff_ci' not found\nTraceback:\n",
      "1. head(theft_crime_prop_diff_ci)"
     ]
    }
   ],
   "source": [
    "# Based on 90% confidence interval\n",
    "theft_crime_prop_diff_ci_90 <- merge_past_2020 %>%\n",
    "    mutate(\n",
    "        lower_ci = merge_past_2020$prop_diff - qnorm(0.95) *\n",
    "        merge_past_2020$prop_sd,\n",
    "        upper_ci = merge_past_2020$prop_diff + qnorm(0.95) *\n",
    "        merge_past_2020$prop_sd) %>%\n",
    "    select(neighbourhood, lower_ci, upper_ci)\n",
    "\n",
    "head(theft_crime_prop_diff_ci)"
   ]
  },
  {
   "cell_type": "code",
   "execution_count": null,
   "metadata": {},
   "outputs": [],
   "source": [
    "# Based on 95% confidence interval\n",
    "theft_crime_prop_diff_ci_95 <- merge_past_2020 %>%\n",
    "    mutate(\n",
    "        lower_ci = merge_past_2020$prop_diff - qnorm(0.975) *\n",
    "        merge_past_2020$prop_sd,\n",
    "        upper_ci = merge_past_2020$prop_diff + qnorm(0.975) *\n",
    "        merge_past_2020$prop_sd) %>%\n",
    "    select(neighbourhood, lower_ci, upper_ci)\n",
    "\n",
    "head(theft_crime_prop_diff_ci)"
   ]
  },
  {
   "cell_type": "code",
   "execution_count": null,
   "metadata": {},
   "outputs": [],
   "source": [
    "#check if the intervals capture 0 based on 90% confidence interval\n",
    "intervals_captured_90 <- theft_crime_prop_diff_ci_90 %>% \n",
    "    mutate(captured = (lower_ci <= 0 & 0 <= upper_ci))"
   ]
  },
  {
   "cell_type": "code",
   "execution_count": null,
   "metadata": {},
   "outputs": [],
   "source": [
    "#Draw CI plot\n",
    "options(repr.plot.width = 5, repr.plot.height = 6)\n",
    "\n",
    "\n",
    "many_ci_plot_90 <- intervals_captured_90 %>%\n",
    "    ggplot() +\n",
    "    scale_colour_manual(breaks = c(\"TRUE\", \"FALSE\"), # Change colour scale for better visibility.\n",
    "                        values = c(\"grey\", \"black\")) +\n",
    "    geom_segment(aes(x = lower_ci,\n",
    "                     xend = upper_ci,\n",
    "                     y = neighbourhood,\n",
    "                     yend = neighbourhood,\n",
    "                     colour = captured)) +\n",
    "    geom_vline(xintercept = 0, colour = \"red\", size = 1) +\n",
    "    labs(title = \"90% Confidence Intervals\",\n",
    "         y = \"Neighbourhood\",\n",
    "         colour = \"Captured?\") +\n",
    "    theme_bw() \n",
    "many_ci_plot_90"
   ]
  },
  {
   "cell_type": "code",
   "execution_count": null,
   "metadata": {},
   "outputs": [],
   "source": [
    "intervals_captured_95 <- theft_crime_prop_diff_ci_95 %>% \n",
    "    mutate(captured = (lower_ci <= 0 & 0 <= upper_ci))"
   ]
  },
  {
   "cell_type": "code",
   "execution_count": null,
   "metadata": {},
   "outputs": [],
   "source": [
    "options(repr.plot.width = 5, repr.plot.height = 6)\n",
    "\n",
    "\n",
    "many_ci_plot_95 <- intervals_captured_95 %>%\n",
    "    ggplot() +\n",
    "    scale_colour_manual(breaks = c(\"TRUE\", \"FALSE\"), # Change colour scale for better visibility.\n",
    "                        values = c(\"grey\", \"black\")) +\n",
    "    geom_segment(aes(x = lower_ci,\n",
    "                     xend = upper_ci,\n",
    "                     y = neighbourhood,\n",
    "                     yend = neighbourhood,\n",
    "                     colour = captured)) +\n",
    "    geom_vline(xintercept = 0, colour = \"red\", size = 1) +\n",
    "    labs(title = \"95% Confidence Intervals\",\n",
    "         y = \"Neighbourhood\",\n",
    "         colour = \"Captured?\") +\n",
    "    theme_bw() \n",
    "many_ci_plot_95"
   ]
  },
  {
   "cell_type": "markdown",
   "metadata": {},
   "source": [
    "Based on ci plot, if the confidence interval captures 0, it means there's no significant difference between crime rates of 2020 and before 2020. If the confidence interval doesn't capture 0, it means there's significant difference between crime rates of 2020 and before 2020. \n",
    "Based on 95% confidence interval, we can find that out of 24 neighbourhoods, there are 12 neighbourhoods captures 0, \n",
    "Based on 90% onfidence interval, we can find that out of 24 neighbourhoods, there are 11 neighbourhoods captures 0,\n",
    "it means the crime rates of majority of the neighbourhoods have no significant changes."
   ]
  },
  {
   "cell_type": "markdown",
   "metadata": {},
   "source": [
    "## Conclusion\n",
    "\n",
    "Boostrapping vs. asymptotics."
   ]
  },
  {
   "cell_type": "markdown",
   "metadata": {},
   "source": [
    "## Discussion\n",
    "\n",
    "\n",
    "* Summarize what you found, and the implications/impact of your findings.\n",
    "    * From looking at the data, roughly 50% of the neighbourhood did not see significant change with reported theft rate\n",
    "    * Crime rate, while insignificant and significant, mostly went down\n",
    "    * Not what we expected, due to increase economic hardship\n",
    "    * Could be many reason:\n",
    "        * People are home more and out on streets less, therefore less opportunities for the types of thefts we analyzed\n",
    "        * Could be that in total, there are less people reporting crimes during 2020\n",
    "    * We could study the crime rate post covid (past 2021) to see if Covid and the social situations caused by it had any significant effect on the reported crime rate\n",
    "* If relevant, discuss whether your results were what you expected to find.\n",
    "    * Also we could look at the factors causing some neighbourhood to have significant changes, as the around 72% of the neighbourhood (from theory based tests) that had significant changes with the crime rate saw a decrease in crime, opposite from what we hypothesized in our primary thoughts \n",
    "* Discuss future questions/research this study could lead to.\n",
    "    * What social event could cause a decrease or increase in crime rate, as Covid seemed to caused a decrease in crime rate\n",
    "    * If the reason for our data was because there was already a downward trend with crime rate, and Covid merely just leveled our the trend."
   ]
  },
  {
   "cell_type": "markdown",
   "metadata": {},
   "source": [
    "## Reflection\n",
    "\n",
    "In our final report, we expect to find that the rate of theft-related crime has changed significantly from past years, supporting the hypothesis that the pandemic is correlated to changing crime rates, including at local levels, with petty crimes.\n",
    "\n",
    "We anticipate the impact of our findings will be the production of actionable insights for both city officials and the VPD. Getting budgets right is hard, but using data-driven methods makes the process significantly easier. Through hypothesis testing, we can put both the safety and security of Vancouverites as a top priority, as weighing police funding versus additional social security measures is of utmost importance.\n",
    "\n",
    "Three examples of further questions that could extend this analysis are:\n",
    "\n",
    "1. Have other (perhaps, more small scale) pandemics affected the rate of theft-related crime? A study could be done of SARS in Toronto, from 2003-04.\n",
    "2. How has COVID-19 affected the rate of theft-related crime at different cities across Canada? Cities could include: Calgary, Edmonton, Winnipeg, Regina, etc.\n",
    "3. In what ways has the rate of violent crime changed since the pandemic began? We could look at the rate of more intense crimes, still on a city basis."
   ]
  },
  {
   "cell_type": "markdown",
   "metadata": {},
   "source": [
    "<hr >"
   ]
  },
  {
   "cell_type": "markdown",
   "metadata": {},
   "source": [
    "## References\n",
    "\n",
    "1. Statistics Canada, _The Social and Economic Impacts of COVID-19: A Six-Month Update_. Published October 20, 2020. [Source](https://www150.statcan.gc.ca/n1/pub/11-631-x/2020004/conclusions-eng.htm).\n",
    "\n",
    "2. Interpol, _Operation Pangea – shining a light on pharmaceutical crime_. Published November 21, 2019. [Source](https://www.interpol.int/en/News-and-Events/News/2019/Operation-Pangea-shining-a-light-on-pharmaceutical-crime).\n",
    "\n",
    "3. ABC News, _FBI warns of potential surge in hate crimes against Asian Americans amid coronavirus_. Published March 27, 2020. [Source](https://abcnews.go.com/US/fbi-warns-potential-surge-hate-crimes-asian-americans/story?id=69831920).\n",
    "\n",
    "4. UN News, _UN chief calls for domestic violence ‘ceasefire’ amid ‘horrifying global surge’_. Published April 6, 2020. [Source](https://news.un.org/en/story/2020/04/1061052).\n",
    "\n",
    "5. CBC, _City of Vancouver freezes police department funding as part of 2021 budget_. Published December 8, 2020. [Source](https://www.cbc.ca/news/canada/british-columbia/city-of-vancouver-freezes-police-department-funding-as-part-of-2021-budget-1.5833731).\n",
    "\n",
    "6. Vancouver Police Department, _Crime Data_. Accessed March 5, 2021. [Source](https://geodash.vpd.ca/opendata/).\n",
    "\n",
    "7. Piazza, _Group Project clarification_. Published March 4, 2021. [Source](https://piazza.com/class/kjqe81ynudx2rm?cid=169).*\n",
    "\n",
    "8. Wright, Bradley R. Entner, Avshalom Caspi et al in Criminology, _RECONSIDERING THE RELATIONSHIP BETWEEN SES AND DELINQUENCY: CAUSATION BUT NOT CORRELATION_. Published March 7, 2006. [Source](https://onlinelibrary.wiley.com/doi/abs/10.1111/j.1745-9125.1999.tb00483.x).\n",
    "\n",
    "9. City of Vancouver, _Census local area profiles 2016_. Published April 10, 2018. [Source](https://opendata.vancouver.ca/explore/dataset/census-local-area-profiles-2016/information/).\n",
    "\n",
    "10. New York Times, _Confidence in Police Is at Record Low, Gallup Survey Finds_. Published August 12, 2020. [Source](https://www.nytimes.com/2020/08/12/us/gallup-poll-police.html).\n",
    "\n",
    "11. Wickham, Hadley and Garrett Grolemund, _R for Data Science_. Published December 2016. [Source](https://r4ds.had.co.nz/).\n",
    "\n",
    "12. Timbers, Tiffany-Anne, Trevor Campbell and Melissa Lee, _Data Science: A First Introduction_. Last updated January 12, 2021. [Source](https://ubc-dsci.github.io/introduction-to-datascience/).\n",
    "\n",
    "\\* Note the Piazza reference is used to ensure we're handling a proportions analysis correctly, since it was a bit unclear in the instructions."
   ]
  },
  {
   "cell_type": "code",
   "execution_count": null,
   "metadata": {},
   "outputs": [],
   "source": [
    "# Delete unzipped files, and the zip archive\n",
    "unlink(\"*.csv\")\n",
    "unlink(\"*.txt\")\n",
    "unlink(\"*.pdf\")\n",
    "unlink(\"*.zip\")"
   ]
  }
 ],
 "metadata": {
  "kernelspec": {
   "display_name": "R",
   "language": "R",
   "name": "ir"
  },
  "language_info": {
   "codemirror_mode": "r",
   "file_extension": ".r",
   "mimetype": "text/x-r-source",
   "name": "R",
   "pygments_lexer": "r",
   "version": "4.0.2"
  }
 },
 "nbformat": 4,
 "nbformat_minor": 4
}
