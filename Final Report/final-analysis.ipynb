{
 "cells": [
  {
   "cell_type": "code",
   "execution_count": 1,
   "metadata": {},
   "outputs": [
    {
     "name": "stderr",
     "output_type": "stream",
     "text": [
      "── \u001b[1mAttaching packages\u001b[22m ─────────────────────────────────────── tidyverse 1.3.0 ──\n",
      "\n",
      "\u001b[32m✔\u001b[39m \u001b[34mggplot2\u001b[39m 3.3.3     \u001b[32m✔\u001b[39m \u001b[34mpurrr  \u001b[39m 0.3.4\n",
      "\u001b[32m✔\u001b[39m \u001b[34mtibble \u001b[39m 3.0.6     \u001b[32m✔\u001b[39m \u001b[34mdplyr  \u001b[39m 1.0.4\n",
      "\u001b[32m✔\u001b[39m \u001b[34mtidyr  \u001b[39m 1.1.3     \u001b[32m✔\u001b[39m \u001b[34mstringr\u001b[39m 1.4.0\n",
      "\u001b[32m✔\u001b[39m \u001b[34mreadr  \u001b[39m 1.4.0     \u001b[32m✔\u001b[39m \u001b[34mforcats\u001b[39m 0.5.1\n",
      "\n",
      "── \u001b[1mConflicts\u001b[22m ────────────────────────────────────────── tidyverse_conflicts() ──\n",
      "\u001b[31m✖\u001b[39m \u001b[34mdplyr\u001b[39m::\u001b[32marrange()\u001b[39m   masks \u001b[34mplyr\u001b[39m::arrange()\n",
      "\u001b[31m✖\u001b[39m \u001b[34mpurrr\u001b[39m::\u001b[32mcompact()\u001b[39m   masks \u001b[34mplyr\u001b[39m::compact()\n",
      "\u001b[31m✖\u001b[39m \u001b[34mdplyr\u001b[39m::\u001b[32mcount()\u001b[39m     masks \u001b[34mplyr\u001b[39m::count()\n",
      "\u001b[31m✖\u001b[39m \u001b[34mdplyr\u001b[39m::\u001b[32mfailwith()\u001b[39m  masks \u001b[34mplyr\u001b[39m::failwith()\n",
      "\u001b[31m✖\u001b[39m \u001b[34mdplyr\u001b[39m::\u001b[32mfilter()\u001b[39m    masks \u001b[34mstats\u001b[39m::filter()\n",
      "\u001b[31m✖\u001b[39m \u001b[34mdplyr\u001b[39m::\u001b[32mid()\u001b[39m        masks \u001b[34mplyr\u001b[39m::id()\n",
      "\u001b[31m✖\u001b[39m \u001b[34mdplyr\u001b[39m::\u001b[32mlag()\u001b[39m       masks \u001b[34mstats\u001b[39m::lag()\n",
      "\u001b[31m✖\u001b[39m \u001b[34mdplyr\u001b[39m::\u001b[32mmutate()\u001b[39m    masks \u001b[34mplyr\u001b[39m::mutate()\n",
      "\u001b[31m✖\u001b[39m \u001b[34mdplyr\u001b[39m::\u001b[32mrename()\u001b[39m    masks \u001b[34mplyr\u001b[39m::rename()\n",
      "\u001b[31m✖\u001b[39m \u001b[34mdplyr\u001b[39m::\u001b[32msummarise()\u001b[39m masks \u001b[34mplyr\u001b[39m::summarise()\n",
      "\u001b[31m✖\u001b[39m \u001b[34mdplyr\u001b[39m::\u001b[32msummarize()\u001b[39m masks \u001b[34mplyr\u001b[39m::summarize()\n",
      "\n",
      "\n",
      "Attaching package: ‘janitor’\n",
      "\n",
      "\n",
      "The following objects are masked from ‘package:stats’:\n",
      "\n",
      "    chisq.test, fisher.test\n",
      "\n",
      "\n"
     ]
    }
   ],
   "source": [
    "library(plyr)\n",
    "library(tidyverse)\n",
    "library(infer)\n",
    "library(janitor)\n",
    "library(repr)\n",
    "library(stringr)\n",
    "library(ggthemes)"
   ]
  },
  {
   "cell_type": "code",
   "execution_count": 5,
   "metadata": {},
   "outputs": [
    {
     "name": "stderr",
     "output_type": "stream",
     "text": [
      "\n",
      "\u001b[36m──\u001b[39m \u001b[1m\u001b[1mColumn specification\u001b[1m\u001b[22m \u001b[36m────────────────────────────────────────────────────────\u001b[39m\n",
      "cols(\n",
      "  TYPE = \u001b[31mcol_character()\u001b[39m,\n",
      "  YEAR = \u001b[32mcol_double()\u001b[39m,\n",
      "  MONTH = \u001b[32mcol_double()\u001b[39m,\n",
      "  DAY = \u001b[32mcol_double()\u001b[39m,\n",
      "  HOUR = \u001b[32mcol_double()\u001b[39m,\n",
      "  MINUTE = \u001b[32mcol_double()\u001b[39m,\n",
      "  HUNDRED_BLOCK = \u001b[31mcol_character()\u001b[39m,\n",
      "  NEIGHBOURHOOD = \u001b[31mcol_character()\u001b[39m,\n",
      "  X = \u001b[32mcol_double()\u001b[39m,\n",
      "  Y = \u001b[32mcol_double()\u001b[39m\n",
      ")\n",
      "\n",
      "\n"
     ]
    }
   ],
   "source": [
    "# url <- \"https://geodash.vpd.ca/opendata/crimedata_download/crimedata_csv_all_years.zip\"\n",
    "# filename <- \"crime_data.zip\"\n",
    "# download.file(url, destfile = filename)\n",
    "\n",
    "# # Data comes in as a zip, so we'll need to extract it\n",
    "# unzip(\"crime_data.zip\")\n",
    "\n",
    "# Read in the desired file\n",
    "crime_data <- read_csv(\"crimedata_csv_all_years.csv\")\n"
   ]
  },
  {
   "cell_type": "code",
   "execution_count": 18,
   "metadata": {},
   "outputs": [],
   "source": [
    "theft_crimes <- c(\"Other Theft\", \"Theft from Vehicle\", \n",
    "                  \"Theft of Bicycle\", \"Theft of Vehicle\")\n",
    "crime_data <- crime_data %>% clean_names() %>% mutate(is_theft = type%in% theft_crimes)"
   ]
  },
  {
   "cell_type": "code",
   "execution_count": 19,
   "metadata": {},
   "outputs": [],
   "source": [
    "pre_years <- c(2017, 2018, 2019)\n"
   ]
  },
  {
   "cell_type": "code",
   "execution_count": 20,
   "metadata": {},
   "outputs": [],
   "source": [
    "neighbourhoods <- unique(crime_data$neighbourhood)\n",
    "neighbourhoods <- tibble(neighbourhood=as.character(neighbourhoods[!is.na(neighbourhoods)]))\n",
    "columns <- c(\"neighbourhood\", \"past_prop\", \"current_prop\", \"diff_in_props\", \"p_value\")"
   ]
  },
  {
   "cell_type": "code",
   "execution_count": 21,
   "metadata": {},
   "outputs": [
    {
     "data": {
      "text/html": [
       "<table class=\"dataframe\">\n",
       "<caption>A tibble: 6 × 4</caption>\n",
       "<thead>\n",
       "\t<tr><th scope=col>neighbourhood</th><th scope=col>year</th><th scope=col>is_theft</th><th scope=col>period</th></tr>\n",
       "\t<tr><th scope=col>&lt;chr&gt;</th><th scope=col>&lt;dbl&gt;</th><th scope=col>&lt;lgl&gt;</th><th scope=col>&lt;fct&gt;</th></tr>\n",
       "</thead>\n",
       "<tbody>\n",
       "\t<tr><td>Fairview</td><td>2019</td><td>FALSE</td><td>pre_covid</td></tr>\n",
       "\t<tr><td>West End</td><td>2019</td><td>FALSE</td><td>pre_covid</td></tr>\n",
       "\t<tr><td>West End</td><td>2020</td><td>FALSE</td><td>covid    </td></tr>\n",
       "\t<tr><td>West End</td><td>2017</td><td>FALSE</td><td>pre_covid</td></tr>\n",
       "\t<tr><td>West End</td><td>2018</td><td>FALSE</td><td>pre_covid</td></tr>\n",
       "\t<tr><td>West End</td><td>2020</td><td>FALSE</td><td>covid    </td></tr>\n",
       "</tbody>\n",
       "</table>\n"
      ],
      "text/latex": [
       "A tibble: 6 × 4\n",
       "\\begin{tabular}{llll}\n",
       " neighbourhood & year & is\\_theft & period\\\\\n",
       " <chr> & <dbl> & <lgl> & <fct>\\\\\n",
       "\\hline\n",
       "\t Fairview & 2019 & FALSE & pre\\_covid\\\\\n",
       "\t West End & 2019 & FALSE & pre\\_covid\\\\\n",
       "\t West End & 2020 & FALSE & covid    \\\\\n",
       "\t West End & 2017 & FALSE & pre\\_covid\\\\\n",
       "\t West End & 2018 & FALSE & pre\\_covid\\\\\n",
       "\t West End & 2020 & FALSE & covid    \\\\\n",
       "\\end{tabular}\n"
      ],
      "text/markdown": [
       "\n",
       "A tibble: 6 × 4\n",
       "\n",
       "| neighbourhood &lt;chr&gt; | year &lt;dbl&gt; | is_theft &lt;lgl&gt; | period &lt;fct&gt; |\n",
       "|---|---|---|---|\n",
       "| Fairview | 2019 | FALSE | pre_covid |\n",
       "| West End | 2019 | FALSE | pre_covid |\n",
       "| West End | 2020 | FALSE | covid     |\n",
       "| West End | 2017 | FALSE | pre_covid |\n",
       "| West End | 2018 | FALSE | pre_covid |\n",
       "| West End | 2020 | FALSE | covid     |\n",
       "\n"
      ],
      "text/plain": [
       "  neighbourhood year is_theft period   \n",
       "1 Fairview      2019 FALSE    pre_covid\n",
       "2 West End      2019 FALSE    pre_covid\n",
       "3 West End      2020 FALSE    covid    \n",
       "4 West End      2017 FALSE    pre_covid\n",
       "5 West End      2018 FALSE    pre_covid\n",
       "6 West End      2020 FALSE    covid    "
      ]
     },
     "metadata": {},
     "output_type": "display_data"
    }
   ],
   "source": [
    "crime_data_processed <- crime_data %>%\n",
    "    select(neighbourhood, year, is_theft) %>%\n",
    "    filter(year >= 2017 & year < 2021) %>%\n",
    "    mutate(period=ifelse(year %in% pre_years, 'pre_covid', 'covid')) %>%\n",
    "    mutate(period=as.factor(period)) %>%\n",
    "    mutate(neighbourhood=neighbourhood)\n",
    "head(crime_data_processed)"
   ]
  },
  {
   "cell_type": "code",
   "execution_count": 22,
   "metadata": {},
   "outputs": [],
   "source": [
    "results <- data.frame(matrix(ncol=length(columns), nrow=0))\n",
    "names(results) <- columns"
   ]
  },
  {
   "cell_type": "code",
   "execution_count": 23,
   "metadata": {},
   "outputs": [
    {
     "name": "stderr",
     "output_type": "stream",
     "text": [
      "Warning message:\n",
      "“Please be cautious in reporting a p-value of 0. This result is an approximation based on the number of `reps` chosen in the `generate()` step. See `?get_p_value()` for more information.”\n",
      "Warning message:\n",
      "“Please be cautious in reporting a p-value of 0. This result is an approximation based on the number of `reps` chosen in the `generate()` step. See `?get_p_value()` for more information.”\n",
      "Warning message:\n",
      "“Please be cautious in reporting a p-value of 0. This result is an approximation based on the number of `reps` chosen in the `generate()` step. See `?get_p_value()` for more information.”\n",
      "Warning message:\n",
      "“Please be cautious in reporting a p-value of 0. This result is an approximation based on the number of `reps` chosen in the `generate()` step. See `?get_p_value()` for more information.”\n",
      "Warning message:\n",
      "“Please be cautious in reporting a p-value of 0. This result is an approximation based on the number of `reps` chosen in the `generate()` step. See `?get_p_value()` for more information.”\n",
      "Warning message:\n",
      "“Please be cautious in reporting a p-value of 0. This result is an approximation based on the number of `reps` chosen in the `generate()` step. See `?get_p_value()` for more information.”\n",
      "Warning message:\n",
      "“Please be cautious in reporting a p-value of 0. This result is an approximation based on the number of `reps` chosen in the `generate()` step. See `?get_p_value()` for more information.”\n",
      "Warning message:\n",
      "“Please be cautious in reporting a p-value of 0. This result is an approximation based on the number of `reps` chosen in the `generate()` step. See `?get_p_value()` for more information.”\n",
      "Warning message:\n",
      "“Please be cautious in reporting a p-value of 0. This result is an approximation based on the number of `reps` chosen in the `generate()` step. See `?get_p_value()` for more information.”\n"
     ]
    }
   ],
   "source": [
    "set.seed(12345)\n",
    "for (i in 1:nrow(neighbourhoods)) {\n",
    "    n <- neighbourhoods$neighbourhood[i]\n",
    "    neighbourhood_data <- crime_data_processed %>% filter(neighbourhood==n)\n",
    "    \n",
    "    pre_covid <- neighbourhood_data %>%\n",
    "        filter(period==\"pre_covid\")\n",
    "    pre_covid_prop <- mean(as.numeric(pre_covid$is_theft))\n",
    "    \n",
    "    covid <- neighbourhood_data %>%\n",
    "        filter(period==\"covid\")\n",
    "    covid_prop <- mean(as.numeric(covid$is_theft))\n",
    "    \n",
    "    obs_diff_in_props <- covid_prop - pre_covid_prop\n",
    "    \n",
    "    neighbourhood_infer <- neighbourhood_data %>%\n",
    "        specify(is_theft ~ period, success=\"TRUE\") %>%\n",
    "        hypothesise(null=\"independence\") %>%\n",
    "        generate(reps=1000, type=\"permute\") %>%\n",
    "        calculate(stat=\"diff in props\", order=c(\"covid\", \"pre_covid\"))\n",
    "    \n",
    "    p_value <- neighbourhood_infer %>% get_p_value(obs_diff_in_props, direction=\"two_sided\") %>% pull()\n",
    "    \n",
    "    new_obs <- data.frame(n, pre_covid_prop, covid_prop, obs_diff_in_props, p_value)\n",
    "    names(new_obs) <- columns\n",
    "    results <- rbind(results, new_obs)\n",
    "}"
   ]
  },
  {
   "cell_type": "code",
   "execution_count": 24,
   "metadata": {},
   "outputs": [
    {
     "data": {
      "text/html": [
       "<table class=\"dataframe\">\n",
       "<caption>A data.frame: 24 × 7</caption>\n",
       "<thead>\n",
       "\t<tr><th scope=col>neighbourhood</th><th scope=col>past_prop</th><th scope=col>current_prop</th><th scope=col>diff_in_props</th><th scope=col>p_value</th><th scope=col>reject5</th><th scope=col>reject10</th></tr>\n",
       "\t<tr><th scope=col>&lt;chr&gt;</th><th scope=col>&lt;dbl&gt;</th><th scope=col>&lt;dbl&gt;</th><th scope=col>&lt;dbl&gt;</th><th scope=col>&lt;dbl&gt;</th><th scope=col>&lt;lgl&gt;</th><th scope=col>&lt;lgl&gt;</th></tr>\n",
       "</thead>\n",
       "<tbody>\n",
       "\t<tr><td>Oakridge                 </td><td>0.5432873</td><td>0.4968354</td><td>-0.046451884</td><td>0.176</td><td>FALSE</td><td>FALSE</td></tr>\n",
       "\t<tr><td>Fairview                 </td><td>0.6891537</td><td>0.6194740</td><td>-0.069679692</td><td>0.000</td><td> TRUE</td><td> TRUE</td></tr>\n",
       "\t<tr><td>West End                 </td><td>0.7351588</td><td>0.6331310</td><td>-0.102027854</td><td>0.000</td><td> TRUE</td><td> TRUE</td></tr>\n",
       "\t<tr><td>Central Business District</td><td>0.7533982</td><td>0.6046934</td><td>-0.148704859</td><td>0.000</td><td> TRUE</td><td> TRUE</td></tr>\n",
       "\t<tr><td>Hastings-Sunrise         </td><td>0.6451613</td><td>0.5693642</td><td>-0.075797128</td><td>0.000</td><td> TRUE</td><td> TRUE</td></tr>\n",
       "\t<tr><td>Strathcona               </td><td>0.5577118</td><td>0.4385246</td><td>-0.119187188</td><td>0.000</td><td> TRUE</td><td> TRUE</td></tr>\n",
       "\t<tr><td>Grandview-Woodland       </td><td>0.6237392</td><td>0.5506849</td><td>-0.073054262</td><td>0.000</td><td> TRUE</td><td> TRUE</td></tr>\n",
       "\t<tr><td>Kitsilano                </td><td>0.6463512</td><td>0.6171575</td><td>-0.029193753</td><td>0.052</td><td>FALSE</td><td> TRUE</td></tr>\n",
       "\t<tr><td>Kensington-Cedar Cottage </td><td>0.6043016</td><td>0.6161616</td><td> 0.011860044</td><td>0.444</td><td>FALSE</td><td>FALSE</td></tr>\n",
       "\t<tr><td>Sunset                   </td><td>0.5896720</td><td>0.5651163</td><td>-0.024555738</td><td>0.246</td><td>FALSE</td><td>FALSE</td></tr>\n",
       "\t<tr><td>Mount Pleasant           </td><td>0.6768553</td><td>0.5719462</td><td>-0.104909124</td><td>0.000</td><td> TRUE</td><td> TRUE</td></tr>\n",
       "\t<tr><td>Stanley Park             </td><td>0.7840000</td><td>0.5074627</td><td>-0.276537313</td><td>0.000</td><td> TRUE</td><td> TRUE</td></tr>\n",
       "\t<tr><td>Shaughnessy              </td><td>0.4612766</td><td>0.4364641</td><td>-0.024812507</td><td>0.472</td><td>FALSE</td><td>FALSE</td></tr>\n",
       "\t<tr><td>Marpole                  </td><td>0.5688531</td><td>0.5661664</td><td>-0.002686649</td><td>0.922</td><td>FALSE</td><td>FALSE</td></tr>\n",
       "\t<tr><td>West Point Grey          </td><td>0.5674500</td><td>0.5804878</td><td> 0.013037848</td><td>0.696</td><td>FALSE</td><td>FALSE</td></tr>\n",
       "\t<tr><td>Victoria-Fraserview      </td><td>0.6036842</td><td>0.5797101</td><td>-0.023974066</td><td>0.388</td><td>FALSE</td><td>FALSE</td></tr>\n",
       "\t<tr><td>Kerrisdale               </td><td>0.4675528</td><td>0.5106952</td><td> 0.043142412</td><td>0.162</td><td>FALSE</td><td>FALSE</td></tr>\n",
       "\t<tr><td>Riley Park               </td><td>0.6152695</td><td>0.5239437</td><td>-0.091325799</td><td>0.000</td><td> TRUE</td><td> TRUE</td></tr>\n",
       "\t<tr><td>Arbutus Ridge            </td><td>0.5178026</td><td>0.4740061</td><td>-0.043796529</td><td>0.192</td><td>FALSE</td><td>FALSE</td></tr>\n",
       "\t<tr><td>Renfrew-Collingwood      </td><td>0.6848298</td><td>0.7136490</td><td> 0.028819192</td><td>0.028</td><td> TRUE</td><td> TRUE</td></tr>\n",
       "\t<tr><td>Killarney                </td><td>0.6045561</td><td>0.5986395</td><td>-0.005916619</td><td>0.948</td><td>FALSE</td><td>FALSE</td></tr>\n",
       "\t<tr><td>Dunbar-Southlands        </td><td>0.5390335</td><td>0.5897436</td><td> 0.050710132</td><td>0.106</td><td>FALSE</td><td>FALSE</td></tr>\n",
       "\t<tr><td>South Cambie             </td><td>0.6170412</td><td>0.6040609</td><td>-0.012980285</td><td>0.728</td><td>FALSE</td><td>FALSE</td></tr>\n",
       "\t<tr><td>Musqueam                 </td><td>0.5111111</td><td>0.1739130</td><td>-0.337198068</td><td>0.012</td><td> TRUE</td><td> TRUE</td></tr>\n",
       "</tbody>\n",
       "</table>\n"
      ],
      "text/latex": [
       "A data.frame: 24 × 7\n",
       "\\begin{tabular}{lllllll}\n",
       " neighbourhood & past\\_prop & current\\_prop & diff\\_in\\_props & p\\_value & reject5 & reject10\\\\\n",
       " <chr> & <dbl> & <dbl> & <dbl> & <dbl> & <lgl> & <lgl>\\\\\n",
       "\\hline\n",
       "\t Oakridge                  & 0.5432873 & 0.4968354 & -0.046451884 & 0.176 & FALSE & FALSE\\\\\n",
       "\t Fairview                  & 0.6891537 & 0.6194740 & -0.069679692 & 0.000 &  TRUE &  TRUE\\\\\n",
       "\t West End                  & 0.7351588 & 0.6331310 & -0.102027854 & 0.000 &  TRUE &  TRUE\\\\\n",
       "\t Central Business District & 0.7533982 & 0.6046934 & -0.148704859 & 0.000 &  TRUE &  TRUE\\\\\n",
       "\t Hastings-Sunrise          & 0.6451613 & 0.5693642 & -0.075797128 & 0.000 &  TRUE &  TRUE\\\\\n",
       "\t Strathcona                & 0.5577118 & 0.4385246 & -0.119187188 & 0.000 &  TRUE &  TRUE\\\\\n",
       "\t Grandview-Woodland        & 0.6237392 & 0.5506849 & -0.073054262 & 0.000 &  TRUE &  TRUE\\\\\n",
       "\t Kitsilano                 & 0.6463512 & 0.6171575 & -0.029193753 & 0.052 & FALSE &  TRUE\\\\\n",
       "\t Kensington-Cedar Cottage  & 0.6043016 & 0.6161616 &  0.011860044 & 0.444 & FALSE & FALSE\\\\\n",
       "\t Sunset                    & 0.5896720 & 0.5651163 & -0.024555738 & 0.246 & FALSE & FALSE\\\\\n",
       "\t Mount Pleasant            & 0.6768553 & 0.5719462 & -0.104909124 & 0.000 &  TRUE &  TRUE\\\\\n",
       "\t Stanley Park              & 0.7840000 & 0.5074627 & -0.276537313 & 0.000 &  TRUE &  TRUE\\\\\n",
       "\t Shaughnessy               & 0.4612766 & 0.4364641 & -0.024812507 & 0.472 & FALSE & FALSE\\\\\n",
       "\t Marpole                   & 0.5688531 & 0.5661664 & -0.002686649 & 0.922 & FALSE & FALSE\\\\\n",
       "\t West Point Grey           & 0.5674500 & 0.5804878 &  0.013037848 & 0.696 & FALSE & FALSE\\\\\n",
       "\t Victoria-Fraserview       & 0.6036842 & 0.5797101 & -0.023974066 & 0.388 & FALSE & FALSE\\\\\n",
       "\t Kerrisdale                & 0.4675528 & 0.5106952 &  0.043142412 & 0.162 & FALSE & FALSE\\\\\n",
       "\t Riley Park                & 0.6152695 & 0.5239437 & -0.091325799 & 0.000 &  TRUE &  TRUE\\\\\n",
       "\t Arbutus Ridge             & 0.5178026 & 0.4740061 & -0.043796529 & 0.192 & FALSE & FALSE\\\\\n",
       "\t Renfrew-Collingwood       & 0.6848298 & 0.7136490 &  0.028819192 & 0.028 &  TRUE &  TRUE\\\\\n",
       "\t Killarney                 & 0.6045561 & 0.5986395 & -0.005916619 & 0.948 & FALSE & FALSE\\\\\n",
       "\t Dunbar-Southlands         & 0.5390335 & 0.5897436 &  0.050710132 & 0.106 & FALSE & FALSE\\\\\n",
       "\t South Cambie              & 0.6170412 & 0.6040609 & -0.012980285 & 0.728 & FALSE & FALSE\\\\\n",
       "\t Musqueam                  & 0.5111111 & 0.1739130 & -0.337198068 & 0.012 &  TRUE &  TRUE\\\\\n",
       "\\end{tabular}\n"
      ],
      "text/markdown": [
       "\n",
       "A data.frame: 24 × 7\n",
       "\n",
       "| neighbourhood &lt;chr&gt; | past_prop &lt;dbl&gt; | current_prop &lt;dbl&gt; | diff_in_props &lt;dbl&gt; | p_value &lt;dbl&gt; | reject5 &lt;lgl&gt; | reject10 &lt;lgl&gt; |\n",
       "|---|---|---|---|---|---|---|\n",
       "| Oakridge                  | 0.5432873 | 0.4968354 | -0.046451884 | 0.176 | FALSE | FALSE |\n",
       "| Fairview                  | 0.6891537 | 0.6194740 | -0.069679692 | 0.000 |  TRUE |  TRUE |\n",
       "| West End                  | 0.7351588 | 0.6331310 | -0.102027854 | 0.000 |  TRUE |  TRUE |\n",
       "| Central Business District | 0.7533982 | 0.6046934 | -0.148704859 | 0.000 |  TRUE |  TRUE |\n",
       "| Hastings-Sunrise          | 0.6451613 | 0.5693642 | -0.075797128 | 0.000 |  TRUE |  TRUE |\n",
       "| Strathcona                | 0.5577118 | 0.4385246 | -0.119187188 | 0.000 |  TRUE |  TRUE |\n",
       "| Grandview-Woodland        | 0.6237392 | 0.5506849 | -0.073054262 | 0.000 |  TRUE |  TRUE |\n",
       "| Kitsilano                 | 0.6463512 | 0.6171575 | -0.029193753 | 0.052 | FALSE |  TRUE |\n",
       "| Kensington-Cedar Cottage  | 0.6043016 | 0.6161616 |  0.011860044 | 0.444 | FALSE | FALSE |\n",
       "| Sunset                    | 0.5896720 | 0.5651163 | -0.024555738 | 0.246 | FALSE | FALSE |\n",
       "| Mount Pleasant            | 0.6768553 | 0.5719462 | -0.104909124 | 0.000 |  TRUE |  TRUE |\n",
       "| Stanley Park              | 0.7840000 | 0.5074627 | -0.276537313 | 0.000 |  TRUE |  TRUE |\n",
       "| Shaughnessy               | 0.4612766 | 0.4364641 | -0.024812507 | 0.472 | FALSE | FALSE |\n",
       "| Marpole                   | 0.5688531 | 0.5661664 | -0.002686649 | 0.922 | FALSE | FALSE |\n",
       "| West Point Grey           | 0.5674500 | 0.5804878 |  0.013037848 | 0.696 | FALSE | FALSE |\n",
       "| Victoria-Fraserview       | 0.6036842 | 0.5797101 | -0.023974066 | 0.388 | FALSE | FALSE |\n",
       "| Kerrisdale                | 0.4675528 | 0.5106952 |  0.043142412 | 0.162 | FALSE | FALSE |\n",
       "| Riley Park                | 0.6152695 | 0.5239437 | -0.091325799 | 0.000 |  TRUE |  TRUE |\n",
       "| Arbutus Ridge             | 0.5178026 | 0.4740061 | -0.043796529 | 0.192 | FALSE | FALSE |\n",
       "| Renfrew-Collingwood       | 0.6848298 | 0.7136490 |  0.028819192 | 0.028 |  TRUE |  TRUE |\n",
       "| Killarney                 | 0.6045561 | 0.5986395 | -0.005916619 | 0.948 | FALSE | FALSE |\n",
       "| Dunbar-Southlands         | 0.5390335 | 0.5897436 |  0.050710132 | 0.106 | FALSE | FALSE |\n",
       "| South Cambie              | 0.6170412 | 0.6040609 | -0.012980285 | 0.728 | FALSE | FALSE |\n",
       "| Musqueam                  | 0.5111111 | 0.1739130 | -0.337198068 | 0.012 |  TRUE |  TRUE |\n",
       "\n"
      ],
      "text/plain": [
       "   neighbourhood             past_prop current_prop diff_in_props p_value\n",
       "1  Oakridge                  0.5432873 0.4968354    -0.046451884  0.176  \n",
       "2  Fairview                  0.6891537 0.6194740    -0.069679692  0.000  \n",
       "3  West End                  0.7351588 0.6331310    -0.102027854  0.000  \n",
       "4  Central Business District 0.7533982 0.6046934    -0.148704859  0.000  \n",
       "5  Hastings-Sunrise          0.6451613 0.5693642    -0.075797128  0.000  \n",
       "6  Strathcona                0.5577118 0.4385246    -0.119187188  0.000  \n",
       "7  Grandview-Woodland        0.6237392 0.5506849    -0.073054262  0.000  \n",
       "8  Kitsilano                 0.6463512 0.6171575    -0.029193753  0.052  \n",
       "9  Kensington-Cedar Cottage  0.6043016 0.6161616     0.011860044  0.444  \n",
       "10 Sunset                    0.5896720 0.5651163    -0.024555738  0.246  \n",
       "11 Mount Pleasant            0.6768553 0.5719462    -0.104909124  0.000  \n",
       "12 Stanley Park              0.7840000 0.5074627    -0.276537313  0.000  \n",
       "13 Shaughnessy               0.4612766 0.4364641    -0.024812507  0.472  \n",
       "14 Marpole                   0.5688531 0.5661664    -0.002686649  0.922  \n",
       "15 West Point Grey           0.5674500 0.5804878     0.013037848  0.696  \n",
       "16 Victoria-Fraserview       0.6036842 0.5797101    -0.023974066  0.388  \n",
       "17 Kerrisdale                0.4675528 0.5106952     0.043142412  0.162  \n",
       "18 Riley Park                0.6152695 0.5239437    -0.091325799  0.000  \n",
       "19 Arbutus Ridge             0.5178026 0.4740061    -0.043796529  0.192  \n",
       "20 Renfrew-Collingwood       0.6848298 0.7136490     0.028819192  0.028  \n",
       "21 Killarney                 0.6045561 0.5986395    -0.005916619  0.948  \n",
       "22 Dunbar-Southlands         0.5390335 0.5897436     0.050710132  0.106  \n",
       "23 South Cambie              0.6170412 0.6040609    -0.012980285  0.728  \n",
       "24 Musqueam                  0.5111111 0.1739130    -0.337198068  0.012  \n",
       "   reject5 reject10\n",
       "1  FALSE   FALSE   \n",
       "2   TRUE    TRUE   \n",
       "3   TRUE    TRUE   \n",
       "4   TRUE    TRUE   \n",
       "5   TRUE    TRUE   \n",
       "6   TRUE    TRUE   \n",
       "7   TRUE    TRUE   \n",
       "8  FALSE    TRUE   \n",
       "9  FALSE   FALSE   \n",
       "10 FALSE   FALSE   \n",
       "11  TRUE    TRUE   \n",
       "12  TRUE    TRUE   \n",
       "13 FALSE   FALSE   \n",
       "14 FALSE   FALSE   \n",
       "15 FALSE   FALSE   \n",
       "16 FALSE   FALSE   \n",
       "17 FALSE   FALSE   \n",
       "18  TRUE    TRUE   \n",
       "19 FALSE   FALSE   \n",
       "20  TRUE    TRUE   \n",
       "21 FALSE   FALSE   \n",
       "22 FALSE   FALSE   \n",
       "23 FALSE   FALSE   \n",
       "24  TRUE    TRUE   "
      ]
     },
     "metadata": {},
     "output_type": "display_data"
    }
   ],
   "source": [
    "results <- results %>%\n",
    "    mutate(reject5=p_value < 0.05, reject10=p_value < 0.10)\n",
    "results"
   ]
  },
  {
   "cell_type": "code",
   "execution_count": null,
   "metadata": {},
   "outputs": [],
   "source": []
  }
 ],
 "metadata": {
  "kernelspec": {
   "display_name": "R",
   "language": "R",
   "name": "ir"
  },
  "language_info": {
   "codemirror_mode": "r",
   "file_extension": ".r",
   "mimetype": "text/x-r-source",
   "name": "R",
   "pygments_lexer": "r",
   "version": "4.0.5"
  }
 },
 "nbformat": 4,
 "nbformat_minor": 4
}
