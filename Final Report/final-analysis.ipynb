{
 "cells": [
  {
   "cell_type": "code",
   "execution_count": 4,
   "metadata": {},
   "outputs": [
    {
     "name": "stderr",
     "output_type": "stream",
     "text": [
      "── \u001b[1mAttaching packages\u001b[22m ─────────────────────────────────────── tidyverse 1.3.0 ──\n",
      "\n",
      "\u001b[32m✔\u001b[39m \u001b[34mggplot2\u001b[39m 3.3.3     \u001b[32m✔\u001b[39m \u001b[34mpurrr  \u001b[39m 0.3.4\n",
      "\u001b[32m✔\u001b[39m \u001b[34mtibble \u001b[39m 3.0.6     \u001b[32m✔\u001b[39m \u001b[34mdplyr  \u001b[39m 1.0.4\n",
      "\u001b[32m✔\u001b[39m \u001b[34mtidyr  \u001b[39m 1.1.3     \u001b[32m✔\u001b[39m \u001b[34mstringr\u001b[39m 1.4.0\n",
      "\u001b[32m✔\u001b[39m \u001b[34mreadr  \u001b[39m 1.4.0     \u001b[32m✔\u001b[39m \u001b[34mforcats\u001b[39m 0.5.1\n",
      "\n",
      "── \u001b[1mConflicts\u001b[22m ────────────────────────────────────────── tidyverse_conflicts() ──\n",
      "\u001b[31m✖\u001b[39m \u001b[34mdplyr\u001b[39m::\u001b[32marrange()\u001b[39m   masks \u001b[34mplyr\u001b[39m::arrange()\n",
      "\u001b[31m✖\u001b[39m \u001b[34mpurrr\u001b[39m::\u001b[32mcompact()\u001b[39m   masks \u001b[34mplyr\u001b[39m::compact()\n",
      "\u001b[31m✖\u001b[39m \u001b[34mdplyr\u001b[39m::\u001b[32mcount()\u001b[39m     masks \u001b[34mplyr\u001b[39m::count()\n",
      "\u001b[31m✖\u001b[39m \u001b[34mdplyr\u001b[39m::\u001b[32mfailwith()\u001b[39m  masks \u001b[34mplyr\u001b[39m::failwith()\n",
      "\u001b[31m✖\u001b[39m \u001b[34mdplyr\u001b[39m::\u001b[32mfilter()\u001b[39m    masks \u001b[34mstats\u001b[39m::filter()\n",
      "\u001b[31m✖\u001b[39m \u001b[34mdplyr\u001b[39m::\u001b[32mid()\u001b[39m        masks \u001b[34mplyr\u001b[39m::id()\n",
      "\u001b[31m✖\u001b[39m \u001b[34mdplyr\u001b[39m::\u001b[32mlag()\u001b[39m       masks \u001b[34mstats\u001b[39m::lag()\n",
      "\u001b[31m✖\u001b[39m \u001b[34mdplyr\u001b[39m::\u001b[32mmutate()\u001b[39m    masks \u001b[34mplyr\u001b[39m::mutate()\n",
      "\u001b[31m✖\u001b[39m \u001b[34mdplyr\u001b[39m::\u001b[32mrename()\u001b[39m    masks \u001b[34mplyr\u001b[39m::rename()\n",
      "\u001b[31m✖\u001b[39m \u001b[34mdplyr\u001b[39m::\u001b[32msummarise()\u001b[39m masks \u001b[34mplyr\u001b[39m::summarise()\n",
      "\u001b[31m✖\u001b[39m \u001b[34mdplyr\u001b[39m::\u001b[32msummarize()\u001b[39m masks \u001b[34mplyr\u001b[39m::summarize()\n",
      "\n",
      "\n",
      "Attaching package: ‘janitor’\n",
      "\n",
      "\n",
      "The following objects are masked from ‘package:stats’:\n",
      "\n",
      "    chisq.test, fisher.test\n",
      "\n",
      "\n"
     ]
    }
   ],
   "source": [
    "library(plyr)\n",
    "library(tidyverse)\n",
    "library(infer)\n",
    "library(janitor)\n",
    "library(repr)\n",
    "library(stringr)\n",
    "library(ggthemes)"
   ]
  },
  {
   "cell_type": "code",
   "execution_count": 5,
   "metadata": {},
   "outputs": [
    {
     "name": "stderr",
     "output_type": "stream",
     "text": [
      "\n",
      "\u001b[36m──\u001b[39m \u001b[1m\u001b[1mColumn specification\u001b[1m\u001b[22m \u001b[36m────────────────────────────────────────────────────────\u001b[39m\n",
      "cols(\n",
      "  TYPE = \u001b[31mcol_character()\u001b[39m,\n",
      "  YEAR = \u001b[32mcol_double()\u001b[39m,\n",
      "  MONTH = \u001b[32mcol_double()\u001b[39m,\n",
      "  DAY = \u001b[32mcol_double()\u001b[39m,\n",
      "  HOUR = \u001b[32mcol_double()\u001b[39m,\n",
      "  MINUTE = \u001b[32mcol_double()\u001b[39m,\n",
      "  HUNDRED_BLOCK = \u001b[31mcol_character()\u001b[39m,\n",
      "  NEIGHBOURHOOD = \u001b[31mcol_character()\u001b[39m,\n",
      "  X = \u001b[32mcol_double()\u001b[39m,\n",
      "  Y = \u001b[32mcol_double()\u001b[39m\n",
      ")\n",
      "\n",
      "\n"
     ]
    }
   ],
   "source": [
    "url <- \"https://geodash.vpd.ca/opendata/crimedata_download/crimedata_csv_all_years.zip\"\n",
    "filename <- \"crime_data.zip\"\n",
    "download.file(url, destfile = filename)\n",
    "\n",
    "# Data comes in as a zip, so we'll need to extract it\n",
    "unzip(\"crime_data.zip\")\n",
    "\n",
    "# Read in the desired file\n",
    "crime_data <- read_csv(\"crimedata_csv_all_years.csv\")\n"
   ]
  },
  {
   "cell_type": "code",
   "execution_count": 150,
   "metadata": {},
   "outputs": [],
   "source": [
    "theft_crimes <- c(\"Other Theft\", \"Theft from Vehicle\", \n",
    "                  \"Theft of Bicycle\", \"Theft of Vehicle\")\n",
    "crime_data <- crime_data %>% clean_names() %>% mutate(is_theft = type%in% theft_crimes)"
   ]
  },
  {
   "cell_type": "code",
   "execution_count": 148,
   "metadata": {},
   "outputs": [
    {
     "data": {
      "text/html": [
       "6782"
      ],
      "text/latex": [
       "6782"
      ],
      "text/markdown": [
       "6782"
      ],
      "text/plain": [
       "[1] 6782"
      ]
     },
     "metadata": {},
     "output_type": "display_data"
    },
    {
     "data": {
      "text/html": [
       "16202"
      ],
      "text/latex": [
       "16202"
      ],
      "text/markdown": [
       "16202"
      ],
      "text/plain": [
       "[1] 16202"
      ]
     },
     "metadata": {},
     "output_type": "display_data"
    },
    {
     "data": {
      "text/html": [
       "28065"
      ],
      "text/latex": [
       "28065"
      ],
      "text/markdown": [
       "28065"
      ],
      "text/plain": [
       "[1] 28065"
      ]
     },
     "metadata": {},
     "output_type": "display_data"
    }
   ],
   "source": [
    "shaughnessy <- crime_data %>% filter(neighbourhood==\"Shaughnessy\")\n",
    "strathcona <- crime_data %>% filter(neighbourhood==\"Strathcona\")\n",
    "marpole <- crime_data %>% filter(neighbourhood==\"Marpole\")"
   ]
  },
  {
   "cell_type": "code",
   "execution_count": 60,
   "metadata": {},
   "outputs": [],
   "source": [
    "pre_years <- c(2017, 2018, 2019)\n",
    "shaughnessy <- shaughnessy %>%\n",
    "    select(is_theft, year) %>%\n",
    "    filter(year >= 2017) %>%\n",
    "    mutate(period=ifelse(year %in% pre_years, 'pre_covid', 'covid')) %>%\n",
    "    mutate(period=as.factor(period))\n"
   ]
  },
  {
   "cell_type": "code",
   "execution_count": 61,
   "metadata": {},
   "outputs": [
    {
     "data": {
      "text/html": [
       "<table class=\"dataframe\">\n",
       "<caption>A tibble: 6 × 3</caption>\n",
       "<thead>\n",
       "\t<tr><th scope=col>is_theft</th><th scope=col>year</th><th scope=col>period</th></tr>\n",
       "\t<tr><th scope=col>&lt;lgl&gt;</th><th scope=col>&lt;dbl&gt;</th><th scope=col>&lt;fct&gt;</th></tr>\n",
       "</thead>\n",
       "<tbody>\n",
       "\t<tr><td>FALSE</td><td>2018</td><td>pre_covid</td></tr>\n",
       "\t<tr><td>FALSE</td><td>2019</td><td>pre_covid</td></tr>\n",
       "\t<tr><td>FALSE</td><td>2021</td><td>covid    </td></tr>\n",
       "\t<tr><td>FALSE</td><td>2020</td><td>covid    </td></tr>\n",
       "\t<tr><td>FALSE</td><td>2018</td><td>pre_covid</td></tr>\n",
       "\t<tr><td>FALSE</td><td>2020</td><td>covid    </td></tr>\n",
       "</tbody>\n",
       "</table>\n"
      ],
      "text/latex": [
       "A tibble: 6 × 3\n",
       "\\begin{tabular}{lll}\n",
       " is\\_theft & year & period\\\\\n",
       " <lgl> & <dbl> & <fct>\\\\\n",
       "\\hline\n",
       "\t FALSE & 2018 & pre\\_covid\\\\\n",
       "\t FALSE & 2019 & pre\\_covid\\\\\n",
       "\t FALSE & 2021 & covid    \\\\\n",
       "\t FALSE & 2020 & covid    \\\\\n",
       "\t FALSE & 2018 & pre\\_covid\\\\\n",
       "\t FALSE & 2020 & covid    \\\\\n",
       "\\end{tabular}\n"
      ],
      "text/markdown": [
       "\n",
       "A tibble: 6 × 3\n",
       "\n",
       "| is_theft &lt;lgl&gt; | year &lt;dbl&gt; | period &lt;fct&gt; |\n",
       "|---|---|---|\n",
       "| FALSE | 2018 | pre_covid |\n",
       "| FALSE | 2019 | pre_covid |\n",
       "| FALSE | 2021 | covid     |\n",
       "| FALSE | 2020 | covid     |\n",
       "| FALSE | 2018 | pre_covid |\n",
       "| FALSE | 2020 | covid     |\n",
       "\n"
      ],
      "text/plain": [
       "  is_theft year period   \n",
       "1 FALSE    2018 pre_covid\n",
       "2 FALSE    2019 pre_covid\n",
       "3 FALSE    2021 covid    \n",
       "4 FALSE    2020 covid    \n",
       "5 FALSE    2018 pre_covid\n",
       "6 FALSE    2020 covid    "
      ]
     },
     "metadata": {},
     "output_type": "display_data"
    }
   ],
   "source": [
    "head(shaughnessy)"
   ]
  },
  {
   "cell_type": "code",
   "execution_count": 67,
   "metadata": {},
   "outputs": [
    {
     "data": {
      "text/html": [
       "-0.0351264746793055"
      ],
      "text/latex": [
       "-0.0351264746793055"
      ],
      "text/markdown": [
       "-0.0351264746793055"
      ],
      "text/plain": [
       "[1] -0.03512647"
      ]
     },
     "metadata": {},
     "output_type": "display_data"
    }
   ],
   "source": [
    "pre_covid <- shaughnessy %>%\n",
    "    filter(period==\"pre_covid\")\n",
    "pre_covid_observed <- mean(as.numeric(pre_covid$is_theft))\n",
    "\n",
    "covid <- shaughnessy %>%\n",
    "    filter(period==\"covid\") \n",
    "covid_observed <- mean(as.numeric(covid$is_theft))\n",
    "\n",
    "observed_diff_in_props <- covid_observed - pre_covid_observed\n",
    "observed_diff_in_props"
   ]
  },
  {
   "cell_type": "code",
   "execution_count": 73,
   "metadata": {},
   "outputs": [],
   "source": [
    "shaughnessy_infer <- shaughnessy %>%\n",
    "    specify(is_theft ~ period, success=\"TRUE\") %>%\n",
    "    hypothesise(null=\"independence\") %>%\n",
    "    generate(reps=10000, type=\"permute\") %>%\n",
    "    calculate(stat=\"diff in props\", order=c(\"covid\", \"pre_covid\"))"
   ]
  },
  {
   "cell_type": "code",
   "execution_count": 133,
   "metadata": {},
   "outputs": [
    {
     "data": {
      "text/html": [
       "0.234"
      ],
      "text/latex": [
       "0.234"
      ],
      "text/markdown": [
       "0.234"
      ],
      "text/plain": [
       "[1] 0.234"
      ]
     },
     "metadata": {},
     "output_type": "display_data"
    }
   ],
   "source": [
    "shaughnessy_infer %>% get_p_value(observed_diff_in_props, direction=\"two_sided\") %>% pull()"
   ]
  },
  {
   "cell_type": "code",
   "execution_count": 165,
   "metadata": {},
   "outputs": [],
   "source": [
    "neighbourhoods <- unique(crime_data$neighbourhood)\n",
    "neighbourhoods <- tibble(neighbourhood=as.character(neighbourhoods[!is.na(neighbourhoods)]))\n",
    "columns <- c(\"neighbourhood\", \"past_prop\", \"current_prop\", \"diff_in_props\", \"p_value\")"
   ]
  },
  {
   "cell_type": "code",
   "execution_count": 167,
   "metadata": {},
   "outputs": [
    {
     "data": {
      "text/html": [
       "<table class=\"dataframe\">\n",
       "<caption>A tibble: 6 × 4</caption>\n",
       "<thead>\n",
       "\t<tr><th scope=col>neighbourhood</th><th scope=col>year</th><th scope=col>is_theft</th><th scope=col>period</th></tr>\n",
       "\t<tr><th scope=col>&lt;chr&gt;</th><th scope=col>&lt;dbl&gt;</th><th scope=col>&lt;lgl&gt;</th><th scope=col>&lt;fct&gt;</th></tr>\n",
       "</thead>\n",
       "<tbody>\n",
       "\t<tr><td>Fairview</td><td>2019</td><td>FALSE</td><td>pre_covid</td></tr>\n",
       "\t<tr><td>West End</td><td>2019</td><td>FALSE</td><td>pre_covid</td></tr>\n",
       "\t<tr><td>West End</td><td>2020</td><td>FALSE</td><td>covid    </td></tr>\n",
       "\t<tr><td>West End</td><td>2017</td><td>FALSE</td><td>pre_covid</td></tr>\n",
       "\t<tr><td>West End</td><td>2018</td><td>FALSE</td><td>pre_covid</td></tr>\n",
       "\t<tr><td>West End</td><td>2020</td><td>FALSE</td><td>covid    </td></tr>\n",
       "</tbody>\n",
       "</table>\n"
      ],
      "text/latex": [
       "A tibble: 6 × 4\n",
       "\\begin{tabular}{llll}\n",
       " neighbourhood & year & is\\_theft & period\\\\\n",
       " <chr> & <dbl> & <lgl> & <fct>\\\\\n",
       "\\hline\n",
       "\t Fairview & 2019 & FALSE & pre\\_covid\\\\\n",
       "\t West End & 2019 & FALSE & pre\\_covid\\\\\n",
       "\t West End & 2020 & FALSE & covid    \\\\\n",
       "\t West End & 2017 & FALSE & pre\\_covid\\\\\n",
       "\t West End & 2018 & FALSE & pre\\_covid\\\\\n",
       "\t West End & 2020 & FALSE & covid    \\\\\n",
       "\\end{tabular}\n"
      ],
      "text/markdown": [
       "\n",
       "A tibble: 6 × 4\n",
       "\n",
       "| neighbourhood &lt;chr&gt; | year &lt;dbl&gt; | is_theft &lt;lgl&gt; | period &lt;fct&gt; |\n",
       "|---|---|---|---|\n",
       "| Fairview | 2019 | FALSE | pre_covid |\n",
       "| West End | 2019 | FALSE | pre_covid |\n",
       "| West End | 2020 | FALSE | covid     |\n",
       "| West End | 2017 | FALSE | pre_covid |\n",
       "| West End | 2018 | FALSE | pre_covid |\n",
       "| West End | 2020 | FALSE | covid     |\n",
       "\n"
      ],
      "text/plain": [
       "  neighbourhood year is_theft period   \n",
       "1 Fairview      2019 FALSE    pre_covid\n",
       "2 West End      2019 FALSE    pre_covid\n",
       "3 West End      2020 FALSE    covid    \n",
       "4 West End      2017 FALSE    pre_covid\n",
       "5 West End      2018 FALSE    pre_covid\n",
       "6 West End      2020 FALSE    covid    "
      ]
     },
     "metadata": {},
     "output_type": "display_data"
    }
   ],
   "source": [
    "crime_data_processed <- crime_data %>%\n",
    "    select(neighbourhood, year, is_theft) %>%\n",
    "    filter(year >= 2017) %>%\n",
    "    mutate(period=ifelse(year %in% pre_years, 'pre_covid', 'covid')) %>%\n",
    "    mutate(period=as.factor(period)) %>%\n",
    "    mutate(neighbourhood=neighbourhood)\n",
    "head(crime_data_processed)"
   ]
  },
  {
   "cell_type": "code",
   "execution_count": 175,
   "metadata": {},
   "outputs": [],
   "source": [
    "results <- data.frame(matrix(ncol=length(columns), nrow=0))\n",
    "names(results) <- columns"
   ]
  },
  {
   "cell_type": "code",
   "execution_count": 176,
   "metadata": {},
   "outputs": [
    {
     "name": "stderr",
     "output_type": "stream",
     "text": [
      "Warning message:\n",
      "“Please be cautious in reporting a p-value of 0. This result is an approximation based on the number of `reps` chosen in the `generate()` step. See `?get_p_value()` for more information.”\n",
      "Warning message:\n",
      "“Please be cautious in reporting a p-value of 0. This result is an approximation based on the number of `reps` chosen in the `generate()` step. See `?get_p_value()` for more information.”\n",
      "Warning message:\n",
      "“Please be cautious in reporting a p-value of 0. This result is an approximation based on the number of `reps` chosen in the `generate()` step. See `?get_p_value()` for more information.”\n",
      "Warning message:\n",
      "“Please be cautious in reporting a p-value of 0. This result is an approximation based on the number of `reps` chosen in the `generate()` step. See `?get_p_value()` for more information.”\n",
      "Warning message:\n",
      "“Please be cautious in reporting a p-value of 0. This result is an approximation based on the number of `reps` chosen in the `generate()` step. See `?get_p_value()` for more information.”\n"
     ]
    }
   ],
   "source": [
    "set.seed(12345)\n",
    "for (i in 1:nrow(neighbourhoods)) {\n",
    "    n <- neighbourhoods$neighbourhood[i]\n",
    "    neighbourhood_data <- crime_data_processed %>% filter(neighbourhood==n)\n",
    "    \n",
    "    pre_covid <- neighbourhood_data %>%\n",
    "        filter(period==\"pre_covid\")\n",
    "    pre_covid_prop <- mean(as.numeric(pre_covid$is_theft))\n",
    "    \n",
    "    covid <- neighbourhood_data %>%\n",
    "        filter(period==\"covid\")\n",
    "    covid_prop <- mean(as.numeric(covid$is_theft))\n",
    "    \n",
    "    obs_diff_in_props <- covid_prop - pre_covid_prop\n",
    "    \n",
    "    neighbourhood_infer <- neighbourhood_data %>%\n",
    "        specify(is_theft ~ period, success=\"TRUE\") %>%\n",
    "        hypothesise(null=\"independence\") %>%\n",
    "        generate(reps=500, type=\"permute\") %>%\n",
    "        calculate(stat=\"diff in props\", order=c(\"covid\", \"pre_covid\"))\n",
    "    \n",
    "    p_value <- neighbourhood_infer %>% get_p_value(observed_diff_in_props, direction=\"two_sided\") %>% pull()\n",
    "    \n",
    "    new_obs <- data.frame(n, pre_covid_prop, covid_prop, obs_diff_in_props, p_value)\n",
    "    names(new_obs) <- columns\n",
    "    results <- rbind(results, new_obs)\n",
    "}"
   ]
  },
  {
   "cell_type": "code",
   "execution_count": 178,
   "metadata": {},
   "outputs": [
    {
     "data": {
      "text/html": [
       "<table class=\"dataframe\">\n",
       "<caption>A data.frame: 24 × 7</caption>\n",
       "<thead>\n",
       "\t<tr><th scope=col>neighbourhood</th><th scope=col>past_prop</th><th scope=col>current_prop</th><th scope=col>diff_in_props</th><th scope=col>p_value</th><th scope=col>reject5</th><th scope=col>reject10</th></tr>\n",
       "\t<tr><th scope=col>&lt;chr&gt;</th><th scope=col>&lt;dbl&gt;</th><th scope=col>&lt;dbl&gt;</th><th scope=col>&lt;dbl&gt;</th><th scope=col>&lt;dbl&gt;</th><th scope=col>&lt;lgl&gt;</th><th scope=col>&lt;lgl&gt;</th></tr>\n",
       "</thead>\n",
       "<tbody>\n",
       "\t<tr><td>Oakridge                 </td><td>0.5432873</td><td>0.4933687</td><td>-0.049918627</td><td>0.244</td><td>FALSE</td><td>FALSE</td></tr>\n",
       "\t<tr><td>Fairview                 </td><td>0.6891537</td><td>0.6078619</td><td>-0.081291734</td><td>0.000</td><td> TRUE</td><td> TRUE</td></tr>\n",
       "\t<tr><td>West End                 </td><td>0.7351588</td><td>0.6428571</td><td>-0.092301674</td><td>0.000</td><td> TRUE</td><td> TRUE</td></tr>\n",
       "\t<tr><td>Central Business District</td><td>0.7533982</td><td>0.5980081</td><td>-0.155390135</td><td>0.000</td><td> TRUE</td><td> TRUE</td></tr>\n",
       "\t<tr><td>Hastings-Sunrise         </td><td>0.6451613</td><td>0.5623028</td><td>-0.082858451</td><td>0.016</td><td> TRUE</td><td> TRUE</td></tr>\n",
       "\t<tr><td>Strathcona               </td><td>0.5577118</td><td>0.4352824</td><td>-0.122429420</td><td>0.004</td><td> TRUE</td><td> TRUE</td></tr>\n",
       "\t<tr><td>Grandview-Woodland       </td><td>0.6237392</td><td>0.5418350</td><td>-0.081904225</td><td>0.004</td><td> TRUE</td><td> TRUE</td></tr>\n",
       "\t<tr><td>Kitsilano                </td><td>0.6463512</td><td>0.6131550</td><td>-0.033196282</td><td>0.012</td><td> TRUE</td><td> TRUE</td></tr>\n",
       "\t<tr><td>Kensington-Cedar Cottage </td><td>0.6043016</td><td>0.6066754</td><td> 0.002373820</td><td>0.012</td><td> TRUE</td><td> TRUE</td></tr>\n",
       "\t<tr><td>Sunset                   </td><td>0.5896720</td><td>0.5712909</td><td>-0.018381073</td><td>0.048</td><td> TRUE</td><td> TRUE</td></tr>\n",
       "\t<tr><td>Mount Pleasant           </td><td>0.6768553</td><td>0.5724168</td><td>-0.104438519</td><td>0.000</td><td> TRUE</td><td> TRUE</td></tr>\n",
       "\t<tr><td>Stanley Park             </td><td>0.7840000</td><td>0.5211268</td><td>-0.262873239</td><td>0.592</td><td>FALSE</td><td>FALSE</td></tr>\n",
       "\t<tr><td>Shaughnessy              </td><td>0.4612766</td><td>0.4261501</td><td>-0.035126475</td><td>0.240</td><td>FALSE</td><td>FALSE</td></tr>\n",
       "\t<tr><td>Marpole                  </td><td>0.5688531</td><td>0.5616740</td><td>-0.007179079</td><td>0.108</td><td>FALSE</td><td>FALSE</td></tr>\n",
       "\t<tr><td>West Point Grey          </td><td>0.5674500</td><td>0.5656780</td><td>-0.001771990</td><td>0.168</td><td>FALSE</td><td>FALSE</td></tr>\n",
       "\t<tr><td>Victoria-Fraserview      </td><td>0.6036842</td><td>0.5744681</td><td>-0.029216125</td><td>0.140</td><td>FALSE</td><td>FALSE</td></tr>\n",
       "\t<tr><td>Kerrisdale               </td><td>0.4675528</td><td>0.4900222</td><td> 0.022469397</td><td>0.220</td><td>FALSE</td><td>FALSE</td></tr>\n",
       "\t<tr><td>Riley Park               </td><td>0.6152695</td><td>0.5189873</td><td>-0.096282119</td><td>0.060</td><td>FALSE</td><td> TRUE</td></tr>\n",
       "\t<tr><td>Arbutus Ridge            </td><td>0.5178026</td><td>0.4974227</td><td>-0.020379965</td><td>0.168</td><td>FALSE</td><td>FALSE</td></tr>\n",
       "\t<tr><td>Renfrew-Collingwood      </td><td>0.6848298</td><td>0.7212670</td><td> 0.036437135</td><td>0.000</td><td> TRUE</td><td> TRUE</td></tr>\n",
       "\t<tr><td>Killarney                </td><td>0.6045561</td><td>0.5806452</td><td>-0.023910913</td><td>0.152</td><td>FALSE</td><td>FALSE</td></tr>\n",
       "\t<tr><td>Dunbar-Southlands        </td><td>0.5390335</td><td>0.5657371</td><td> 0.026703595</td><td>0.180</td><td>FALSE</td><td>FALSE</td></tr>\n",
       "\t<tr><td>South Cambie             </td><td>0.6170412</td><td>0.5947137</td><td>-0.022327542</td><td>0.224</td><td>FALSE</td><td>FALSE</td></tr>\n",
       "\t<tr><td>Musqueam                 </td><td>0.5111111</td><td>0.2000000</td><td>-0.311111111</td><td>0.764</td><td>FALSE</td><td>FALSE</td></tr>\n",
       "</tbody>\n",
       "</table>\n"
      ],
      "text/latex": [
       "A data.frame: 24 × 7\n",
       "\\begin{tabular}{lllllll}\n",
       " neighbourhood & past\\_prop & current\\_prop & diff\\_in\\_props & p\\_value & reject5 & reject10\\\\\n",
       " <chr> & <dbl> & <dbl> & <dbl> & <dbl> & <lgl> & <lgl>\\\\\n",
       "\\hline\n",
       "\t Oakridge                  & 0.5432873 & 0.4933687 & -0.049918627 & 0.244 & FALSE & FALSE\\\\\n",
       "\t Fairview                  & 0.6891537 & 0.6078619 & -0.081291734 & 0.000 &  TRUE &  TRUE\\\\\n",
       "\t West End                  & 0.7351588 & 0.6428571 & -0.092301674 & 0.000 &  TRUE &  TRUE\\\\\n",
       "\t Central Business District & 0.7533982 & 0.5980081 & -0.155390135 & 0.000 &  TRUE &  TRUE\\\\\n",
       "\t Hastings-Sunrise          & 0.6451613 & 0.5623028 & -0.082858451 & 0.016 &  TRUE &  TRUE\\\\\n",
       "\t Strathcona                & 0.5577118 & 0.4352824 & -0.122429420 & 0.004 &  TRUE &  TRUE\\\\\n",
       "\t Grandview-Woodland        & 0.6237392 & 0.5418350 & -0.081904225 & 0.004 &  TRUE &  TRUE\\\\\n",
       "\t Kitsilano                 & 0.6463512 & 0.6131550 & -0.033196282 & 0.012 &  TRUE &  TRUE\\\\\n",
       "\t Kensington-Cedar Cottage  & 0.6043016 & 0.6066754 &  0.002373820 & 0.012 &  TRUE &  TRUE\\\\\n",
       "\t Sunset                    & 0.5896720 & 0.5712909 & -0.018381073 & 0.048 &  TRUE &  TRUE\\\\\n",
       "\t Mount Pleasant            & 0.6768553 & 0.5724168 & -0.104438519 & 0.000 &  TRUE &  TRUE\\\\\n",
       "\t Stanley Park              & 0.7840000 & 0.5211268 & -0.262873239 & 0.592 & FALSE & FALSE\\\\\n",
       "\t Shaughnessy               & 0.4612766 & 0.4261501 & -0.035126475 & 0.240 & FALSE & FALSE\\\\\n",
       "\t Marpole                   & 0.5688531 & 0.5616740 & -0.007179079 & 0.108 & FALSE & FALSE\\\\\n",
       "\t West Point Grey           & 0.5674500 & 0.5656780 & -0.001771990 & 0.168 & FALSE & FALSE\\\\\n",
       "\t Victoria-Fraserview       & 0.6036842 & 0.5744681 & -0.029216125 & 0.140 & FALSE & FALSE\\\\\n",
       "\t Kerrisdale                & 0.4675528 & 0.4900222 &  0.022469397 & 0.220 & FALSE & FALSE\\\\\n",
       "\t Riley Park                & 0.6152695 & 0.5189873 & -0.096282119 & 0.060 & FALSE &  TRUE\\\\\n",
       "\t Arbutus Ridge             & 0.5178026 & 0.4974227 & -0.020379965 & 0.168 & FALSE & FALSE\\\\\n",
       "\t Renfrew-Collingwood       & 0.6848298 & 0.7212670 &  0.036437135 & 0.000 &  TRUE &  TRUE\\\\\n",
       "\t Killarney                 & 0.6045561 & 0.5806452 & -0.023910913 & 0.152 & FALSE & FALSE\\\\\n",
       "\t Dunbar-Southlands         & 0.5390335 & 0.5657371 &  0.026703595 & 0.180 & FALSE & FALSE\\\\\n",
       "\t South Cambie              & 0.6170412 & 0.5947137 & -0.022327542 & 0.224 & FALSE & FALSE\\\\\n",
       "\t Musqueam                  & 0.5111111 & 0.2000000 & -0.311111111 & 0.764 & FALSE & FALSE\\\\\n",
       "\\end{tabular}\n"
      ],
      "text/markdown": [
       "\n",
       "A data.frame: 24 × 7\n",
       "\n",
       "| neighbourhood &lt;chr&gt; | past_prop &lt;dbl&gt; | current_prop &lt;dbl&gt; | diff_in_props &lt;dbl&gt; | p_value &lt;dbl&gt; | reject5 &lt;lgl&gt; | reject10 &lt;lgl&gt; |\n",
       "|---|---|---|---|---|---|---|\n",
       "| Oakridge                  | 0.5432873 | 0.4933687 | -0.049918627 | 0.244 | FALSE | FALSE |\n",
       "| Fairview                  | 0.6891537 | 0.6078619 | -0.081291734 | 0.000 |  TRUE |  TRUE |\n",
       "| West End                  | 0.7351588 | 0.6428571 | -0.092301674 | 0.000 |  TRUE |  TRUE |\n",
       "| Central Business District | 0.7533982 | 0.5980081 | -0.155390135 | 0.000 |  TRUE |  TRUE |\n",
       "| Hastings-Sunrise          | 0.6451613 | 0.5623028 | -0.082858451 | 0.016 |  TRUE |  TRUE |\n",
       "| Strathcona                | 0.5577118 | 0.4352824 | -0.122429420 | 0.004 |  TRUE |  TRUE |\n",
       "| Grandview-Woodland        | 0.6237392 | 0.5418350 | -0.081904225 | 0.004 |  TRUE |  TRUE |\n",
       "| Kitsilano                 | 0.6463512 | 0.6131550 | -0.033196282 | 0.012 |  TRUE |  TRUE |\n",
       "| Kensington-Cedar Cottage  | 0.6043016 | 0.6066754 |  0.002373820 | 0.012 |  TRUE |  TRUE |\n",
       "| Sunset                    | 0.5896720 | 0.5712909 | -0.018381073 | 0.048 |  TRUE |  TRUE |\n",
       "| Mount Pleasant            | 0.6768553 | 0.5724168 | -0.104438519 | 0.000 |  TRUE |  TRUE |\n",
       "| Stanley Park              | 0.7840000 | 0.5211268 | -0.262873239 | 0.592 | FALSE | FALSE |\n",
       "| Shaughnessy               | 0.4612766 | 0.4261501 | -0.035126475 | 0.240 | FALSE | FALSE |\n",
       "| Marpole                   | 0.5688531 | 0.5616740 | -0.007179079 | 0.108 | FALSE | FALSE |\n",
       "| West Point Grey           | 0.5674500 | 0.5656780 | -0.001771990 | 0.168 | FALSE | FALSE |\n",
       "| Victoria-Fraserview       | 0.6036842 | 0.5744681 | -0.029216125 | 0.140 | FALSE | FALSE |\n",
       "| Kerrisdale                | 0.4675528 | 0.4900222 |  0.022469397 | 0.220 | FALSE | FALSE |\n",
       "| Riley Park                | 0.6152695 | 0.5189873 | -0.096282119 | 0.060 | FALSE |  TRUE |\n",
       "| Arbutus Ridge             | 0.5178026 | 0.4974227 | -0.020379965 | 0.168 | FALSE | FALSE |\n",
       "| Renfrew-Collingwood       | 0.6848298 | 0.7212670 |  0.036437135 | 0.000 |  TRUE |  TRUE |\n",
       "| Killarney                 | 0.6045561 | 0.5806452 | -0.023910913 | 0.152 | FALSE | FALSE |\n",
       "| Dunbar-Southlands         | 0.5390335 | 0.5657371 |  0.026703595 | 0.180 | FALSE | FALSE |\n",
       "| South Cambie              | 0.6170412 | 0.5947137 | -0.022327542 | 0.224 | FALSE | FALSE |\n",
       "| Musqueam                  | 0.5111111 | 0.2000000 | -0.311111111 | 0.764 | FALSE | FALSE |\n",
       "\n"
      ],
      "text/plain": [
       "   neighbourhood             past_prop current_prop diff_in_props p_value\n",
       "1  Oakridge                  0.5432873 0.4933687    -0.049918627  0.244  \n",
       "2  Fairview                  0.6891537 0.6078619    -0.081291734  0.000  \n",
       "3  West End                  0.7351588 0.6428571    -0.092301674  0.000  \n",
       "4  Central Business District 0.7533982 0.5980081    -0.155390135  0.000  \n",
       "5  Hastings-Sunrise          0.6451613 0.5623028    -0.082858451  0.016  \n",
       "6  Strathcona                0.5577118 0.4352824    -0.122429420  0.004  \n",
       "7  Grandview-Woodland        0.6237392 0.5418350    -0.081904225  0.004  \n",
       "8  Kitsilano                 0.6463512 0.6131550    -0.033196282  0.012  \n",
       "9  Kensington-Cedar Cottage  0.6043016 0.6066754     0.002373820  0.012  \n",
       "10 Sunset                    0.5896720 0.5712909    -0.018381073  0.048  \n",
       "11 Mount Pleasant            0.6768553 0.5724168    -0.104438519  0.000  \n",
       "12 Stanley Park              0.7840000 0.5211268    -0.262873239  0.592  \n",
       "13 Shaughnessy               0.4612766 0.4261501    -0.035126475  0.240  \n",
       "14 Marpole                   0.5688531 0.5616740    -0.007179079  0.108  \n",
       "15 West Point Grey           0.5674500 0.5656780    -0.001771990  0.168  \n",
       "16 Victoria-Fraserview       0.6036842 0.5744681    -0.029216125  0.140  \n",
       "17 Kerrisdale                0.4675528 0.4900222     0.022469397  0.220  \n",
       "18 Riley Park                0.6152695 0.5189873    -0.096282119  0.060  \n",
       "19 Arbutus Ridge             0.5178026 0.4974227    -0.020379965  0.168  \n",
       "20 Renfrew-Collingwood       0.6848298 0.7212670     0.036437135  0.000  \n",
       "21 Killarney                 0.6045561 0.5806452    -0.023910913  0.152  \n",
       "22 Dunbar-Southlands         0.5390335 0.5657371     0.026703595  0.180  \n",
       "23 South Cambie              0.6170412 0.5947137    -0.022327542  0.224  \n",
       "24 Musqueam                  0.5111111 0.2000000    -0.311111111  0.764  \n",
       "   reject5 reject10\n",
       "1  FALSE   FALSE   \n",
       "2   TRUE    TRUE   \n",
       "3   TRUE    TRUE   \n",
       "4   TRUE    TRUE   \n",
       "5   TRUE    TRUE   \n",
       "6   TRUE    TRUE   \n",
       "7   TRUE    TRUE   \n",
       "8   TRUE    TRUE   \n",
       "9   TRUE    TRUE   \n",
       "10  TRUE    TRUE   \n",
       "11  TRUE    TRUE   \n",
       "12 FALSE   FALSE   \n",
       "13 FALSE   FALSE   \n",
       "14 FALSE   FALSE   \n",
       "15 FALSE   FALSE   \n",
       "16 FALSE   FALSE   \n",
       "17 FALSE   FALSE   \n",
       "18 FALSE    TRUE   \n",
       "19 FALSE   FALSE   \n",
       "20  TRUE    TRUE   \n",
       "21 FALSE   FALSE   \n",
       "22 FALSE   FALSE   \n",
       "23 FALSE   FALSE   \n",
       "24 FALSE   FALSE   "
      ]
     },
     "metadata": {},
     "output_type": "display_data"
    }
   ],
   "source": [
    "results <- results %>%\n",
    "    mutate(reject5=p_value < 0.05, reject10=p_value < 0.10)\n",
    "results"
   ]
  },
  {
   "cell_type": "code",
   "execution_count": null,
   "metadata": {},
   "outputs": [],
   "source": []
  }
 ],
 "metadata": {
  "kernelspec": {
   "display_name": "R",
   "language": "R",
   "name": "ir"
  },
  "language_info": {
   "codemirror_mode": "r",
   "file_extension": ".r",
   "mimetype": "text/x-r-source",
   "name": "R",
   "pygments_lexer": "r",
   "version": "4.0.4"
  }
 },
 "nbformat": 4,
 "nbformat_minor": 4
}
