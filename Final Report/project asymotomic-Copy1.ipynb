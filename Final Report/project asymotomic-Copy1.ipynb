{
 "cells": [
  {
   "cell_type": "code",
   "execution_count": 4,
   "metadata": {},
   "outputs": [
    {
     "name": "stderr",
     "output_type": "stream",
     "text": [
      "── \u001b[1mAttaching packages\u001b[22m ─────────────────────────────────────── tidyverse 1.3.0 ──\n",
      "\n",
      "\u001b[32m✔\u001b[39m \u001b[34mggplot2\u001b[39m 3.3.2     \u001b[32m✔\u001b[39m \u001b[34mpurrr  \u001b[39m 0.3.4\n",
      "\u001b[32m✔\u001b[39m \u001b[34mtibble \u001b[39m 3.0.3     \u001b[32m✔\u001b[39m \u001b[34mdplyr  \u001b[39m 1.0.2\n",
      "\u001b[32m✔\u001b[39m \u001b[34mtidyr  \u001b[39m 1.1.1     \u001b[32m✔\u001b[39m \u001b[34mstringr\u001b[39m 1.4.0\n",
      "\u001b[32m✔\u001b[39m \u001b[34mreadr  \u001b[39m 1.3.1     \u001b[32m✔\u001b[39m \u001b[34mforcats\u001b[39m 0.5.0\n",
      "\n",
      "Warning message:\n",
      "“package ‘ggplot2’ was built under R version 4.0.1”\n",
      "Warning message:\n",
      "“package ‘tibble’ was built under R version 4.0.2”\n",
      "Warning message:\n",
      "“package ‘tidyr’ was built under R version 4.0.2”\n",
      "Warning message:\n",
      "“package ‘dplyr’ was built under R version 4.0.2”\n",
      "── \u001b[1mConflicts\u001b[22m ────────────────────────────────────────── tidyverse_conflicts() ──\n",
      "\u001b[31m✖\u001b[39m \u001b[34mdplyr\u001b[39m::\u001b[32marrange()\u001b[39m   masks \u001b[34mplyr\u001b[39m::arrange()\n",
      "\u001b[31m✖\u001b[39m \u001b[34mpurrr\u001b[39m::\u001b[32mcompact()\u001b[39m   masks \u001b[34mplyr\u001b[39m::compact()\n",
      "\u001b[31m✖\u001b[39m \u001b[34mdplyr\u001b[39m::\u001b[32mcount()\u001b[39m     masks \u001b[34mplyr\u001b[39m::count()\n",
      "\u001b[31m✖\u001b[39m \u001b[34mdplyr\u001b[39m::\u001b[32mfailwith()\u001b[39m  masks \u001b[34mplyr\u001b[39m::failwith()\n",
      "\u001b[31m✖\u001b[39m \u001b[34mdplyr\u001b[39m::\u001b[32mfilter()\u001b[39m    masks \u001b[34mstats\u001b[39m::filter()\n",
      "\u001b[31m✖\u001b[39m \u001b[34mdplyr\u001b[39m::\u001b[32mid()\u001b[39m        masks \u001b[34mplyr\u001b[39m::id()\n",
      "\u001b[31m✖\u001b[39m \u001b[34mdplyr\u001b[39m::\u001b[32mlag()\u001b[39m       masks \u001b[34mstats\u001b[39m::lag()\n",
      "\u001b[31m✖\u001b[39m \u001b[34mdplyr\u001b[39m::\u001b[32mmutate()\u001b[39m    masks \u001b[34mplyr\u001b[39m::mutate()\n",
      "\u001b[31m✖\u001b[39m \u001b[34mdplyr\u001b[39m::\u001b[32mrename()\u001b[39m    masks \u001b[34mplyr\u001b[39m::rename()\n",
      "\u001b[31m✖\u001b[39m \u001b[34mdplyr\u001b[39m::\u001b[32msummarise()\u001b[39m masks \u001b[34mplyr\u001b[39m::summarise()\n",
      "\u001b[31m✖\u001b[39m \u001b[34mdplyr\u001b[39m::\u001b[32msummarize()\u001b[39m masks \u001b[34mplyr\u001b[39m::summarize()\n",
      "\n",
      "Warning message:\n",
      "“package ‘infer’ was built under R version 4.0.2”\n",
      "Updating HTML index of packages in '.Library'\n",
      "\n",
      "Making 'packages.html' ...\n",
      " done\n",
      "\n",
      "\n",
      "Attaching package: ‘janitor’\n",
      "\n",
      "\n",
      "The following objects are masked from ‘package:stats’:\n",
      "\n",
      "    chisq.test, fisher.test\n",
      "\n",
      "\n"
     ]
    }
   ],
   "source": [
    "library(plyr)\n",
    "library(tidyverse)\n",
    "library(infer)\n",
    "library(repr)\n",
    "library(stringr)\n",
    "install.packages(\"janitor\")\n",
    "library(janitor)\n",
    "\n",
    "\n",
    "theme_stat201 <- function (width = 12, height = 5) { \n",
    "    options(repr.plot.width = width, repr.plot.height = height)\n",
    "    theme_bw(base_size = 14) %+replace% \n",
    "        theme(\n",
    "            plot.title = element_text(hjust = 0.5) \n",
    "        )\n",
    "}"
   ]
  },
  {
   "cell_type": "code",
   "execution_count": 5,
   "metadata": {},
   "outputs": [
    {
     "name": "stderr",
     "output_type": "stream",
     "text": [
      "Parsed with column specification:\n",
      "cols(\n",
      "  TYPE = \u001b[31mcol_character()\u001b[39m,\n",
      "  YEAR = \u001b[32mcol_double()\u001b[39m,\n",
      "  MONTH = \u001b[32mcol_double()\u001b[39m,\n",
      "  DAY = \u001b[32mcol_double()\u001b[39m,\n",
      "  HOUR = \u001b[32mcol_double()\u001b[39m,\n",
      "  MINUTE = \u001b[32mcol_double()\u001b[39m,\n",
      "  HUNDRED_BLOCK = \u001b[31mcol_character()\u001b[39m,\n",
      "  NEIGHBOURHOOD = \u001b[31mcol_character()\u001b[39m,\n",
      "  X = \u001b[32mcol_double()\u001b[39m,\n",
      "  Y = \u001b[32mcol_double()\u001b[39m\n",
      ")\n",
      "\n"
     ]
    }
   ],
   "source": [
    "# Download the file to wherever your Jupyter notebook is located\n",
    "url <- \"https://geodash.vpd.ca/opendata/crimedata_download/crimedata_csv_all_years.zip\"\n",
    "filename <- \"crime_data.zip\"\n",
    "download.file(url, destfile = filename)\n",
    "\n",
    "# Data comes in as a zip, so we'll need to extract it\n",
    "unzip(\"crime_data.zip\")\n",
    "\n",
    "# Read in the desired file\n",
    "crime_data <- read_csv(\"crimedata_csv_all_years.csv\")"
   ]
  },
  {
   "cell_type": "code",
   "execution_count": 6,
   "metadata": {},
   "outputs": [
    {
     "name": "stderr",
     "output_type": "stream",
     "text": [
      "Parsed with column specification:\n",
      "cols(\n",
      "  TYPE = \u001b[31mcol_character()\u001b[39m,\n",
      "  YEAR = \u001b[32mcol_double()\u001b[39m,\n",
      "  MONTH = \u001b[32mcol_double()\u001b[39m,\n",
      "  DAY = \u001b[32mcol_double()\u001b[39m,\n",
      "  HOUR = \u001b[32mcol_double()\u001b[39m,\n",
      "  MINUTE = \u001b[32mcol_double()\u001b[39m,\n",
      "  HUNDRED_BLOCK = \u001b[31mcol_character()\u001b[39m,\n",
      "  NEIGHBOURHOOD = \u001b[31mcol_character()\u001b[39m,\n",
      "  X = \u001b[32mcol_double()\u001b[39m,\n",
      "  Y = \u001b[32mcol_double()\u001b[39m\n",
      ")\n",
      "\n"
     ]
    }
   ],
   "source": [
    "crime_data <- read_csv(\"crimedata_csv_all_years.csv\")\n",
    "\n",
    "theft_crimes <- c(\"Other Theft\", \"Theft from Vehicle\", \n",
    "                  \"Theft of Bicycle\", \"Theft of Vehicle\")"
   ]
  },
  {
   "cell_type": "code",
   "execution_count": 7,
   "metadata": {},
   "outputs": [
    {
     "data": {
      "text/html": [
       "<table>\n",
       "<caption>A tibble: 6 × 10</caption>\n",
       "<thead>\n",
       "\t<tr><th scope=col>type</th><th scope=col>year</th><th scope=col>month</th><th scope=col>day</th><th scope=col>hour</th><th scope=col>minute</th><th scope=col>hundred_block</th><th scope=col>neighbourhood</th><th scope=col>x</th><th scope=col>y</th></tr>\n",
       "\t<tr><th scope=col>&lt;chr&gt;</th><th scope=col>&lt;dbl&gt;</th><th scope=col>&lt;dbl&gt;</th><th scope=col>&lt;dbl&gt;</th><th scope=col>&lt;dbl&gt;</th><th scope=col>&lt;dbl&gt;</th><th scope=col>&lt;chr&gt;</th><th scope=col>&lt;chr&gt;</th><th scope=col>&lt;dbl&gt;</th><th scope=col>&lt;dbl&gt;</th></tr>\n",
       "</thead>\n",
       "<tbody>\n",
       "\t<tr><td>Break and Enter Commercial</td><td>2012</td><td>12</td><td>14</td><td> 8</td><td>52</td><td>NA             </td><td>Oakridge</td><td>491285.0</td><td>5453433</td></tr>\n",
       "\t<tr><td>Break and Enter Commercial</td><td>2019</td><td> 3</td><td> 7</td><td> 2</td><td> 6</td><td>10XX SITKA SQ  </td><td>Fairview</td><td>490613.0</td><td>5457110</td></tr>\n",
       "\t<tr><td>Break and Enter Commercial</td><td>2019</td><td> 8</td><td>27</td><td> 4</td><td>12</td><td>10XX ALBERNI ST</td><td>West End</td><td>491007.8</td><td>5459174</td></tr>\n",
       "\t<tr><td>Break and Enter Commercial</td><td>2014</td><td> 8</td><td> 8</td><td> 5</td><td>13</td><td>10XX ALBERNI ST</td><td>West End</td><td>491015.9</td><td>5459166</td></tr>\n",
       "\t<tr><td>Break and Enter Commercial</td><td>2020</td><td> 7</td><td>28</td><td>19</td><td>12</td><td>10XX ALBERNI ST</td><td>West End</td><td>491015.9</td><td>5459166</td></tr>\n",
       "\t<tr><td>Break and Enter Commercial</td><td>2005</td><td>11</td><td>14</td><td> 3</td><td> 9</td><td>10XX ALBERNI ST</td><td>West End</td><td>491021.4</td><td>5459161</td></tr>\n",
       "</tbody>\n",
       "</table>\n"
      ],
      "text/latex": [
       "A tibble: 6 × 10\n",
       "\\begin{tabular}{llllllllll}\n",
       " type & year & month & day & hour & minute & hundred\\_block & neighbourhood & x & y\\\\\n",
       " <chr> & <dbl> & <dbl> & <dbl> & <dbl> & <dbl> & <chr> & <chr> & <dbl> & <dbl>\\\\\n",
       "\\hline\n",
       "\t Break and Enter Commercial & 2012 & 12 & 14 &  8 & 52 & NA              & Oakridge & 491285.0 & 5453433\\\\\n",
       "\t Break and Enter Commercial & 2019 &  3 &  7 &  2 &  6 & 10XX SITKA SQ   & Fairview & 490613.0 & 5457110\\\\\n",
       "\t Break and Enter Commercial & 2019 &  8 & 27 &  4 & 12 & 10XX ALBERNI ST & West End & 491007.8 & 5459174\\\\\n",
       "\t Break and Enter Commercial & 2014 &  8 &  8 &  5 & 13 & 10XX ALBERNI ST & West End & 491015.9 & 5459166\\\\\n",
       "\t Break and Enter Commercial & 2020 &  7 & 28 & 19 & 12 & 10XX ALBERNI ST & West End & 491015.9 & 5459166\\\\\n",
       "\t Break and Enter Commercial & 2005 & 11 & 14 &  3 &  9 & 10XX ALBERNI ST & West End & 491021.4 & 5459161\\\\\n",
       "\\end{tabular}\n"
      ],
      "text/markdown": [
       "\n",
       "A tibble: 6 × 10\n",
       "\n",
       "| type &lt;chr&gt; | year &lt;dbl&gt; | month &lt;dbl&gt; | day &lt;dbl&gt; | hour &lt;dbl&gt; | minute &lt;dbl&gt; | hundred_block &lt;chr&gt; | neighbourhood &lt;chr&gt; | x &lt;dbl&gt; | y &lt;dbl&gt; |\n",
       "|---|---|---|---|---|---|---|---|---|---|\n",
       "| Break and Enter Commercial | 2012 | 12 | 14 |  8 | 52 | NA              | Oakridge | 491285.0 | 5453433 |\n",
       "| Break and Enter Commercial | 2019 |  3 |  7 |  2 |  6 | 10XX SITKA SQ   | Fairview | 490613.0 | 5457110 |\n",
       "| Break and Enter Commercial | 2019 |  8 | 27 |  4 | 12 | 10XX ALBERNI ST | West End | 491007.8 | 5459174 |\n",
       "| Break and Enter Commercial | 2014 |  8 |  8 |  5 | 13 | 10XX ALBERNI ST | West End | 491015.9 | 5459166 |\n",
       "| Break and Enter Commercial | 2020 |  7 | 28 | 19 | 12 | 10XX ALBERNI ST | West End | 491015.9 | 5459166 |\n",
       "| Break and Enter Commercial | 2005 | 11 | 14 |  3 |  9 | 10XX ALBERNI ST | West End | 491021.4 | 5459161 |\n",
       "\n"
      ],
      "text/plain": [
       "  type                       year month day hour minute hundred_block  \n",
       "1 Break and Enter Commercial 2012 12    14   8   52     NA             \n",
       "2 Break and Enter Commercial 2019  3     7   2    6     10XX SITKA SQ  \n",
       "3 Break and Enter Commercial 2019  8    27   4   12     10XX ALBERNI ST\n",
       "4 Break and Enter Commercial 2014  8     8   5   13     10XX ALBERNI ST\n",
       "5 Break and Enter Commercial 2020  7    28  19   12     10XX ALBERNI ST\n",
       "6 Break and Enter Commercial 2005 11    14   3    9     10XX ALBERNI ST\n",
       "  neighbourhood x        y      \n",
       "1 Oakridge      491285.0 5453433\n",
       "2 Fairview      490613.0 5457110\n",
       "3 West End      491007.8 5459174\n",
       "4 West End      491015.9 5459166\n",
       "5 West End      491015.9 5459166\n",
       "6 West End      491021.4 5459161"
      ]
     },
     "metadata": {},
     "output_type": "display_data"
    },
    {
     "name": "stdout",
     "output_type": "stream",
     "text": [
      "[1] \"There are 668167 rows in the data frame\"\n",
      "[1] \"Originally, there were 70135 NA values in the neighbourhood column\"\n",
      "[1] \"Now, there are 0 NA values in the neighbourhood column\"\n"
     ]
    }
   ],
   "source": [
    "crime_data <- crime_data %>% clean_names()\n",
    "head(crime_data)\n",
    "\n",
    "total_rows <- crime_data %>% nrow()\n",
    "print(sprintf(\"There are %d rows in the data frame\", total_rows))\n",
    "\n",
    "na_neighbourhoods <- sum(is.na(crime_data$neighbourhood))\n",
    "print(sprintf(\"Originally, there were %d NA values in the neighbourhood column\", na_neighbourhoods))\n",
    "\n",
    "crime_data <- na.omit(crime_data)\n",
    "\n",
    "na_neighbourhoods <- sum(is.na(crime_data$neighbourhood))\n",
    "print(sprintf(\"Now, there are %d NA values in the neighbourhood column\", na_neighbourhoods))\n",
    "\n",
    "\n",
    "crime_data <- crime_data %>% \n",
    "    select(type, year, neighbourhood) %>%\n",
    "    filter(2017 <= year & year <= 2020)\n",
    "\n",
    "\n",
    "crime_data <- crime_data %>%\n",
    "    mutate(type = as_factor(type)) %>%\n",
    "    mutate(neighbourhood = as_factor(neighbourhood))\n",
    "\n",
    "\n"
   ]
  },
  {
   "cell_type": "markdown",
   "metadata": {},
   "source": [
    "# MERGE EVERYTHING BELOW,\n",
    "\n",
    "The items above shoud be duplicated.\n",
    "\n",
    "Make sure to merge the cell directly below, as I needed to re-format neightbourhoods values into a string for parsing in the scripts below."
   ]
  },
  {
   "cell_type": "code",
   "execution_count": 8,
   "metadata": {},
   "outputs": [],
   "source": [
    "neighbourhoods <- \n",
    "    crime_data %>%\n",
    "    mutate(neighbourhood = as.character(neighbourhood))%>%\n",
    "    pull(unique(neighbourhood))\n",
    "    \n",
    "neighbourhoods_list<-unique(neighbourhoods)\n",
    "\n",
    "\n",
    "    "
   ]
  },
  {
   "cell_type": "markdown",
   "metadata": {},
   "source": [
    "## Past Data and Calculating our P0\n",
    "\n",
    "First, like look at what the crime rates are in the past three years (2017, 2018, 2019).  Since our hypothesis states that there is not changes in crime rates in the past year compared to the Covid year in 2020, we are going to use the proportion of Thefts in the past years as our null-hypothesis.\n",
    "\n",
    "We will be generating the proportion of reported thefts in each neighbourhood below by:\n",
    "- First creating a fuction that filters out and calculates our parameters for the past years (2017, 2018, 2019)\n",
    "- Then we will pass all the neighourhood into the fucntion\n",
    "- With the results of each neighbourhood, we would then consolidate the infomation via a tibble with the following headers:\n",
    "    - neighbourhood, prop, count, total"
   ]
  },
  {
   "cell_type": "code",
   "execution_count": 10,
   "metadata": {},
   "outputs": [
    {
     "data": {
      "text/html": [
       "<table>\n",
       "<caption>A tibble: 24 × 4</caption>\n",
       "<thead>\n",
       "\t<tr><th scope=col>neighbourhood</th><th scope=col>prop</th><th scope=col>count</th><th scope=col>total</th></tr>\n",
       "\t<tr><th scope=col>&lt;chr&gt;</th><th scope=col>&lt;dbl&gt;</th><th scope=col>&lt;dbl&gt;</th><th scope=col>&lt;dbl&gt;</th></tr>\n",
       "</thead>\n",
       "<tbody>\n",
       "\t<tr><td>Fairview                 </td><td>0.6891537</td><td> 3933</td><td> 5707</td></tr>\n",
       "\t<tr><td>West End                 </td><td>0.7351588</td><td> 6712</td><td> 9130</td></tr>\n",
       "\t<tr><td>Central Business District</td><td>0.7533982</td><td>24997</td><td>33179</td></tr>\n",
       "\t<tr><td>Hastings-Sunrise         </td><td>0.6451613</td><td> 2500</td><td> 3875</td></tr>\n",
       "\t<tr><td>Strathcona               </td><td>0.5577118</td><td> 3305</td><td> 5926</td></tr>\n",
       "\t<tr><td>Grandview-Woodland       </td><td>0.6237392</td><td> 3463</td><td> 5552</td></tr>\n",
       "\t<tr><td>Mount Pleasant           </td><td>0.6768553</td><td> 4916</td><td> 7263</td></tr>\n",
       "\t<tr><td>Sunset                   </td><td>0.5896720</td><td> 1690</td><td> 2866</td></tr>\n",
       "\t<tr><td>Kensington-Cedar Cottage </td><td>0.6043016</td><td> 2613</td><td> 4324</td></tr>\n",
       "\t<tr><td>Stanley Park             </td><td>0.7840000</td><td>  392</td><td>  500</td></tr>\n",
       "\t<tr><td>Shaughnessy              </td><td>0.4612766</td><td>  542</td><td> 1175</td></tr>\n",
       "\t<tr><td>Marpole                  </td><td>0.5688531</td><td> 1483</td><td> 2607</td></tr>\n",
       "\t<tr><td>Oakridge                 </td><td>0.5432873</td><td>  866</td><td> 1594</td></tr>\n",
       "\t<tr><td>Kitsilano                </td><td>0.6463512</td><td> 3224</td><td> 4988</td></tr>\n",
       "\t<tr><td>Victoria-Fraserview      </td><td>0.6036842</td><td> 1147</td><td> 1900</td></tr>\n",
       "\t<tr><td>Kerrisdale               </td><td>0.4675528</td><td>  598</td><td> 1279</td></tr>\n",
       "\t<tr><td>West Point Grey          </td><td>0.5674500</td><td>  652</td><td> 1149</td></tr>\n",
       "\t<tr><td>Riley Park               </td><td>0.6152695</td><td> 1644</td><td> 2672</td></tr>\n",
       "\t<tr><td>Arbutus Ridge            </td><td>0.5178026</td><td>  509</td><td>  983</td></tr>\n",
       "\t<tr><td>Renfrew-Collingwood      </td><td>0.6848298</td><td> 3783</td><td> 5524</td></tr>\n",
       "\t<tr><td>Killarney                </td><td>0.6045561</td><td> 1035</td><td> 1712</td></tr>\n",
       "\t<tr><td>South Cambie             </td><td>0.6170412</td><td>  659</td><td> 1068</td></tr>\n",
       "\t<tr><td>Dunbar-Southlands        </td><td>0.5390335</td><td>  725</td><td> 1345</td></tr>\n",
       "\t<tr><td>Musqueam                 </td><td>0.5111111</td><td>   23</td><td>   45</td></tr>\n",
       "</tbody>\n",
       "</table>\n"
      ],
      "text/latex": [
       "A tibble: 24 × 4\n",
       "\\begin{tabular}{llll}\n",
       " neighbourhood & prop & count & total\\\\\n",
       " <chr> & <dbl> & <dbl> & <dbl>\\\\\n",
       "\\hline\n",
       "\t Fairview                  & 0.6891537 &  3933 &  5707\\\\\n",
       "\t West End                  & 0.7351588 &  6712 &  9130\\\\\n",
       "\t Central Business District & 0.7533982 & 24997 & 33179\\\\\n",
       "\t Hastings-Sunrise          & 0.6451613 &  2500 &  3875\\\\\n",
       "\t Strathcona                & 0.5577118 &  3305 &  5926\\\\\n",
       "\t Grandview-Woodland        & 0.6237392 &  3463 &  5552\\\\\n",
       "\t Mount Pleasant            & 0.6768553 &  4916 &  7263\\\\\n",
       "\t Sunset                    & 0.5896720 &  1690 &  2866\\\\\n",
       "\t Kensington-Cedar Cottage  & 0.6043016 &  2613 &  4324\\\\\n",
       "\t Stanley Park              & 0.7840000 &   392 &   500\\\\\n",
       "\t Shaughnessy               & 0.4612766 &   542 &  1175\\\\\n",
       "\t Marpole                   & 0.5688531 &  1483 &  2607\\\\\n",
       "\t Oakridge                  & 0.5432873 &   866 &  1594\\\\\n",
       "\t Kitsilano                 & 0.6463512 &  3224 &  4988\\\\\n",
       "\t Victoria-Fraserview       & 0.6036842 &  1147 &  1900\\\\\n",
       "\t Kerrisdale                & 0.4675528 &   598 &  1279\\\\\n",
       "\t West Point Grey           & 0.5674500 &   652 &  1149\\\\\n",
       "\t Riley Park                & 0.6152695 &  1644 &  2672\\\\\n",
       "\t Arbutus Ridge             & 0.5178026 &   509 &   983\\\\\n",
       "\t Renfrew-Collingwood       & 0.6848298 &  3783 &  5524\\\\\n",
       "\t Killarney                 & 0.6045561 &  1035 &  1712\\\\\n",
       "\t South Cambie              & 0.6170412 &   659 &  1068\\\\\n",
       "\t Dunbar-Southlands         & 0.5390335 &   725 &  1345\\\\\n",
       "\t Musqueam                  & 0.5111111 &    23 &    45\\\\\n",
       "\\end{tabular}\n"
      ],
      "text/markdown": [
       "\n",
       "A tibble: 24 × 4\n",
       "\n",
       "| neighbourhood &lt;chr&gt; | prop &lt;dbl&gt; | count &lt;dbl&gt; | total &lt;dbl&gt; |\n",
       "|---|---|---|---|\n",
       "| Fairview                  | 0.6891537 |  3933 |  5707 |\n",
       "| West End                  | 0.7351588 |  6712 |  9130 |\n",
       "| Central Business District | 0.7533982 | 24997 | 33179 |\n",
       "| Hastings-Sunrise          | 0.6451613 |  2500 |  3875 |\n",
       "| Strathcona                | 0.5577118 |  3305 |  5926 |\n",
       "| Grandview-Woodland        | 0.6237392 |  3463 |  5552 |\n",
       "| Mount Pleasant            | 0.6768553 |  4916 |  7263 |\n",
       "| Sunset                    | 0.5896720 |  1690 |  2866 |\n",
       "| Kensington-Cedar Cottage  | 0.6043016 |  2613 |  4324 |\n",
       "| Stanley Park              | 0.7840000 |   392 |   500 |\n",
       "| Shaughnessy               | 0.4612766 |   542 |  1175 |\n",
       "| Marpole                   | 0.5688531 |  1483 |  2607 |\n",
       "| Oakridge                  | 0.5432873 |   866 |  1594 |\n",
       "| Kitsilano                 | 0.6463512 |  3224 |  4988 |\n",
       "| Victoria-Fraserview       | 0.6036842 |  1147 |  1900 |\n",
       "| Kerrisdale                | 0.4675528 |   598 |  1279 |\n",
       "| West Point Grey           | 0.5674500 |   652 |  1149 |\n",
       "| Riley Park                | 0.6152695 |  1644 |  2672 |\n",
       "| Arbutus Ridge             | 0.5178026 |   509 |   983 |\n",
       "| Renfrew-Collingwood       | 0.6848298 |  3783 |  5524 |\n",
       "| Killarney                 | 0.6045561 |  1035 |  1712 |\n",
       "| South Cambie              | 0.6170412 |   659 |  1068 |\n",
       "| Dunbar-Southlands         | 0.5390335 |   725 |  1345 |\n",
       "| Musqueam                  | 0.5111111 |    23 |    45 |\n",
       "\n"
      ],
      "text/plain": [
       "   neighbourhood             prop      count total\n",
       "1  Fairview                  0.6891537  3933  5707\n",
       "2  West End                  0.7351588  6712  9130\n",
       "3  Central Business District 0.7533982 24997 33179\n",
       "4  Hastings-Sunrise          0.6451613  2500  3875\n",
       "5  Strathcona                0.5577118  3305  5926\n",
       "6  Grandview-Woodland        0.6237392  3463  5552\n",
       "7  Mount Pleasant            0.6768553  4916  7263\n",
       "8  Sunset                    0.5896720  1690  2866\n",
       "9  Kensington-Cedar Cottage  0.6043016  2613  4324\n",
       "10 Stanley Park              0.7840000   392   500\n",
       "11 Shaughnessy               0.4612766   542  1175\n",
       "12 Marpole                   0.5688531  1483  2607\n",
       "13 Oakridge                  0.5432873   866  1594\n",
       "14 Kitsilano                 0.6463512  3224  4988\n",
       "15 Victoria-Fraserview       0.6036842  1147  1900\n",
       "16 Kerrisdale                0.4675528   598  1279\n",
       "17 West Point Grey           0.5674500   652  1149\n",
       "18 Riley Park                0.6152695  1644  2672\n",
       "19 Arbutus Ridge             0.5178026   509   983\n",
       "20 Renfrew-Collingwood       0.6848298  3783  5524\n",
       "21 Killarney                 0.6045561  1035  1712\n",
       "22 South Cambie              0.6170412   659  1068\n",
       "23 Dunbar-Southlands         0.5390335   725  1345\n",
       "24 Musqueam                  0.5111111    23    45"
      ]
     },
     "metadata": {},
     "output_type": "display_data"
    }
   ],
   "source": [
    "#Script to generate the Past Proportion for Theft in Vancouver (2017,2018,2019)\n",
    "\n",
    "set.seed(12345)\n",
    "\n",
    "past_prop<-function(neigh) {\n",
    "    crime_data_past <- \n",
    "        crime_data %>%\n",
    "        filter(neighbourhood == neigh)%>%\n",
    "        filter(year %in% c(2017, 2018, 2019))\n",
    "\n",
    "    theft_past_prop <-\n",
    "        crime_data_past%>%\n",
    "        summarize(stat = mean(type %in% theft_crimes),\n",
    "                 count = sum(type %in% theft_crimes)) %>%\n",
    "        mutate(total = nrow(crime_data_past))\n",
    "\n",
    "    return (theft_past_prop)\n",
    "}\n",
    "\n",
    "neighbourhoods <- \n",
    "    crime_data %>%\n",
    "    mutate(neighbourhood = as.character(neighbourhood))%>%\n",
    "    pull(unique(neighbourhood))\n",
    "    \n",
    "neighbourhoods_list<-unique(neighbourhoods)\n",
    "\n",
    "\n",
    "\n",
    "past_prop_neigh <-tibble(neighbourhood = \"\", prop = 0, count = 0, total = 0)\n",
    "\n",
    "\n",
    "\n",
    "for (neigh in neighbourhoods_list) {\n",
    "    \n",
    "    stats <- past_prop(neigh)\n",
    "    prop <- pull(stats[1])\n",
    "    count <-  pull(stats[2])\n",
    "    total <- pull(stats[3])\n",
    "    \n",
    "   past_prop_neigh<-add_row(past_prop_neigh,neighbourhood = neigh, prop = prop, count = count, total = total)\n",
    "    \n",
    "}\n",
    "\n",
    "past_prop_neigh<-past_prop_neigh[-1,]\n",
    "\n",
    "past_prop_neigh\n",
    "\n"
   ]
  },
  {
   "cell_type": "markdown",
   "metadata": {},
   "source": [
    "## Current (2020) Data and Calculating our P_hat\n",
    "\n",
    "Next, we will look at what the crime rates are in the Covid Year (2020). We will generate our sample proportion using the reported thefts in 2020.\n",
    "\n",
    "The following function is similar to the one for Past Data, but modified to produce the proportion of crimes related to thefts for 2020.\n",
    "\n",
    "We will be generating the proportion of reported thefts in each neighbourhood below by:\n",
    "- First creating a fuction that filters out and calculates our parameters for the Covid Year (2020)\n",
    "- Then we will pass all the neighourhood into the fucntion\n",
    "- With the results of each neighbourhood, we would then consolidate the infomation via a tibble with the following headers:\n",
    "    - neighbourhood, prop, count, total"
   ]
  },
  {
   "cell_type": "code",
   "execution_count": 13,
   "metadata": {},
   "outputs": [
    {
     "data": {
      "text/html": [
       "<table>\n",
       "<caption>A tibble: 24 × 4</caption>\n",
       "<thead>\n",
       "\t<tr><th scope=col>neighbourhood</th><th scope=col>prop</th><th scope=col>count</th><th scope=col>total</th></tr>\n",
       "\t<tr><th scope=col>&lt;chr&gt;</th><th scope=col>&lt;dbl&gt;</th><th scope=col>&lt;dbl&gt;</th><th scope=col>&lt;dbl&gt;</th></tr>\n",
       "</thead>\n",
       "<tbody>\n",
       "\t<tr><td>Fairview                 </td><td>0.6194740</td><td>1107</td><td>1787</td></tr>\n",
       "\t<tr><td>West End                 </td><td>0.6331310</td><td>1460</td><td>2306</td></tr>\n",
       "\t<tr><td>Central Business District</td><td>0.6046934</td><td>4664</td><td>7713</td></tr>\n",
       "\t<tr><td>Hastings-Sunrise         </td><td>0.5693642</td><td> 591</td><td>1038</td></tr>\n",
       "\t<tr><td>Strathcona               </td><td>0.4385246</td><td> 749</td><td>1708</td></tr>\n",
       "\t<tr><td>Grandview-Woodland       </td><td>0.5506849</td><td> 804</td><td>1460</td></tr>\n",
       "\t<tr><td>Mount Pleasant           </td><td>0.5719462</td><td>1105</td><td>1932</td></tr>\n",
       "\t<tr><td>Sunset                   </td><td>0.5651163</td><td> 486</td><td> 860</td></tr>\n",
       "\t<tr><td>Kensington-Cedar Cottage </td><td>0.6161616</td><td> 793</td><td>1287</td></tr>\n",
       "\t<tr><td>Stanley Park             </td><td>0.5074627</td><td>  34</td><td>  67</td></tr>\n",
       "\t<tr><td>Shaughnessy              </td><td>0.4364641</td><td> 158</td><td> 362</td></tr>\n",
       "\t<tr><td>Marpole                  </td><td>0.5661664</td><td> 415</td><td> 733</td></tr>\n",
       "\t<tr><td>Oakridge                 </td><td>0.4968354</td><td> 157</td><td> 316</td></tr>\n",
       "\t<tr><td>Kitsilano                </td><td>0.6171575</td><td> 964</td><td>1562</td></tr>\n",
       "\t<tr><td>Victoria-Fraserview      </td><td>0.5797101</td><td> 280</td><td> 483</td></tr>\n",
       "\t<tr><td>Kerrisdale               </td><td>0.5106952</td><td> 191</td><td> 374</td></tr>\n",
       "\t<tr><td>West Point Grey          </td><td>0.5804878</td><td> 238</td><td> 410</td></tr>\n",
       "\t<tr><td>Riley Park               </td><td>0.5239437</td><td> 372</td><td> 710</td></tr>\n",
       "\t<tr><td>Arbutus Ridge            </td><td>0.4740061</td><td> 155</td><td> 327</td></tr>\n",
       "\t<tr><td>Renfrew-Collingwood      </td><td>0.7136490</td><td>1281</td><td>1795</td></tr>\n",
       "\t<tr><td>Killarney                </td><td>0.5986395</td><td> 264</td><td> 441</td></tr>\n",
       "\t<tr><td>South Cambie             </td><td>0.6040609</td><td> 238</td><td> 394</td></tr>\n",
       "\t<tr><td>Dunbar-Southlands        </td><td>0.5897436</td><td> 253</td><td> 429</td></tr>\n",
       "\t<tr><td>Musqueam                 </td><td>0.1739130</td><td>   4</td><td>  23</td></tr>\n",
       "</tbody>\n",
       "</table>\n"
      ],
      "text/latex": [
       "A tibble: 24 × 4\n",
       "\\begin{tabular}{llll}\n",
       " neighbourhood & prop & count & total\\\\\n",
       " <chr> & <dbl> & <dbl> & <dbl>\\\\\n",
       "\\hline\n",
       "\t Fairview                  & 0.6194740 & 1107 & 1787\\\\\n",
       "\t West End                  & 0.6331310 & 1460 & 2306\\\\\n",
       "\t Central Business District & 0.6046934 & 4664 & 7713\\\\\n",
       "\t Hastings-Sunrise          & 0.5693642 &  591 & 1038\\\\\n",
       "\t Strathcona                & 0.4385246 &  749 & 1708\\\\\n",
       "\t Grandview-Woodland        & 0.5506849 &  804 & 1460\\\\\n",
       "\t Mount Pleasant            & 0.5719462 & 1105 & 1932\\\\\n",
       "\t Sunset                    & 0.5651163 &  486 &  860\\\\\n",
       "\t Kensington-Cedar Cottage  & 0.6161616 &  793 & 1287\\\\\n",
       "\t Stanley Park              & 0.5074627 &   34 &   67\\\\\n",
       "\t Shaughnessy               & 0.4364641 &  158 &  362\\\\\n",
       "\t Marpole                   & 0.5661664 &  415 &  733\\\\\n",
       "\t Oakridge                  & 0.4968354 &  157 &  316\\\\\n",
       "\t Kitsilano                 & 0.6171575 &  964 & 1562\\\\\n",
       "\t Victoria-Fraserview       & 0.5797101 &  280 &  483\\\\\n",
       "\t Kerrisdale                & 0.5106952 &  191 &  374\\\\\n",
       "\t West Point Grey           & 0.5804878 &  238 &  410\\\\\n",
       "\t Riley Park                & 0.5239437 &  372 &  710\\\\\n",
       "\t Arbutus Ridge             & 0.4740061 &  155 &  327\\\\\n",
       "\t Renfrew-Collingwood       & 0.7136490 & 1281 & 1795\\\\\n",
       "\t Killarney                 & 0.5986395 &  264 &  441\\\\\n",
       "\t South Cambie              & 0.6040609 &  238 &  394\\\\\n",
       "\t Dunbar-Southlands         & 0.5897436 &  253 &  429\\\\\n",
       "\t Musqueam                  & 0.1739130 &    4 &   23\\\\\n",
       "\\end{tabular}\n"
      ],
      "text/markdown": [
       "\n",
       "A tibble: 24 × 4\n",
       "\n",
       "| neighbourhood &lt;chr&gt; | prop &lt;dbl&gt; | count &lt;dbl&gt; | total &lt;dbl&gt; |\n",
       "|---|---|---|---|\n",
       "| Fairview                  | 0.6194740 | 1107 | 1787 |\n",
       "| West End                  | 0.6331310 | 1460 | 2306 |\n",
       "| Central Business District | 0.6046934 | 4664 | 7713 |\n",
       "| Hastings-Sunrise          | 0.5693642 |  591 | 1038 |\n",
       "| Strathcona                | 0.4385246 |  749 | 1708 |\n",
       "| Grandview-Woodland        | 0.5506849 |  804 | 1460 |\n",
       "| Mount Pleasant            | 0.5719462 | 1105 | 1932 |\n",
       "| Sunset                    | 0.5651163 |  486 |  860 |\n",
       "| Kensington-Cedar Cottage  | 0.6161616 |  793 | 1287 |\n",
       "| Stanley Park              | 0.5074627 |   34 |   67 |\n",
       "| Shaughnessy               | 0.4364641 |  158 |  362 |\n",
       "| Marpole                   | 0.5661664 |  415 |  733 |\n",
       "| Oakridge                  | 0.4968354 |  157 |  316 |\n",
       "| Kitsilano                 | 0.6171575 |  964 | 1562 |\n",
       "| Victoria-Fraserview       | 0.5797101 |  280 |  483 |\n",
       "| Kerrisdale                | 0.5106952 |  191 |  374 |\n",
       "| West Point Grey           | 0.5804878 |  238 |  410 |\n",
       "| Riley Park                | 0.5239437 |  372 |  710 |\n",
       "| Arbutus Ridge             | 0.4740061 |  155 |  327 |\n",
       "| Renfrew-Collingwood       | 0.7136490 | 1281 | 1795 |\n",
       "| Killarney                 | 0.5986395 |  264 |  441 |\n",
       "| South Cambie              | 0.6040609 |  238 |  394 |\n",
       "| Dunbar-Southlands         | 0.5897436 |  253 |  429 |\n",
       "| Musqueam                  | 0.1739130 |    4 |   23 |\n",
       "\n"
      ],
      "text/plain": [
       "   neighbourhood             prop      count total\n",
       "1  Fairview                  0.6194740 1107  1787 \n",
       "2  West End                  0.6331310 1460  2306 \n",
       "3  Central Business District 0.6046934 4664  7713 \n",
       "4  Hastings-Sunrise          0.5693642  591  1038 \n",
       "5  Strathcona                0.4385246  749  1708 \n",
       "6  Grandview-Woodland        0.5506849  804  1460 \n",
       "7  Mount Pleasant            0.5719462 1105  1932 \n",
       "8  Sunset                    0.5651163  486   860 \n",
       "9  Kensington-Cedar Cottage  0.6161616  793  1287 \n",
       "10 Stanley Park              0.5074627   34    67 \n",
       "11 Shaughnessy               0.4364641  158   362 \n",
       "12 Marpole                   0.5661664  415   733 \n",
       "13 Oakridge                  0.4968354  157   316 \n",
       "14 Kitsilano                 0.6171575  964  1562 \n",
       "15 Victoria-Fraserview       0.5797101  280   483 \n",
       "16 Kerrisdale                0.5106952  191   374 \n",
       "17 West Point Grey           0.5804878  238   410 \n",
       "18 Riley Park                0.5239437  372   710 \n",
       "19 Arbutus Ridge             0.4740061  155   327 \n",
       "20 Renfrew-Collingwood       0.7136490 1281  1795 \n",
       "21 Killarney                 0.5986395  264   441 \n",
       "22 South Cambie              0.6040609  238   394 \n",
       "23 Dunbar-Southlands         0.5897436  253   429 \n",
       "24 Musqueam                  0.1739130    4    23 "
      ]
     },
     "metadata": {},
     "output_type": "display_data"
    }
   ],
   "source": [
    "#Script to generate the Current Proportion for Theft in Vancouver (2020)\n",
    "\n",
    "set.seed(12345)\n",
    "curr_prop<-function(neigh) {\n",
    "    crime_data_past <- \n",
    "        crime_data %>%\n",
    "        filter(neighbourhood == neigh)%>%\n",
    "        filter(year == 2020)\n",
    "\n",
    "    theft_past_prop <-\n",
    "        crime_data_past%>%\n",
    "        summarize(stat = mean(type %in% theft_crimes),\n",
    "                 count = sum(type %in% theft_crimes)) %>%\n",
    "        mutate(total = nrow(crime_data_past))\n",
    "\n",
    "    return (theft_past_prop)\n",
    "}\n",
    "\n",
    "curr_prop_neigh <-tibble(neighbourhood = \"\", prop = 0, count = 0, total = 0)\n",
    "\n",
    "for (neigh in neighbourhoods_list) {\n",
    "    \n",
    "    stats <- curr_prop(neigh)\n",
    "    prop <- pull(stats[1])\n",
    "    count <-  pull(stats[2])\n",
    "    total <- pull(stats[3])\n",
    "    \n",
    "   curr_prop_neigh<-add_row(curr_prop_neigh,neighbourhood = neigh, prop = prop, count = count, total = total)\n",
    "    \n",
    "}\n",
    "\n",
    "curr_prop_neigh<-curr_prop_neigh[-1,]\n",
    "curr_prop_neigh"
   ]
  },
  {
   "cell_type": "markdown",
   "metadata": {},
   "source": [
    "From a quick glance at the data, there seems to be a difference with the proportion of thefts between 2020 and the past years.  Infact, quite a few seem to have a decrease in crime rate!\n",
    "\n",
    "However, we should not make any asumption that there are significant changes to the crime rate with first running a significance test using Z-test and p-values."
   ]
  },
  {
   "cell_type": "markdown",
   "metadata": {},
   "source": [
    "## Z-Test of Significance between the past years and Covid Year of proportion of Thefts\n",
    "\n",
    "Lets have a look at the significance with the changes in proportion of thefts between the past years and the Covid year.\n",
    "\n",
    "The script below combines and selects the neighbourhood, past proportion value, current proportion value, and the sample size with the above tibbles for the Past and Current Proportion in each neighbourhood.\n",
    "\n",
    "We then calculate the Test Statistic (1 sample Z-Score) and used pnorm to caluclate the p-value for the difference in proportion between the reported thefts in the past year and 2020.  \n",
    "\n",
    "Next, we will test the significance of the difference difference via 5% and 10%, as discussed in our methodology.  "
   ]
  },
  {
   "cell_type": "code",
   "execution_count": 17,
   "metadata": {},
   "outputs": [
    {
     "data": {
      "text/html": [
       "<table>\n",
       "<caption>A tibble: 24 × 8</caption>\n",
       "<thead>\n",
       "\t<tr><th scope=col>neighbourhood</th><th scope=col>past_prop</th><th scope=col>curr_prop</th><th scope=col>curr_count_total</th><th scope=col>stat</th><th scope=col>p_value</th><th scope=col>reject5</th><th scope=col>reject10</th></tr>\n",
       "\t<tr><th scope=col>&lt;chr&gt;</th><th scope=col>&lt;dbl&gt;</th><th scope=col>&lt;dbl&gt;</th><th scope=col>&lt;dbl&gt;</th><th scope=col>&lt;dbl&gt;</th><th scope=col>&lt;dbl&gt;</th><th scope=col>&lt;lgl&gt;</th><th scope=col>&lt;lgl&gt;</th></tr>\n",
       "</thead>\n",
       "<tbody>\n",
       "\t<tr><td>Fairview                 </td><td>0.6891537</td><td>0.6194740</td><td>1787</td><td> -6.3641087</td><td> 1.964270e-10</td><td> TRUE</td><td> TRUE</td></tr>\n",
       "\t<tr><td>West End                 </td><td>0.7351588</td><td>0.6331310</td><td>2306</td><td>-11.1036320</td><td> 1.204476e-28</td><td> TRUE</td><td> TRUE</td></tr>\n",
       "\t<tr><td>Central Business District</td><td>0.7533982</td><td>0.6046934</td><td>7713</td><td>-30.2988702</td><td>1.186309e-201</td><td> TRUE</td><td> TRUE</td></tr>\n",
       "\t<tr><td>Hastings-Sunrise         </td><td>0.6451613</td><td>0.5693642</td><td>1038</td><td> -5.1038956</td><td> 3.327319e-07</td><td> TRUE</td><td> TRUE</td></tr>\n",
       "\t<tr><td>Strathcona               </td><td>0.5577118</td><td>0.4385246</td><td>1708</td><td> -9.9178129</td><td> 3.483043e-23</td><td> TRUE</td><td> TRUE</td></tr>\n",
       "\t<tr><td>Grandview-Woodland       </td><td>0.6237392</td><td>0.5506849</td><td>1460</td><td> -5.7620361</td><td> 8.310522e-09</td><td> TRUE</td><td> TRUE</td></tr>\n",
       "\t<tr><td>Mount Pleasant           </td><td>0.6768553</td><td>0.5719462</td><td>1932</td><td> -9.8598517</td><td> 6.214108e-23</td><td> TRUE</td><td> TRUE</td></tr>\n",
       "\t<tr><td>Sunset                   </td><td>0.5896720</td><td>0.5651163</td><td> 860</td><td> -1.4639673</td><td> 1.432029e-01</td><td>FALSE</td><td>FALSE</td></tr>\n",
       "\t<tr><td>Kensington-Cedar Cottage </td><td>0.6043016</td><td>0.6161616</td><td>1287</td><td>  0.8700947</td><td> 3.842486e-01</td><td>FALSE</td><td>FALSE</td></tr>\n",
       "\t<tr><td>Stanley Park             </td><td>0.7840000</td><td>0.5074627</td><td>  67</td><td> -5.5005515</td><td> 3.786052e-08</td><td> TRUE</td><td> TRUE</td></tr>\n",
       "\t<tr><td>Shaughnessy              </td><td>0.4612766</td><td>0.4364641</td><td> 362</td><td> -0.9470247</td><td> 3.436262e-01</td><td>FALSE</td><td>FALSE</td></tr>\n",
       "\t<tr><td>Marpole                  </td><td>0.5688531</td><td>0.5661664</td><td> 733</td><td> -0.1468758</td><td> 8.832301e-01</td><td>FALSE</td><td>FALSE</td></tr>\n",
       "\t<tr><td>Oakridge                 </td><td>0.5432873</td><td>0.4968354</td><td> 316</td><td> -1.6577176</td><td> 9.737447e-02</td><td>FALSE</td><td> TRUE</td></tr>\n",
       "\t<tr><td>Kitsilano                </td><td>0.6463512</td><td>0.6171575</td><td>1562</td><td> -2.4132931</td><td> 1.580910e-02</td><td> TRUE</td><td> TRUE</td></tr>\n",
       "\t<tr><td>Victoria-Fraserview      </td><td>0.6036842</td><td>0.5797101</td><td> 483</td><td> -1.0771834</td><td> 2.813983e-01</td><td>FALSE</td><td>FALSE</td></tr>\n",
       "\t<tr><td>Kerrisdale               </td><td>0.4675528</td><td>0.5106952</td><td> 374</td><td>  1.6721938</td><td> 9.448611e-02</td><td>FALSE</td><td> TRUE</td></tr>\n",
       "\t<tr><td>West Point Grey          </td><td>0.5674500</td><td>0.5804878</td><td> 410</td><td>  0.5328634</td><td> 5.941281e-01</td><td>FALSE</td><td>FALSE</td></tr>\n",
       "\t<tr><td>Riley Park               </td><td>0.6152695</td><td>0.5239437</td><td> 710</td><td> -5.0016310</td><td> 5.684733e-07</td><td> TRUE</td><td> TRUE</td></tr>\n",
       "\t<tr><td>Arbutus Ridge            </td><td>0.5178026</td><td>0.4740061</td><td> 327</td><td> -1.5849626</td><td> 1.129748e-01</td><td>FALSE</td><td>FALSE</td></tr>\n",
       "\t<tr><td>Renfrew-Collingwood      </td><td>0.6848298</td><td>0.7136490</td><td>1795</td><td>  2.6281499</td><td> 8.585067e-03</td><td> TRUE</td><td> TRUE</td></tr>\n",
       "\t<tr><td>Killarney                </td><td>0.6045561</td><td>0.5986395</td><td> 441</td><td> -0.2541161</td><td> 7.994059e-01</td><td>FALSE</td><td>FALSE</td></tr>\n",
       "\t<tr><td>South Cambie             </td><td>0.6170412</td><td>0.6040609</td><td> 394</td><td> -0.5300285</td><td> 5.960922e-01</td><td>FALSE</td><td>FALSE</td></tr>\n",
       "\t<tr><td>Dunbar-Southlands        </td><td>0.5390335</td><td>0.5897436</td><td> 429</td><td>  2.1070790</td><td> 3.511073e-02</td><td> TRUE</td><td> TRUE</td></tr>\n",
       "\t<tr><td>Musqueam                 </td><td>0.5111111</td><td>0.1739130</td><td>  23</td><td> -3.2350891</td><td> 1.216048e-03</td><td> TRUE</td><td> TRUE</td></tr>\n",
       "</tbody>\n",
       "</table>\n"
      ],
      "text/latex": [
       "A tibble: 24 × 8\n",
       "\\begin{tabular}{llllllll}\n",
       " neighbourhood & past\\_prop & curr\\_prop & curr\\_count\\_total & stat & p\\_value & reject5 & reject10\\\\\n",
       " <chr> & <dbl> & <dbl> & <dbl> & <dbl> & <dbl> & <lgl> & <lgl>\\\\\n",
       "\\hline\n",
       "\t Fairview                  & 0.6891537 & 0.6194740 & 1787 &  -6.3641087 &  1.964270e-10 &  TRUE &  TRUE\\\\\n",
       "\t West End                  & 0.7351588 & 0.6331310 & 2306 & -11.1036320 &  1.204476e-28 &  TRUE &  TRUE\\\\\n",
       "\t Central Business District & 0.7533982 & 0.6046934 & 7713 & -30.2988702 & 1.186309e-201 &  TRUE &  TRUE\\\\\n",
       "\t Hastings-Sunrise          & 0.6451613 & 0.5693642 & 1038 &  -5.1038956 &  3.327319e-07 &  TRUE &  TRUE\\\\\n",
       "\t Strathcona                & 0.5577118 & 0.4385246 & 1708 &  -9.9178129 &  3.483043e-23 &  TRUE &  TRUE\\\\\n",
       "\t Grandview-Woodland        & 0.6237392 & 0.5506849 & 1460 &  -5.7620361 &  8.310522e-09 &  TRUE &  TRUE\\\\\n",
       "\t Mount Pleasant            & 0.6768553 & 0.5719462 & 1932 &  -9.8598517 &  6.214108e-23 &  TRUE &  TRUE\\\\\n",
       "\t Sunset                    & 0.5896720 & 0.5651163 &  860 &  -1.4639673 &  1.432029e-01 & FALSE & FALSE\\\\\n",
       "\t Kensington-Cedar Cottage  & 0.6043016 & 0.6161616 & 1287 &   0.8700947 &  3.842486e-01 & FALSE & FALSE\\\\\n",
       "\t Stanley Park              & 0.7840000 & 0.5074627 &   67 &  -5.5005515 &  3.786052e-08 &  TRUE &  TRUE\\\\\n",
       "\t Shaughnessy               & 0.4612766 & 0.4364641 &  362 &  -0.9470247 &  3.436262e-01 & FALSE & FALSE\\\\\n",
       "\t Marpole                   & 0.5688531 & 0.5661664 &  733 &  -0.1468758 &  8.832301e-01 & FALSE & FALSE\\\\\n",
       "\t Oakridge                  & 0.5432873 & 0.4968354 &  316 &  -1.6577176 &  9.737447e-02 & FALSE &  TRUE\\\\\n",
       "\t Kitsilano                 & 0.6463512 & 0.6171575 & 1562 &  -2.4132931 &  1.580910e-02 &  TRUE &  TRUE\\\\\n",
       "\t Victoria-Fraserview       & 0.6036842 & 0.5797101 &  483 &  -1.0771834 &  2.813983e-01 & FALSE & FALSE\\\\\n",
       "\t Kerrisdale                & 0.4675528 & 0.5106952 &  374 &   1.6721938 &  9.448611e-02 & FALSE &  TRUE\\\\\n",
       "\t West Point Grey           & 0.5674500 & 0.5804878 &  410 &   0.5328634 &  5.941281e-01 & FALSE & FALSE\\\\\n",
       "\t Riley Park                & 0.6152695 & 0.5239437 &  710 &  -5.0016310 &  5.684733e-07 &  TRUE &  TRUE\\\\\n",
       "\t Arbutus Ridge             & 0.5178026 & 0.4740061 &  327 &  -1.5849626 &  1.129748e-01 & FALSE & FALSE\\\\\n",
       "\t Renfrew-Collingwood       & 0.6848298 & 0.7136490 & 1795 &   2.6281499 &  8.585067e-03 &  TRUE &  TRUE\\\\\n",
       "\t Killarney                 & 0.6045561 & 0.5986395 &  441 &  -0.2541161 &  7.994059e-01 & FALSE & FALSE\\\\\n",
       "\t South Cambie              & 0.6170412 & 0.6040609 &  394 &  -0.5300285 &  5.960922e-01 & FALSE & FALSE\\\\\n",
       "\t Dunbar-Southlands         & 0.5390335 & 0.5897436 &  429 &   2.1070790 &  3.511073e-02 &  TRUE &  TRUE\\\\\n",
       "\t Musqueam                  & 0.5111111 & 0.1739130 &   23 &  -3.2350891 &  1.216048e-03 &  TRUE &  TRUE\\\\\n",
       "\\end{tabular}\n"
      ],
      "text/markdown": [
       "\n",
       "A tibble: 24 × 8\n",
       "\n",
       "| neighbourhood &lt;chr&gt; | past_prop &lt;dbl&gt; | curr_prop &lt;dbl&gt; | curr_count_total &lt;dbl&gt; | stat &lt;dbl&gt; | p_value &lt;dbl&gt; | reject5 &lt;lgl&gt; | reject10 &lt;lgl&gt; |\n",
       "|---|---|---|---|---|---|---|---|\n",
       "| Fairview                  | 0.6891537 | 0.6194740 | 1787 |  -6.3641087 |  1.964270e-10 |  TRUE |  TRUE |\n",
       "| West End                  | 0.7351588 | 0.6331310 | 2306 | -11.1036320 |  1.204476e-28 |  TRUE |  TRUE |\n",
       "| Central Business District | 0.7533982 | 0.6046934 | 7713 | -30.2988702 | 1.186309e-201 |  TRUE |  TRUE |\n",
       "| Hastings-Sunrise          | 0.6451613 | 0.5693642 | 1038 |  -5.1038956 |  3.327319e-07 |  TRUE |  TRUE |\n",
       "| Strathcona                | 0.5577118 | 0.4385246 | 1708 |  -9.9178129 |  3.483043e-23 |  TRUE |  TRUE |\n",
       "| Grandview-Woodland        | 0.6237392 | 0.5506849 | 1460 |  -5.7620361 |  8.310522e-09 |  TRUE |  TRUE |\n",
       "| Mount Pleasant            | 0.6768553 | 0.5719462 | 1932 |  -9.8598517 |  6.214108e-23 |  TRUE |  TRUE |\n",
       "| Sunset                    | 0.5896720 | 0.5651163 |  860 |  -1.4639673 |  1.432029e-01 | FALSE | FALSE |\n",
       "| Kensington-Cedar Cottage  | 0.6043016 | 0.6161616 | 1287 |   0.8700947 |  3.842486e-01 | FALSE | FALSE |\n",
       "| Stanley Park              | 0.7840000 | 0.5074627 |   67 |  -5.5005515 |  3.786052e-08 |  TRUE |  TRUE |\n",
       "| Shaughnessy               | 0.4612766 | 0.4364641 |  362 |  -0.9470247 |  3.436262e-01 | FALSE | FALSE |\n",
       "| Marpole                   | 0.5688531 | 0.5661664 |  733 |  -0.1468758 |  8.832301e-01 | FALSE | FALSE |\n",
       "| Oakridge                  | 0.5432873 | 0.4968354 |  316 |  -1.6577176 |  9.737447e-02 | FALSE |  TRUE |\n",
       "| Kitsilano                 | 0.6463512 | 0.6171575 | 1562 |  -2.4132931 |  1.580910e-02 |  TRUE |  TRUE |\n",
       "| Victoria-Fraserview       | 0.6036842 | 0.5797101 |  483 |  -1.0771834 |  2.813983e-01 | FALSE | FALSE |\n",
       "| Kerrisdale                | 0.4675528 | 0.5106952 |  374 |   1.6721938 |  9.448611e-02 | FALSE |  TRUE |\n",
       "| West Point Grey           | 0.5674500 | 0.5804878 |  410 |   0.5328634 |  5.941281e-01 | FALSE | FALSE |\n",
       "| Riley Park                | 0.6152695 | 0.5239437 |  710 |  -5.0016310 |  5.684733e-07 |  TRUE |  TRUE |\n",
       "| Arbutus Ridge             | 0.5178026 | 0.4740061 |  327 |  -1.5849626 |  1.129748e-01 | FALSE | FALSE |\n",
       "| Renfrew-Collingwood       | 0.6848298 | 0.7136490 | 1795 |   2.6281499 |  8.585067e-03 |  TRUE |  TRUE |\n",
       "| Killarney                 | 0.6045561 | 0.5986395 |  441 |  -0.2541161 |  7.994059e-01 | FALSE | FALSE |\n",
       "| South Cambie              | 0.6170412 | 0.6040609 |  394 |  -0.5300285 |  5.960922e-01 | FALSE | FALSE |\n",
       "| Dunbar-Southlands         | 0.5390335 | 0.5897436 |  429 |   2.1070790 |  3.511073e-02 |  TRUE |  TRUE |\n",
       "| Musqueam                  | 0.5111111 | 0.1739130 |   23 |  -3.2350891 |  1.216048e-03 |  TRUE |  TRUE |\n",
       "\n"
      ],
      "text/plain": [
       "   neighbourhood             past_prop curr_prop curr_count_total stat       \n",
       "1  Fairview                  0.6891537 0.6194740 1787              -6.3641087\n",
       "2  West End                  0.7351588 0.6331310 2306             -11.1036320\n",
       "3  Central Business District 0.7533982 0.6046934 7713             -30.2988702\n",
       "4  Hastings-Sunrise          0.6451613 0.5693642 1038              -5.1038956\n",
       "5  Strathcona                0.5577118 0.4385246 1708              -9.9178129\n",
       "6  Grandview-Woodland        0.6237392 0.5506849 1460              -5.7620361\n",
       "7  Mount Pleasant            0.6768553 0.5719462 1932              -9.8598517\n",
       "8  Sunset                    0.5896720 0.5651163  860              -1.4639673\n",
       "9  Kensington-Cedar Cottage  0.6043016 0.6161616 1287               0.8700947\n",
       "10 Stanley Park              0.7840000 0.5074627   67              -5.5005515\n",
       "11 Shaughnessy               0.4612766 0.4364641  362              -0.9470247\n",
       "12 Marpole                   0.5688531 0.5661664  733              -0.1468758\n",
       "13 Oakridge                  0.5432873 0.4968354  316              -1.6577176\n",
       "14 Kitsilano                 0.6463512 0.6171575 1562              -2.4132931\n",
       "15 Victoria-Fraserview       0.6036842 0.5797101  483              -1.0771834\n",
       "16 Kerrisdale                0.4675528 0.5106952  374               1.6721938\n",
       "17 West Point Grey           0.5674500 0.5804878  410               0.5328634\n",
       "18 Riley Park                0.6152695 0.5239437  710              -5.0016310\n",
       "19 Arbutus Ridge             0.5178026 0.4740061  327              -1.5849626\n",
       "20 Renfrew-Collingwood       0.6848298 0.7136490 1795               2.6281499\n",
       "21 Killarney                 0.6045561 0.5986395  441              -0.2541161\n",
       "22 South Cambie              0.6170412 0.6040609  394              -0.5300285\n",
       "23 Dunbar-Southlands         0.5390335 0.5897436  429               2.1070790\n",
       "24 Musqueam                  0.5111111 0.1739130   23              -3.2350891\n",
       "   p_value       reject5 reject10\n",
       "1   1.964270e-10  TRUE    TRUE   \n",
       "2   1.204476e-28  TRUE    TRUE   \n",
       "3  1.186309e-201  TRUE    TRUE   \n",
       "4   3.327319e-07  TRUE    TRUE   \n",
       "5   3.483043e-23  TRUE    TRUE   \n",
       "6   8.310522e-09  TRUE    TRUE   \n",
       "7   6.214108e-23  TRUE    TRUE   \n",
       "8   1.432029e-01 FALSE   FALSE   \n",
       "9   3.842486e-01 FALSE   FALSE   \n",
       "10  3.786052e-08  TRUE    TRUE   \n",
       "11  3.436262e-01 FALSE   FALSE   \n",
       "12  8.832301e-01 FALSE   FALSE   \n",
       "13  9.737447e-02 FALSE    TRUE   \n",
       "14  1.580910e-02  TRUE    TRUE   \n",
       "15  2.813983e-01 FALSE   FALSE   \n",
       "16  9.448611e-02 FALSE    TRUE   \n",
       "17  5.941281e-01 FALSE   FALSE   \n",
       "18  5.684733e-07  TRUE    TRUE   \n",
       "19  1.129748e-01 FALSE   FALSE   \n",
       "20  8.585067e-03  TRUE    TRUE   \n",
       "21  7.994059e-01 FALSE   FALSE   \n",
       "22  5.960922e-01 FALSE   FALSE   \n",
       "23  3.511073e-02  TRUE    TRUE   \n",
       "24  1.216048e-03  TRUE    TRUE   "
      ]
     },
     "metadata": {},
     "output_type": "display_data"
    }
   ],
   "source": [
    "#Combines the Current and Past and produce the Test Statistics and P Value, along with Rejection value\n",
    "\n",
    "combine_past_curr_p_stat <- past_prop_neigh %>% \n",
    "    rename(past_prop = prop) %>%\n",
    "    select(neighbourhood, past_prop) %>%\n",
    "    mutate(curr_prop = curr_prop_neigh$prop,\n",
    "          curr_count_total = curr_prop_neigh$total,\n",
    "          stat = (curr_prop-past_prop)/sqrt(past_prop*(1-past_prop)/curr_count_total),\n",
    "          p_value = ifelse(stat > 0, 2*pnorm(stat, lower.tail=FALSE),2*pnorm(stat, lower.tail=TRUE)),\n",
    "          reject5 = p_value < 0.05,\n",
    "          reject10 = p_value < 0.10)\n",
    "\n",
    "combine_past_curr_p_stat"
   ]
  },
  {
   "cell_type": "markdown",
   "metadata": {},
   "source": [
    "There are quite a few neighbourhoods that we reject our null-hypothesis that there are not changes with the proportion of reported thefts at both 10% and 5% significance level.  \n",
    "\n",
    "Lets have a closer look at the neighbourhood that we fail to reject the null-hypothesis at either 10% or 5% significance level, or both:"
   ]
  },
  {
   "cell_type": "code",
   "execution_count": 29,
   "metadata": {},
   "outputs": [
    {
     "data": {
      "text/html": [
       "<table>\n",
       "<caption>A tibble: 11 × 8</caption>\n",
       "<thead>\n",
       "\t<tr><th scope=col>neighbourhood</th><th scope=col>past_prop</th><th scope=col>curr_prop</th><th scope=col>curr_count_total</th><th scope=col>stat</th><th scope=col>p_value</th><th scope=col>reject5</th><th scope=col>reject10</th></tr>\n",
       "\t<tr><th scope=col>&lt;chr&gt;</th><th scope=col>&lt;dbl&gt;</th><th scope=col>&lt;dbl&gt;</th><th scope=col>&lt;dbl&gt;</th><th scope=col>&lt;dbl&gt;</th><th scope=col>&lt;dbl&gt;</th><th scope=col>&lt;lgl&gt;</th><th scope=col>&lt;lgl&gt;</th></tr>\n",
       "</thead>\n",
       "<tbody>\n",
       "\t<tr><td>Sunset                  </td><td>0.5896720</td><td>0.5651163</td><td> 860</td><td>-1.4639673</td><td>0.14320288</td><td>FALSE</td><td>FALSE</td></tr>\n",
       "\t<tr><td>Kensington-Cedar Cottage</td><td>0.6043016</td><td>0.6161616</td><td>1287</td><td> 0.8700947</td><td>0.38424864</td><td>FALSE</td><td>FALSE</td></tr>\n",
       "\t<tr><td>Shaughnessy             </td><td>0.4612766</td><td>0.4364641</td><td> 362</td><td>-0.9470247</td><td>0.34362619</td><td>FALSE</td><td>FALSE</td></tr>\n",
       "\t<tr><td>Marpole                 </td><td>0.5688531</td><td>0.5661664</td><td> 733</td><td>-0.1468758</td><td>0.88323008</td><td>FALSE</td><td>FALSE</td></tr>\n",
       "\t<tr><td>Oakridge                </td><td>0.5432873</td><td>0.4968354</td><td> 316</td><td>-1.6577176</td><td>0.09737447</td><td>FALSE</td><td> TRUE</td></tr>\n",
       "\t<tr><td>Victoria-Fraserview     </td><td>0.6036842</td><td>0.5797101</td><td> 483</td><td>-1.0771834</td><td>0.28139833</td><td>FALSE</td><td>FALSE</td></tr>\n",
       "\t<tr><td>Kerrisdale              </td><td>0.4675528</td><td>0.5106952</td><td> 374</td><td> 1.6721938</td><td>0.09448611</td><td>FALSE</td><td> TRUE</td></tr>\n",
       "\t<tr><td>West Point Grey         </td><td>0.5674500</td><td>0.5804878</td><td> 410</td><td> 0.5328634</td><td>0.59412814</td><td>FALSE</td><td>FALSE</td></tr>\n",
       "\t<tr><td>Arbutus Ridge           </td><td>0.5178026</td><td>0.4740061</td><td> 327</td><td>-1.5849626</td><td>0.11297483</td><td>FALSE</td><td>FALSE</td></tr>\n",
       "\t<tr><td>Killarney               </td><td>0.6045561</td><td>0.5986395</td><td> 441</td><td>-0.2541161</td><td>0.79940588</td><td>FALSE</td><td>FALSE</td></tr>\n",
       "\t<tr><td>South Cambie            </td><td>0.6170412</td><td>0.6040609</td><td> 394</td><td>-0.5300285</td><td>0.59609217</td><td>FALSE</td><td>FALSE</td></tr>\n",
       "</tbody>\n",
       "</table>\n"
      ],
      "text/latex": [
       "A tibble: 11 × 8\n",
       "\\begin{tabular}{llllllll}\n",
       " neighbourhood & past\\_prop & curr\\_prop & curr\\_count\\_total & stat & p\\_value & reject5 & reject10\\\\\n",
       " <chr> & <dbl> & <dbl> & <dbl> & <dbl> & <dbl> & <lgl> & <lgl>\\\\\n",
       "\\hline\n",
       "\t Sunset                   & 0.5896720 & 0.5651163 &  860 & -1.4639673 & 0.14320288 & FALSE & FALSE\\\\\n",
       "\t Kensington-Cedar Cottage & 0.6043016 & 0.6161616 & 1287 &  0.8700947 & 0.38424864 & FALSE & FALSE\\\\\n",
       "\t Shaughnessy              & 0.4612766 & 0.4364641 &  362 & -0.9470247 & 0.34362619 & FALSE & FALSE\\\\\n",
       "\t Marpole                  & 0.5688531 & 0.5661664 &  733 & -0.1468758 & 0.88323008 & FALSE & FALSE\\\\\n",
       "\t Oakridge                 & 0.5432873 & 0.4968354 &  316 & -1.6577176 & 0.09737447 & FALSE &  TRUE\\\\\n",
       "\t Victoria-Fraserview      & 0.6036842 & 0.5797101 &  483 & -1.0771834 & 0.28139833 & FALSE & FALSE\\\\\n",
       "\t Kerrisdale               & 0.4675528 & 0.5106952 &  374 &  1.6721938 & 0.09448611 & FALSE &  TRUE\\\\\n",
       "\t West Point Grey          & 0.5674500 & 0.5804878 &  410 &  0.5328634 & 0.59412814 & FALSE & FALSE\\\\\n",
       "\t Arbutus Ridge            & 0.5178026 & 0.4740061 &  327 & -1.5849626 & 0.11297483 & FALSE & FALSE\\\\\n",
       "\t Killarney                & 0.6045561 & 0.5986395 &  441 & -0.2541161 & 0.79940588 & FALSE & FALSE\\\\\n",
       "\t South Cambie             & 0.6170412 & 0.6040609 &  394 & -0.5300285 & 0.59609217 & FALSE & FALSE\\\\\n",
       "\\end{tabular}\n"
      ],
      "text/markdown": [
       "\n",
       "A tibble: 11 × 8\n",
       "\n",
       "| neighbourhood &lt;chr&gt; | past_prop &lt;dbl&gt; | curr_prop &lt;dbl&gt; | curr_count_total &lt;dbl&gt; | stat &lt;dbl&gt; | p_value &lt;dbl&gt; | reject5 &lt;lgl&gt; | reject10 &lt;lgl&gt; |\n",
       "|---|---|---|---|---|---|---|---|\n",
       "| Sunset                   | 0.5896720 | 0.5651163 |  860 | -1.4639673 | 0.14320288 | FALSE | FALSE |\n",
       "| Kensington-Cedar Cottage | 0.6043016 | 0.6161616 | 1287 |  0.8700947 | 0.38424864 | FALSE | FALSE |\n",
       "| Shaughnessy              | 0.4612766 | 0.4364641 |  362 | -0.9470247 | 0.34362619 | FALSE | FALSE |\n",
       "| Marpole                  | 0.5688531 | 0.5661664 |  733 | -0.1468758 | 0.88323008 | FALSE | FALSE |\n",
       "| Oakridge                 | 0.5432873 | 0.4968354 |  316 | -1.6577176 | 0.09737447 | FALSE |  TRUE |\n",
       "| Victoria-Fraserview      | 0.6036842 | 0.5797101 |  483 | -1.0771834 | 0.28139833 | FALSE | FALSE |\n",
       "| Kerrisdale               | 0.4675528 | 0.5106952 |  374 |  1.6721938 | 0.09448611 | FALSE |  TRUE |\n",
       "| West Point Grey          | 0.5674500 | 0.5804878 |  410 |  0.5328634 | 0.59412814 | FALSE | FALSE |\n",
       "| Arbutus Ridge            | 0.5178026 | 0.4740061 |  327 | -1.5849626 | 0.11297483 | FALSE | FALSE |\n",
       "| Killarney                | 0.6045561 | 0.5986395 |  441 | -0.2541161 | 0.79940588 | FALSE | FALSE |\n",
       "| South Cambie             | 0.6170412 | 0.6040609 |  394 | -0.5300285 | 0.59609217 | FALSE | FALSE |\n",
       "\n"
      ],
      "text/plain": [
       "   neighbourhood            past_prop curr_prop curr_count_total stat      \n",
       "1  Sunset                   0.5896720 0.5651163  860             -1.4639673\n",
       "2  Kensington-Cedar Cottage 0.6043016 0.6161616 1287              0.8700947\n",
       "3  Shaughnessy              0.4612766 0.4364641  362             -0.9470247\n",
       "4  Marpole                  0.5688531 0.5661664  733             -0.1468758\n",
       "5  Oakridge                 0.5432873 0.4968354  316             -1.6577176\n",
       "6  Victoria-Fraserview      0.6036842 0.5797101  483             -1.0771834\n",
       "7  Kerrisdale               0.4675528 0.5106952  374              1.6721938\n",
       "8  West Point Grey          0.5674500 0.5804878  410              0.5328634\n",
       "9  Arbutus Ridge            0.5178026 0.4740061  327             -1.5849626\n",
       "10 Killarney                0.6045561 0.5986395  441             -0.2541161\n",
       "11 South Cambie             0.6170412 0.6040609  394             -0.5300285\n",
       "   p_value    reject5 reject10\n",
       "1  0.14320288 FALSE   FALSE   \n",
       "2  0.38424864 FALSE   FALSE   \n",
       "3  0.34362619 FALSE   FALSE   \n",
       "4  0.88323008 FALSE   FALSE   \n",
       "5  0.09737447 FALSE    TRUE   \n",
       "6  0.28139833 FALSE   FALSE   \n",
       "7  0.09448611 FALSE    TRUE   \n",
       "8  0.59412814 FALSE   FALSE   \n",
       "9  0.11297483 FALSE   FALSE   \n",
       "10 0.79940588 FALSE   FALSE   \n",
       "11 0.59609217 FALSE   FALSE   "
      ]
     },
     "metadata": {},
     "output_type": "display_data"
    },
    {
     "name": "stdout",
     "output_type": "stream",
     "text": [
      "[1] \"Count of Neighbourhood that failed to reject the null with decrease in theft crime rate:\"\n"
     ]
    },
    {
     "data": {
      "text/html": [
       "11"
      ],
      "text/latex": [
       "11"
      ],
      "text/markdown": [
       "11"
      ],
      "text/plain": [
       "[1] 11"
      ]
     },
     "metadata": {},
     "output_type": "display_data"
    },
    {
     "name": "stdout",
     "output_type": "stream",
     "text": [
      "[1] \"Proportion of Neighbourhood that failed to reject the null with decrease in theft crime rate:\"\n"
     ]
    },
    {
     "data": {
      "text/html": [
       "0.727272727272727"
      ],
      "text/latex": [
       "0.727272727272727"
      ],
      "text/markdown": [
       "0.727272727272727"
      ],
      "text/plain": [
       "[1] 0.7272727"
      ]
     },
     "metadata": {},
     "output_type": "display_data"
    }
   ],
   "source": [
    "rejected_neighbourhoods <- combine_past_curr_p_stat %>%\n",
    "    filter(reject5 == FALSE | reject10 == FALSE)\n",
    "\n",
    "rejected_neighbourhoods\n",
    "\n",
    "print(\"Count of Neighbourhood that failed to reject the null with decrease in theft crime rate:\") \n",
    "nrow(rejected_neighbourhoods)\n",
    "\n",
    "print(\"Proportion of Neighbourhood that failed to reject the null with decrease in theft crime rate:\") \n",
    "mean(rejected_neighbourhoods$stat < 0)"
   ]
  },
  {
   "cell_type": "markdown",
   "metadata": {},
   "source": [
    "Out of 24 neighbourhoods, there are 11 that we either fail to reject the null-hypothesis at either 10% or 5% significance level, or both.\n",
    "\n",
    "One thing to note is that with those neighbourhoods, ~72% have decrease in reported thefts.  Lets have a look if that is also true with all of the neighbourhoods."
   ]
  },
  {
   "cell_type": "code",
   "execution_count": 31,
   "metadata": {},
   "outputs": [
    {
     "name": "stdout",
     "output_type": "stream",
     "text": [
      "[1] \"Proportion of Neighbourhood  with decrease in theft crime rate:\"\n"
     ]
    },
    {
     "data": {
      "text/html": [
       "0.791666666666667"
      ],
      "text/latex": [
       "0.791666666666667"
      ],
      "text/markdown": [
       "0.791666666666667"
      ],
      "text/plain": [
       "[1] 0.7916667"
      ]
     },
     "metadata": {},
     "output_type": "display_data"
    },
    {
     "name": "stdout",
     "output_type": "stream",
     "text": [
      "[1] \"Proportion of Neighbourhood  with that rejected the Null-Hypothesis:\"\n"
     ]
    },
    {
     "data": {
      "text/html": [
       "0.541666666666667"
      ],
      "text/latex": [
       "0.541666666666667"
      ],
      "text/markdown": [
       "0.541666666666667"
      ],
      "text/plain": [
       "[1] 0.5416667"
      ]
     },
     "metadata": {},
     "output_type": "display_data"
    }
   ],
   "source": [
    "print(\"Proportion of Neighbourhood  with decrease in theft crime rate:\") \n",
    "mean(combine_past_curr_p_stat$stat < 0)\n",
    "\n",
    "print(\"Proportion of Neighbourhood  with that rejected the Null-Hypothesis:\") \n",
    "(24-11)/24"
   ]
  },
  {
   "cell_type": "markdown",
   "metadata": {},
   "source": [
    "It seems that reported theft rate decreased in a majority of neighbourhoods in Vancouver.\n",
    "\n",
    "Overall, around 54% of the neighbourhood in Vancouver rejected the Null-Hypothesis."
   ]
  },
  {
   "cell_type": "markdown",
   "metadata": {},
   "source": [
    "### Conculsion of using Z-Test to test the significance with the change in reported thefts in Vancouver\n",
    "\n",
    "Looking at the data, we can see that a majority of neighbourhood rejected the Null-Hypothesis of that there are no changes in reported thefts between the three years before Covid (2017, 2018, 2019) and the Covid year (2020).  \n",
    "\n",
    "One thing to note is that a large majority of the neighbourhoods, either with the Null-Hypothesis rejected or not, seems to have a decrease of reported thefts in 2020 compared to the past year.  \n",
    "\n",
    "One question we can further explore is relationship between Covid and decrease in theft rate.  While it is not a large majority of neighbourhood that had significant amount of changes with reported theft rates, we can further explore why a large majority of the neighbourhood actually saw decrease in reported crime rate in 2020."
   ]
  },
  {
   "cell_type": "code",
   "execution_count": null,
   "metadata": {},
   "outputs": [],
   "source": []
  }
 ],
 "metadata": {
  "kernelspec": {
   "display_name": "R",
   "language": "R",
   "name": "ir"
  },
  "language_info": {
   "codemirror_mode": "r",
   "file_extension": ".r",
   "mimetype": "text/x-r-source",
   "name": "R",
   "pygments_lexer": "r",
   "version": "4.0.0"
  }
 },
 "nbformat": 4,
 "nbformat_minor": 4
}
