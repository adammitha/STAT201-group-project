{
 "cells": [
  {
   "cell_type": "code",
   "execution_count": 2,
   "metadata": {},
   "outputs": [
    {
     "name": "stderr",
     "output_type": "stream",
     "text": [
      "── \u001b[1mAttaching packages\u001b[22m ─────────────────────────────────────── tidyverse 1.3.0 ──\n",
      "\n",
      "\u001b[32m✔\u001b[39m \u001b[34mggplot2\u001b[39m 3.3.2     \u001b[32m✔\u001b[39m \u001b[34mpurrr  \u001b[39m 0.3.4\n",
      "\u001b[32m✔\u001b[39m \u001b[34mtibble \u001b[39m 3.0.3     \u001b[32m✔\u001b[39m \u001b[34mdplyr  \u001b[39m 1.0.2\n",
      "\u001b[32m✔\u001b[39m \u001b[34mtidyr  \u001b[39m 1.1.1     \u001b[32m✔\u001b[39m \u001b[34mstringr\u001b[39m 1.4.0\n",
      "\u001b[32m✔\u001b[39m \u001b[34mreadr  \u001b[39m 1.3.1     \u001b[32m✔\u001b[39m \u001b[34mforcats\u001b[39m 0.5.0\n",
      "\n",
      "Warning message:\n",
      "“package ‘ggplot2’ was built under R version 4.0.1”\n",
      "Warning message:\n",
      "“package ‘tibble’ was built under R version 4.0.2”\n",
      "Warning message:\n",
      "“package ‘tidyr’ was built under R version 4.0.2”\n",
      "Warning message:\n",
      "“package ‘dplyr’ was built under R version 4.0.2”\n",
      "── \u001b[1mConflicts\u001b[22m ────────────────────────────────────────── tidyverse_conflicts() ──\n",
      "\u001b[31m✖\u001b[39m \u001b[34mdplyr\u001b[39m::\u001b[32mfilter()\u001b[39m masks \u001b[34mstats\u001b[39m::filter()\n",
      "\u001b[31m✖\u001b[39m \u001b[34mdplyr\u001b[39m::\u001b[32mlag()\u001b[39m    masks \u001b[34mstats\u001b[39m::lag()\n",
      "\n",
      "Warning message:\n",
      "“package ‘infer’ was built under R version 4.0.2”\n"
     ]
    }
   ],
   "source": [
    "library(tidyverse)\n",
    "library(infer)"
   ]
  },
  {
   "cell_type": "markdown",
   "metadata": {},
   "source": [
    "# Vancouver Crime Data"
   ]
  },
  {
   "cell_type": "markdown",
   "metadata": {},
   "source": [
    "## Introduction"
   ]
  },
  {
   "cell_type": "markdown",
   "metadata": {},
   "source": [
    "## Preliminary Results"
   ]
  },
  {
   "cell_type": "markdown",
   "metadata": {},
   "source": [
    "We'll start by importing the dataset from it's original source, loading it into a dataframe and inspecting the results."
   ]
  },
  {
   "cell_type": "code",
   "execution_count": 3,
   "metadata": {},
   "outputs": [
    {
     "name": "stderr",
     "output_type": "stream",
     "text": [
      "Parsed with column specification:\n",
      "cols(\n",
      "  TYPE = \u001b[31mcol_character()\u001b[39m,\n",
      "  YEAR = \u001b[32mcol_double()\u001b[39m,\n",
      "  MONTH = \u001b[32mcol_double()\u001b[39m,\n",
      "  DAY = \u001b[32mcol_double()\u001b[39m,\n",
      "  HOUR = \u001b[32mcol_double()\u001b[39m,\n",
      "  MINUTE = \u001b[32mcol_double()\u001b[39m,\n",
      "  HUNDRED_BLOCK = \u001b[31mcol_character()\u001b[39m,\n",
      "  NEIGHBOURHOOD = \u001b[31mcol_character()\u001b[39m,\n",
      "  X = \u001b[32mcol_double()\u001b[39m,\n",
      "  Y = \u001b[32mcol_double()\u001b[39m\n",
      ")\n",
      "\n"
     ]
    }
   ],
   "source": [
    "download.file(\"http://geodash.vpd.ca/opendata/crimedata_download/crimedata_csv_all_years.zip\", destfile=\"crime_data.zip\")\n",
    "unzip(\"crime_data.zip\")\n",
    "crime_data <- read_csv(\"crimedata_csv_all_years.csv\")"
   ]
  },
  {
   "cell_type": "code",
   "execution_count": 4,
   "metadata": {},
   "outputs": [
    {
     "data": {
      "text/html": [
       "<table>\n",
       "<caption>A tibble: 6 × 10</caption>\n",
       "<thead>\n",
       "\t<tr><th scope=col>TYPE</th><th scope=col>YEAR</th><th scope=col>MONTH</th><th scope=col>DAY</th><th scope=col>HOUR</th><th scope=col>MINUTE</th><th scope=col>HUNDRED_BLOCK</th><th scope=col>NEIGHBOURHOOD</th><th scope=col>X</th><th scope=col>Y</th></tr>\n",
       "\t<tr><th scope=col>&lt;chr&gt;</th><th scope=col>&lt;dbl&gt;</th><th scope=col>&lt;dbl&gt;</th><th scope=col>&lt;dbl&gt;</th><th scope=col>&lt;dbl&gt;</th><th scope=col>&lt;dbl&gt;</th><th scope=col>&lt;chr&gt;</th><th scope=col>&lt;chr&gt;</th><th scope=col>&lt;dbl&gt;</th><th scope=col>&lt;dbl&gt;</th></tr>\n",
       "</thead>\n",
       "<tbody>\n",
       "\t<tr><td>Break and Enter Commercial</td><td>2012</td><td>12</td><td>14</td><td> 8</td><td>52</td><td>NA             </td><td>Oakridge</td><td>491285.0</td><td>5453433</td></tr>\n",
       "\t<tr><td>Break and Enter Commercial</td><td>2019</td><td> 3</td><td> 7</td><td> 2</td><td> 6</td><td>10XX SITKA SQ  </td><td>Fairview</td><td>490613.0</td><td>5457110</td></tr>\n",
       "\t<tr><td>Break and Enter Commercial</td><td>2019</td><td> 8</td><td>27</td><td> 4</td><td>12</td><td>10XX ALBERNI ST</td><td>West End</td><td>491007.8</td><td>5459174</td></tr>\n",
       "\t<tr><td>Break and Enter Commercial</td><td>2014</td><td> 8</td><td> 8</td><td> 5</td><td>13</td><td>10XX ALBERNI ST</td><td>West End</td><td>491015.9</td><td>5459166</td></tr>\n",
       "\t<tr><td>Break and Enter Commercial</td><td>2020</td><td> 7</td><td>28</td><td>19</td><td>12</td><td>10XX ALBERNI ST</td><td>West End</td><td>491015.9</td><td>5459166</td></tr>\n",
       "\t<tr><td>Break and Enter Commercial</td><td>2005</td><td>11</td><td>14</td><td> 3</td><td> 9</td><td>10XX ALBERNI ST</td><td>West End</td><td>491021.4</td><td>5459161</td></tr>\n",
       "</tbody>\n",
       "</table>\n"
      ],
      "text/latex": [
       "A tibble: 6 × 10\n",
       "\\begin{tabular}{llllllllll}\n",
       " TYPE & YEAR & MONTH & DAY & HOUR & MINUTE & HUNDRED\\_BLOCK & NEIGHBOURHOOD & X & Y\\\\\n",
       " <chr> & <dbl> & <dbl> & <dbl> & <dbl> & <dbl> & <chr> & <chr> & <dbl> & <dbl>\\\\\n",
       "\\hline\n",
       "\t Break and Enter Commercial & 2012 & 12 & 14 &  8 & 52 & NA              & Oakridge & 491285.0 & 5453433\\\\\n",
       "\t Break and Enter Commercial & 2019 &  3 &  7 &  2 &  6 & 10XX SITKA SQ   & Fairview & 490613.0 & 5457110\\\\\n",
       "\t Break and Enter Commercial & 2019 &  8 & 27 &  4 & 12 & 10XX ALBERNI ST & West End & 491007.8 & 5459174\\\\\n",
       "\t Break and Enter Commercial & 2014 &  8 &  8 &  5 & 13 & 10XX ALBERNI ST & West End & 491015.9 & 5459166\\\\\n",
       "\t Break and Enter Commercial & 2020 &  7 & 28 & 19 & 12 & 10XX ALBERNI ST & West End & 491015.9 & 5459166\\\\\n",
       "\t Break and Enter Commercial & 2005 & 11 & 14 &  3 &  9 & 10XX ALBERNI ST & West End & 491021.4 & 5459161\\\\\n",
       "\\end{tabular}\n"
      ],
      "text/markdown": [
       "\n",
       "A tibble: 6 × 10\n",
       "\n",
       "| TYPE &lt;chr&gt; | YEAR &lt;dbl&gt; | MONTH &lt;dbl&gt; | DAY &lt;dbl&gt; | HOUR &lt;dbl&gt; | MINUTE &lt;dbl&gt; | HUNDRED_BLOCK &lt;chr&gt; | NEIGHBOURHOOD &lt;chr&gt; | X &lt;dbl&gt; | Y &lt;dbl&gt; |\n",
       "|---|---|---|---|---|---|---|---|---|---|\n",
       "| Break and Enter Commercial | 2012 | 12 | 14 |  8 | 52 | NA              | Oakridge | 491285.0 | 5453433 |\n",
       "| Break and Enter Commercial | 2019 |  3 |  7 |  2 |  6 | 10XX SITKA SQ   | Fairview | 490613.0 | 5457110 |\n",
       "| Break and Enter Commercial | 2019 |  8 | 27 |  4 | 12 | 10XX ALBERNI ST | West End | 491007.8 | 5459174 |\n",
       "| Break and Enter Commercial | 2014 |  8 |  8 |  5 | 13 | 10XX ALBERNI ST | West End | 491015.9 | 5459166 |\n",
       "| Break and Enter Commercial | 2020 |  7 | 28 | 19 | 12 | 10XX ALBERNI ST | West End | 491015.9 | 5459166 |\n",
       "| Break and Enter Commercial | 2005 | 11 | 14 |  3 |  9 | 10XX ALBERNI ST | West End | 491021.4 | 5459161 |\n",
       "\n"
      ],
      "text/plain": [
       "  TYPE                       YEAR MONTH DAY HOUR MINUTE HUNDRED_BLOCK  \n",
       "1 Break and Enter Commercial 2012 12    14   8   52     NA             \n",
       "2 Break and Enter Commercial 2019  3     7   2    6     10XX SITKA SQ  \n",
       "3 Break and Enter Commercial 2019  8    27   4   12     10XX ALBERNI ST\n",
       "4 Break and Enter Commercial 2014  8     8   5   13     10XX ALBERNI ST\n",
       "5 Break and Enter Commercial 2020  7    28  19   12     10XX ALBERNI ST\n",
       "6 Break and Enter Commercial 2005 11    14   3    9     10XX ALBERNI ST\n",
       "  NEIGHBOURHOOD X        Y      \n",
       "1 Oakridge      491285.0 5453433\n",
       "2 Fairview      490613.0 5457110\n",
       "3 West End      491007.8 5459174\n",
       "4 West End      491015.9 5459166\n",
       "5 West End      491015.9 5459166\n",
       "6 West End      491021.4 5459161"
      ]
     },
     "metadata": {},
     "output_type": "display_data"
    }
   ],
   "source": [
    "head(crime_data)"
   ]
  },
  {
   "cell_type": "markdown",
   "metadata": {},
   "source": [
    "We're primarily interested in the year, type and neighbourhood of crimes, so we'll extract those columns and discard the rest. In addition, we would like to focus on year 2017-2020."
   ]
  },
  {
   "cell_type": "code",
   "execution_count": 5,
   "metadata": {},
   "outputs": [
    {
     "data": {
      "text/html": [
       "<table>\n",
       "<caption>A tibble: 6 × 3</caption>\n",
       "<thead>\n",
       "\t<tr><th scope=col>TYPE</th><th scope=col>YEAR</th><th scope=col>NEIGHBOURHOOD</th></tr>\n",
       "\t<tr><th scope=col>&lt;chr&gt;</th><th scope=col>&lt;dbl&gt;</th><th scope=col>&lt;chr&gt;</th></tr>\n",
       "</thead>\n",
       "<tbody>\n",
       "\t<tr><td>Break and Enter Commercial</td><td>2019</td><td>Fairview</td></tr>\n",
       "\t<tr><td>Break and Enter Commercial</td><td>2019</td><td>West End</td></tr>\n",
       "\t<tr><td>Break and Enter Commercial</td><td>2020</td><td>West End</td></tr>\n",
       "\t<tr><td>Break and Enter Commercial</td><td>2017</td><td>West End</td></tr>\n",
       "\t<tr><td>Break and Enter Commercial</td><td>2018</td><td>West End</td></tr>\n",
       "\t<tr><td>Break and Enter Commercial</td><td>2020</td><td>West End</td></tr>\n",
       "</tbody>\n",
       "</table>\n"
      ],
      "text/latex": [
       "A tibble: 6 × 3\n",
       "\\begin{tabular}{lll}\n",
       " TYPE & YEAR & NEIGHBOURHOOD\\\\\n",
       " <chr> & <dbl> & <chr>\\\\\n",
       "\\hline\n",
       "\t Break and Enter Commercial & 2019 & Fairview\\\\\n",
       "\t Break and Enter Commercial & 2019 & West End\\\\\n",
       "\t Break and Enter Commercial & 2020 & West End\\\\\n",
       "\t Break and Enter Commercial & 2017 & West End\\\\\n",
       "\t Break and Enter Commercial & 2018 & West End\\\\\n",
       "\t Break and Enter Commercial & 2020 & West End\\\\\n",
       "\\end{tabular}\n"
      ],
      "text/markdown": [
       "\n",
       "A tibble: 6 × 3\n",
       "\n",
       "| TYPE &lt;chr&gt; | YEAR &lt;dbl&gt; | NEIGHBOURHOOD &lt;chr&gt; |\n",
       "|---|---|---|\n",
       "| Break and Enter Commercial | 2019 | Fairview |\n",
       "| Break and Enter Commercial | 2019 | West End |\n",
       "| Break and Enter Commercial | 2020 | West End |\n",
       "| Break and Enter Commercial | 2017 | West End |\n",
       "| Break and Enter Commercial | 2018 | West End |\n",
       "| Break and Enter Commercial | 2020 | West End |\n",
       "\n"
      ],
      "text/plain": [
       "  TYPE                       YEAR NEIGHBOURHOOD\n",
       "1 Break and Enter Commercial 2019 Fairview     \n",
       "2 Break and Enter Commercial 2019 West End     \n",
       "3 Break and Enter Commercial 2020 West End     \n",
       "4 Break and Enter Commercial 2017 West End     \n",
       "5 Break and Enter Commercial 2018 West End     \n",
       "6 Break and Enter Commercial 2020 West End     "
      ]
     },
     "metadata": {},
     "output_type": "display_data"
    }
   ],
   "source": [
    "crime_data <- crime_data %>% \n",
    "    select(TYPE, YEAR, NEIGHBOURHOOD) %>%\n",
    "    filter(2017 <= YEAR & YEAR <= 2020)\n",
    "head(crime_data)"
   ]
  },
  {
   "cell_type": "markdown",
   "metadata": {},
   "source": [
    "Next, let's see how many different types of crimes there are."
   ]
  },
  {
   "cell_type": "code",
   "execution_count": 6,
   "metadata": {},
   "outputs": [
    {
     "data": {
      "text/html": [
       "<style>\n",
       ".list-inline {list-style: none; margin:0; padding: 0}\n",
       ".list-inline>li {display: inline-block}\n",
       ".list-inline>li:not(:last-child)::after {content: \"\\00b7\"; padding: 0 .5ex}\n",
       "</style>\n",
       "<ol class=list-inline><li>'Break and Enter Commercial'</li><li>'Break and Enter Residential/Other'</li><li>'Homicide'</li><li>'Mischief'</li><li>'Offence Against a Person'</li><li>'Other Theft'</li><li>'Theft from Vehicle'</li><li>'Theft of Bicycle'</li><li>'Theft of Vehicle'</li><li>'Vehicle Collision or Pedestrian Struck (with Fatality)'</li><li>'Vehicle Collision or Pedestrian Struck (with Injury)'</li></ol>\n"
      ],
      "text/latex": [
       "\\begin{enumerate*}\n",
       "\\item 'Break and Enter Commercial'\n",
       "\\item 'Break and Enter Residential/Other'\n",
       "\\item 'Homicide'\n",
       "\\item 'Mischief'\n",
       "\\item 'Offence Against a Person'\n",
       "\\item 'Other Theft'\n",
       "\\item 'Theft from Vehicle'\n",
       "\\item 'Theft of Bicycle'\n",
       "\\item 'Theft of Vehicle'\n",
       "\\item 'Vehicle Collision or Pedestrian Struck (with Fatality)'\n",
       "\\item 'Vehicle Collision or Pedestrian Struck (with Injury)'\n",
       "\\end{enumerate*}\n"
      ],
      "text/markdown": [
       "1. 'Break and Enter Commercial'\n",
       "2. 'Break and Enter Residential/Other'\n",
       "3. 'Homicide'\n",
       "4. 'Mischief'\n",
       "5. 'Offence Against a Person'\n",
       "6. 'Other Theft'\n",
       "7. 'Theft from Vehicle'\n",
       "8. 'Theft of Bicycle'\n",
       "9. 'Theft of Vehicle'\n",
       "10. 'Vehicle Collision or Pedestrian Struck (with Fatality)'\n",
       "11. 'Vehicle Collision or Pedestrian Struck (with Injury)'\n",
       "\n",
       "\n"
      ],
      "text/plain": [
       " [1] \"Break and Enter Commercial\"                            \n",
       " [2] \"Break and Enter Residential/Other\"                     \n",
       " [3] \"Homicide\"                                              \n",
       " [4] \"Mischief\"                                              \n",
       " [5] \"Offence Against a Person\"                              \n",
       " [6] \"Other Theft\"                                           \n",
       " [7] \"Theft from Vehicle\"                                    \n",
       " [8] \"Theft of Bicycle\"                                      \n",
       " [9] \"Theft of Vehicle\"                                      \n",
       "[10] \"Vehicle Collision or Pedestrian Struck (with Fatality)\"\n",
       "[11] \"Vehicle Collision or Pedestrian Struck (with Injury)\"  "
      ]
     },
     "metadata": {},
     "output_type": "display_data"
    }
   ],
   "source": [
    "unique(crime_data$TYPE)"
   ]
  },
  {
   "cell_type": "markdown",
   "metadata": {},
   "source": [
    "We're hoping to compare crime rates across years in neighbourhoods that represent a reasonable distribution of incomes. For our proposal, we're going to be using the Shaughnessy, Strathcona, and Marpole neighbourhoods."
   ]
  },
  {
   "cell_type": "code",
   "execution_count": 7,
   "metadata": {},
   "outputs": [
    {
     "data": {
      "text/html": [
       "<table>\n",
       "<caption>A tibble: 6 × 3</caption>\n",
       "<thead>\n",
       "\t<tr><th scope=col>TYPE</th><th scope=col>YEAR</th><th scope=col>NEIGHBOURHOOD</th></tr>\n",
       "\t<tr><th scope=col>&lt;chr&gt;</th><th scope=col>&lt;dbl&gt;</th><th scope=col>&lt;chr&gt;</th></tr>\n",
       "</thead>\n",
       "<tbody>\n",
       "\t<tr><td>Break and Enter Commercial</td><td>2017</td><td>Strathcona</td></tr>\n",
       "\t<tr><td>Break and Enter Commercial</td><td>2020</td><td>Strathcona</td></tr>\n",
       "\t<tr><td>Break and Enter Commercial</td><td>2020</td><td>Strathcona</td></tr>\n",
       "\t<tr><td>Break and Enter Commercial</td><td>2017</td><td>Strathcona</td></tr>\n",
       "\t<tr><td>Break and Enter Commercial</td><td>2018</td><td>Strathcona</td></tr>\n",
       "\t<tr><td>Break and Enter Commercial</td><td>2019</td><td>Strathcona</td></tr>\n",
       "</tbody>\n",
       "</table>\n"
      ],
      "text/latex": [
       "A tibble: 6 × 3\n",
       "\\begin{tabular}{lll}\n",
       " TYPE & YEAR & NEIGHBOURHOOD\\\\\n",
       " <chr> & <dbl> & <chr>\\\\\n",
       "\\hline\n",
       "\t Break and Enter Commercial & 2017 & Strathcona\\\\\n",
       "\t Break and Enter Commercial & 2020 & Strathcona\\\\\n",
       "\t Break and Enter Commercial & 2020 & Strathcona\\\\\n",
       "\t Break and Enter Commercial & 2017 & Strathcona\\\\\n",
       "\t Break and Enter Commercial & 2018 & Strathcona\\\\\n",
       "\t Break and Enter Commercial & 2019 & Strathcona\\\\\n",
       "\\end{tabular}\n"
      ],
      "text/markdown": [
       "\n",
       "A tibble: 6 × 3\n",
       "\n",
       "| TYPE &lt;chr&gt; | YEAR &lt;dbl&gt; | NEIGHBOURHOOD &lt;chr&gt; |\n",
       "|---|---|---|\n",
       "| Break and Enter Commercial | 2017 | Strathcona |\n",
       "| Break and Enter Commercial | 2020 | Strathcona |\n",
       "| Break and Enter Commercial | 2020 | Strathcona |\n",
       "| Break and Enter Commercial | 2017 | Strathcona |\n",
       "| Break and Enter Commercial | 2018 | Strathcona |\n",
       "| Break and Enter Commercial | 2019 | Strathcona |\n",
       "\n"
      ],
      "text/plain": [
       "  TYPE                       YEAR NEIGHBOURHOOD\n",
       "1 Break and Enter Commercial 2017 Strathcona   \n",
       "2 Break and Enter Commercial 2020 Strathcona   \n",
       "3 Break and Enter Commercial 2020 Strathcona   \n",
       "4 Break and Enter Commercial 2017 Strathcona   \n",
       "5 Break and Enter Commercial 2018 Strathcona   \n",
       "6 Break and Enter Commercial 2019 Strathcona   "
      ]
     },
     "metadata": {},
     "output_type": "display_data"
    }
   ],
   "source": [
    "crime_data <- crime_data %>%\n",
    "    filter(NEIGHBOURHOOD %in% c(\"Shaughnessy\", \"Strathcona\", \"Marpole\"))\n",
    "head(crime_data)"
   ]
  },
  {
   "cell_type": "code",
   "execution_count": 8,
   "metadata": {},
   "outputs": [
    {
     "name": "stderr",
     "output_type": "stream",
     "text": [
      "`summarise()` regrouping output by 'NEIGHBOURHOOD' (override with `.groups` argument)\n",
      "\n"
     ]
    }
   ],
   "source": [
    "neighbourhood_year_counts <- crime_data %>% group_by(NEIGHBOURHOOD, YEAR) %>% summarise(number_of_crimes = n())"
   ]
  },
  {
   "cell_type": "code",
   "execution_count": 9,
   "metadata": {},
   "outputs": [
    {
     "data": {
      "image/png": "[encoded data removed]",
      "text/plain": [
       "plot without title"
      ]
     },
     "metadata": {
      "image/png": {
       "height": 420,
       "width": 420
      }
     },
     "output_type": "display_data"
    }
   ],
   "source": [
    "crime_data_plot <- neighbourhood_year_counts %>%\n",
    "    ggplot() +\n",
    "    geom_line(aes(x=YEAR, y=number_of_crimes, color=NEIGHBOURHOOD)) +\n",
    "    xlab(\"Year\") +\n",
    "    ylab(\"Number of crimes\") +\n",
    "    labs(color=\"Neighbourhood\") +\n",
    "    ggtitle(\"Number of crimes per year in selected neighbourhoods\")\n",
    "\n",
    "crime_data_plot"
   ]
  },
  {
   "cell_type": "markdown",
   "metadata": {},
   "source": [
    "## Methods/Plan"
   ]
  },
  {
   "cell_type": "markdown",
   "metadata": {},
   "source": [
    "### The Data Set\n",
    "\n",
    "We will retrieve Vancouver Police Force's crime data to use as our sample for reported crimes in Vancouver [6]/\n",
    "\n",
    "The zip file from above contains a data set that has all crimes reported to the VPD.  \n",
    "\n",
    "We have to consider that although the data set contains all the crimes reported to VPD, it does not represent all the crimes that occurred in Vancouver. The data set of reported crimes are a sample of all crimes that occurred in Vancouver, collected via people calling in to report that a crime has occurred. This means that there will be crimes that occurred, and were not reported to VPD since people might not consider petty crimes to be worth the time involving the police.  That might be an inherent bias for us, as we are looking at if petty crime increased during 2020.  \n",
    "\n",
    "That said, those bias might be mitigated since we are analyzing if the proportion of thefts increased in 2020 compared to previous years.  \n",
    "Since the proportion of thefts is calculated by (All reported thefts that occurred)/(All reported crimes), two ways might increase the proportion of thefts:\n",
    "\n",
    "- More thefts are reported compared to the other crimes that are reported in 2020.\n",
    "- Even as people report less crime, the amount of thefts that are reported is at least the same as in previous years.\n",
    "\n",
    "This means that unless there are other unforeseen reasons of why people might change why they will report certain crimes and not others, as long as the ratio of reported thefts and actual thefts that occurred does not change (a parameter that we cannot observe), we can assume that more theft has to occur compared to other crimes for the proportion of reported thefts to increase.\n",
    "We will retrieve Vancouver Police Force's crime data from the link below:\n",
    "http://geodash.vpd.ca/opendata/crimedata_download/crimedata_csv_all_years.zip?disclaimer=on&x=101&y=21\n",
    "\n",
    "The zip file from above contains a data set that has all crimes reported to the VPD.  \n",
    "\n",
    "We have to conside that although the data set contains all the crimes reported to VPD, it does not represent all the crime that occured in Vancouver. Reported crime are a sample of all crimes occured in Vancouver, collected via people calling in to reported that a crime has occured. This means that there will be crimes that occured, and was not reported to VPD since people might not consider petty crimes to be worth the time involving the police.  That might be an inherient bias for us, as we are looking at if petty crime increased during 2020.  \n",
    "\n",
    "That said, those bias might be mitigated since we are analyzing if the proportion of thefts increased in 2020 compared to previous years.  \n",
    "Since proportion of thefts is calculated by (All reported thefts that occured)/(All reported crimes), there are two ways that might increase the proportion of thefts:\n",
    "\n",
    "- The more thefts are reproted compared to the other crimes that are reported in 2020.\n",
    "- Even as people report less crime, the amount of thefts that are reported is at least the same amount as previous years.\n",
    "\n",
    "This means that unless there are other unforeseen reason of why people might change why they will report certain crimes and not other, as long as the ratio of reported thefts and actual thefts that occured does not change (an parameter that we cannot observe), we can assume that more theft has to occur compared to other crimes for the proprotion of reported thefts to increase.\n",
    "\n",
    "### Plan\n",
    "\n",
    "Inside the zip file, there is a CSV file call 'crimedata_csv_all_years.csv' with the following headers:\n",
    "\n",
    "\n",
    "|   Header Name     | Description         |\n",
    "|:------------------|:----------|\n",
    "|YEAR            |A four-digit field that indicates the year when the reported crime activity occurred          |\n",
    "|MONTH           |A numeric field that indicates the month when the reported crime activity occurred          |\n",
    "|DAY             |A two-digit field that indicates the day of the month when the reported crime activity occurred         |\n",
    "|HOUR            |A two-digit field that indicates the hour time (in 24 hours format) when the reported crime activity occurred         |\n",
    "|MINUTE          |A two-digit field that indicates the minute when the reported crime activity occurred         |\n",
    "|HUNDRED_BLOCK   |Generalized location of the report crime activity         |\n",
    "|NEIGHBOURHOOD   |The Vancouver Police Department uses the Statistics Canada definition of neighbourhoods within municipalities. Neighbourhoods within the City of Vancouver are based on the census tract (CT) concept within census metropolitan area (CMA).          |\n",
    "|X               |Coordinate values are projected in UTM Zone 10. All data must be considered offset and users should not interpret any locations as related to a specific person or specific property          |\n",
    "|Y               |Coordinate values are projected in UTM Zone 10. All data must be considered offset and users should not interpret any locations as related to a specific person or specific property.          |\n",
    "\n",
    "To narrow the scope of our project, we will focus on these neighbourhoods and run individual analysis on the crime rate of the following neighbourhoods:\n",
    "To narrow the scope of our project, we will focus on these neighbourhoods and run individual analysis on the crime rate of those neighbourhood:\n",
    "\n",
    "- Strathcona \n",
    "- West End\n",
    "- Shaughnessy\n",
    "\n",
    "As for right now, we will focus on Strathcona and have the other neighbourhood for further analysis.\n",
    "\n",
    "We base our selection on the neighbourhood base on the 'Average total income in 2015 among recipient'(ID#1858) as reported in Census Local Area Profiles 2016 from the City of Vancouver[1].  The list above ranks the neighbourhood from the lowest average total income to the highest, with West End roughly at the median of all the neighbourhoods.\n",
    "\n",
    "We will use hypothesis testing to see if the proportion of reported thefts increased compared to previous years.  \n",
    "For our null hypothesis, we will be calculating the sampling mean proportion for 2017, 2018, and 2019 combined to eliminate outlying years while only using recent years to ensure that that the proportion of theft from the neighbourhood has not drastically changed due to factors such as gentrification or city revitalizations.  We will also report on the confidence interval of the sampling mean of those years, to ensure that there is not a large variance in the mean proportion.\n",
    "\n",
    "We will be testing our null hypothesis against the bootstrap proportion of reported thefts that occurred in 2020.\n",
    "\n",
    "### Impact and Further Questions\n",
    "\n",
    "We hope that the result from our study can give actionable insights to city officials and the Vancouver Police Department.  While we can use anecdotal evidence to say that crimes have gone up because Vancouver feels more unsafe in 2020 compared to previous years, we want to use scientific evidence collected from our hypothesis testing to prove if Vancouver is more unsafe compare to the previous year.\n",
    "\n",
    "This information can potentially lead to how the city might allocate resources when combating crime:  \n",
    "- If the theft rate has increased, the city can look into finding ways to provide economic relief to those who are impacted or increase awareness of who to prevent theft\n",
    "- If the theft rate has not increased, the city can explore other reason why Vancouver felt more unsafe in 2020 and put resources in preventing it in the future\n",
    "As for right now, we will focus on Strathcona and have the other neighbourhood as further analysis.\n",
    "\n",
    "We base our selection on of the neighbourhood base on the 'Average total income in 2015 among recipient'(ID#1858) as reported in Census Local Area Profiles 2016 from City of Vancouver[1].  The list above ranks the neighbourhood from the lowest average total income to the highest, with West End roughly at the median of all the neighbourhood.\n",
    "\n",
    "We will use hypothesis testing to see if the proportion of reported thefts increased compared to previous years.  \n",
    "For our null hypothesis, we will be calcualting the sampling mean proportion for 2017, 2018, and 2019 combined to eliminate outlying years while only using recent years to ensure that that the proportion of theft from the neighbourhood has not drastically change due to factors such as genrtification or city revitalizations.  We will also report on the confidence interval of the sampling mean of those years, to ensure that there is not a large variance in the mean proportion.\n",
    "\n",
    "We will be testing our null hypothesis against the bootstrap proportion of reported thefts that occured in 2020.\n",
    "\n",
    "### Impact and Further Questions\n",
    "\n",
    "We hope that the result from our study can give actionable insights to city officals and the Vancouver Police Department.  While we can use anectodal evidence to say that crimes has gone up because that Vancouver feels more unsafe in 2020 compared to previous years, we want to use scientific evidence collected from our hypothesis testing to prove if Vancouver is more unsafe compare to previous year.\n",
    "\n",
    "This information can potential lead to how the city might allocate resources when combating crime:  \n",
    "- If theft has increase, the city can look into finding ways to provide economic relef to those who are impact, or increase awareness of who to prevent theft\n",
    "- If theft has not increase, the city can explore other reason why Vanouver felt more unsafe in 2020 and put reasources in prevent it in the future\n",
    "\n",
    "\n",
    "\n"
   ]
  },
  {
   "cell_type": "markdown",
   "metadata": {},
   "source": [
    "## References (WE STILL NEED TO FORMAT THIS USING MLA OR SMTH)"
   ]
  },
  {
   "cell_type": "markdown",
   "metadata": {},
   "source": [
    "[1] https://opendata.vancouver.ca/explore/dataset/census-local-area-profiles-2016/information/\n",
    "- City of Vancouver Census collected in 2015\n",
    "\n",
    "[2] https://www.cbc.ca/news/canada/british-columbia/crime-statistics-vancouver-2020-1.5779400\n",
    "\n",
    "[3] https://www.osac.gov/Country/Canada/Content/Detail/Report/fd184899-ac3b-4e43-a31b-18f82fda35c4\n",
    "\n",
    "[4] https://bc.ctvnews.ca/hate-crimes-up-97-overall-in-vancouver-last-year-anti-asian-hate-crimes-up-717-1.5314307\n",
    "\n",
    "[5] https://www.cbc.ca/news/canada/british-columbia/city-of-vancouver-freezes-police-department-funding-as-part-of-2021-budget-1.5833731\n",
    "\n",
    "[6] http://geodash.vpd.ca/opendata/crimedata_download/crimedata_csv_all_years.zip?disclaimer=on&x=101&y=21\n",
    "- location of our data set from the Vancouver Police Department"
   ]
  },
  {
   "cell_type": "code",
   "execution_count": null,
   "metadata": {},
   "outputs": [],
   "source": []
  }
 ],
 "metadata": {
  "kernelspec": {
   "display_name": "R",
   "language": "R",
   "name": "ir"
  },
  "language_info": {
   "codemirror_mode": "r",
   "file_extension": ".r",
   "mimetype": "text/x-r-source",
   "name": "R",
   "pygments_lexer": "r",
   "version": "4.0.0"
  }
 },
 "nbformat": 4,
 "nbformat_minor": 4
}
